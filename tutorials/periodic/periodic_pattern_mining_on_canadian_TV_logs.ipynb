{
 "cells": [
  {
   "cell_type": "markdown",
   "metadata": {},
   "source": [
    "## Periodic pattern mining on canadian TV logs\n",
    "<img src=\"skmine_series.png\" alt=\"logo\" style=\"width: 60%;\"/>"
   ]
  },
  {
   "cell_type": "code",
   "execution_count": 1,
   "metadata": {},
   "outputs": [
    {
     "name": "stdout",
     "output_type": "stream",
     "text": [
      "This tutorial was tested with the following version of skmine : 0.0.11\n",
      "\n",
      "Be sure to execute this notebook in the dir `docs/tutorials/periodic`, \n",
      "to be able to load the data files `.csv`. \n",
      "If not, please do so and adapt the bash commands below \n",
      "\n"
     ]
    },
    {
     "data": {
      "text/plain": [
       "'/home/cregan/Documents/CODE/Projets/3_FWIN/Scikit_mind/scikit-mine/docs/tutorials/periodic'"
      ]
     },
     "execution_count": 1,
     "metadata": {},
     "output_type": "execute_result"
    }
   ],
   "source": [
    "import skmine\n",
    "\n",
    "print(\"This tutorial was tested with the following version of skmine :\", skmine.__version__)\n",
    "\n",
    "print(\"\"\"\n",
    "Be sure to execute this notebook in the dir `docs/tutorials/periodic`, \n",
    "to be able to load the data files `.csv`. \n",
    "If not, please do so and adapt the bash commands below \n",
    "\"\"\")\n",
    "\n",
    "%pwd\n",
    "# %cd docs/tutorials/periodic"
   ]
  },
  {
   "cell_type": "markdown",
   "metadata": {},
   "source": [
    "### The problem, informally\n",
    "Let's take a simple example. \n",
    "\n",
    "Imagine you set an alarm to wake up every day around 7:30AM, and go to work. Sometimes you wake up a bit earlier (your body anticipates on the alarm), and sometimes a bit later, for example if you press the \"snooze\" button and refuse to face the fact that you have to wake up.\n",
    "\n",
    "In python we can load those \"wake up\" events as logs, and store them in a [pandas.Series](https://pandas.pydata.org/pandas-docs/stable/reference/api/pandas.Series.html), like"
   ]
  },
  {
   "cell_type": "code",
   "execution_count": 2,
   "metadata": {
    "tags": []
   },
   "outputs": [
    {
     "data": {
      "text/plain": [
       "2020-04-16 07:30:00    wake up\n",
       "2020-04-17 07:29:00    wake up\n",
       "2020-04-18 07:29:00    wake up\n",
       "2020-04-19 07:30:00    wake up\n",
       "2020-04-20 07:32:00    wake up\n",
       "2020-04-23 07:30:00    wake up\n",
       "dtype: object"
      ]
     },
     "execution_count": 2,
     "metadata": {},
     "output_type": "execute_result"
    }
   ],
   "source": [
    "import datetime as dt\n",
    "import pandas as pd\n",
    "one_day = 60 * 24  # a day in minutes\n",
    "minutes = [0, one_day - 1, one_day * 2 - 1, one_day * 3, one_day * 4 + 2, one_day * 7]\n",
    "\n",
    "S = pd.Series(\"wake up\", index=minutes)\n",
    "start = dt.datetime.strptime(\"16/04/2020 07:30\", \"%d/%m/%Y %H:%M\")\n",
    "S.index = S.index.map(lambda e: start + dt.timedelta(minutes=e))\n",
    "S.index = S.index.round(\"min\")  # minutes as the lowest unit of difference\n",
    "S"
   ]
  },
  {
   "cell_type": "code",
   "execution_count": 3,
   "metadata": {
    "tags": []
   },
   "outputs": [
    {
     "data": {
      "text/plain": [
       "array(['2020-04-16T07:30:00.000000000', '2020-04-17T07:29:00.000000000',\n",
       "       '2020-04-18T07:29:00.000000000', '2020-04-19T07:30:00.000000000',\n",
       "       '2020-04-20T07:32:00.000000000', '2020-04-23T07:30:00.000000000'],\n",
       "      dtype='datetime64[ns]')"
      ]
     },
     "execution_count": 3,
     "metadata": {},
     "output_type": "execute_result"
    }
   ],
   "source": [
    "S.index.to_numpy()"
   ]
  },
  {
   "cell_type": "markdown",
   "metadata": {},
   "source": [
    "We can see the wake-up time is not exactly the same every day, but overall a consistent regular pattern seems to emerge.\n",
    "\n",
    "Now imagine that in addition to wake up times, we also have records of other daily activities (meals, work, household chores, etc.), and that rather than a handful of days, those records span several years and make up several thousands of events\n",
    "\n",
    "**How would you be able to detect regularities in the data ?**"
   ]
  },
  {
   "cell_type": "markdown",
   "metadata": {},
   "source": [
    "### Introduction to periodic pattern mining\n",
    "Periodic pattern mining aims at exploiting regularities not only about `what happens` by finding coordinated event occurrences, but also about `when it happens` and `how it happens`, by **finding consistent inter-occurrence timeintervals**.\n",
    "\n",
    "Next, we introduce the concept of cycles\n",
    "\n",
    "#### The cycle : a building block for periodic pattern mining\n",
    "Here is an explicit example of a cycle\n",
    "\n",
    "<img src=\"cycle_color.png\" alt=\"cycle\" style=\"width: 60%;\"/>\n",
    "\n",
    "This definition, while being relatively simple, is general enough to allow us to find regularities in different types of logs\n",
    "\n",
    "#### Handling noise in our timestamps\n",
    "\n",
    "Needless to say, it would be too easy if events in our data were equally spaced. As data often comes noisy, we have to be fault tolerant, and allow small errors to sneak into our cycles. \n",
    "\n",
    "That's the role of `shift corrections`, which capture the small deviations from perfectly regular periodic repetitions, and allow to reconstruct the (noisy) original sequence of events, using the following relation\n",
    "<img src=\"shifts.png\" alt=\"shifts\" style=\"width: 60%;\"/>"
   ]
  },
  {
   "cell_type": "markdown",
   "metadata": {},
   "source": [
    "#### A tiny example with scikit-mine\n",
    "`scikit-mine` offers a `PeriodicPatternMiner`, out of the box.\n",
    "You can use it to **detect regularities, in the form of cycles**, in the input data. \n",
    "\n",
    "These regularities are submitted to an MDL criterion, so that we do not mistakenly include redundant occurences, nor forget to consider other intervals that would sumarize our data in a better way.\n",
    "\n",
    "MDL offers a framework to find `the best set of cycles`, i.e the set that gives the most succint representation of the data. And `as humans, we often like to deal with non-redundant, well organized data`."
   ]
  },
  {
   "cell_type": "code",
   "execution_count": 4,
   "metadata": {
    "tags": []
   },
   "outputs": [
    {
     "name": "stdout",
     "output_type": "stream",
     "text": [
      "Autoscale before first S.index \n",
      "\n",
      "10\n",
      "20\n",
      "32\n",
      "40\n",
      "Autoscale after first S.index\n",
      "  Index([10, 20, 32, 40], dtype='int64')\n",
      "Autoscale DeltaT 230\n",
      "Autoscale remove nb zeros  0\n"
     ]
    },
    {
     "data": {
      "text/html": [
       "<div>\n",
       "<style scoped>\n",
       "    .dataframe tbody tr th:only-of-type {\n",
       "        vertical-align: middle;\n",
       "    }\n",
       "\n",
       "    .dataframe tbody tr th {\n",
       "        vertical-align: top;\n",
       "    }\n",
       "\n",
       "    .dataframe thead th {\n",
       "        text-align: right;\n",
       "    }\n",
       "</style>\n",
       "<table border=\"1\" class=\"dataframe\">\n",
       "  <thead>\n",
       "    <tr style=\"text-align: right;\">\n",
       "      <th></th>\n",
       "      <th>t0</th>\n",
       "      <th>pattern</th>\n",
       "      <th>repetition_major</th>\n",
       "      <th>period_major</th>\n",
       "      <th>sum_E</th>\n",
       "    </tr>\n",
       "  </thead>\n",
       "  <tbody>\n",
       "    <tr>\n",
       "      <th>0</th>\n",
       "      <td>20</td>\n",
       "      <td>(ring_a_bell)[r=5 p=20]</td>\n",
       "      <td>5</td>\n",
       "      <td>20</td>\n",
       "      <td>2</td>\n",
       "    </tr>\n",
       "  </tbody>\n",
       "</table>\n",
       "</div>"
      ],
      "text/plain": [
       "   t0                  pattern  repetition_major  period_major  sum_E\n",
       "0  20  (ring_a_bell)[r=5 p=20]                 5            20      2"
      ]
     },
     "execution_count": 4,
     "metadata": {},
     "output_type": "execute_result"
    }
   ],
   "source": [
    "from skmine.periodic import PeriodicPatternMiner\n",
    "import pandas as pd\n",
    "S_doc = pd.Series(\"ring_a_bell\", [10, 20, 32, 40, 60, 79, 100, 240])\n",
    "pcm = PeriodicPatternMiner().fit(S_doc)\n",
    "pcm.discover()"
   ]
  },
  {
   "cell_type": "code",
   "execution_count": 5,
   "metadata": {
    "tags": []
   },
   "outputs": [],
   "source": [
    "from skmine.periodic import PeriodicPatternMiner\n",
    "import pandas as pd"
   ]
  },
  {
   "cell_type": "code",
   "execution_count": 6,
   "metadata": {
    "tags": []
   },
   "outputs": [
    {
     "name": "stdout",
     "output_type": "stream",
     "text": [
      "Autoscale before first S.index \n",
      "\n",
      "2020-04-16 07:30:00\n",
      "2020-04-17 07:29:00\n",
      "2020-04-18 07:29:00\n",
      "2020-04-19 07:30:00\n",
      "Autoscale after first S.index\n",
      "  Index([158702220, 158710854, 158719494, 158728140], dtype='int64')\n",
      "Autoscale DeltaT 60480\n",
      "Autoscale remove nb zeros  10\n"
     ]
    }
   ],
   "source": [
    "pcm = PeriodicPatternMiner().fit(S)"
   ]
  },
  {
   "cell_type": "code",
   "execution_count": 7,
   "metadata": {
    "tags": []
   },
   "outputs": [
    {
     "data": {
      "text/html": [
       "<div>\n",
       "<style scoped>\n",
       "    .dataframe tbody tr th:only-of-type {\n",
       "        vertical-align: middle;\n",
       "    }\n",
       "\n",
       "    .dataframe tbody tr th {\n",
       "        vertical-align: top;\n",
       "    }\n",
       "\n",
       "    .dataframe thead th {\n",
       "        text-align: right;\n",
       "    }\n",
       "</style>\n",
       "<table border=\"1\" class=\"dataframe\">\n",
       "  <thead>\n",
       "    <tr style=\"text-align: right;\">\n",
       "      <th></th>\n",
       "      <th>t0</th>\n",
       "      <th>pattern</th>\n",
       "      <th>repetition_major</th>\n",
       "      <th>period_major</th>\n",
       "      <th>sum_E</th>\n",
       "    </tr>\n",
       "  </thead>\n",
       "  <tbody>\n",
       "    <tr>\n",
       "      <th>0</th>\n",
       "      <td>2020-04-16 07:30:00</td>\n",
       "      <td>(wake up)[r=5 p=1 day, 0:00:30]</td>\n",
       "      <td>5</td>\n",
       "      <td>1 days 00:00:30</td>\n",
       "      <td>0 days 00:04:00</td>\n",
       "    </tr>\n",
       "  </tbody>\n",
       "</table>\n",
       "</div>"
      ],
      "text/plain": [
       "                   t0                          pattern  repetition_major   \n",
       "0 2020-04-16 07:30:00  (wake up)[r=5 p=1 day, 0:00:30]                 5  \\\n",
       "\n",
       "     period_major           sum_E  \n",
       "0 1 days 00:00:30 0 days 00:04:00  "
      ]
     },
     "execution_count": 7,
     "metadata": {},
     "output_type": "execute_result"
    }
   ],
   "source": [
    "pcm.discover()"
   ]
  },
  {
   "cell_type": "markdown",
   "metadata": {},
   "source": [
    "You can see one cycle has been extracted for our event `wake up`. The cycle covers the entire business week, but not the last monday separated by the weekend\n",
    "\n",
    "It has a length of 5 and a period close to 1 day, as expected.\n",
    "\n",
    "Also, note that we \"lost\" some information here. Our period of 1 day offers the best summary for this data.\n",
    "Accessing the little \"shifts\" as encountered in original data is also possible, with an extra argument in our `.discover` call"
   ]
  },
  {
   "cell_type": "markdown",
   "metadata": {},
   "source": [
    "The last column named `dE` contains a list of shifts to apply to our cycle in case we want to reconstruct the original data. Trailing zeros have been removed for efficiency, and their values are `relative to the period`, but we can see there is:\n",
    " * a -90 second shift between the 1st and 2nd entry (1day30s - 90s later = waking up at 7:29 on tuesday)\n",
    " * a 30 second shift between the 2nd and 3rd entry (1day30s - 30s later = still waking up at 7:29 on wednesday)\n",
    " * an 30 second shift between the 3rd and 4th entry (back to 7:30 on thursday)\n",
    " * an 90 second shift between the 4th and 5th entry (1day 30s + 90s later = waking up at 7:32 on friday)\n",
    "\n",
    "Also note that we can get the \"uncovered\" events, called `redisuals`"
   ]
  },
  {
   "cell_type": "code",
   "execution_count": 8,
   "metadata": {
    "scrolled": true,
    "tags": []
   },
   "outputs": [
    {
     "data": {
      "text/html": [
       "<div>\n",
       "<style scoped>\n",
       "    .dataframe tbody tr th:only-of-type {\n",
       "        vertical-align: middle;\n",
       "    }\n",
       "\n",
       "    .dataframe tbody tr th {\n",
       "        vertical-align: top;\n",
       "    }\n",
       "\n",
       "    .dataframe thead th {\n",
       "        text-align: right;\n",
       "    }\n",
       "</style>\n",
       "<table border=\"1\" class=\"dataframe\">\n",
       "  <thead>\n",
       "    <tr style=\"text-align: right;\">\n",
       "      <th></th>\n",
       "      <th>time</th>\n",
       "      <th>event</th>\n",
       "    </tr>\n",
       "  </thead>\n",
       "  <tbody>\n",
       "    <tr>\n",
       "      <th>0</th>\n",
       "      <td>2020-04-23 07:30:00</td>\n",
       "      <td>wake up</td>\n",
       "    </tr>\n",
       "  </tbody>\n",
       "</table>\n",
       "</div>"
      ],
      "text/plain": [
       "                 time    event\n",
       "0 2020-04-23 07:30:00  wake up"
      ]
     },
     "execution_count": 8,
     "metadata": {},
     "output_type": "execute_result"
    }
   ],
   "source": [
    "pcm.get_residuals()"
   ]
  },
  {
   "cell_type": "markdown",
   "metadata": {},
   "source": [
    "This way `pcm` does not store all the data, but has all information needed to reconstruct it entirely !!"
   ]
  },
  {
   "cell_type": "code",
   "execution_count": 9,
   "metadata": {
    "tags": []
   },
   "outputs": [
    {
     "data": {
      "text/html": [
       "<div>\n",
       "<style scoped>\n",
       "    .dataframe tbody tr th:only-of-type {\n",
       "        vertical-align: middle;\n",
       "    }\n",
       "\n",
       "    .dataframe tbody tr th {\n",
       "        vertical-align: top;\n",
       "    }\n",
       "\n",
       "    .dataframe thead th {\n",
       "        text-align: right;\n",
       "    }\n",
       "</style>\n",
       "<table border=\"1\" class=\"dataframe\">\n",
       "  <thead>\n",
       "    <tr style=\"text-align: right;\">\n",
       "      <th></th>\n",
       "      <th>time</th>\n",
       "      <th>event</th>\n",
       "    </tr>\n",
       "  </thead>\n",
       "  <tbody>\n",
       "    <tr>\n",
       "      <th>0</th>\n",
       "      <td>2020-04-16 07:30:00</td>\n",
       "      <td>wake up</td>\n",
       "    </tr>\n",
       "    <tr>\n",
       "      <th>1</th>\n",
       "      <td>2020-04-17 07:29:00</td>\n",
       "      <td>wake up</td>\n",
       "    </tr>\n",
       "    <tr>\n",
       "      <th>2</th>\n",
       "      <td>2020-04-18 07:29:00</td>\n",
       "      <td>wake up</td>\n",
       "    </tr>\n",
       "    <tr>\n",
       "      <th>3</th>\n",
       "      <td>2020-04-19 07:30:00</td>\n",
       "      <td>wake up</td>\n",
       "    </tr>\n",
       "    <tr>\n",
       "      <th>4</th>\n",
       "      <td>2020-04-20 07:32:00</td>\n",
       "      <td>wake up</td>\n",
       "    </tr>\n",
       "  </tbody>\n",
       "</table>\n",
       "</div>"
      ],
      "text/plain": [
       "                 time    event\n",
       "0 2020-04-16 07:30:00  wake up\n",
       "1 2020-04-17 07:29:00  wake up\n",
       "2 2020-04-18 07:29:00  wake up\n",
       "3 2020-04-19 07:30:00  wake up\n",
       "4 2020-04-20 07:32:00  wake up"
      ]
     },
     "execution_count": 9,
     "metadata": {},
     "output_type": "execute_result"
    }
   ],
   "source": [
    "pcm.reconstruct()"
   ]
  },
  {
   "cell_type": "markdown",
   "metadata": {},
   "source": [
    "-----\n",
    "### An example with Canadian TV programs\n",
    "#### Fetching logs from canadian TV\n",
    "\n",
    "In this section we are going to load some event logs of TV programs (the `WHAT`), indexed by their broadcast timestamps (the `WHEN`).\n",
    "\n",
    "`PeriodicPatternMiner` is here to help us discovering regularities (the `HOW`)"
   ]
  },
  {
   "cell_type": "code",
   "execution_count": 10,
   "metadata": {
    "tags": []
   },
   "outputs": [],
   "source": [
    "from skmine.datasets import fetch_canadian_tv\n",
    "from skmine.periodic import PeriodicPatternMiner"
   ]
  },
  {
   "cell_type": "markdown",
   "metadata": {},
   "source": [
    "#### Searching for cycles in TV programs\n",
    "\n",
    "Remember about the definition of cycles ?\n",
    "Let's apply it to our TV programs\n",
    "\n",
    "In our case\n",
    "\n",
    "* $\\alpha$ is the name of a TV program\n",
    "\n",
    "* $r$ is the number of broadcasts (repetitions) for this TV program (inside this cycle)\n",
    "\n",
    "* $p$ is the optimal time delta between broadcasts in this cycle. If a program is meant to be live everyday at 14:00PM, then $p$ is likely to be `1 day`\n",
    "\n",
    "* $\\tau$ is the first broadcast time in this cycle\n",
    "\n",
    "* $dE$ are the shift corrections between the $p$ and the actual broadcast time of an event. If a TV program was scheduled at 8:30:00AM and it went on air at 8:30:23AM the same day, then we keep track of a `23 seconds shift`. This way we can summarize our data (via cycles), and reconstruct it (via shift corrections). \n",
    "\n",
    "\n",
    "Finally we are going to dig a little deeper into these cycles, to answer quite complex questions about our logs. We will see that cycles contains usefull information about our input data"
   ]
  },
  {
   "cell_type": "code",
   "execution_count": 11,
   "metadata": {
    "tags": []
   },
   "outputs": [
    {
     "data": {
      "text/plain": [
       "timestamp\n",
       "2020-08-01 06:00:00            The Moblees\n",
       "2020-08-01 06:11:00    Big Block Sing Song\n",
       "2020-08-01 06:13:00    Big Block Sing Song\n",
       "2020-08-01 06:15:00               CBC Kids\n",
       "2020-08-01 06:15:00               CBC Kids\n",
       "Name: canadian_tv, dtype: string"
      ]
     },
     "execution_count": 11,
     "metadata": {},
     "output_type": "execute_result"
    }
   ],
   "source": [
    "ctv_logs = fetch_canadian_tv()\n",
    "ctv_logs.head()"
   ]
  },
  {
   "cell_type": "markdown",
   "metadata": {},
   "source": [
    "Compute only simple cycles on ctv_logs with the karg *complex=False* : "
   ]
  },
  {
   "cell_type": "code",
   "execution_count": 12,
   "metadata": {
    "tags": []
   },
   "outputs": [
    {
     "name": "stderr",
     "output_type": "stream",
     "text": [
      "/home/cregan/miniconda3/envs/test_skmine/lib/python3.8/site-packages/scikit_mine-0.0.11-py3.8.egg/skmine/periodic/cycles.py:150: UserWarning: found 234 duplicates in the input sequence, they have been removed.\n",
      "  warnings.warn(f\"found {diff} duplicates in the input sequence, they have been removed.\")\n"
     ]
    },
    {
     "name": "stdout",
     "output_type": "stream",
     "text": [
      "Autoscale before first S.index \n",
      "\n",
      "2020-08-01 01:12:00\n",
      "2020-08-01 04:00:00\n",
      "2020-08-01 04:30:00\n",
      "2020-08-01 05:00:00\n",
      "Autoscale after first S.index\n",
      "  Index([159624432, 159625440, 159625620, 159625800], dtype='int64', name='timestamp')\n",
      "Autoscale DeltaT 267138\n",
      "Autoscale remove nb zeros  10\n"
     ]
    },
    {
     "data": {
      "text/html": [
       "<div>\n",
       "<style scoped>\n",
       "    .dataframe tbody tr th:only-of-type {\n",
       "        vertical-align: middle;\n",
       "    }\n",
       "\n",
       "    .dataframe tbody tr th {\n",
       "        vertical-align: top;\n",
       "    }\n",
       "\n",
       "    .dataframe thead th {\n",
       "        text-align: right;\n",
       "    }\n",
       "</style>\n",
       "<table border=\"1\" class=\"dataframe\">\n",
       "  <thead>\n",
       "    <tr style=\"text-align: right;\">\n",
       "      <th></th>\n",
       "      <th>t0</th>\n",
       "      <th>pattern</th>\n",
       "      <th>repetition_major</th>\n",
       "      <th>period_major</th>\n",
       "      <th>sum_E</th>\n",
       "    </tr>\n",
       "  </thead>\n",
       "  <tbody>\n",
       "    <tr>\n",
       "      <th>57</th>\n",
       "      <td>2020-08-01 04:00:00</td>\n",
       "      <td>(Rick Mercer Report)[r=5 p=7 days, 0:00:00]</td>\n",
       "      <td>5</td>\n",
       "      <td>7 days 00:00:00</td>\n",
       "      <td>0 days 00:00:00</td>\n",
       "    </tr>\n",
       "    <tr>\n",
       "      <th>58</th>\n",
       "      <td>2020-08-01 04:30:00</td>\n",
       "      <td>(Rick Mercer Report)[r=5 p=7 days, 0:00:00]</td>\n",
       "      <td>5</td>\n",
       "      <td>7 days 00:00:00</td>\n",
       "      <td>0 days 00:00:00</td>\n",
       "    </tr>\n",
       "    <tr>\n",
       "      <th>0</th>\n",
       "      <td>2020-08-01 05:00:00</td>\n",
       "      <td>(Grand Designs)[r=31 p=1 day, 0:00:00]</td>\n",
       "      <td>31</td>\n",
       "      <td>1 days 00:00:00</td>\n",
       "      <td>0 days 00:00:00</td>\n",
       "    </tr>\n",
       "    <tr>\n",
       "      <th>65</th>\n",
       "      <td>2020-08-01 06:00:00</td>\n",
       "      <td>(The Moblees)[r=5 p=7 days, 0:00:00]</td>\n",
       "      <td>5</td>\n",
       "      <td>7 days 00:00:00</td>\n",
       "      <td>0 days 00:00:00</td>\n",
       "    </tr>\n",
       "    <tr>\n",
       "      <th>25</th>\n",
       "      <td>2020-08-01 06:11:00</td>\n",
       "      <td>(Big Block Sing Song)[r=5 p=7 days, 0:00:00]</td>\n",
       "      <td>5</td>\n",
       "      <td>7 days 00:00:00</td>\n",
       "      <td>0 days 00:00:00</td>\n",
       "    </tr>\n",
       "    <tr>\n",
       "      <th>...</th>\n",
       "      <td>...</td>\n",
       "      <td>...</td>\n",
       "      <td>...</td>\n",
       "      <td>...</td>\n",
       "      <td>...</td>\n",
       "    </tr>\n",
       "    <tr>\n",
       "      <th>277</th>\n",
       "      <td>2020-08-26 04:00:00</td>\n",
       "      <td>(CBC News: The National)[r=3 p=21:00:00]</td>\n",
       "      <td>3</td>\n",
       "      <td>0 days 21:00:00</td>\n",
       "      <td>0 days 00:00:00</td>\n",
       "    </tr>\n",
       "    <tr>\n",
       "      <th>231</th>\n",
       "      <td>2020-08-26 10:59:00</td>\n",
       "      <td>(CBC Kids)[r=4 p=1 day, 0:00:00]</td>\n",
       "      <td>4</td>\n",
       "      <td>1 days 00:00:00</td>\n",
       "      <td>0 days 00:02:00</td>\n",
       "    </tr>\n",
       "    <tr>\n",
       "      <th>276</th>\n",
       "      <td>2020-08-26 14:00:00</td>\n",
       "      <td>(Jamie's Super Foods)[r=3 p=1 day, 0:00:00]</td>\n",
       "      <td>3</td>\n",
       "      <td>1 days 00:00:00</td>\n",
       "      <td>0 days 00:00:00</td>\n",
       "    </tr>\n",
       "    <tr>\n",
       "      <th>190</th>\n",
       "      <td>2020-08-27 02:00:00</td>\n",
       "      <td>(Mr. D)[r=4 p=0:30:00]</td>\n",
       "      <td>4</td>\n",
       "      <td>0 days 00:30:00</td>\n",
       "      <td>0 days 00:00:00</td>\n",
       "    </tr>\n",
       "    <tr>\n",
       "      <th>2</th>\n",
       "      <td>2020-08-28 00:00:00</td>\n",
       "      <td>(Schitt's Creek)[r=8 p=0:30:00]</td>\n",
       "      <td>8</td>\n",
       "      <td>0 days 00:30:00</td>\n",
       "      <td>0 days 00:00:00</td>\n",
       "    </tr>\n",
       "  </tbody>\n",
       "</table>\n",
       "<p>298 rows × 5 columns</p>\n",
       "</div>"
      ],
      "text/plain": [
       "                     t0                                       pattern   \n",
       "57  2020-08-01 04:00:00   (Rick Mercer Report)[r=5 p=7 days, 0:00:00]  \\\n",
       "58  2020-08-01 04:30:00   (Rick Mercer Report)[r=5 p=7 days, 0:00:00]   \n",
       "0   2020-08-01 05:00:00        (Grand Designs)[r=31 p=1 day, 0:00:00]   \n",
       "65  2020-08-01 06:00:00          (The Moblees)[r=5 p=7 days, 0:00:00]   \n",
       "25  2020-08-01 06:11:00  (Big Block Sing Song)[r=5 p=7 days, 0:00:00]   \n",
       "..                  ...                                           ...   \n",
       "277 2020-08-26 04:00:00      (CBC News: The National)[r=3 p=21:00:00]   \n",
       "231 2020-08-26 10:59:00              (CBC Kids)[r=4 p=1 day, 0:00:00]   \n",
       "276 2020-08-26 14:00:00   (Jamie's Super Foods)[r=3 p=1 day, 0:00:00]   \n",
       "190 2020-08-27 02:00:00                        (Mr. D)[r=4 p=0:30:00]   \n",
       "2   2020-08-28 00:00:00               (Schitt's Creek)[r=8 p=0:30:00]   \n",
       "\n",
       "     repetition_major    period_major           sum_E  \n",
       "57                  5 7 days 00:00:00 0 days 00:00:00  \n",
       "58                  5 7 days 00:00:00 0 days 00:00:00  \n",
       "0                  31 1 days 00:00:00 0 days 00:00:00  \n",
       "65                  5 7 days 00:00:00 0 days 00:00:00  \n",
       "25                  5 7 days 00:00:00 0 days 00:00:00  \n",
       "..                ...             ...             ...  \n",
       "277                 3 0 days 21:00:00 0 days 00:00:00  \n",
       "231                 4 1 days 00:00:00 0 days 00:02:00  \n",
       "276                 3 1 days 00:00:00 0 days 00:00:00  \n",
       "190                 4 0 days 00:30:00 0 days 00:00:00  \n",
       "2                   8 0 days 00:30:00 0 days 00:00:00  \n",
       "\n",
       "[298 rows x 5 columns]"
      ]
     },
     "execution_count": 12,
     "metadata": {},
     "output_type": "execute_result"
    }
   ],
   "source": [
    "pcm = PeriodicPatternMiner().fit(ctv_logs, complex=False)\n",
    "pcm.discover()"
   ]
  },
  {
   "cell_type": "markdown",
   "metadata": {},
   "source": [
    "Compute simple and complex (with horizontal and vertical combinations) cycles on ctv_logs : "
   ]
  },
  {
   "cell_type": "code",
   "execution_count": 13,
   "metadata": {
    "tags": []
   },
   "outputs": [
    {
     "name": "stderr",
     "output_type": "stream",
     "text": [
      "/home/cregan/miniconda3/envs/test_skmine/lib/python3.8/site-packages/scikit_mine-0.0.11-py3.8.egg/skmine/periodic/cycles.py:150: UserWarning: found 234 duplicates in the input sequence, they have been removed.\n",
      "  warnings.warn(f\"found {diff} duplicates in the input sequence, they have been removed.\")\n"
     ]
    },
    {
     "name": "stdout",
     "output_type": "stream",
     "text": [
      "Autoscale before first S.index \n",
      "\n",
      "2020-08-01 01:12:00\n",
      "2020-08-01 04:00:00\n",
      "2020-08-01 04:30:00\n",
      "2020-08-01 05:00:00\n",
      "Autoscale after first S.index\n",
      "  Index([159624432, 159625440, 159625620, 159625800], dtype='int64', name='timestamp')\n",
      "Autoscale DeltaT 267138\n",
      "Autoscale remove nb zeros  10\n"
     ]
    }
   ],
   "source": [
    "pcm = PeriodicPatternMiner().fit(ctv_logs)"
   ]
  },
  {
   "cell_type": "code",
   "execution_count": 14,
   "metadata": {
    "tags": []
   },
   "outputs": [
    {
     "data": {
      "text/html": [
       "<div>\n",
       "<style scoped>\n",
       "    .dataframe tbody tr th:only-of-type {\n",
       "        vertical-align: middle;\n",
       "    }\n",
       "\n",
       "    .dataframe tbody tr th {\n",
       "        vertical-align: top;\n",
       "    }\n",
       "\n",
       "    .dataframe thead th {\n",
       "        text-align: right;\n",
       "    }\n",
       "</style>\n",
       "<table border=\"1\" class=\"dataframe\">\n",
       "  <thead>\n",
       "    <tr style=\"text-align: right;\">\n",
       "      <th></th>\n",
       "      <th>t0</th>\n",
       "      <th>pattern</th>\n",
       "      <th>repetition_major</th>\n",
       "      <th>period_major</th>\n",
       "      <th>sum_E</th>\n",
       "    </tr>\n",
       "  </thead>\n",
       "  <tbody>\n",
       "    <tr>\n",
       "      <th>51</th>\n",
       "      <td>2020-08-01 04:00:00</td>\n",
       "      <td>(Rick Mercer Report)[r=5 p=7 days, 0:00:00]</td>\n",
       "      <td>5</td>\n",
       "      <td>7 days 00:00:00</td>\n",
       "      <td>0 days 00:00:00</td>\n",
       "    </tr>\n",
       "    <tr>\n",
       "      <th>45</th>\n",
       "      <td>2020-08-01 04:30:00</td>\n",
       "      <td>(Rick Mercer Report [d=1:47:00] The Adventures...</td>\n",
       "      <td>5</td>\n",
       "      <td>7 days 00:00:00</td>\n",
       "      <td>0 days 00:01:00</td>\n",
       "    </tr>\n",
       "    <tr>\n",
       "      <th>0</th>\n",
       "      <td>2020-08-01 05:00:00</td>\n",
       "      <td>(Grand Designs)[r=31 p=1 day, 0:00:00]</td>\n",
       "      <td>31</td>\n",
       "      <td>1 days 00:00:00</td>\n",
       "      <td>0 days 00:00:00</td>\n",
       "    </tr>\n",
       "    <tr>\n",
       "      <th>9</th>\n",
       "      <td>2020-08-01 06:00:00</td>\n",
       "      <td>(The Moblees [d=0:11:00] Big Block Sing Song [...</td>\n",
       "      <td>5</td>\n",
       "      <td>7 days 00:00:00</td>\n",
       "      <td>0 days 00:01:00</td>\n",
       "    </tr>\n",
       "    <tr>\n",
       "      <th>96</th>\n",
       "      <td>2020-08-01 06:30:00</td>\n",
       "      <td>(Daniel Tiger's Neighbourhood)[r=5 p=6 days, 2...</td>\n",
       "      <td>5</td>\n",
       "      <td>6 days 23:59:30</td>\n",
       "      <td>0 days 00:03:00</td>\n",
       "    </tr>\n",
       "    <tr>\n",
       "      <th>...</th>\n",
       "      <td>...</td>\n",
       "      <td>...</td>\n",
       "      <td>...</td>\n",
       "      <td>...</td>\n",
       "      <td>...</td>\n",
       "    </tr>\n",
       "    <tr>\n",
       "      <th>93</th>\n",
       "      <td>2020-08-25 02:00:00</td>\n",
       "      <td>(This Hour Has 22 Minutes)[r=4 p=0:30:00]</td>\n",
       "      <td>4</td>\n",
       "      <td>0 days 00:30:00</td>\n",
       "      <td>0 days 00:00:00</td>\n",
       "    </tr>\n",
       "    <tr>\n",
       "      <th>24</th>\n",
       "      <td>2020-08-26 00:30:00</td>\n",
       "      <td>(Kim's Convenience)[r=7 p=0:30:00]</td>\n",
       "      <td>7</td>\n",
       "      <td>0 days 00:30:00</td>\n",
       "      <td>0 days 00:00:00</td>\n",
       "    </tr>\n",
       "    <tr>\n",
       "      <th>105</th>\n",
       "      <td>2020-08-26 14:00:00</td>\n",
       "      <td>(Jamie's Super Foods [d=5:30:00] Just For Laug...</td>\n",
       "      <td>3</td>\n",
       "      <td>1 days 00:00:00</td>\n",
       "      <td>0 days 00:00:00</td>\n",
       "    </tr>\n",
       "    <tr>\n",
       "      <th>91</th>\n",
       "      <td>2020-08-27 02:00:00</td>\n",
       "      <td>(Mr. D)[r=4 p=0:30:00]</td>\n",
       "      <td>4</td>\n",
       "      <td>0 days 00:30:00</td>\n",
       "      <td>0 days 00:00:00</td>\n",
       "    </tr>\n",
       "    <tr>\n",
       "      <th>17</th>\n",
       "      <td>2020-08-28 00:00:00</td>\n",
       "      <td>(Schitt's Creek)[r=8 p=0:30:00]</td>\n",
       "      <td>8</td>\n",
       "      <td>0 days 00:30:00</td>\n",
       "      <td>0 days 00:00:00</td>\n",
       "    </tr>\n",
       "  </tbody>\n",
       "</table>\n",
       "<p>140 rows × 5 columns</p>\n",
       "</div>"
      ],
      "text/plain": [
       "                     t0                                            pattern   \n",
       "51  2020-08-01 04:00:00        (Rick Mercer Report)[r=5 p=7 days, 0:00:00]  \\\n",
       "45  2020-08-01 04:30:00  (Rick Mercer Report [d=1:47:00] The Adventures...   \n",
       "0   2020-08-01 05:00:00             (Grand Designs)[r=31 p=1 day, 0:00:00]   \n",
       "9   2020-08-01 06:00:00  (The Moblees [d=0:11:00] Big Block Sing Song [...   \n",
       "96  2020-08-01 06:30:00  (Daniel Tiger's Neighbourhood)[r=5 p=6 days, 2...   \n",
       "..                  ...                                                ...   \n",
       "93  2020-08-25 02:00:00          (This Hour Has 22 Minutes)[r=4 p=0:30:00]   \n",
       "24  2020-08-26 00:30:00                 (Kim's Convenience)[r=7 p=0:30:00]   \n",
       "105 2020-08-26 14:00:00  (Jamie's Super Foods [d=5:30:00] Just For Laug...   \n",
       "91  2020-08-27 02:00:00                             (Mr. D)[r=4 p=0:30:00]   \n",
       "17  2020-08-28 00:00:00                    (Schitt's Creek)[r=8 p=0:30:00]   \n",
       "\n",
       "     repetition_major    period_major           sum_E  \n",
       "51                  5 7 days 00:00:00 0 days 00:00:00  \n",
       "45                  5 7 days 00:00:00 0 days 00:01:00  \n",
       "0                  31 1 days 00:00:00 0 days 00:00:00  \n",
       "9                   5 7 days 00:00:00 0 days 00:01:00  \n",
       "96                  5 6 days 23:59:30 0 days 00:03:00  \n",
       "..                ...             ...             ...  \n",
       "93                  4 0 days 00:30:00 0 days 00:00:00  \n",
       "24                  7 0 days 00:30:00 0 days 00:00:00  \n",
       "105                 3 1 days 00:00:00 0 days 00:00:00  \n",
       "91                  4 0 days 00:30:00 0 days 00:00:00  \n",
       "17                  8 0 days 00:30:00 0 days 00:00:00  \n",
       "\n",
       "[140 rows x 5 columns]"
      ]
     },
     "execution_count": 14,
     "metadata": {},
     "output_type": "execute_result"
    }
   ],
   "source": [
    "cycles = pcm.discover()\n",
    "cycles"
   ]
  },
  {
   "cell_type": "markdown",
   "metadata": {},
   "source": [
    "`Note` : no need to worry for the warning, it's here to notify duplicate event/timestamp pairs have been found"
   ]
  },
  {
   "cell_type": "markdown",
   "metadata": {},
   "source": [
    "#### Viewing the patterns"
   ]
  },
  {
   "cell_type": "markdown",
   "metadata": {},
   "source": [
    "Sometimes the patterns are complicated to understand textually. The `draw_pattern` function allows you to visualise them. Simply indicate in pattern the id of the pattern you wish to view from the results of the previous discover."
   ]
  },
  {
   "cell_type": "code",
   "execution_count": 15,
   "metadata": {},
   "outputs": [
    {
     "data": {
      "image/svg+xml": [
       "<?xml version=\"1.0\" encoding=\"UTF-8\" standalone=\"no\"?>\n",
       "<!DOCTYPE svg PUBLIC \"-//W3C//DTD SVG 1.1//EN\"\n",
       " \"http://www.w3.org/Graphics/SVG/1.1/DTD/svg11.dtd\">\n",
       "<!-- Generated by graphviz version 2.43.0 (0)\n",
       " -->\n",
       "<!-- Title: %3 Pages: 1 -->\n",
       "<svg width=\"595pt\" height=\"134pt\"\n",
       " viewBox=\"0.00 0.00 595.38 134.00\" xmlns=\"http://www.w3.org/2000/svg\" xmlns:xlink=\"http://www.w3.org/1999/xlink\">\n",
       "<g id=\"graph0\" class=\"graph\" transform=\"scale(1 1) rotate(0) translate(4 130)\">\n",
       "<title>%3</title>\n",
       "<polygon fill=\"white\" stroke=\"transparent\" points=\"-4,4 -4,-130 591.38,-130 591.38,4 -4,4\"/>\n",
       "<!-- 0 -->\n",
       "<g id=\"node1\" class=\"node\">\n",
       "<title>0</title>\n",
       "<polygon fill=\"none\" stroke=\"black\" points=\"358.54,-126 173.54,-126 173.54,-73 358.54,-73 358.54,-126\"/>\n",
       "<text text-anchor=\"middle\" x=\"266.04\" y=\"-110.8\" font-family=\"Times,serif\" font-size=\"14.00\">𝜏=2020&#45;08&#45;01 04:30:00</text>\n",
       "<text text-anchor=\"middle\" x=\"266.04\" y=\"-95.8\" font-family=\"Times,serif\" font-size=\"14.00\">p=7 days, 0:00:00</text>\n",
       "<text text-anchor=\"middle\" x=\"266.04\" y=\"-80.8\" font-family=\"Times,serif\" font-size=\"14.00\">r=5</text>\n",
       "</g>\n",
       "<!-- 1 -->\n",
       "<g id=\"node2\" class=\"node\">\n",
       "<title>1</title>\n",
       "<ellipse fill=\"none\" stroke=\"black\" cx=\"102.04\" cy=\"-18\" rx=\"102.08\" ry=\"18\"/>\n",
       "<text text-anchor=\"middle\" x=\"102.04\" y=\"-14.3\" font-family=\"Times,serif\" font-size=\"14.00\">Rick Mercer Report</text>\n",
       "</g>\n",
       "<!-- 0&#45;&gt;1 -->\n",
       "<g id=\"edge1\" class=\"edge\">\n",
       "<title>0&#45;&gt;1</title>\n",
       "<path fill=\"none\" stroke=\"black\" d=\"M213.25,-72.91C187.59,-60.47 157.55,-45.91 135.16,-35.05\"/>\n",
       "</g>\n",
       "<!-- 2 -->\n",
       "<g id=\"node3\" class=\"node\">\n",
       "<title>2</title>\n",
       "<ellipse fill=\"none\" stroke=\"black\" cx=\"432.04\" cy=\"-18\" rx=\"155.17\" ry=\"18\"/>\n",
       "<text text-anchor=\"middle\" x=\"432.04\" y=\"-14.3\" font-family=\"Times,serif\" font-size=\"14.00\">The Adventures of Napkin Man</text>\n",
       "</g>\n",
       "<!-- 0&#45;&gt;2 -->\n",
       "<g id=\"edge2\" class=\"edge\">\n",
       "<title>0&#45;&gt;2</title>\n",
       "<path fill=\"none\" stroke=\"black\" d=\"M319.48,-72.91C344.97,-60.7 374.75,-46.44 397.27,-35.65\"/>\n",
       "</g>\n",
       "<!-- 1&#45;&gt;2 -->\n",
       "<g id=\"edge3\" class=\"edge\">\n",
       "<title>1&#45;&gt;2</title>\n",
       "<path fill=\"none\" stroke=\"black\" stroke-dasharray=\"1,5\" d=\"M204.2,-18C223.97,-18 245.16,-18 266.36,-18\"/>\n",
       "<polygon fill=\"black\" stroke=\"black\" points=\"266.43,-21.5 276.43,-18 266.43,-14.5 266.43,-21.5\"/>\n",
       "<text text-anchor=\"middle\" x=\"240.39\" y=\"-24.8\" font-family=\"Times,serif\" font-size=\"14.00\">1:47:00</text>\n",
       "</g>\n",
       "</g>\n",
       "</svg>\n"
      ],
      "text/plain": [
       "<graphviz.graphs.Digraph at 0x7fb7ff9f1a00>"
      ]
     },
     "execution_count": 15,
     "metadata": {},
     "output_type": "execute_result"
    }
   ],
   "source": [
    "pcm.draw_pattern(45) \n",
    "# if you want to save the tree, you can add a `directory` parameter to indicate the location of the results (pdf + generated DOT file)"
   ]
  },
  {
   "cell_type": "markdown",
   "metadata": {},
   "source": [
    "#### Patterns import - export "
   ]
  },
  {
   "cell_type": "markdown",
   "metadata": {},
   "source": []
  },
  {
   "cell_type": "code",
   "execution_count": 16,
   "metadata": {},
   "outputs": [
    {
     "data": {
      "text/html": [
       "<div>\n",
       "<style scoped>\n",
       "    .dataframe tbody tr th:only-of-type {\n",
       "        vertical-align: middle;\n",
       "    }\n",
       "\n",
       "    .dataframe tbody tr th {\n",
       "        vertical-align: top;\n",
       "    }\n",
       "\n",
       "    .dataframe thead th {\n",
       "        text-align: right;\n",
       "    }\n",
       "</style>\n",
       "<table border=\"1\" class=\"dataframe\">\n",
       "  <thead>\n",
       "    <tr style=\"text-align: right;\">\n",
       "      <th></th>\n",
       "      <th>t0</th>\n",
       "      <th>pattern</th>\n",
       "      <th>repetition_major</th>\n",
       "      <th>period_major</th>\n",
       "      <th>sum_E</th>\n",
       "    </tr>\n",
       "  </thead>\n",
       "  <tbody>\n",
       "    <tr>\n",
       "      <th>0</th>\n",
       "      <td>2020-08-01 04:00:00</td>\n",
       "      <td>(Rick Mercer Report)[r=5 p=7 days, 0:00:00]</td>\n",
       "      <td>5</td>\n",
       "      <td>7 days 00:00:00</td>\n",
       "      <td>0 days 00:00:00</td>\n",
       "    </tr>\n",
       "    <tr>\n",
       "      <th>1</th>\n",
       "      <td>2020-08-01 04:30:00</td>\n",
       "      <td>(Rick Mercer Report [d=1:47:00] The Adventures...</td>\n",
       "      <td>5</td>\n",
       "      <td>7 days 00:00:00</td>\n",
       "      <td>0 days 00:01:00</td>\n",
       "    </tr>\n",
       "    <tr>\n",
       "      <th>2</th>\n",
       "      <td>2020-08-01 05:00:00</td>\n",
       "      <td>(Grand Designs)[r=31 p=1 day, 0:00:00]</td>\n",
       "      <td>31</td>\n",
       "      <td>1 days 00:00:00</td>\n",
       "      <td>0 days 00:00:00</td>\n",
       "    </tr>\n",
       "    <tr>\n",
       "      <th>3</th>\n",
       "      <td>2020-08-01 06:00:00</td>\n",
       "      <td>(The Moblees [d=0:11:00] Big Block Sing Song [...</td>\n",
       "      <td>5</td>\n",
       "      <td>7 days 00:00:00</td>\n",
       "      <td>0 days 00:01:00</td>\n",
       "    </tr>\n",
       "    <tr>\n",
       "      <th>4</th>\n",
       "      <td>2020-08-01 06:30:00</td>\n",
       "      <td>(Daniel Tiger's Neighbourhood)[r=5 p=6 days, 2...</td>\n",
       "      <td>5</td>\n",
       "      <td>6 days 23:59:30</td>\n",
       "      <td>0 days 00:03:00</td>\n",
       "    </tr>\n",
       "    <tr>\n",
       "      <th>...</th>\n",
       "      <td>...</td>\n",
       "      <td>...</td>\n",
       "      <td>...</td>\n",
       "      <td>...</td>\n",
       "      <td>...</td>\n",
       "    </tr>\n",
       "    <tr>\n",
       "      <th>135</th>\n",
       "      <td>2020-08-25 02:00:00</td>\n",
       "      <td>(This Hour Has 22 Minutes)[r=4 p=0:30:00]</td>\n",
       "      <td>4</td>\n",
       "      <td>0 days 00:30:00</td>\n",
       "      <td>0 days 00:00:00</td>\n",
       "    </tr>\n",
       "    <tr>\n",
       "      <th>136</th>\n",
       "      <td>2020-08-26 00:30:00</td>\n",
       "      <td>(Kim's Convenience)[r=7 p=0:30:00]</td>\n",
       "      <td>7</td>\n",
       "      <td>0 days 00:30:00</td>\n",
       "      <td>0 days 00:00:00</td>\n",
       "    </tr>\n",
       "    <tr>\n",
       "      <th>137</th>\n",
       "      <td>2020-08-26 14:00:00</td>\n",
       "      <td>(Jamie's Super Foods [d=5:30:00] Just For Laug...</td>\n",
       "      <td>3</td>\n",
       "      <td>1 days 00:00:00</td>\n",
       "      <td>0 days 00:00:00</td>\n",
       "    </tr>\n",
       "    <tr>\n",
       "      <th>138</th>\n",
       "      <td>2020-08-27 02:00:00</td>\n",
       "      <td>(Mr. D)[r=4 p=0:30:00]</td>\n",
       "      <td>4</td>\n",
       "      <td>0 days 00:30:00</td>\n",
       "      <td>0 days 00:00:00</td>\n",
       "    </tr>\n",
       "    <tr>\n",
       "      <th>139</th>\n",
       "      <td>2020-08-28 00:00:00</td>\n",
       "      <td>(Schitt's Creek)[r=8 p=0:30:00]</td>\n",
       "      <td>8</td>\n",
       "      <td>0 days 00:30:00</td>\n",
       "      <td>0 days 00:00:00</td>\n",
       "    </tr>\n",
       "  </tbody>\n",
       "</table>\n",
       "<p>140 rows × 5 columns</p>\n",
       "</div>"
      ],
      "text/plain": [
       "                     t0                                            pattern   \n",
       "0   2020-08-01 04:00:00        (Rick Mercer Report)[r=5 p=7 days, 0:00:00]  \\\n",
       "1   2020-08-01 04:30:00  (Rick Mercer Report [d=1:47:00] The Adventures...   \n",
       "2   2020-08-01 05:00:00             (Grand Designs)[r=31 p=1 day, 0:00:00]   \n",
       "3   2020-08-01 06:00:00  (The Moblees [d=0:11:00] Big Block Sing Song [...   \n",
       "4   2020-08-01 06:30:00  (Daniel Tiger's Neighbourhood)[r=5 p=6 days, 2...   \n",
       "..                  ...                                                ...   \n",
       "135 2020-08-25 02:00:00          (This Hour Has 22 Minutes)[r=4 p=0:30:00]   \n",
       "136 2020-08-26 00:30:00                 (Kim's Convenience)[r=7 p=0:30:00]   \n",
       "137 2020-08-26 14:00:00  (Jamie's Super Foods [d=5:30:00] Just For Laug...   \n",
       "138 2020-08-27 02:00:00                             (Mr. D)[r=4 p=0:30:00]   \n",
       "139 2020-08-28 00:00:00                    (Schitt's Creek)[r=8 p=0:30:00]   \n",
       "\n",
       "     repetition_major    period_major           sum_E  \n",
       "0                   5 7 days 00:00:00 0 days 00:00:00  \n",
       "1                   5 7 days 00:00:00 0 days 00:01:00  \n",
       "2                  31 1 days 00:00:00 0 days 00:00:00  \n",
       "3                   5 7 days 00:00:00 0 days 00:01:00  \n",
       "4                   5 6 days 23:59:30 0 days 00:03:00  \n",
       "..                ...             ...             ...  \n",
       "135                 4 0 days 00:30:00 0 days 00:00:00  \n",
       "136                 7 0 days 00:30:00 0 days 00:00:00  \n",
       "137                 3 1 days 00:00:00 0 days 00:00:00  \n",
       "138                 4 0 days 00:30:00 0 days 00:00:00  \n",
       "139                 8 0 days 00:30:00 0 days 00:00:00  \n",
       "\n",
       "[140 rows x 5 columns]"
      ]
     },
     "execution_count": 16,
     "metadata": {},
     "output_type": "execute_result"
    }
   ],
   "source": [
    "#Store in a json file the patterns (\"patterns.json\" by default) \n",
    "pcm.export_patterns(file = \"patterns.json\")\n",
    "\n",
    "# reinitialize the PeriodicPatternMiner : \n",
    "pcm = PeriodicPatternMiner()\n",
    "\n",
    "# import the json file (\"patterns.json\" by default)\n",
    "pcm.import_patterns(file = \"patterns.json\")\n",
    "\n",
    "# recompute the pattern : \n",
    "cycles = pcm.discover()\n",
    "cycles"
   ]
  },
  {
   "cell_type": "markdown",
   "metadata": {},
   "source": [
    "Now that we have our cycles in a [pandas.DataFrame](https://pandas.pydata.org/pandas-docs/stable/reference/api/pandas.DataFrame.html), we can play with the pandas API and answer questions about our logs\n",
    "\n",
    "#### Did I find cycles for the TV show \"Arthurt Shorts\""
   ]
  },
  {
   "cell_type": "code",
   "execution_count": 17,
   "metadata": {
    "tags": []
   },
   "outputs": [
    {
     "data": {
      "text/html": [
       "<div>\n",
       "<style scoped>\n",
       "    .dataframe tbody tr th:only-of-type {\n",
       "        vertical-align: middle;\n",
       "    }\n",
       "\n",
       "    .dataframe tbody tr th {\n",
       "        vertical-align: top;\n",
       "    }\n",
       "\n",
       "    .dataframe thead th {\n",
       "        text-align: right;\n",
       "    }\n",
       "</style>\n",
       "<table border=\"1\" class=\"dataframe\">\n",
       "  <thead>\n",
       "    <tr style=\"text-align: right;\">\n",
       "      <th></th>\n",
       "      <th>t0</th>\n",
       "      <th>pattern</th>\n",
       "      <th>repetition_major</th>\n",
       "      <th>period_major</th>\n",
       "      <th>sum_E</th>\n",
       "    </tr>\n",
       "  </thead>\n",
       "  <tbody>\n",
       "    <tr>\n",
       "      <th>0</th>\n",
       "      <td>2020-08-01 04:00:00</td>\n",
       "      <td>(Rick Mercer Report)[r=5 p=7 days, 0:00:00]</td>\n",
       "      <td>5</td>\n",
       "      <td>7 days 00:00:00</td>\n",
       "      <td>0 days 00:00:00</td>\n",
       "    </tr>\n",
       "    <tr>\n",
       "      <th>1</th>\n",
       "      <td>2020-08-01 04:30:00</td>\n",
       "      <td>(Rick Mercer Report [d=1:47:00] The Adventures...</td>\n",
       "      <td>5</td>\n",
       "      <td>7 days 00:00:00</td>\n",
       "      <td>0 days 00:01:00</td>\n",
       "    </tr>\n",
       "    <tr>\n",
       "      <th>2</th>\n",
       "      <td>2020-08-01 05:00:00</td>\n",
       "      <td>(Grand Designs)[r=31 p=1 day, 0:00:00]</td>\n",
       "      <td>31</td>\n",
       "      <td>1 days 00:00:00</td>\n",
       "      <td>0 days 00:00:00</td>\n",
       "    </tr>\n",
       "    <tr>\n",
       "      <th>3</th>\n",
       "      <td>2020-08-01 06:00:00</td>\n",
       "      <td>(The Moblees [d=0:11:00] Big Block Sing Song [...</td>\n",
       "      <td>5</td>\n",
       "      <td>7 days 00:00:00</td>\n",
       "      <td>0 days 00:01:00</td>\n",
       "    </tr>\n",
       "    <tr>\n",
       "      <th>4</th>\n",
       "      <td>2020-08-01 06:30:00</td>\n",
       "      <td>(Daniel Tiger's Neighbourhood)[r=5 p=6 days, 2...</td>\n",
       "      <td>5</td>\n",
       "      <td>6 days 23:59:30</td>\n",
       "      <td>0 days 00:03:00</td>\n",
       "    </tr>\n",
       "    <tr>\n",
       "      <th>...</th>\n",
       "      <td>...</td>\n",
       "      <td>...</td>\n",
       "      <td>...</td>\n",
       "      <td>...</td>\n",
       "      <td>...</td>\n",
       "    </tr>\n",
       "    <tr>\n",
       "      <th>135</th>\n",
       "      <td>2020-08-25 02:00:00</td>\n",
       "      <td>(This Hour Has 22 Minutes)[r=4 p=0:30:00]</td>\n",
       "      <td>4</td>\n",
       "      <td>0 days 00:30:00</td>\n",
       "      <td>0 days 00:00:00</td>\n",
       "    </tr>\n",
       "    <tr>\n",
       "      <th>136</th>\n",
       "      <td>2020-08-26 00:30:00</td>\n",
       "      <td>(Kim's Convenience)[r=7 p=0:30:00]</td>\n",
       "      <td>7</td>\n",
       "      <td>0 days 00:30:00</td>\n",
       "      <td>0 days 00:00:00</td>\n",
       "    </tr>\n",
       "    <tr>\n",
       "      <th>137</th>\n",
       "      <td>2020-08-26 14:00:00</td>\n",
       "      <td>(Jamie's Super Foods [d=5:30:00] Just For Laug...</td>\n",
       "      <td>3</td>\n",
       "      <td>1 days 00:00:00</td>\n",
       "      <td>0 days 00:00:00</td>\n",
       "    </tr>\n",
       "    <tr>\n",
       "      <th>138</th>\n",
       "      <td>2020-08-27 02:00:00</td>\n",
       "      <td>(Mr. D)[r=4 p=0:30:00]</td>\n",
       "      <td>4</td>\n",
       "      <td>0 days 00:30:00</td>\n",
       "      <td>0 days 00:00:00</td>\n",
       "    </tr>\n",
       "    <tr>\n",
       "      <th>139</th>\n",
       "      <td>2020-08-28 00:00:00</td>\n",
       "      <td>(Schitt's Creek)[r=8 p=0:30:00]</td>\n",
       "      <td>8</td>\n",
       "      <td>0 days 00:30:00</td>\n",
       "      <td>0 days 00:00:00</td>\n",
       "    </tr>\n",
       "  </tbody>\n",
       "</table>\n",
       "<p>140 rows × 5 columns</p>\n",
       "</div>"
      ],
      "text/plain": [
       "                     t0                                            pattern   \n",
       "0   2020-08-01 04:00:00        (Rick Mercer Report)[r=5 p=7 days, 0:00:00]  \\\n",
       "1   2020-08-01 04:30:00  (Rick Mercer Report [d=1:47:00] The Adventures...   \n",
       "2   2020-08-01 05:00:00             (Grand Designs)[r=31 p=1 day, 0:00:00]   \n",
       "3   2020-08-01 06:00:00  (The Moblees [d=0:11:00] Big Block Sing Song [...   \n",
       "4   2020-08-01 06:30:00  (Daniel Tiger's Neighbourhood)[r=5 p=6 days, 2...   \n",
       "..                  ...                                                ...   \n",
       "135 2020-08-25 02:00:00          (This Hour Has 22 Minutes)[r=4 p=0:30:00]   \n",
       "136 2020-08-26 00:30:00                 (Kim's Convenience)[r=7 p=0:30:00]   \n",
       "137 2020-08-26 14:00:00  (Jamie's Super Foods [d=5:30:00] Just For Laug...   \n",
       "138 2020-08-27 02:00:00                             (Mr. D)[r=4 p=0:30:00]   \n",
       "139 2020-08-28 00:00:00                    (Schitt's Creek)[r=8 p=0:30:00]   \n",
       "\n",
       "     repetition_major    period_major           sum_E  \n",
       "0                   5 7 days 00:00:00 0 days 00:00:00  \n",
       "1                   5 7 days 00:00:00 0 days 00:01:00  \n",
       "2                  31 1 days 00:00:00 0 days 00:00:00  \n",
       "3                   5 7 days 00:00:00 0 days 00:01:00  \n",
       "4                   5 6 days 23:59:30 0 days 00:03:00  \n",
       "..                ...             ...             ...  \n",
       "135                 4 0 days 00:30:00 0 days 00:00:00  \n",
       "136                 7 0 days 00:30:00 0 days 00:00:00  \n",
       "137                 3 1 days 00:00:00 0 days 00:00:00  \n",
       "138                 4 0 days 00:30:00 0 days 00:00:00  \n",
       "139                 8 0 days 00:30:00 0 days 00:00:00  \n",
       "\n",
       "[140 rows x 5 columns]"
      ]
     },
     "execution_count": 17,
     "metadata": {},
     "output_type": "execute_result"
    }
   ],
   "source": [
    "cycles"
   ]
  },
  {
   "cell_type": "code",
   "execution_count": 18,
   "metadata": {
    "tags": []
   },
   "outputs": [
    {
     "data": {
      "text/html": [
       "<div>\n",
       "<style scoped>\n",
       "    .dataframe tbody tr th:only-of-type {\n",
       "        vertical-align: middle;\n",
       "    }\n",
       "\n",
       "    .dataframe tbody tr th {\n",
       "        vertical-align: top;\n",
       "    }\n",
       "\n",
       "    .dataframe thead th {\n",
       "        text-align: right;\n",
       "    }\n",
       "</style>\n",
       "<table border=\"1\" class=\"dataframe\">\n",
       "  <thead>\n",
       "    <tr style=\"text-align: right;\">\n",
       "      <th></th>\n",
       "      <th>t0</th>\n",
       "      <th>pattern</th>\n",
       "      <th>repetition_major</th>\n",
       "      <th>period_major</th>\n",
       "      <th>sum_E</th>\n",
       "    </tr>\n",
       "  </thead>\n",
       "  <tbody>\n",
       "    <tr>\n",
       "      <th>18</th>\n",
       "      <td>2020-08-01 08:59:00</td>\n",
       "      <td>(CBC Kids [d=0:22:00] CBC Kids [d=1:27:00] Add...</td>\n",
       "      <td>5</td>\n",
       "      <td>7 days 00:00:00</td>\n",
       "      <td>0 days 00:00:00</td>\n",
       "    </tr>\n",
       "    <tr>\n",
       "      <th>59</th>\n",
       "      <td>2020-08-03 09:35:00</td>\n",
       "      <td>((Arthur Shorts)[r=5 p=1 day, 0:00:00] [d=0:13...</td>\n",
       "      <td>3</td>\n",
       "      <td>6 days 23:59:00</td>\n",
       "      <td>0 days 00:08:00</td>\n",
       "    </tr>\n",
       "    <tr>\n",
       "      <th>131</th>\n",
       "      <td>2020-08-24 07:43:00</td>\n",
       "      <td>((CBC Kids)[r=4 p=0:25:00] [d=2:05:00] Arthur ...</td>\n",
       "      <td>4</td>\n",
       "      <td>1 days 00:00:00</td>\n",
       "      <td>0 days 00:04:00</td>\n",
       "    </tr>\n",
       "    <tr>\n",
       "      <th>132</th>\n",
       "      <td>2020-08-24 09:35:00</td>\n",
       "      <td>(CBC Kids [d=0:00:00] Arthur Shorts)[r=4 p=1 d...</td>\n",
       "      <td>4</td>\n",
       "      <td>1 days 00:00:00</td>\n",
       "      <td>0 days 00:02:00</td>\n",
       "    </tr>\n",
       "  </tbody>\n",
       "</table>\n",
       "</div>"
      ],
      "text/plain": [
       "                     t0                                            pattern   \n",
       "18  2020-08-01 08:59:00  (CBC Kids [d=0:22:00] CBC Kids [d=1:27:00] Add...  \\\n",
       "59  2020-08-03 09:35:00  ((Arthur Shorts)[r=5 p=1 day, 0:00:00] [d=0:13...   \n",
       "131 2020-08-24 07:43:00  ((CBC Kids)[r=4 p=0:25:00] [d=2:05:00] Arthur ...   \n",
       "132 2020-08-24 09:35:00  (CBC Kids [d=0:00:00] Arthur Shorts)[r=4 p=1 d...   \n",
       "\n",
       "     repetition_major    period_major           sum_E  \n",
       "18                  5 7 days 00:00:00 0 days 00:00:00  \n",
       "59                  3 6 days 23:59:00 0 days 00:08:00  \n",
       "131                 4 1 days 00:00:00 0 days 00:04:00  \n",
       "132                 4 1 days 00:00:00 0 days 00:02:00  "
      ]
     },
     "execution_count": 18,
     "metadata": {},
     "output_type": "execute_result"
    }
   ],
   "source": [
    "cycles[cycles[\"pattern\"].apply(lambda x: \"Arthur Shorts\" in x)]"
   ]
  },
  {
   "cell_type": "markdown",
   "metadata": {},
   "source": [
    "#### What are the top 10 longest cycles ?"
   ]
  },
  {
   "cell_type": "code",
   "execution_count": 19,
   "metadata": {
    "tags": []
   },
   "outputs": [
    {
     "data": {
      "text/html": [
       "<div>\n",
       "<style scoped>\n",
       "    .dataframe tbody tr th:only-of-type {\n",
       "        vertical-align: middle;\n",
       "    }\n",
       "\n",
       "    .dataframe tbody tr th {\n",
       "        vertical-align: top;\n",
       "    }\n",
       "\n",
       "    .dataframe thead th {\n",
       "        text-align: right;\n",
       "    }\n",
       "</style>\n",
       "<table border=\"1\" class=\"dataframe\">\n",
       "  <thead>\n",
       "    <tr style=\"text-align: right;\">\n",
       "      <th></th>\n",
       "      <th>t0</th>\n",
       "      <th>pattern</th>\n",
       "      <th>repetition_major</th>\n",
       "      <th>period_major</th>\n",
       "      <th>sum_E</th>\n",
       "    </tr>\n",
       "  </thead>\n",
       "  <tbody>\n",
       "    <tr>\n",
       "      <th>2</th>\n",
       "      <td>2020-08-01 05:00:00</td>\n",
       "      <td>(Grand Designs)[r=31 p=1 day, 0:00:00]</td>\n",
       "      <td>31</td>\n",
       "      <td>1 days 00:00:00</td>\n",
       "      <td>0 days 00:00:00</td>\n",
       "    </tr>\n",
       "    <tr>\n",
       "      <th>13</th>\n",
       "      <td>2020-08-01 07:43:00</td>\n",
       "      <td>(CBC Kids)[r=26 p=1 day, 0:00:00]</td>\n",
       "      <td>26</td>\n",
       "      <td>1 days 00:00:00</td>\n",
       "      <td>0 days 00:10:00</td>\n",
       "    </tr>\n",
       "    <tr>\n",
       "      <th>122</th>\n",
       "      <td>2020-08-17 07:22:00</td>\n",
       "      <td>(CBC Kids)[r=12 p=1 day, 0:00:00]</td>\n",
       "      <td>12</td>\n",
       "      <td>1 days 00:00:00</td>\n",
       "      <td>0 days 00:07:00</td>\n",
       "    </tr>\n",
       "    <tr>\n",
       "      <th>139</th>\n",
       "      <td>2020-08-28 00:00:00</td>\n",
       "      <td>(Schitt's Creek)[r=8 p=0:30:00]</td>\n",
       "      <td>8</td>\n",
       "      <td>0 days 00:30:00</td>\n",
       "      <td>0 days 00:00:00</td>\n",
       "    </tr>\n",
       "    <tr>\n",
       "      <th>75</th>\n",
       "      <td>2020-08-05 00:30:00</td>\n",
       "      <td>(Kim's Convenience)[r=7 p=0:30:00]</td>\n",
       "      <td>7</td>\n",
       "      <td>0 days 00:30:00</td>\n",
       "      <td>0 days 00:00:00</td>\n",
       "    </tr>\n",
       "    <tr>\n",
       "      <th>82</th>\n",
       "      <td>2020-08-06 00:30:00</td>\n",
       "      <td>(Mr. D)[r=7 p=0:30:00]</td>\n",
       "      <td>7</td>\n",
       "      <td>0 days 00:30:00</td>\n",
       "      <td>0 days 00:00:00</td>\n",
       "    </tr>\n",
       "    <tr>\n",
       "      <th>88</th>\n",
       "      <td>2020-08-07 00:30:00</td>\n",
       "      <td>(Schitt's Creek)[r=7 p=0:30:00]</td>\n",
       "      <td>7</td>\n",
       "      <td>0 days 00:30:00</td>\n",
       "      <td>0 days 00:00:00</td>\n",
       "    </tr>\n",
       "    <tr>\n",
       "      <th>136</th>\n",
       "      <td>2020-08-26 00:30:00</td>\n",
       "      <td>(Kim's Convenience)[r=7 p=0:30:00]</td>\n",
       "      <td>7</td>\n",
       "      <td>0 days 00:30:00</td>\n",
       "      <td>0 days 00:00:00</td>\n",
       "    </tr>\n",
       "    <tr>\n",
       "      <th>94</th>\n",
       "      <td>2020-08-07 09:12:00</td>\n",
       "      <td>(CBC Kids)[r=6 p=3 days, 23:47:00]</td>\n",
       "      <td>6</td>\n",
       "      <td>3 days 23:47:00</td>\n",
       "      <td>0 days 00:04:00</td>\n",
       "    </tr>\n",
       "    <tr>\n",
       "      <th>128</th>\n",
       "      <td>2020-08-23 07:27:00</td>\n",
       "      <td>(CBC Kids)[r=6 p=1 day, 0:00:00]</td>\n",
       "      <td>6</td>\n",
       "      <td>1 days 00:00:00</td>\n",
       "      <td>0 days 00:00:00</td>\n",
       "    </tr>\n",
       "  </tbody>\n",
       "</table>\n",
       "</div>"
      ],
      "text/plain": [
       "                     t0                                 pattern   \n",
       "2   2020-08-01 05:00:00  (Grand Designs)[r=31 p=1 day, 0:00:00]  \\\n",
       "13  2020-08-01 07:43:00       (CBC Kids)[r=26 p=1 day, 0:00:00]   \n",
       "122 2020-08-17 07:22:00       (CBC Kids)[r=12 p=1 day, 0:00:00]   \n",
       "139 2020-08-28 00:00:00         (Schitt's Creek)[r=8 p=0:30:00]   \n",
       "75  2020-08-05 00:30:00      (Kim's Convenience)[r=7 p=0:30:00]   \n",
       "82  2020-08-06 00:30:00                  (Mr. D)[r=7 p=0:30:00]   \n",
       "88  2020-08-07 00:30:00         (Schitt's Creek)[r=7 p=0:30:00]   \n",
       "136 2020-08-26 00:30:00      (Kim's Convenience)[r=7 p=0:30:00]   \n",
       "94  2020-08-07 09:12:00      (CBC Kids)[r=6 p=3 days, 23:47:00]   \n",
       "128 2020-08-23 07:27:00        (CBC Kids)[r=6 p=1 day, 0:00:00]   \n",
       "\n",
       "     repetition_major    period_major           sum_E  \n",
       "2                  31 1 days 00:00:00 0 days 00:00:00  \n",
       "13                 26 1 days 00:00:00 0 days 00:10:00  \n",
       "122                12 1 days 00:00:00 0 days 00:07:00  \n",
       "139                 8 0 days 00:30:00 0 days 00:00:00  \n",
       "75                  7 0 days 00:30:00 0 days 00:00:00  \n",
       "82                  7 0 days 00:30:00 0 days 00:00:00  \n",
       "88                  7 0 days 00:30:00 0 days 00:00:00  \n",
       "136                 7 0 days 00:30:00 0 days 00:00:00  \n",
       "94                  6 3 days 23:47:00 0 days 00:04:00  \n",
       "128                 6 1 days 00:00:00 0 days 00:00:00  "
      ]
     },
     "execution_count": 19,
     "metadata": {},
     "output_type": "execute_result"
    }
   ],
   "source": [
    "cycles.nlargest(10, [\"repetition_major\"])"
   ]
  },
  {
   "cell_type": "code",
   "execution_count": 20,
   "metadata": {
    "tags": []
   },
   "outputs": [
    {
     "data": {
      "text/html": [
       "<div>\n",
       "<style scoped>\n",
       "    .dataframe tbody tr th:only-of-type {\n",
       "        vertical-align: middle;\n",
       "    }\n",
       "\n",
       "    .dataframe tbody tr th {\n",
       "        vertical-align: top;\n",
       "    }\n",
       "\n",
       "    .dataframe thead th {\n",
       "        text-align: right;\n",
       "    }\n",
       "</style>\n",
       "<table border=\"1\" class=\"dataframe\">\n",
       "  <thead>\n",
       "    <tr style=\"text-align: right;\">\n",
       "      <th></th>\n",
       "      <th>time</th>\n",
       "      <th>event</th>\n",
       "    </tr>\n",
       "  </thead>\n",
       "  <tbody>\n",
       "    <tr>\n",
       "      <th>0</th>\n",
       "      <td>2020-08-01 04:30:00</td>\n",
       "      <td>Rick Mercer Report</td>\n",
       "    </tr>\n",
       "    <tr>\n",
       "      <th>1</th>\n",
       "      <td>2020-08-01 06:17:00</td>\n",
       "      <td>The Adventures of Napkin Man</td>\n",
       "    </tr>\n",
       "    <tr>\n",
       "      <th>2</th>\n",
       "      <td>2020-08-08 04:30:00</td>\n",
       "      <td>Rick Mercer Report</td>\n",
       "    </tr>\n",
       "    <tr>\n",
       "      <th>3</th>\n",
       "      <td>2020-08-08 06:17:00</td>\n",
       "      <td>The Adventures of Napkin Man</td>\n",
       "    </tr>\n",
       "    <tr>\n",
       "      <th>4</th>\n",
       "      <td>2020-08-15 04:30:00</td>\n",
       "      <td>Rick Mercer Report</td>\n",
       "    </tr>\n",
       "    <tr>\n",
       "      <th>5</th>\n",
       "      <td>2020-08-15 06:17:00</td>\n",
       "      <td>The Adventures of Napkin Man</td>\n",
       "    </tr>\n",
       "    <tr>\n",
       "      <th>6</th>\n",
       "      <td>2020-08-22 04:30:00</td>\n",
       "      <td>Rick Mercer Report</td>\n",
       "    </tr>\n",
       "    <tr>\n",
       "      <th>7</th>\n",
       "      <td>2020-08-22 06:16:00</td>\n",
       "      <td>The Adventures of Napkin Man</td>\n",
       "    </tr>\n",
       "    <tr>\n",
       "      <th>8</th>\n",
       "      <td>2020-08-29 04:30:00</td>\n",
       "      <td>Rick Mercer Report</td>\n",
       "    </tr>\n",
       "    <tr>\n",
       "      <th>9</th>\n",
       "      <td>2020-08-29 06:17:00</td>\n",
       "      <td>The Adventures of Napkin Man</td>\n",
       "    </tr>\n",
       "  </tbody>\n",
       "</table>\n",
       "</div>"
      ],
      "text/plain": [
       "                 time                         event\n",
       "0 2020-08-01 04:30:00            Rick Mercer Report\n",
       "1 2020-08-01 06:17:00  The Adventures of Napkin Man\n",
       "2 2020-08-08 04:30:00            Rick Mercer Report\n",
       "3 2020-08-08 06:17:00  The Adventures of Napkin Man\n",
       "4 2020-08-15 04:30:00            Rick Mercer Report\n",
       "5 2020-08-15 06:17:00  The Adventures of Napkin Man\n",
       "6 2020-08-22 04:30:00            Rick Mercer Report\n",
       "7 2020-08-22 06:16:00  The Adventures of Napkin Man\n",
       "8 2020-08-29 04:30:00            Rick Mercer Report\n",
       "9 2020-08-29 06:17:00  The Adventures of Napkin Man"
      ]
     },
     "execution_count": 20,
     "metadata": {},
     "output_type": "execute_result"
    }
   ],
   "source": [
    "pcm.reconstruct([1])"
   ]
  },
  {
   "cell_type": "code",
   "execution_count": 21,
   "metadata": {
    "tags": []
   },
   "outputs": [
    {
     "data": {
      "text/html": [
       "<div>\n",
       "<style scoped>\n",
       "    .dataframe tbody tr th:only-of-type {\n",
       "        vertical-align: middle;\n",
       "    }\n",
       "\n",
       "    .dataframe tbody tr th {\n",
       "        vertical-align: top;\n",
       "    }\n",
       "\n",
       "    .dataframe thead th {\n",
       "        text-align: right;\n",
       "    }\n",
       "</style>\n",
       "<table border=\"1\" class=\"dataframe\">\n",
       "  <thead>\n",
       "    <tr style=\"text-align: right;\">\n",
       "      <th></th>\n",
       "      <th>time</th>\n",
       "      <th>event</th>\n",
       "    </tr>\n",
       "  </thead>\n",
       "  <tbody>\n",
       "    <tr>\n",
       "      <th>51</th>\n",
       "      <td>2020-08-01 01:12:00</td>\n",
       "      <td>OLYMPIC GAMES REPLAY</td>\n",
       "    </tr>\n",
       "    <tr>\n",
       "      <th>129</th>\n",
       "      <td>2020-08-01 06:17:00</td>\n",
       "      <td>CBC Kids</td>\n",
       "    </tr>\n",
       "    <tr>\n",
       "      <th>289</th>\n",
       "      <td>2020-08-01 06:30:00</td>\n",
       "      <td>CBC Kids</td>\n",
       "    </tr>\n",
       "    <tr>\n",
       "      <th>412</th>\n",
       "      <td>2020-08-01 08:08:00</td>\n",
       "      <td>CBC Kids</td>\n",
       "    </tr>\n",
       "    <tr>\n",
       "      <th>256</th>\n",
       "      <td>2020-08-01 08:35:00</td>\n",
       "      <td>CBC Kids</td>\n",
       "    </tr>\n",
       "    <tr>\n",
       "      <th>...</th>\n",
       "      <td>...</td>\n",
       "      <td>...</td>\n",
       "    </tr>\n",
       "    <tr>\n",
       "      <th>26</th>\n",
       "      <td>2020-08-31 16:00:00</td>\n",
       "      <td>Escape to the Country</td>\n",
       "    </tr>\n",
       "    <tr>\n",
       "      <th>249</th>\n",
       "      <td>2020-08-31 17:00:00</td>\n",
       "      <td>Murdoch Mysteries</td>\n",
       "    </tr>\n",
       "    <tr>\n",
       "      <th>312</th>\n",
       "      <td>2020-08-31 17:59:00</td>\n",
       "      <td>News</td>\n",
       "    </tr>\n",
       "    <tr>\n",
       "      <th>79</th>\n",
       "      <td>2020-08-31 19:00:00</td>\n",
       "      <td>Hockey Night in Canada</td>\n",
       "    </tr>\n",
       "    <tr>\n",
       "      <th>268</th>\n",
       "      <td>2020-08-31 23:15:00</td>\n",
       "      <td>CBC News: The National</td>\n",
       "    </tr>\n",
       "  </tbody>\n",
       "</table>\n",
       "<p>413 rows × 2 columns</p>\n",
       "</div>"
      ],
      "text/plain": [
       "                   time                   event\n",
       "51  2020-08-01 01:12:00    OLYMPIC GAMES REPLAY\n",
       "129 2020-08-01 06:17:00                CBC Kids\n",
       "289 2020-08-01 06:30:00                CBC Kids\n",
       "412 2020-08-01 08:08:00                CBC Kids\n",
       "256 2020-08-01 08:35:00                CBC Kids\n",
       "..                  ...                     ...\n",
       "26  2020-08-31 16:00:00   Escape to the Country\n",
       "249 2020-08-31 17:00:00       Murdoch Mysteries\n",
       "312 2020-08-31 17:59:00                    News\n",
       "79  2020-08-31 19:00:00  Hockey Night in Canada\n",
       "268 2020-08-31 23:15:00  CBC News: The National\n",
       "\n",
       "[413 rows x 2 columns]"
      ]
     },
     "execution_count": 21,
     "metadata": {},
     "output_type": "execute_result"
    }
   ],
   "source": [
    "pcm.get_residuals()"
   ]
  },
  {
   "cell_type": "markdown",
   "metadata": {},
   "source": [
    "#### what are the 10 most unpunctual TV programs ?\n",
    "For this we are going to :\n",
    " 1. extract the shift corrections along with other informations about our cycles\n",
    " 2. compute the sum of the absolute values for the shift corrections, for every cycles\n",
    " 3. get the 10 biggest sums"
   ]
  },
  {
   "cell_type": "code",
   "execution_count": 22,
   "metadata": {},
   "outputs": [],
   "source": [
    "# full_cycles = pcm.discover()\n",
    "# full_cycles.head()"
   ]
  },
  {
   "cell_type": "code",
   "execution_count": 23,
   "metadata": {
    "scrolled": true
   },
   "outputs": [],
   "source": [
    "# def absolute_sum(*args):\n",
    "#     return sum(map(abs, *args))\n",
    "\n",
    "# # level 0 is the name of the TV program\n",
    "# shift_sums = full_cycles[\"dE\"].map(absolute_sum).groupby(level=[0]).sum()\n",
    "# shift_sums.nlargest(10)"
   ]
  },
  {
   "cell_type": "markdown",
   "metadata": {},
   "source": [
    "<!-- #### what are the 10 most unpunctual TV programs ?\n",
    "For this we are going to :\n",
    " 1. extract the shift corrections along with other informations about our cycles\n",
    " 2. compute the sum of the absolute values for the shift corrections, for every cycles\n",
    " 3. get the 10 biggest sums -->"
   ]
  },
  {
   "cell_type": "code",
   "execution_count": 24,
   "metadata": {},
   "outputs": [],
   "source": [
    "# def absolute_sum(*args):\n",
    "#     return sum(map(abs, *args))\n",
    "\n",
    "# # level 0 is the name of the TV program\n",
    "# shift_sums = full_cycles[\"dE\"].map(absolute_sum).groupby(level=[0]).sum()\n",
    "# shift_sums.nlargest(10)"
   ]
  },
  {
   "cell_type": "markdown",
   "metadata": {},
   "source": [
    "#### What TV programs have been broadcasted every day for at least 5 days straight?\n",
    "Let's make use of the [pandas.DataFrame.query](https://pandas.pydata.org/docs/reference/api/pandas.DataFrame.query.html) method to express our question in an SQL-like syntax"
   ]
  },
  {
   "cell_type": "code",
   "execution_count": 25,
   "metadata": {
    "scrolled": true
   },
   "outputs": [],
   "source": [
    "# cycles.query('length_major >= 5 and period_major >= 3600', engine='python')\n",
    "# # cycles.query('length >= 5 and period == \"1 days\"', engine='python')"
   ]
  },
  {
   "cell_type": "markdown",
   "metadata": {},
   "source": [
    "#### What TV programs are broadcast only on business days ?\n",
    "From the previous query we see we have a lot of 5-length cycles, with periods of 1 day.\n",
    "An intuition is that these cycles take place on business days. Let's confirm this by considering cycles with\n",
    " 1. start timestamps on mondays\n",
    " 2. periods of roughly 1 day  "
   ]
  },
  {
   "cell_type": "code",
   "execution_count": 26,
   "metadata": {
    "scrolled": true
   },
   "outputs": [],
   "source": [
    "# monday_starts = cycles[cycles.start.dt.weekday == 0]  # start on monday\n",
    "# monday_starts.query('length == 5 and period == \"1 days\"', engine='python')"
   ]
  },
  {
   "cell_type": "markdown",
   "metadata": {},
   "source": [
    "------\n",
    "### Load your own custom datasets\n",
    "\n",
    "If you want to **use your own datasets from file**, you can use the `fetch_file` function.  \n",
    "There are **3 ways to write** :\n",
    "\n",
    "#### 1. **Each line consists of a datetime followed by its associated event.** By default, **the separator is a `,`**. This is customisable.  \n",
    "Example :"
   ]
  },
  {
   "cell_type": "code",
   "execution_count": 27,
   "metadata": {
    "scrolled": true
   },
   "outputs": [
    {
     "data": {
      "text/plain": [
       "['2020-04-16 07:30:00,wake up',\n",
       " '2020-04-17 07:29:00,wake up',\n",
       " '2020-04-17 07:29:00,wake up',\n",
       " '2020-04-18 07:29:00,wake up',\n",
       " '2020-04-19 07:30:00,wake up',\n",
       " '2020-04-20 07:32:00,wake up',\n",
       " '2020-04-23 07:30:00,wake up']"
      ]
     },
     "execution_count": 27,
     "metadata": {},
     "output_type": "execute_result"
    }
   ],
   "source": [
    "with open(\"dataset_datetime.csv\", \"r\") as f:\n",
    "    data = f.read().splitlines()\n",
    "    \n",
    "data"
   ]
  },
  {
   "cell_type": "code",
   "execution_count": 28,
   "metadata": {},
   "outputs": [
    {
     "name": "stdout",
     "output_type": "stream",
     "text": [
      "Autoscale before first S.index \n",
      "\n",
      "2020-04-16 07:30:00\n",
      "2020-04-17 07:29:00\n",
      "2020-04-18 07:29:00\n",
      "2020-04-19 07:30:00\n",
      "Autoscale after first S.index\n",
      "  Index([158702220, 158710854, 158719494, 158728140], dtype='int64', name='timestamp')\n",
      "Autoscale DeltaT 60480\n",
      "Autoscale remove nb zeros  10\n"
     ]
    },
    {
     "name": "stderr",
     "output_type": "stream",
     "text": [
      "/home/cregan/miniconda3/envs/test_skmine/lib/python3.8/site-packages/scikit_mine-0.0.11-py3.8.egg/skmine/periodic/cycles.py:150: UserWarning: found 1 duplicates in the input sequence, they have been removed.\n",
      "  warnings.warn(f\"found {diff} duplicates in the input sequence, they have been removed.\")\n"
     ]
    },
    {
     "data": {
      "text/html": [
       "<div>\n",
       "<style scoped>\n",
       "    .dataframe tbody tr th:only-of-type {\n",
       "        vertical-align: middle;\n",
       "    }\n",
       "\n",
       "    .dataframe tbody tr th {\n",
       "        vertical-align: top;\n",
       "    }\n",
       "\n",
       "    .dataframe thead th {\n",
       "        text-align: right;\n",
       "    }\n",
       "</style>\n",
       "<table border=\"1\" class=\"dataframe\">\n",
       "  <thead>\n",
       "    <tr style=\"text-align: right;\">\n",
       "      <th></th>\n",
       "      <th>t0</th>\n",
       "      <th>pattern</th>\n",
       "      <th>repetition_major</th>\n",
       "      <th>period_major</th>\n",
       "      <th>sum_E</th>\n",
       "    </tr>\n",
       "  </thead>\n",
       "  <tbody>\n",
       "    <tr>\n",
       "      <th>0</th>\n",
       "      <td>2020-04-16 07:30:00</td>\n",
       "      <td>(wake up)[r=5 p=1 day, 0:00:30]</td>\n",
       "      <td>5</td>\n",
       "      <td>1 days 00:00:30</td>\n",
       "      <td>0 days 00:04:00</td>\n",
       "    </tr>\n",
       "  </tbody>\n",
       "</table>\n",
       "</div>"
      ],
      "text/plain": [
       "                   t0                          pattern  repetition_major   \n",
       "0 2020-04-16 07:30:00  (wake up)[r=5 p=1 day, 0:00:30]                 5  \\\n",
       "\n",
       "     period_major           sum_E  \n",
       "0 1 days 00:00:30 0 days 00:04:00  "
      ]
     },
     "execution_count": 28,
     "metadata": {},
     "output_type": "execute_result"
    }
   ],
   "source": [
    "from skmine.datasets.periodic import fetch_file\n",
    "\n",
    "data = fetch_file(\"dataset_datetime.csv\", separator=\",\")  # by default separator is already comma\n",
    "pcm = PeriodicPatternMiner().fit(data)\n",
    "pcm.discover()"
   ]
  },
  {
   "cell_type": "markdown",
   "metadata": {},
   "source": [
    "Note that several formats for datetimes can be infered from example. But you can force to parse string according to a specific format with the extra option : `format=\"%d/%m/%Y %H:%M:%S\"` . see https://docs.python.org/3/library/datetime.html#strftime-and-strptime-behavior for all possibilities\n",
    "- `2020-04-23 07:30:00` -> YYYY-MM-DD hh:mm:ss\n",
    "- `1997-07-23T19:20+01:00` -> YYYY-MM-DDThh:mmTZD (TZD = time zone designator)\n",
    "- `1997-07-23T19:20:30.45+01:00` -> YYYY-MM-DDThh:mm:ss.sTZD\n",
    "- `02/23/2018` -> MM/DD/YYYY\n",
    "- `02/23/18` -> MM/DD/YY\n",
    "- ...\n",
    "\n",
    "**2 points of caution** are to be noted:\n",
    "- **Beware of this type of format \"Feb 23, 2018\" (Mth d, YYYY)** because comma is the default separator. If you want to use this format, you must use **double quotes around the date**.\n",
    "- **The MM/DD (Month/day) format is infered by default (when day is less than 12)**, for DD/MM; use format option as in example below:  \n",
    " "
   ]
  },
  {
   "cell_type": "code",
   "execution_count": 29,
   "metadata": {},
   "outputs": [
    {
     "data": {
      "text/plain": [
       "timestamp\n",
       "2018-02-10 07:30:00    wake up\n",
       "2018-02-23 07:30:00     coffee\n",
       "2018-03-10 07:30:00    wake up\n",
       "Name: dataset_datetime_DD_MM.csv, dtype: string"
      ]
     },
     "execution_count": 29,
     "metadata": {},
     "output_type": "execute_result"
    }
   ],
   "source": [
    "fetch_file(\"dataset_datetime_DD_MM.csv\",  separator=',' ,format=\"%d/%m/%Y %H:%M:%S\")"
   ]
  },
  {
   "cell_type": "markdown",
   "metadata": {},
   "source": [
    " \n",
    "#### 2. **Datetimes can also be replaced by integers**.  \n",
    "    Example:"
   ]
  },
  {
   "cell_type": "code",
   "execution_count": 30,
   "metadata": {},
   "outputs": [
    {
     "data": {
      "text/plain": [
       "['1,wake up',\n",
       " '3,wake up',\n",
       " '10,wake up',\n",
       " '30,wake up',\n",
       " '40,wake up',\n",
       " '70,wake up',\n",
       " '100,wake up']"
      ]
     },
     "execution_count": 30,
     "metadata": {},
     "output_type": "execute_result"
    }
   ],
   "source": [
    "with open(\"dataset_integer.csv\", \"r\") as f:\n",
    "    data = f.read().splitlines()\n",
    "    \n",
    "data"
   ]
  },
  {
   "cell_type": "markdown",
   "metadata": {},
   "source": [
    "#### 3. **Use only the name of the events**. In this case, **the indexes correspond to the line numbers (starting from 0)**.  \n",
    "Example:"
   ]
  },
  {
   "cell_type": "code",
   "execution_count": 31,
   "metadata": {},
   "outputs": [
    {
     "data": {
      "text/plain": [
       "['wake up', 'wake up', 'wake up', 'wake up', 'wake up', 'wake up', 'wake up']"
      ]
     },
     "execution_count": 31,
     "metadata": {},
     "output_type": "execute_result"
    }
   ],
   "source": [
    "with open(\"dataset_no_index.csv\", \"r\") as f:\n",
    "    data = f.read().splitlines()\n",
    "    \n",
    "data"
   ]
  },
  {
   "cell_type": "code",
   "execution_count": 32,
   "metadata": {},
   "outputs": [
    {
     "data": {
      "text/plain": [
       "timestamp\n",
       "0    wake up\n",
       "1    wake up\n",
       "2    wake up\n",
       "3    wake up\n",
       "4    wake up\n",
       "5    wake up\n",
       "6    wake up\n",
       "Name: dataset_no_index.csv, dtype: string"
      ]
     },
     "execution_count": 32,
     "metadata": {},
     "output_type": "execute_result"
    }
   ],
   "source": [
    "data = fetch_file(\"dataset_no_index.csv\")\n",
    "data"
   ]
  },
  {
   "cell_type": "markdown",
   "metadata": {},
   "source": [
    "References\n",
    "----------\n",
    "\n",
    "1. Galbrun, E & Cellier, P & Tatti, N & Termier, A & Crémilleux, B\n",
    "   \"Mining Periodic Pattern with a MDL Criterion\"\n",
    "\n",
    "2. Galbrun, E\n",
    "   \"The Minimum Description Length Principle for Pattern Mining : A survey\"  \n",
    "\n",
    "3. Termier, A\n",
    "   [\"Periodic pattern mining\"](http://people.irisa.fr/Alexandre.Termier/dmv/DMV_Periodic_patterns.pdf) "
   ]
  }
 ],
 "metadata": {
  "kernelspec": {
   "display_name": "Python 3 (ipykernel)",
   "language": "python",
   "name": "python3"
  },
  "language_info": {
   "codemirror_mode": {
    "name": "ipython",
    "version": 3
   },
   "file_extension": ".py",
   "mimetype": "text/x-python",
   "name": "python",
   "nbconvert_exporter": "python",
   "pygments_lexer": "ipython3",
   "version": "3.8.16"
  },
  "toc": {
   "base_numbering": 1,
   "nav_menu": {},
   "number_sections": true,
   "sideBar": true,
   "skip_h1_title": false,
   "title_cell": "Table of Contents",
   "title_sidebar": "Contents",
   "toc_cell": false,
   "toc_position": {
    "height": "calc(100% - 180px)",
    "left": "10px",
    "top": "150px",
    "width": "247.55px"
   },
   "toc_section_display": true,
   "toc_window_display": true
  },
  "vscode": {
   "interpreter": {
    "hash": "c4418ac5ac56bcc1d654aebcb97e1ca3ff1be77625ab045a7b4b5e8ee820789e"
   }
  }
 },
 "nbformat": 4,
 "nbformat_minor": 4
}
