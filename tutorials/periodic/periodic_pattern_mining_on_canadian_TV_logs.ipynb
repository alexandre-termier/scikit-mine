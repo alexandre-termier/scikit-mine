{
 "cells": [
  {
   "attachments": {},
   "cell_type": "markdown",
   "metadata": {},
   "source": [
    "## Periodic pattern mining, an example with Canadian TV programs\n",
    "<img src=\"skmine_series.png\" alt=\"logo\" style=\"width: 60%;\"/>"
   ]
  },
  {
   "cell_type": "code",
   "execution_count": 1,
   "metadata": {},
   "outputs": [
    {
     "name": "stdout",
     "output_type": "stream",
     "text": [
      "This tutorial was tested with the following version of skmine : 1.0.0\n",
      "\n",
      "Be sure to execute this notebook in the dir `docs/tutorials/periodic`, \n",
      "to be able to load the data files `.csv`. \n",
      "If not, please do so and adapt the bash commands below \n",
      "\n"
     ]
    },
    {
     "data": {
      "text/plain": [
       "'/home/hcourtei/Projects/F-WIN/scikit-mine/codes/skMineDev/docs/tutorials/periodic'"
      ]
     },
     "execution_count": 1,
     "metadata": {},
     "output_type": "execute_result"
    }
   ],
   "source": [
    "import skmine\n",
    "\n",
    "print(\"This tutorial was tested with the following version of skmine :\", skmine.__version__)\n",
    "\n",
    "print(\"\"\"\n",
    "Be sure to execute this notebook in the dir `docs/tutorials/periodic`, \n",
    "to be able to load the data files `.csv`. \n",
    "If not, please do so and adapt the bash commands below \n",
    "\"\"\")\n",
    "\n",
    "%pwd\n",
    "# %cd docs/tutorials/periodic"
   ]
  },
  {
   "attachments": {},
   "cell_type": "markdown",
   "metadata": {},
   "source": [
    "### The problem, informally\n",
    "Let's take a simple example. \n",
    "\n",
    "Imagine you set an alarm to wake up every day around 7:30AM, and go to work. Sometimes you wake up a bit earlier (your body anticipates the alarm), and sometimes a bit later, for example if you press the \"snooze\" button and refuse to face the fact that you have to wake up.\n",
    "\n",
    "In python we can load those \"wake up\" events as logs, and store them in a [pandas.Series](https://pandas.pydata.org/pandas-docs/stable/reference/api/pandas.Series.html), like"
   ]
  },
  {
   "cell_type": "code",
   "execution_count": 2,
   "metadata": {
    "tags": []
   },
   "outputs": [
    {
     "data": {
      "text/plain": [
       "2020-04-16 07:30:00    wake up\n",
       "2020-04-17 07:29:00    wake up\n",
       "2020-04-18 07:29:00    wake up\n",
       "2020-04-19 07:30:00    wake up\n",
       "2020-04-20 07:32:00    wake up\n",
       "2020-04-23 07:30:00    wake up\n",
       "dtype: object"
      ]
     },
     "execution_count": 2,
     "metadata": {},
     "output_type": "execute_result"
    }
   ],
   "source": [
    "import datetime as dt\n",
    "import pandas as pd\n",
    "\n",
    "one_day = 60 * 24  # a day in minutes\n",
    "minutes = [0, one_day - 1, one_day * 2 - 1, one_day * 3, one_day * 4 + 2, one_day * 7]\n",
    "\n",
    "S = pd.Series(\"wake up\", index=minutes)\n",
    "start = dt.datetime.strptime(\"16/04/2020 07:30\", \"%d/%m/%Y %H:%M\")\n",
    "S.index = S.index.map(lambda e: start + dt.timedelta(minutes=e))\n",
    "S.index = S.index.round(\"min\")  # minutes as the lowest unit of difference\n",
    "S"
   ]
  },
  {
   "cell_type": "code",
   "execution_count": 3,
   "metadata": {
    "tags": []
   },
   "outputs": [
    {
     "data": {
      "text/plain": [
       "array(['2020-04-16T07:30:00.000000000', '2020-04-17T07:29:00.000000000',\n",
       "       '2020-04-18T07:29:00.000000000', '2020-04-19T07:30:00.000000000',\n",
       "       '2020-04-20T07:32:00.000000000', '2020-04-23T07:30:00.000000000'],\n",
       "      dtype='datetime64[ns]')"
      ]
     },
     "execution_count": 3,
     "metadata": {},
     "output_type": "execute_result"
    }
   ],
   "source": [
    "S.index.to_numpy()"
   ]
  },
  {
   "attachments": {},
   "cell_type": "markdown",
   "metadata": {},
   "source": [
    "We can see the wake-up time is not exactly the same every day, but overall a consistent regular pattern seems to emerge.\n",
    "\n",
    "Now imagine that in addition to wake up times, we also have records of other daily activities (meals, work, household chores, etc.), and that rather than a handful of days, those records span several years and make up several thousands of events\n",
    "\n",
    "**Can you automatically identify regularities to better understand your daily routine?**"
   ]
  },
  {
   "attachments": {},
   "cell_type": "markdown",
   "metadata": {},
   "source": [
    "### Introduction to periodic pattern mining\n",
    "Periodic pattern mining aims at exploiting regularities not only about *what happens* by finding coordinated event occurrences, but also about *when it happens* and *how it happens*. It's about not just finding things that happen repeatedly, but that happen regularly, with a consistent periodicity.\n",
    "\n",
    "Next, we introduce the concept of cycles\n",
    "\n",
    "#### The cycle : a building block for periodic pattern mining\n",
    "Here is an explicit example of a cycle\n",
    "\n",
    "<img src=\"cycle_color.png\" alt=\"cycle\" style=\"width: 60%;\"/>\n",
    "\n",
    "This definition, while being relatively simple, is general enough to allow us to find regularities in different types of logs\n",
    "\n",
    "#### Handling noise in our timestamps\n",
    "\n",
    "Needless to say, it would be too easy if events in our data were equally spaced. As data often comes noisy, we have to be fault tolerant, and allow small errors to sneak into our cycles. \n",
    "\n",
    "That's the role of **shift corrections*, which capture the small deviations from perfectly regular periodic repetitions, and allow to reconstruct the (noisy) original sequence of events, using the following relation\n",
    "<img src=\"shifts.png\" alt=\"shifts\" style=\"width: 60%;\"/>"
   ]
  },
  {
   "attachments": {},
   "cell_type": "markdown",
   "metadata": {},
   "source": [
    "#### A tiny example with scikit-mine\n",
    "**scikit-mine** offers a `PeriodicPatternMiner`, out of the box.\n",
    "You can use it to detect regularities, in the form of *(possibly nested) cycles*, which we call *periodic patterns*.\n",
    "\n",
    " These patterns are evaluated using a MDL criterion, to help us extract a compact and representative collection of patterns from the data, trying to avoid redundancy between patterns, in particular."
   ]
  },
  {
   "cell_type": "code",
   "execution_count": 4,
   "metadata": {
    "tags": []
   },
   "outputs": [
    {
     "data": {
      "text/html": [
       "<div>\n",
       "<style scoped>\n",
       "    .dataframe tbody tr th:only-of-type {\n",
       "        vertical-align: middle;\n",
       "    }\n",
       "\n",
       "    .dataframe tbody tr th {\n",
       "        vertical-align: top;\n",
       "    }\n",
       "\n",
       "    .dataframe thead th {\n",
       "        text-align: right;\n",
       "    }\n",
       "</style>\n",
       "<table border=\"1\" class=\"dataframe\">\n",
       "  <thead>\n",
       "    <tr style=\"text-align: right;\">\n",
       "      <th></th>\n",
       "      <th>t0</th>\n",
       "      <th>pattern</th>\n",
       "      <th>repetition_major</th>\n",
       "      <th>period_major</th>\n",
       "      <th>sum_E</th>\n",
       "    </tr>\n",
       "  </thead>\n",
       "  <tbody>\n",
       "    <tr>\n",
       "      <th>0</th>\n",
       "      <td>2020-04-16 07:30:00</td>\n",
       "      <td>(wake up)[r=5 p=1 day, 0:00:00]</td>\n",
       "      <td>5</td>\n",
       "      <td>1 days</td>\n",
       "      <td>0 days 00:04:00</td>\n",
       "    </tr>\n",
       "  </tbody>\n",
       "</table>\n",
       "</div>"
      ],
      "text/plain": [
       "                   t0                          pattern  repetition_major  \\\n",
       "0 2020-04-16 07:30:00  (wake up)[r=5 p=1 day, 0:00:00]                 5   \n",
       "\n",
       "  period_major           sum_E  \n",
       "0       1 days 0 days 00:04:00  "
      ]
     },
     "execution_count": 4,
     "metadata": {},
     "output_type": "execute_result"
    }
   ],
   "source": [
    "from skmine.periodic import PeriodicPatternMiner\n",
    "pcm = PeriodicPatternMiner().fit(S)\n",
    "pcm.transform(S)"
   ]
  },
  {
   "attachments": {},
   "cell_type": "markdown",
   "metadata": {},
   "source": [
    "You can see one cycle has been extracted for our event **wake up**. The cycle covers the entire business week, but not the last monday separated by the weekend\n",
    "\n",
    "It has a length of 5 and a period close to 1 day, as expected.\n",
    "\n",
    "Also, note that we mix some information here. Our period of 1 day offers the best summary for this data.\n",
    "Accessing the little \"shifts\" as encountered in original data is also possible, with an extra argument in our call : `pcm.transform(S,dE_sum=False)` "
   ]
  },
  {
   "cell_type": "code",
   "execution_count": 5,
   "metadata": {},
   "outputs": [
    {
     "data": {
      "text/plain": [
       "0    [-1 days +23:59:00, 0 days 00:00:00, 0 days 00:01:00, 0 days 00:02:00]\n",
       "Name: E, dtype: object"
      ]
     },
     "execution_count": 5,
     "metadata": {},
     "output_type": "execute_result"
    }
   ],
   "source": [
    "pd.set_option('display.max_colwidth', 100)\n",
    "res_wake = pcm.transform(S,dE_sum=False)\n",
    "res_wake.E\n"
   ]
  },
  {
   "attachments": {},
   "cell_type": "markdown",
   "metadata": {},
   "source": [
    "The last column named `E` contains a list of shifts to apply to our cycle in case we want to reconstruct the original data. Trailing zeros have been removed for efficiency, and their values are *relative to the period*, but we can see there is:\n",
    " * -1 minute shift (-1 days +23:59:00), between the 1st and 2nd entry (waking up at 7:30 on 04-16  at 7:29 on 04-17)\n",
    " * no shift between the 2nd and 3rd entry (still waking up at 7:29 on  04-18)\n",
    " * \\+ 1 minute  shift between the 3rd and 4th entry (back to 7:30 on 04-19)\n",
    " * \\+ 2 minutes shift between the 4th and 5th entry (waking up at 7:32 on 04-20)\n",
    "\n",
    "Events that are not captured by any pattern are called `redisuals`"
   ]
  },
  {
   "cell_type": "code",
   "execution_count": 6,
   "metadata": {
    "scrolled": true,
    "tags": []
   },
   "outputs": [
    {
     "data": {
      "text/html": [
       "<div>\n",
       "<style scoped>\n",
       "    .dataframe tbody tr th:only-of-type {\n",
       "        vertical-align: middle;\n",
       "    }\n",
       "\n",
       "    .dataframe tbody tr th {\n",
       "        vertical-align: top;\n",
       "    }\n",
       "\n",
       "    .dataframe thead th {\n",
       "        text-align: right;\n",
       "    }\n",
       "</style>\n",
       "<table border=\"1\" class=\"dataframe\">\n",
       "  <thead>\n",
       "    <tr style=\"text-align: right;\">\n",
       "      <th></th>\n",
       "      <th>time</th>\n",
       "      <th>event</th>\n",
       "    </tr>\n",
       "  </thead>\n",
       "  <tbody>\n",
       "    <tr>\n",
       "      <th>0</th>\n",
       "      <td>2020-04-23 07:30:00</td>\n",
       "      <td>wake up</td>\n",
       "    </tr>\n",
       "  </tbody>\n",
       "</table>\n",
       "</div>"
      ],
      "text/plain": [
       "                 time    event\n",
       "0 2020-04-23 07:30:00  wake up"
      ]
     },
     "execution_count": 6,
     "metadata": {},
     "output_type": "execute_result"
    }
   ],
   "source": [
    "pcm.get_residuals()"
   ]
  },
  {
   "cell_type": "markdown",
   "metadata": {},
   "source": [
    "This way `pcm` does not store all the data, but has all information needed to reconstruct it entirely !!"
   ]
  },
  {
   "cell_type": "code",
   "execution_count": 7,
   "metadata": {
    "tags": []
   },
   "outputs": [
    {
     "data": {
      "text/html": [
       "<div>\n",
       "<style scoped>\n",
       "    .dataframe tbody tr th:only-of-type {\n",
       "        vertical-align: middle;\n",
       "    }\n",
       "\n",
       "    .dataframe tbody tr th {\n",
       "        vertical-align: top;\n",
       "    }\n",
       "\n",
       "    .dataframe thead th {\n",
       "        text-align: right;\n",
       "    }\n",
       "</style>\n",
       "<table border=\"1\" class=\"dataframe\">\n",
       "  <thead>\n",
       "    <tr style=\"text-align: right;\">\n",
       "      <th></th>\n",
       "      <th>time</th>\n",
       "      <th>event</th>\n",
       "    </tr>\n",
       "  </thead>\n",
       "  <tbody>\n",
       "    <tr>\n",
       "      <th>0</th>\n",
       "      <td>2020-04-16 07:30:00</td>\n",
       "      <td>wake up</td>\n",
       "    </tr>\n",
       "    <tr>\n",
       "      <th>1</th>\n",
       "      <td>2020-04-17 07:29:00</td>\n",
       "      <td>wake up</td>\n",
       "    </tr>\n",
       "    <tr>\n",
       "      <th>2</th>\n",
       "      <td>2020-04-18 07:29:00</td>\n",
       "      <td>wake up</td>\n",
       "    </tr>\n",
       "    <tr>\n",
       "      <th>3</th>\n",
       "      <td>2020-04-19 07:30:00</td>\n",
       "      <td>wake up</td>\n",
       "    </tr>\n",
       "    <tr>\n",
       "      <th>4</th>\n",
       "      <td>2020-04-20 07:32:00</td>\n",
       "      <td>wake up</td>\n",
       "    </tr>\n",
       "  </tbody>\n",
       "</table>\n",
       "</div>"
      ],
      "text/plain": [
       "                 time    event\n",
       "0 2020-04-16 07:30:00  wake up\n",
       "1 2020-04-17 07:29:00  wake up\n",
       "2 2020-04-18 07:29:00  wake up\n",
       "3 2020-04-19 07:30:00  wake up\n",
       "4 2020-04-20 07:32:00  wake up"
      ]
     },
     "execution_count": 7,
     "metadata": {},
     "output_type": "execute_result"
    }
   ],
   "source": [
    "pcm.reconstruct()"
   ]
  },
  {
   "attachments": {},
   "cell_type": "markdown",
   "metadata": {},
   "source": [
    "-----\n",
    "### An example with Canadian TV programs\n",
    "#### Fetching logs from canadian TV\n",
    "\n",
    "In this section we are going to load some event logs of TV programs (the *WHAT*), indexed by their broadcast timestamps (the *WHEN*).\n",
    "\n",
    "`PeriodicPatternMiner` is here to help us discovering regularities (the *HOW*)"
   ]
  },
  {
   "cell_type": "code",
   "execution_count": 8,
   "metadata": {
    "tags": []
   },
   "outputs": [],
   "source": [
    "from skmine.datasets import fetch_canadian_tv\n",
    "from skmine.periodic import PeriodicPatternMiner"
   ]
  },
  {
   "attachments": {},
   "cell_type": "markdown",
   "metadata": {},
   "source": [
    "#### Searching for cycles in TV programs\n",
    "\n",
    "Remember about the definition of cycles ?\n",
    "Let's apply it to our TV programs\n",
    "\n",
    "In our case\n",
    "\n",
    "* $\\alpha$ is the name of a TV program\n",
    "\n",
    "* $r$ is the number of broadcasts (repetitions) for this TV program (inside this cycle)\n",
    "\n",
    "* $p$ is the optimal time delta between broadcasts in this cycle. If a program is meant to be live everyday at 14:00PM, then $p$ is likely to be *1 day*\n",
    "\n",
    "* $\\tau$ is the first broadcast time in this cycle\n",
    "\n",
    "* $dE$ are the shift corrections between the $p$ and the actual broadcast time of an event. If a TV program was scheduled at 8:30:00AM and it went on air at 8:30:23AM the same day, then we keep track of a *23 seconds shift*. This way we can summarize our data (via cycles), and reconstruct it (via shift corrections). \n",
    "\n",
    "\n",
    "Finally we are going to dig a little deeper into these cycles, to answer quite complex questions about our logs. We will see that cycles contains usefull information about our input data"
   ]
  },
  {
   "cell_type": "code",
   "execution_count": 9,
   "metadata": {
    "tags": []
   },
   "outputs": [
    {
     "data": {
      "text/plain": [
       "timestamp\n",
       "2020-08-01 06:00:00            The Moblees\n",
       "2020-08-01 06:11:00    Big Block Sing Song\n",
       "2020-08-01 06:13:00    Big Block Sing Song\n",
       "2020-08-01 06:15:00               CBC Kids\n",
       "2020-08-01 06:15:00               CBC Kids\n",
       "Name: canadian_tv, dtype: string"
      ]
     },
     "execution_count": 9,
     "metadata": {},
     "output_type": "execute_result"
    }
   ],
   "source": [
    "ctv_logs = fetch_canadian_tv()\n",
    "ctv_logs.head()"
   ]
  },
  {
   "cell_type": "markdown",
   "metadata": {},
   "source": [
    "Compute only simple cycles on ctv_logs with the karg *complex=False* : "
   ]
  },
  {
   "cell_type": "code",
   "execution_count": 10,
   "metadata": {
    "tags": []
   },
   "outputs": [
    {
     "name": "stderr",
     "output_type": "stream",
     "text": [
      "/home/hcourtei/Projects/F-WIN/scikit-mine/codes/skMineDev/skmine/periodic/cycles.py:131: UserWarning: found 234 duplicates in the input sequence, they have been removed.\n",
      "  warnings.warn(f\"found {diff} duplicates in the input sequence, they have been removed.\")\n"
     ]
    },
    {
     "data": {
      "text/html": [
       "<div>\n",
       "<style scoped>\n",
       "    .dataframe tbody tr th:only-of-type {\n",
       "        vertical-align: middle;\n",
       "    }\n",
       "\n",
       "    .dataframe tbody tr th {\n",
       "        vertical-align: top;\n",
       "    }\n",
       "\n",
       "    .dataframe thead th {\n",
       "        text-align: right;\n",
       "    }\n",
       "</style>\n",
       "<table border=\"1\" class=\"dataframe\">\n",
       "  <thead>\n",
       "    <tr style=\"text-align: right;\">\n",
       "      <th></th>\n",
       "      <th>t0</th>\n",
       "      <th>pattern</th>\n",
       "      <th>repetition_major</th>\n",
       "      <th>period_major</th>\n",
       "      <th>sum_E</th>\n",
       "    </tr>\n",
       "  </thead>\n",
       "  <tbody>\n",
       "    <tr>\n",
       "      <th>20</th>\n",
       "      <td>2020-08-01 04:00:00</td>\n",
       "      <td>(Rick Mercer Report)[r=5 p=7 days, 0:00:00]</td>\n",
       "      <td>5</td>\n",
       "      <td>7 days 00:00:00</td>\n",
       "      <td>0 days 00:00:00</td>\n",
       "    </tr>\n",
       "    <tr>\n",
       "      <th>21</th>\n",
       "      <td>2020-08-01 04:30:00</td>\n",
       "      <td>(Rick Mercer Report)[r=5 p=7 days, 0:00:00]</td>\n",
       "      <td>5</td>\n",
       "      <td>7 days 00:00:00</td>\n",
       "      <td>0 days 00:00:00</td>\n",
       "    </tr>\n",
       "    <tr>\n",
       "      <th>0</th>\n",
       "      <td>2020-08-01 05:00:00</td>\n",
       "      <td>(Grand Designs)[r=31 p=1 day, 0:00:00]</td>\n",
       "      <td>31</td>\n",
       "      <td>1 days 00:00:00</td>\n",
       "      <td>0 days 00:00:00</td>\n",
       "    </tr>\n",
       "    <tr>\n",
       "      <th>59</th>\n",
       "      <td>2020-08-01 06:00:00</td>\n",
       "      <td>(The Moblees)[r=5 p=7 days, 0:00:00]</td>\n",
       "      <td>5</td>\n",
       "      <td>7 days 00:00:00</td>\n",
       "      <td>0 days 00:00:00</td>\n",
       "    </tr>\n",
       "    <tr>\n",
       "      <th>29</th>\n",
       "      <td>2020-08-01 06:11:00</td>\n",
       "      <td>(Big Block Sing Song)[r=5 p=7 days, 0:00:00]</td>\n",
       "      <td>5</td>\n",
       "      <td>7 days 00:00:00</td>\n",
       "      <td>0 days 00:00:00</td>\n",
       "    </tr>\n",
       "    <tr>\n",
       "      <th>...</th>\n",
       "      <td>...</td>\n",
       "      <td>...</td>\n",
       "      <td>...</td>\n",
       "      <td>...</td>\n",
       "      <td>...</td>\n",
       "    </tr>\n",
       "    <tr>\n",
       "      <th>254</th>\n",
       "      <td>2020-08-26 14:00:00</td>\n",
       "      <td>(Jamie's Super Foods)[r=3 p=1 day, 0:00:00]</td>\n",
       "      <td>3</td>\n",
       "      <td>1 days 00:00:00</td>\n",
       "      <td>0 days 00:00:00</td>\n",
       "    </tr>\n",
       "    <tr>\n",
       "      <th>183</th>\n",
       "      <td>2020-08-27 02:00:00</td>\n",
       "      <td>(Mr. D)[r=4 p=0:30:00]</td>\n",
       "      <td>4</td>\n",
       "      <td>0 days 00:30:00</td>\n",
       "      <td>0 days 00:00:00</td>\n",
       "    </tr>\n",
       "    <tr>\n",
       "      <th>2</th>\n",
       "      <td>2020-08-28 00:00:00</td>\n",
       "      <td>(Schitt's Creek)[r=8 p=0:30:00]</td>\n",
       "      <td>8</td>\n",
       "      <td>0 days 00:30:00</td>\n",
       "      <td>0 days 00:00:00</td>\n",
       "    </tr>\n",
       "    <tr>\n",
       "      <th>129</th>\n",
       "      <td>2020-08-29 06:15:00</td>\n",
       "      <td>(CBC Kids)[r=23 p=0:12:00]</td>\n",
       "      <td>23</td>\n",
       "      <td>0 days 00:12:00</td>\n",
       "      <td>0 days 02:26:00</td>\n",
       "    </tr>\n",
       "    <tr>\n",
       "      <th>126</th>\n",
       "      <td>2020-08-30 06:11:00</td>\n",
       "      <td>(CBC Kids)[r=11 p=0:12:00]</td>\n",
       "      <td>11</td>\n",
       "      <td>0 days 00:12:00</td>\n",
       "      <td>0 days 00:49:00</td>\n",
       "    </tr>\n",
       "  </tbody>\n",
       "</table>\n",
       "<p>278 rows × 5 columns</p>\n",
       "</div>"
      ],
      "text/plain": [
       "                     t0                                       pattern  \\\n",
       "20  2020-08-01 04:00:00   (Rick Mercer Report)[r=5 p=7 days, 0:00:00]   \n",
       "21  2020-08-01 04:30:00   (Rick Mercer Report)[r=5 p=7 days, 0:00:00]   \n",
       "0   2020-08-01 05:00:00        (Grand Designs)[r=31 p=1 day, 0:00:00]   \n",
       "59  2020-08-01 06:00:00          (The Moblees)[r=5 p=7 days, 0:00:00]   \n",
       "29  2020-08-01 06:11:00  (Big Block Sing Song)[r=5 p=7 days, 0:00:00]   \n",
       "..                  ...                                           ...   \n",
       "254 2020-08-26 14:00:00   (Jamie's Super Foods)[r=3 p=1 day, 0:00:00]   \n",
       "183 2020-08-27 02:00:00                        (Mr. D)[r=4 p=0:30:00]   \n",
       "2   2020-08-28 00:00:00               (Schitt's Creek)[r=8 p=0:30:00]   \n",
       "129 2020-08-29 06:15:00                    (CBC Kids)[r=23 p=0:12:00]   \n",
       "126 2020-08-30 06:11:00                    (CBC Kids)[r=11 p=0:12:00]   \n",
       "\n",
       "     repetition_major    period_major           sum_E  \n",
       "20                  5 7 days 00:00:00 0 days 00:00:00  \n",
       "21                  5 7 days 00:00:00 0 days 00:00:00  \n",
       "0                  31 1 days 00:00:00 0 days 00:00:00  \n",
       "59                  5 7 days 00:00:00 0 days 00:00:00  \n",
       "29                  5 7 days 00:00:00 0 days 00:00:00  \n",
       "..                ...             ...             ...  \n",
       "254                 3 1 days 00:00:00 0 days 00:00:00  \n",
       "183                 4 0 days 00:30:00 0 days 00:00:00  \n",
       "2                   8 0 days 00:30:00 0 days 00:00:00  \n",
       "129                23 0 days 00:12:00 0 days 02:26:00  \n",
       "126                11 0 days 00:12:00 0 days 00:49:00  \n",
       "\n",
       "[278 rows x 5 columns]"
      ]
     },
     "execution_count": 10,
     "metadata": {},
     "output_type": "execute_result"
    }
   ],
   "source": [
    "pcm = PeriodicPatternMiner(complex=False).fit(ctv_logs)\n",
    "pcm.transform(ctv_logs)"
   ]
  },
  {
   "cell_type": "markdown",
   "metadata": {},
   "source": [
    "Compute simple and complex (with horizontal and vertical combinations) cycles on ctv_logs : "
   ]
  },
  {
   "cell_type": "code",
   "execution_count": 11,
   "metadata": {
    "tags": []
   },
   "outputs": [
    {
     "name": "stderr",
     "output_type": "stream",
     "text": [
      "/home/hcourtei/Projects/F-WIN/scikit-mine/codes/skMineDev/skmine/periodic/cycles.py:131: UserWarning: found 234 duplicates in the input sequence, they have been removed.\n",
      "  warnings.warn(f\"found {diff} duplicates in the input sequence, they have been removed.\")\n"
     ]
    }
   ],
   "source": [
    "pcm = PeriodicPatternMiner(complex=True).fit(ctv_logs)"
   ]
  },
  {
   "cell_type": "code",
   "execution_count": 12,
   "metadata": {
    "tags": []
   },
   "outputs": [
    {
     "data": {
      "text/html": [
       "<div>\n",
       "<style scoped>\n",
       "    .dataframe tbody tr th:only-of-type {\n",
       "        vertical-align: middle;\n",
       "    }\n",
       "\n",
       "    .dataframe tbody tr th {\n",
       "        vertical-align: top;\n",
       "    }\n",
       "\n",
       "    .dataframe thead th {\n",
       "        text-align: right;\n",
       "    }\n",
       "</style>\n",
       "<table border=\"1\" class=\"dataframe\">\n",
       "  <thead>\n",
       "    <tr style=\"text-align: right;\">\n",
       "      <th></th>\n",
       "      <th>t0</th>\n",
       "      <th>pattern</th>\n",
       "      <th>repetition_major</th>\n",
       "      <th>period_major</th>\n",
       "      <th>sum_E</th>\n",
       "    </tr>\n",
       "  </thead>\n",
       "  <tbody>\n",
       "    <tr>\n",
       "      <th>34</th>\n",
       "      <td>2020-08-01 04:00:00</td>\n",
       "      <td>(Rick Mercer Report [d=0:30:00] Rick Mercer Report)[r=5 p=7 days, 0:00:00]</td>\n",
       "      <td>5</td>\n",
       "      <td>7 days 00:00:00</td>\n",
       "      <td>0 days 00:00:00</td>\n",
       "    </tr>\n",
       "    <tr>\n",
       "      <th>0</th>\n",
       "      <td>2020-08-01 05:00:00</td>\n",
       "      <td>(Grand Designs)[r=31 p=1 day, 0:00:00]</td>\n",
       "      <td>31</td>\n",
       "      <td>1 days 00:00:00</td>\n",
       "      <td>0 days 00:00:00</td>\n",
       "    </tr>\n",
       "    <tr>\n",
       "      <th>7</th>\n",
       "      <td>2020-08-01 06:00:00</td>\n",
       "      <td>(The Moblees [d=0:11:00] Big Block Sing Song [d=0:02:00] Big Block Sing Song [d=0:02:00] CBC Kid...</td>\n",
       "      <td>5</td>\n",
       "      <td>7 days 00:00:00</td>\n",
       "      <td>0 days 00:03:00</td>\n",
       "    </tr>\n",
       "    <tr>\n",
       "      <th>19</th>\n",
       "      <td>2020-08-01 06:15:00</td>\n",
       "      <td>(CBC Kids [d=1:40:00] Big Block Sing Song [d=0:02:00] Furchester Hotel [d=0:38:00] Ollie: The Bo...</td>\n",
       "      <td>5</td>\n",
       "      <td>7 days 00:00:00</td>\n",
       "      <td>0 days 00:02:00</td>\n",
       "    </tr>\n",
       "    <tr>\n",
       "      <th>95</th>\n",
       "      <td>2020-08-01 06:15:00</td>\n",
       "      <td>(CBC Kids)[r=29 p=0:12:00]</td>\n",
       "      <td>29</td>\n",
       "      <td>0 days 00:12:00</td>\n",
       "      <td>0 days 02:54:00</td>\n",
       "    </tr>\n",
       "    <tr>\n",
       "      <th>...</th>\n",
       "      <td>...</td>\n",
       "      <td>...</td>\n",
       "      <td>...</td>\n",
       "      <td>...</td>\n",
       "      <td>...</td>\n",
       "    </tr>\n",
       "    <tr>\n",
       "      <th>109</th>\n",
       "      <td>2020-08-26 14:00:00</td>\n",
       "      <td>(Jamie's Super Foods)[r=3 p=1 day, 0:00:00]</td>\n",
       "      <td>3</td>\n",
       "      <td>1 days 00:00:00</td>\n",
       "      <td>0 days 00:00:00</td>\n",
       "    </tr>\n",
       "    <tr>\n",
       "      <th>86</th>\n",
       "      <td>2020-08-27 02:00:00</td>\n",
       "      <td>(Mr. D)[r=4 p=0:30:00]</td>\n",
       "      <td>4</td>\n",
       "      <td>0 days 00:30:00</td>\n",
       "      <td>0 days 00:00:00</td>\n",
       "    </tr>\n",
       "    <tr>\n",
       "      <th>16</th>\n",
       "      <td>2020-08-28 00:00:00</td>\n",
       "      <td>(Schitt's Creek)[r=8 p=0:30:00]</td>\n",
       "      <td>8</td>\n",
       "      <td>0 days 00:30:00</td>\n",
       "      <td>0 days 00:00:00</td>\n",
       "    </tr>\n",
       "    <tr>\n",
       "      <th>100</th>\n",
       "      <td>2020-08-29 06:15:00</td>\n",
       "      <td>(CBC Kids)[r=23 p=0:12:00]</td>\n",
       "      <td>23</td>\n",
       "      <td>0 days 00:12:00</td>\n",
       "      <td>0 days 02:26:00</td>\n",
       "    </tr>\n",
       "    <tr>\n",
       "      <th>92</th>\n",
       "      <td>2020-08-31 07:00:00</td>\n",
       "      <td>(CBC Kids)[r=17 p=0:13:00]</td>\n",
       "      <td>17</td>\n",
       "      <td>0 days 00:13:00</td>\n",
       "      <td>0 days 02:15:00</td>\n",
       "    </tr>\n",
       "  </tbody>\n",
       "</table>\n",
       "<p>121 rows × 5 columns</p>\n",
       "</div>"
      ],
      "text/plain": [
       "                     t0  \\\n",
       "34  2020-08-01 04:00:00   \n",
       "0   2020-08-01 05:00:00   \n",
       "7   2020-08-01 06:00:00   \n",
       "19  2020-08-01 06:15:00   \n",
       "95  2020-08-01 06:15:00   \n",
       "..                  ...   \n",
       "109 2020-08-26 14:00:00   \n",
       "86  2020-08-27 02:00:00   \n",
       "16  2020-08-28 00:00:00   \n",
       "100 2020-08-29 06:15:00   \n",
       "92  2020-08-31 07:00:00   \n",
       "\n",
       "                                                                                                 pattern  \\\n",
       "34                            (Rick Mercer Report [d=0:30:00] Rick Mercer Report)[r=5 p=7 days, 0:00:00]   \n",
       "0                                                                 (Grand Designs)[r=31 p=1 day, 0:00:00]   \n",
       "7    (The Moblees [d=0:11:00] Big Block Sing Song [d=0:02:00] Big Block Sing Song [d=0:02:00] CBC Kid...   \n",
       "19   (CBC Kids [d=1:40:00] Big Block Sing Song [d=0:02:00] Furchester Hotel [d=0:38:00] Ollie: The Bo...   \n",
       "95                                                                            (CBC Kids)[r=29 p=0:12:00]   \n",
       "..                                                                                                   ...   \n",
       "109                                                          (Jamie's Super Foods)[r=3 p=1 day, 0:00:00]   \n",
       "86                                                                                (Mr. D)[r=4 p=0:30:00]   \n",
       "16                                                                       (Schitt's Creek)[r=8 p=0:30:00]   \n",
       "100                                                                           (CBC Kids)[r=23 p=0:12:00]   \n",
       "92                                                                            (CBC Kids)[r=17 p=0:13:00]   \n",
       "\n",
       "     repetition_major    period_major           sum_E  \n",
       "34                  5 7 days 00:00:00 0 days 00:00:00  \n",
       "0                  31 1 days 00:00:00 0 days 00:00:00  \n",
       "7                   5 7 days 00:00:00 0 days 00:03:00  \n",
       "19                  5 7 days 00:00:00 0 days 00:02:00  \n",
       "95                 29 0 days 00:12:00 0 days 02:54:00  \n",
       "..                ...             ...             ...  \n",
       "109                 3 1 days 00:00:00 0 days 00:00:00  \n",
       "86                  4 0 days 00:30:00 0 days 00:00:00  \n",
       "16                  8 0 days 00:30:00 0 days 00:00:00  \n",
       "100                23 0 days 00:12:00 0 days 02:26:00  \n",
       "92                 17 0 days 00:13:00 0 days 02:15:00  \n",
       "\n",
       "[121 rows x 5 columns]"
      ]
     },
     "execution_count": 12,
     "metadata": {},
     "output_type": "execute_result"
    }
   ],
   "source": [
    "pd.set_option('display.max_colwidth', 100)\n",
    "cycles = pcm.transform(ctv_logs)\n",
    "cycles"
   ]
  },
  {
   "attachments": {},
   "cell_type": "markdown",
   "metadata": {},
   "source": [
    "**Note** : no need to worry for the warning, it's here to notify duplicate event/timestamp pairs have been found"
   ]
  },
  {
   "cell_type": "markdown",
   "metadata": {},
   "source": [
    "#### Viewing the patterns"
   ]
  },
  {
   "attachments": {},
   "cell_type": "markdown",
   "metadata": {},
   "source": [
    "Sometimes the patterns are complicated to understand textually. The `draw_pattern` function allows you to visualise them. Simply indicate in pattern the id of the pattern you wish to view from the results of the previous transform."
   ]
  },
  {
   "cell_type": "code",
   "execution_count": 13,
   "metadata": {},
   "outputs": [
    {
     "data": {
      "image/svg+xml": [
       "<?xml version=\"1.0\" encoding=\"UTF-8\" standalone=\"no\"?>\n",
       "<!DOCTYPE svg PUBLIC \"-//W3C//DTD SVG 1.1//EN\"\n",
       " \"http://www.w3.org/Graphics/SVG/1.1/DTD/svg11.dtd\">\n",
       "<!-- Generated by graphviz version 2.50.0 (0)\n",
       " -->\n",
       "<!-- Pages: 1 -->\n",
       "<svg width=\"1067pt\" height=\"134pt\"\n",
       " viewBox=\"0.00 0.00 1067.29 134.00\" xmlns=\"http://www.w3.org/2000/svg\" xmlns:xlink=\"http://www.w3.org/1999/xlink\">\n",
       "<g id=\"graph0\" class=\"graph\" transform=\"scale(1 1) rotate(0) translate(4 130)\">\n",
       "<polygon fill=\"white\" stroke=\"transparent\" points=\"-4,4 -4,-130 1063.29,-130 1063.29,4 -4,4\"/>\n",
       "<!-- 0 -->\n",
       "<g id=\"node1\" class=\"node\">\n",
       "<title>0</title>\n",
       "<polygon fill=\"none\" stroke=\"black\" points=\"528.45,-126 382.45,-126 382.45,-73 528.45,-73 528.45,-126\"/>\n",
       "<text text-anchor=\"middle\" x=\"455.45\" y=\"-110.8\" font-family=\"Times,serif\" font-size=\"14.00\">𝜏=2020&#45;08&#45;01 06:15:00</text>\n",
       "<text text-anchor=\"middle\" x=\"455.45\" y=\"-95.8\" font-family=\"Times,serif\" font-size=\"14.00\">p=7 days, 0:00:00</text>\n",
       "<text text-anchor=\"middle\" x=\"455.45\" y=\"-80.8\" font-family=\"Times,serif\" font-size=\"14.00\">r=5</text>\n",
       "</g>\n",
       "<!-- 1 -->\n",
       "<g id=\"node2\" class=\"node\">\n",
       "<title>1</title>\n",
       "<ellipse fill=\"none\" stroke=\"black\" cx=\"47.45\" cy=\"-18\" rx=\"47.39\" ry=\"18\"/>\n",
       "<text text-anchor=\"middle\" x=\"47.45\" y=\"-14.3\" font-family=\"Times,serif\" font-size=\"14.00\">CBC Kids</text>\n",
       "</g>\n",
       "<!-- 0&#45;&gt;1 -->\n",
       "<g id=\"edge1\" class=\"edge\">\n",
       "<title>0&#45;&gt;1</title>\n",
       "<path fill=\"none\" stroke=\"black\" d=\"M382.03,-84.2C296.23,-67.48 157.25,-40.4 88.56,-27.01\"/>\n",
       "</g>\n",
       "<!-- 2 -->\n",
       "<g id=\"node3\" class=\"node\">\n",
       "<title>2</title>\n",
       "<ellipse fill=\"none\" stroke=\"black\" cx=\"240.45\" cy=\"-18\" rx=\"85.59\" ry=\"18\"/>\n",
       "<text text-anchor=\"middle\" x=\"240.45\" y=\"-14.3\" font-family=\"Times,serif\" font-size=\"14.00\">Big Block Sing Song</text>\n",
       "</g>\n",
       "<!-- 0&#45;&gt;2 -->\n",
       "<g id=\"edge2\" class=\"edge\">\n",
       "<title>0&#45;&gt;2</title>\n",
       "<path fill=\"none\" stroke=\"black\" d=\"M386.23,-72.91C351.49,-60.06 310.62,-44.95 281,-34\"/>\n",
       "</g>\n",
       "<!-- 3 -->\n",
       "<g id=\"node4\" class=\"node\">\n",
       "<title>3</title>\n",
       "<ellipse fill=\"none\" stroke=\"black\" cx=\"455.45\" cy=\"-18\" rx=\"69.59\" ry=\"18\"/>\n",
       "<text text-anchor=\"middle\" x=\"455.45\" y=\"-14.3\" font-family=\"Times,serif\" font-size=\"14.00\">Furchester Hotel</text>\n",
       "</g>\n",
       "<!-- 0&#45;&gt;3 -->\n",
       "<g id=\"edge4\" class=\"edge\">\n",
       "<title>0&#45;&gt;3</title>\n",
       "<path fill=\"none\" stroke=\"black\" d=\"M455.45,-72.91C455.45,-60.92 455.45,-46.97 455.45,-36.26\"/>\n",
       "</g>\n",
       "<!-- 4 -->\n",
       "<g id=\"node5\" class=\"node\">\n",
       "<title>4</title>\n",
       "<ellipse fill=\"none\" stroke=\"black\" cx=\"747.45\" cy=\"-18\" rx=\"163.27\" ry=\"18\"/>\n",
       "<text text-anchor=\"middle\" x=\"747.45\" y=\"-14.3\" font-family=\"Times,serif\" font-size=\"14.00\">Ollie: The Boy Who Became What He Ate</text>\n",
       "</g>\n",
       "<!-- 0&#45;&gt;4 -->\n",
       "<g id=\"edge6\" class=\"edge\">\n",
       "<title>0&#45;&gt;4</title>\n",
       "<path fill=\"none\" stroke=\"black\" d=\"M528.75,-78.54C578.42,-65.02 643.16,-47.39 689.28,-34.84\"/>\n",
       "</g>\n",
       "<!-- 5 -->\n",
       "<g id=\"node6\" class=\"node\">\n",
       "<title>5</title>\n",
       "<ellipse fill=\"none\" stroke=\"black\" cx=\"1014.45\" cy=\"-18\" rx=\"44.69\" ry=\"18\"/>\n",
       "<text text-anchor=\"middle\" x=\"1014.45\" y=\"-14.3\" font-family=\"Times,serif\" font-size=\"14.00\">PJ Masks</text>\n",
       "</g>\n",
       "<!-- 0&#45;&gt;5 -->\n",
       "<g id=\"edge8\" class=\"edge\">\n",
       "<title>0&#45;&gt;5</title>\n",
       "<path fill=\"none\" stroke=\"black\" d=\"M528.72,-89.62C620.29,-78.3 781.73,-57.59 919.45,-36 937.65,-33.15 957.75,-29.61 974.76,-26.5\"/>\n",
       "</g>\n",
       "<!-- 1&#45;&gt;2 -->\n",
       "<g id=\"edge3\" class=\"edge\">\n",
       "<title>1&#45;&gt;2</title>\n",
       "<path fill=\"none\" stroke=\"black\" stroke-dasharray=\"1,5\" d=\"M95.15,-18C110.18,-18 127.34,-18 144.48,-18\"/>\n",
       "<polygon fill=\"black\" stroke=\"black\" points=\"144.56,-21.5 154.56,-18 144.56,-14.5 144.56,-21.5\"/>\n",
       "<text text-anchor=\"middle\" x=\"124.77\" y=\"-24.8\" font-family=\"Times,serif\" font-size=\"14.00\">1:40:00</text>\n",
       "</g>\n",
       "<!-- 2&#45;&gt;3 -->\n",
       "<g id=\"edge5\" class=\"edge\">\n",
       "<title>2&#45;&gt;3</title>\n",
       "<path fill=\"none\" stroke=\"black\" stroke-dasharray=\"1,5\" d=\"M326.35,-18C342.56,-18 359.46,-18 375.48,-18\"/>\n",
       "<polygon fill=\"black\" stroke=\"black\" points=\"375.87,-21.5 385.87,-18 375.87,-14.5 375.87,-21.5\"/>\n",
       "<text text-anchor=\"middle\" x=\"356.07\" y=\"-24.8\" font-family=\"Times,serif\" font-size=\"14.00\">0:02:00</text>\n",
       "</g>\n",
       "<!-- 3&#45;&gt;4 -->\n",
       "<g id=\"edge7\" class=\"edge\">\n",
       "<title>3&#45;&gt;4</title>\n",
       "<path fill=\"none\" stroke=\"black\" stroke-dasharray=\"1,5\" d=\"M525.02,-18C540.17,-18 556.86,-18 574.08,-18\"/>\n",
       "<polygon fill=\"black\" stroke=\"black\" points=\"574.27,-21.5 584.27,-18 574.27,-14.5 574.27,-21.5\"/>\n",
       "<text text-anchor=\"middle\" x=\"554.65\" y=\"-24.8\" font-family=\"Times,serif\" font-size=\"14.00\">0:38:00</text>\n",
       "</g>\n",
       "<!-- 4&#45;&gt;5 -->\n",
       "<g id=\"edge9\" class=\"edge\">\n",
       "<title>4&#45;&gt;5</title>\n",
       "<path fill=\"none\" stroke=\"black\" stroke-dasharray=\"1,5\" d=\"M910.83,-18C928.08,-18 944.63,-18 959.24,-18\"/>\n",
       "<polygon fill=\"black\" stroke=\"black\" points=\"959.52,-21.5 969.52,-18 959.52,-14.5 959.52,-21.5\"/>\n",
       "<text text-anchor=\"middle\" x=\"940.09\" y=\"-24.8\" font-family=\"Times,serif\" font-size=\"14.00\">0:12:00</text>\n",
       "</g>\n",
       "</g>\n",
       "</svg>\n"
      ],
      "text/plain": [
       "<graphviz.graphs.Digraph at 0x7f211a9695d0>"
      ]
     },
     "execution_count": 13,
     "metadata": {},
     "output_type": "execute_result"
    }
   ],
   "source": [
    "pcm.draw_pattern(19) \n",
    "# if you want to save the tree, you can add a `directory` parameter to indicate the location of the results (pdf + generated DOT file)"
   ]
  },
  {
   "cell_type": "markdown",
   "metadata": {},
   "source": [
    "#### Patterns import - export "
   ]
  },
  {
   "cell_type": "markdown",
   "metadata": {},
   "source": []
  },
  {
   "cell_type": "code",
   "execution_count": 14,
   "metadata": {},
   "outputs": [
    {
     "data": {
      "text/html": [
       "<div>\n",
       "<style scoped>\n",
       "    .dataframe tbody tr th:only-of-type {\n",
       "        vertical-align: middle;\n",
       "    }\n",
       "\n",
       "    .dataframe tbody tr th {\n",
       "        vertical-align: top;\n",
       "    }\n",
       "\n",
       "    .dataframe thead th {\n",
       "        text-align: right;\n",
       "    }\n",
       "</style>\n",
       "<table border=\"1\" class=\"dataframe\">\n",
       "  <thead>\n",
       "    <tr style=\"text-align: right;\">\n",
       "      <th></th>\n",
       "      <th>t0</th>\n",
       "      <th>pattern</th>\n",
       "      <th>repetition_major</th>\n",
       "      <th>period_major</th>\n",
       "      <th>sum_E</th>\n",
       "    </tr>\n",
       "  </thead>\n",
       "  <tbody>\n",
       "    <tr>\n",
       "      <th>0</th>\n",
       "      <td>2020-08-01 04:00:00</td>\n",
       "      <td>(Rick Mercer Report [d=0:30:00] Rick Mercer Report)[r=5 p=7 days, 0:00:00]</td>\n",
       "      <td>5</td>\n",
       "      <td>7 days 00:00:00</td>\n",
       "      <td>0 days 00:00:00</td>\n",
       "    </tr>\n",
       "    <tr>\n",
       "      <th>1</th>\n",
       "      <td>2020-08-01 05:00:00</td>\n",
       "      <td>(Grand Designs)[r=31 p=1 day, 0:00:00]</td>\n",
       "      <td>31</td>\n",
       "      <td>1 days 00:00:00</td>\n",
       "      <td>0 days 00:00:00</td>\n",
       "    </tr>\n",
       "    <tr>\n",
       "      <th>2</th>\n",
       "      <td>2020-08-01 06:00:00</td>\n",
       "      <td>(The Moblees [d=0:11:00] Big Block Sing Song [d=0:02:00] Big Block Sing Song [d=0:02:00] CBC Kid...</td>\n",
       "      <td>5</td>\n",
       "      <td>7 days 00:00:00</td>\n",
       "      <td>0 days 00:03:00</td>\n",
       "    </tr>\n",
       "    <tr>\n",
       "      <th>3</th>\n",
       "      <td>2020-08-01 06:15:00</td>\n",
       "      <td>(CBC Kids [d=1:40:00] Big Block Sing Song [d=0:02:00] Furchester Hotel [d=0:38:00] Ollie: The Bo...</td>\n",
       "      <td>5</td>\n",
       "      <td>7 days 00:00:00</td>\n",
       "      <td>0 days 00:02:00</td>\n",
       "    </tr>\n",
       "    <tr>\n",
       "      <th>4</th>\n",
       "      <td>2020-08-01 06:15:00</td>\n",
       "      <td>(CBC Kids)[r=29 p=0:12:00]</td>\n",
       "      <td>29</td>\n",
       "      <td>0 days 00:12:00</td>\n",
       "      <td>0 days 02:54:00</td>\n",
       "    </tr>\n",
       "    <tr>\n",
       "      <th>...</th>\n",
       "      <td>...</td>\n",
       "      <td>...</td>\n",
       "      <td>...</td>\n",
       "      <td>...</td>\n",
       "      <td>...</td>\n",
       "    </tr>\n",
       "    <tr>\n",
       "      <th>116</th>\n",
       "      <td>2020-08-26 14:00:00</td>\n",
       "      <td>(Jamie's Super Foods)[r=3 p=1 day, 0:00:00]</td>\n",
       "      <td>3</td>\n",
       "      <td>1 days 00:00:00</td>\n",
       "      <td>0 days 00:00:00</td>\n",
       "    </tr>\n",
       "    <tr>\n",
       "      <th>117</th>\n",
       "      <td>2020-08-27 02:00:00</td>\n",
       "      <td>(Mr. D)[r=4 p=0:30:00]</td>\n",
       "      <td>4</td>\n",
       "      <td>0 days 00:30:00</td>\n",
       "      <td>0 days 00:00:00</td>\n",
       "    </tr>\n",
       "    <tr>\n",
       "      <th>118</th>\n",
       "      <td>2020-08-28 00:00:00</td>\n",
       "      <td>(Schitt's Creek)[r=8 p=0:30:00]</td>\n",
       "      <td>8</td>\n",
       "      <td>0 days 00:30:00</td>\n",
       "      <td>0 days 00:00:00</td>\n",
       "    </tr>\n",
       "    <tr>\n",
       "      <th>119</th>\n",
       "      <td>2020-08-29 06:15:00</td>\n",
       "      <td>(CBC Kids)[r=23 p=0:12:00]</td>\n",
       "      <td>23</td>\n",
       "      <td>0 days 00:12:00</td>\n",
       "      <td>0 days 02:26:00</td>\n",
       "    </tr>\n",
       "    <tr>\n",
       "      <th>120</th>\n",
       "      <td>2020-08-31 07:00:00</td>\n",
       "      <td>(CBC Kids)[r=17 p=0:13:00]</td>\n",
       "      <td>17</td>\n",
       "      <td>0 days 00:13:00</td>\n",
       "      <td>0 days 02:15:00</td>\n",
       "    </tr>\n",
       "  </tbody>\n",
       "</table>\n",
       "<p>121 rows × 5 columns</p>\n",
       "</div>"
      ],
      "text/plain": [
       "                     t0  \\\n",
       "0   2020-08-01 04:00:00   \n",
       "1   2020-08-01 05:00:00   \n",
       "2   2020-08-01 06:00:00   \n",
       "3   2020-08-01 06:15:00   \n",
       "4   2020-08-01 06:15:00   \n",
       "..                  ...   \n",
       "116 2020-08-26 14:00:00   \n",
       "117 2020-08-27 02:00:00   \n",
       "118 2020-08-28 00:00:00   \n",
       "119 2020-08-29 06:15:00   \n",
       "120 2020-08-31 07:00:00   \n",
       "\n",
       "                                                                                                 pattern  \\\n",
       "0                             (Rick Mercer Report [d=0:30:00] Rick Mercer Report)[r=5 p=7 days, 0:00:00]   \n",
       "1                                                                 (Grand Designs)[r=31 p=1 day, 0:00:00]   \n",
       "2    (The Moblees [d=0:11:00] Big Block Sing Song [d=0:02:00] Big Block Sing Song [d=0:02:00] CBC Kid...   \n",
       "3    (CBC Kids [d=1:40:00] Big Block Sing Song [d=0:02:00] Furchester Hotel [d=0:38:00] Ollie: The Bo...   \n",
       "4                                                                             (CBC Kids)[r=29 p=0:12:00]   \n",
       "..                                                                                                   ...   \n",
       "116                                                          (Jamie's Super Foods)[r=3 p=1 day, 0:00:00]   \n",
       "117                                                                               (Mr. D)[r=4 p=0:30:00]   \n",
       "118                                                                      (Schitt's Creek)[r=8 p=0:30:00]   \n",
       "119                                                                           (CBC Kids)[r=23 p=0:12:00]   \n",
       "120                                                                           (CBC Kids)[r=17 p=0:13:00]   \n",
       "\n",
       "     repetition_major    period_major           sum_E  \n",
       "0                   5 7 days 00:00:00 0 days 00:00:00  \n",
       "1                  31 1 days 00:00:00 0 days 00:00:00  \n",
       "2                   5 7 days 00:00:00 0 days 00:03:00  \n",
       "3                   5 7 days 00:00:00 0 days 00:02:00  \n",
       "4                  29 0 days 00:12:00 0 days 02:54:00  \n",
       "..                ...             ...             ...  \n",
       "116                 3 1 days 00:00:00 0 days 00:00:00  \n",
       "117                 4 0 days 00:30:00 0 days 00:00:00  \n",
       "118                 8 0 days 00:30:00 0 days 00:00:00  \n",
       "119                23 0 days 00:12:00 0 days 02:26:00  \n",
       "120                17 0 days 00:13:00 0 days 02:15:00  \n",
       "\n",
       "[121 rows x 5 columns]"
      ]
     },
     "execution_count": 14,
     "metadata": {},
     "output_type": "execute_result"
    }
   ],
   "source": [
    "#Store in a json file the patterns (\"patterns.json\" by default) \n",
    "pcm.export_patterns(file = \"patterns.json\")\n",
    "\n",
    "# reinitialize the PeriodicPatternMiner : \n",
    "pcm = PeriodicPatternMiner()\n",
    "\n",
    "# import the json file (\"patterns.json\" by default)\n",
    "pcm.import_patterns(file = \"patterns.json\")\n",
    "\n",
    "# recompute the pattern : \n",
    "cycles = pcm.transform(ctv_logs)\n",
    "cycles"
   ]
  },
  {
   "cell_type": "markdown",
   "metadata": {},
   "source": [
    "Now that we have our cycles in a [pandas.DataFrame](https://pandas.pydata.org/pandas-docs/stable/reference/api/pandas.DataFrame.html), we can play with the pandas API and answer questions about our logs\n",
    "\n",
    "#### Did I find cycles for the TV show \"Arthurt Shorts\""
   ]
  },
  {
   "cell_type": "code",
   "execution_count": 15,
   "metadata": {
    "tags": []
   },
   "outputs": [
    {
     "data": {
      "text/html": [
       "<div>\n",
       "<style scoped>\n",
       "    .dataframe tbody tr th:only-of-type {\n",
       "        vertical-align: middle;\n",
       "    }\n",
       "\n",
       "    .dataframe tbody tr th {\n",
       "        vertical-align: top;\n",
       "    }\n",
       "\n",
       "    .dataframe thead th {\n",
       "        text-align: right;\n",
       "    }\n",
       "</style>\n",
       "<table border=\"1\" class=\"dataframe\">\n",
       "  <thead>\n",
       "    <tr style=\"text-align: right;\">\n",
       "      <th></th>\n",
       "      <th>t0</th>\n",
       "      <th>pattern</th>\n",
       "      <th>repetition_major</th>\n",
       "      <th>period_major</th>\n",
       "      <th>sum_E</th>\n",
       "    </tr>\n",
       "  </thead>\n",
       "  <tbody>\n",
       "    <tr>\n",
       "      <th>0</th>\n",
       "      <td>2020-08-01 04:00:00</td>\n",
       "      <td>(Rick Mercer Report [d=0:30:00] Rick Mercer Report)[r=5 p=7 days, 0:00:00]</td>\n",
       "      <td>5</td>\n",
       "      <td>7 days 00:00:00</td>\n",
       "      <td>0 days 00:00:00</td>\n",
       "    </tr>\n",
       "    <tr>\n",
       "      <th>1</th>\n",
       "      <td>2020-08-01 05:00:00</td>\n",
       "      <td>(Grand Designs)[r=31 p=1 day, 0:00:00]</td>\n",
       "      <td>31</td>\n",
       "      <td>1 days 00:00:00</td>\n",
       "      <td>0 days 00:00:00</td>\n",
       "    </tr>\n",
       "    <tr>\n",
       "      <th>2</th>\n",
       "      <td>2020-08-01 06:00:00</td>\n",
       "      <td>(The Moblees [d=0:11:00] Big Block Sing Song [d=0:02:00] Big Block Sing Song [d=0:02:00] CBC Kid...</td>\n",
       "      <td>5</td>\n",
       "      <td>7 days 00:00:00</td>\n",
       "      <td>0 days 00:03:00</td>\n",
       "    </tr>\n",
       "    <tr>\n",
       "      <th>3</th>\n",
       "      <td>2020-08-01 06:15:00</td>\n",
       "      <td>(CBC Kids [d=1:40:00] Big Block Sing Song [d=0:02:00] Furchester Hotel [d=0:38:00] Ollie: The Bo...</td>\n",
       "      <td>5</td>\n",
       "      <td>7 days 00:00:00</td>\n",
       "      <td>0 days 00:02:00</td>\n",
       "    </tr>\n",
       "    <tr>\n",
       "      <th>4</th>\n",
       "      <td>2020-08-01 06:15:00</td>\n",
       "      <td>(CBC Kids)[r=29 p=0:12:00]</td>\n",
       "      <td>29</td>\n",
       "      <td>0 days 00:12:00</td>\n",
       "      <td>0 days 02:54:00</td>\n",
       "    </tr>\n",
       "    <tr>\n",
       "      <th>...</th>\n",
       "      <td>...</td>\n",
       "      <td>...</td>\n",
       "      <td>...</td>\n",
       "      <td>...</td>\n",
       "      <td>...</td>\n",
       "    </tr>\n",
       "    <tr>\n",
       "      <th>116</th>\n",
       "      <td>2020-08-26 14:00:00</td>\n",
       "      <td>(Jamie's Super Foods)[r=3 p=1 day, 0:00:00]</td>\n",
       "      <td>3</td>\n",
       "      <td>1 days 00:00:00</td>\n",
       "      <td>0 days 00:00:00</td>\n",
       "    </tr>\n",
       "    <tr>\n",
       "      <th>117</th>\n",
       "      <td>2020-08-27 02:00:00</td>\n",
       "      <td>(Mr. D)[r=4 p=0:30:00]</td>\n",
       "      <td>4</td>\n",
       "      <td>0 days 00:30:00</td>\n",
       "      <td>0 days 00:00:00</td>\n",
       "    </tr>\n",
       "    <tr>\n",
       "      <th>118</th>\n",
       "      <td>2020-08-28 00:00:00</td>\n",
       "      <td>(Schitt's Creek)[r=8 p=0:30:00]</td>\n",
       "      <td>8</td>\n",
       "      <td>0 days 00:30:00</td>\n",
       "      <td>0 days 00:00:00</td>\n",
       "    </tr>\n",
       "    <tr>\n",
       "      <th>119</th>\n",
       "      <td>2020-08-29 06:15:00</td>\n",
       "      <td>(CBC Kids)[r=23 p=0:12:00]</td>\n",
       "      <td>23</td>\n",
       "      <td>0 days 00:12:00</td>\n",
       "      <td>0 days 02:26:00</td>\n",
       "    </tr>\n",
       "    <tr>\n",
       "      <th>120</th>\n",
       "      <td>2020-08-31 07:00:00</td>\n",
       "      <td>(CBC Kids)[r=17 p=0:13:00]</td>\n",
       "      <td>17</td>\n",
       "      <td>0 days 00:13:00</td>\n",
       "      <td>0 days 02:15:00</td>\n",
       "    </tr>\n",
       "  </tbody>\n",
       "</table>\n",
       "<p>121 rows × 5 columns</p>\n",
       "</div>"
      ],
      "text/plain": [
       "                     t0  \\\n",
       "0   2020-08-01 04:00:00   \n",
       "1   2020-08-01 05:00:00   \n",
       "2   2020-08-01 06:00:00   \n",
       "3   2020-08-01 06:15:00   \n",
       "4   2020-08-01 06:15:00   \n",
       "..                  ...   \n",
       "116 2020-08-26 14:00:00   \n",
       "117 2020-08-27 02:00:00   \n",
       "118 2020-08-28 00:00:00   \n",
       "119 2020-08-29 06:15:00   \n",
       "120 2020-08-31 07:00:00   \n",
       "\n",
       "                                                                                                 pattern  \\\n",
       "0                             (Rick Mercer Report [d=0:30:00] Rick Mercer Report)[r=5 p=7 days, 0:00:00]   \n",
       "1                                                                 (Grand Designs)[r=31 p=1 day, 0:00:00]   \n",
       "2    (The Moblees [d=0:11:00] Big Block Sing Song [d=0:02:00] Big Block Sing Song [d=0:02:00] CBC Kid...   \n",
       "3    (CBC Kids [d=1:40:00] Big Block Sing Song [d=0:02:00] Furchester Hotel [d=0:38:00] Ollie: The Bo...   \n",
       "4                                                                             (CBC Kids)[r=29 p=0:12:00]   \n",
       "..                                                                                                   ...   \n",
       "116                                                          (Jamie's Super Foods)[r=3 p=1 day, 0:00:00]   \n",
       "117                                                                               (Mr. D)[r=4 p=0:30:00]   \n",
       "118                                                                      (Schitt's Creek)[r=8 p=0:30:00]   \n",
       "119                                                                           (CBC Kids)[r=23 p=0:12:00]   \n",
       "120                                                                           (CBC Kids)[r=17 p=0:13:00]   \n",
       "\n",
       "     repetition_major    period_major           sum_E  \n",
       "0                   5 7 days 00:00:00 0 days 00:00:00  \n",
       "1                  31 1 days 00:00:00 0 days 00:00:00  \n",
       "2                   5 7 days 00:00:00 0 days 00:03:00  \n",
       "3                   5 7 days 00:00:00 0 days 00:02:00  \n",
       "4                  29 0 days 00:12:00 0 days 02:54:00  \n",
       "..                ...             ...             ...  \n",
       "116                 3 1 days 00:00:00 0 days 00:00:00  \n",
       "117                 4 0 days 00:30:00 0 days 00:00:00  \n",
       "118                 8 0 days 00:30:00 0 days 00:00:00  \n",
       "119                23 0 days 00:12:00 0 days 02:26:00  \n",
       "120                17 0 days 00:13:00 0 days 02:15:00  \n",
       "\n",
       "[121 rows x 5 columns]"
      ]
     },
     "execution_count": 15,
     "metadata": {},
     "output_type": "execute_result"
    }
   ],
   "source": [
    "cycles"
   ]
  },
  {
   "cell_type": "code",
   "execution_count": 16,
   "metadata": {
    "tags": []
   },
   "outputs": [
    {
     "data": {
      "text/html": [
       "<div>\n",
       "<style scoped>\n",
       "    .dataframe tbody tr th:only-of-type {\n",
       "        vertical-align: middle;\n",
       "    }\n",
       "\n",
       "    .dataframe tbody tr th {\n",
       "        vertical-align: top;\n",
       "    }\n",
       "\n",
       "    .dataframe thead th {\n",
       "        text-align: right;\n",
       "    }\n",
       "</style>\n",
       "<table border=\"1\" class=\"dataframe\">\n",
       "  <thead>\n",
       "    <tr style=\"text-align: right;\">\n",
       "      <th></th>\n",
       "      <th>t0</th>\n",
       "      <th>pattern</th>\n",
       "      <th>repetition_major</th>\n",
       "      <th>period_major</th>\n",
       "      <th>sum_E</th>\n",
       "    </tr>\n",
       "  </thead>\n",
       "  <tbody>\n",
       "    <tr>\n",
       "      <th>15</th>\n",
       "      <td>2020-08-01 10:48:00</td>\n",
       "      <td>(Addison [d=0:12:00] Arthur Shorts [d=0:13:00] Stella &amp; Sam [d=0:12:00] Wandering Wenda [d=0:34:...</td>\n",
       "      <td>5</td>\n",
       "      <td>7 days 00:00:00</td>\n",
       "      <td>0 days 00:00:00</td>\n",
       "    </tr>\n",
       "    <tr>\n",
       "      <th>50</th>\n",
       "      <td>2020-08-03 09:35:00</td>\n",
       "      <td>((Arthur Shorts [d=0:13:00] Arthur Shorts)[r=5 p=1 day, 0:00:00] [d=0:45:00] (Furchester Hotel [...</td>\n",
       "      <td>3</td>\n",
       "      <td>6 days 23:59:00</td>\n",
       "      <td>0 days 00:22:00</td>\n",
       "    </tr>\n",
       "    <tr>\n",
       "      <th>112</th>\n",
       "      <td>2020-08-24 09:35:00</td>\n",
       "      <td>(Arthur Shorts [d=0:13:00] Arthur Shorts [d=0:15:00] Kiri &amp; Lou [d=0:17:00] Furchester Hotel [d=...</td>\n",
       "      <td>5</td>\n",
       "      <td>0 days 23:59:00</td>\n",
       "      <td>0 days 00:11:00</td>\n",
       "    </tr>\n",
       "  </tbody>\n",
       "</table>\n",
       "</div>"
      ],
      "text/plain": [
       "                     t0  \\\n",
       "15  2020-08-01 10:48:00   \n",
       "50  2020-08-03 09:35:00   \n",
       "112 2020-08-24 09:35:00   \n",
       "\n",
       "                                                                                                 pattern  \\\n",
       "15   (Addison [d=0:12:00] Arthur Shorts [d=0:13:00] Stella & Sam [d=0:12:00] Wandering Wenda [d=0:34:...   \n",
       "50   ((Arthur Shorts [d=0:13:00] Arthur Shorts)[r=5 p=1 day, 0:00:00] [d=0:45:00] (Furchester Hotel [...   \n",
       "112  (Arthur Shorts [d=0:13:00] Arthur Shorts [d=0:15:00] Kiri & Lou [d=0:17:00] Furchester Hotel [d=...   \n",
       "\n",
       "     repetition_major    period_major           sum_E  \n",
       "15                  5 7 days 00:00:00 0 days 00:00:00  \n",
       "50                  3 6 days 23:59:00 0 days 00:22:00  \n",
       "112                 5 0 days 23:59:00 0 days 00:11:00  "
      ]
     },
     "execution_count": 16,
     "metadata": {},
     "output_type": "execute_result"
    }
   ],
   "source": [
    "cycles[cycles[\"pattern\"].apply(lambda x: \"Arthur Shorts\" in x)]"
   ]
  },
  {
   "cell_type": "markdown",
   "metadata": {},
   "source": [
    "#### What are the top 10 longest cycles ?"
   ]
  },
  {
   "cell_type": "code",
   "execution_count": 17,
   "metadata": {
    "tags": []
   },
   "outputs": [
    {
     "data": {
      "text/html": [
       "<div>\n",
       "<style scoped>\n",
       "    .dataframe tbody tr th:only-of-type {\n",
       "        vertical-align: middle;\n",
       "    }\n",
       "\n",
       "    .dataframe tbody tr th {\n",
       "        vertical-align: top;\n",
       "    }\n",
       "\n",
       "    .dataframe thead th {\n",
       "        text-align: right;\n",
       "    }\n",
       "</style>\n",
       "<table border=\"1\" class=\"dataframe\">\n",
       "  <thead>\n",
       "    <tr style=\"text-align: right;\">\n",
       "      <th></th>\n",
       "      <th>t0</th>\n",
       "      <th>pattern</th>\n",
       "      <th>repetition_major</th>\n",
       "      <th>period_major</th>\n",
       "      <th>sum_E</th>\n",
       "    </tr>\n",
       "  </thead>\n",
       "  <tbody>\n",
       "    <tr>\n",
       "      <th>1</th>\n",
       "      <td>2020-08-01 05:00:00</td>\n",
       "      <td>(Grand Designs)[r=31 p=1 day, 0:00:00]</td>\n",
       "      <td>31</td>\n",
       "      <td>1 days 00:00:00</td>\n",
       "      <td>0 days 00:00:00</td>\n",
       "    </tr>\n",
       "    <tr>\n",
       "      <th>6</th>\n",
       "      <td>2020-08-01 06:57:00</td>\n",
       "      <td>(CBC Kids)[r=31 p=1 day, 0:00:00]</td>\n",
       "      <td>31</td>\n",
       "      <td>1 days 00:00:00</td>\n",
       "      <td>0 days 00:33:00</td>\n",
       "    </tr>\n",
       "    <tr>\n",
       "      <th>4</th>\n",
       "      <td>2020-08-01 06:15:00</td>\n",
       "      <td>(CBC Kids)[r=29 p=0:12:00]</td>\n",
       "      <td>29</td>\n",
       "      <td>0 days 00:12:00</td>\n",
       "      <td>0 days 02:54:00</td>\n",
       "    </tr>\n",
       "    <tr>\n",
       "      <th>105</th>\n",
       "      <td>2020-08-22 06:15:00</td>\n",
       "      <td>(CBC Kids)[r=27 p=0:12:00]</td>\n",
       "      <td>27</td>\n",
       "      <td>0 days 00:12:00</td>\n",
       "      <td>0 days 02:14:00</td>\n",
       "    </tr>\n",
       "    <tr>\n",
       "      <th>95</th>\n",
       "      <td>2020-08-15 06:15:00</td>\n",
       "      <td>(CBC Kids)[r=25 p=0:12:00]</td>\n",
       "      <td>25</td>\n",
       "      <td>0 days 00:12:00</td>\n",
       "      <td>0 days 02:00:00</td>\n",
       "    </tr>\n",
       "    <tr>\n",
       "      <th>73</th>\n",
       "      <td>2020-08-08 06:15:00</td>\n",
       "      <td>(CBC Kids)[r=23 p=0:11:00]</td>\n",
       "      <td>23</td>\n",
       "      <td>0 days 00:11:00</td>\n",
       "      <td>0 days 02:42:00</td>\n",
       "    </tr>\n",
       "    <tr>\n",
       "      <th>119</th>\n",
       "      <td>2020-08-29 06:15:00</td>\n",
       "      <td>(CBC Kids)[r=23 p=0:12:00]</td>\n",
       "      <td>23</td>\n",
       "      <td>0 days 00:12:00</td>\n",
       "      <td>0 days 02:26:00</td>\n",
       "    </tr>\n",
       "    <tr>\n",
       "      <th>120</th>\n",
       "      <td>2020-08-31 07:00:00</td>\n",
       "      <td>(CBC Kids)[r=17 p=0:13:00]</td>\n",
       "      <td>17</td>\n",
       "      <td>0 days 00:13:00</td>\n",
       "      <td>0 days 02:15:00</td>\n",
       "    </tr>\n",
       "    <tr>\n",
       "      <th>106</th>\n",
       "      <td>2020-08-23 06:11:00</td>\n",
       "      <td>(CBC Kids)[r=12 p=0:13:00]</td>\n",
       "      <td>12</td>\n",
       "      <td>0 days 00:13:00</td>\n",
       "      <td>0 days 00:38:00</td>\n",
       "    </tr>\n",
       "    <tr>\n",
       "      <th>68</th>\n",
       "      <td>2020-08-07 00:13:00</td>\n",
       "      <td>(Schitt's Creek)[r=8 p=0:30:00]</td>\n",
       "      <td>8</td>\n",
       "      <td>0 days 00:30:00</td>\n",
       "      <td>0 days 00:13:00</td>\n",
       "    </tr>\n",
       "  </tbody>\n",
       "</table>\n",
       "</div>"
      ],
      "text/plain": [
       "                     t0                                 pattern  \\\n",
       "1   2020-08-01 05:00:00  (Grand Designs)[r=31 p=1 day, 0:00:00]   \n",
       "6   2020-08-01 06:57:00       (CBC Kids)[r=31 p=1 day, 0:00:00]   \n",
       "4   2020-08-01 06:15:00              (CBC Kids)[r=29 p=0:12:00]   \n",
       "105 2020-08-22 06:15:00              (CBC Kids)[r=27 p=0:12:00]   \n",
       "95  2020-08-15 06:15:00              (CBC Kids)[r=25 p=0:12:00]   \n",
       "73  2020-08-08 06:15:00              (CBC Kids)[r=23 p=0:11:00]   \n",
       "119 2020-08-29 06:15:00              (CBC Kids)[r=23 p=0:12:00]   \n",
       "120 2020-08-31 07:00:00              (CBC Kids)[r=17 p=0:13:00]   \n",
       "106 2020-08-23 06:11:00              (CBC Kids)[r=12 p=0:13:00]   \n",
       "68  2020-08-07 00:13:00         (Schitt's Creek)[r=8 p=0:30:00]   \n",
       "\n",
       "     repetition_major    period_major           sum_E  \n",
       "1                  31 1 days 00:00:00 0 days 00:00:00  \n",
       "6                  31 1 days 00:00:00 0 days 00:33:00  \n",
       "4                  29 0 days 00:12:00 0 days 02:54:00  \n",
       "105                27 0 days 00:12:00 0 days 02:14:00  \n",
       "95                 25 0 days 00:12:00 0 days 02:00:00  \n",
       "73                 23 0 days 00:11:00 0 days 02:42:00  \n",
       "119                23 0 days 00:12:00 0 days 02:26:00  \n",
       "120                17 0 days 00:13:00 0 days 02:15:00  \n",
       "106                12 0 days 00:13:00 0 days 00:38:00  \n",
       "68                  8 0 days 00:30:00 0 days 00:13:00  "
      ]
     },
     "execution_count": 17,
     "metadata": {},
     "output_type": "execute_result"
    }
   ],
   "source": [
    "cycles.nlargest(10, [\"repetition_major\"])"
   ]
  },
  {
   "cell_type": "code",
   "execution_count": 18,
   "metadata": {
    "tags": []
   },
   "outputs": [
    {
     "data": {
      "text/html": [
       "<div>\n",
       "<style scoped>\n",
       "    .dataframe tbody tr th:only-of-type {\n",
       "        vertical-align: middle;\n",
       "    }\n",
       "\n",
       "    .dataframe tbody tr th {\n",
       "        vertical-align: top;\n",
       "    }\n",
       "\n",
       "    .dataframe thead th {\n",
       "        text-align: right;\n",
       "    }\n",
       "</style>\n",
       "<table border=\"1\" class=\"dataframe\">\n",
       "  <thead>\n",
       "    <tr style=\"text-align: right;\">\n",
       "      <th></th>\n",
       "      <th>time</th>\n",
       "      <th>event</th>\n",
       "    </tr>\n",
       "  </thead>\n",
       "  <tbody>\n",
       "    <tr>\n",
       "      <th>0</th>\n",
       "      <td>2020-08-01 05:00:00</td>\n",
       "      <td>Grand Designs</td>\n",
       "    </tr>\n",
       "    <tr>\n",
       "      <th>1</th>\n",
       "      <td>2020-08-02 05:00:00</td>\n",
       "      <td>Grand Designs</td>\n",
       "    </tr>\n",
       "    <tr>\n",
       "      <th>2</th>\n",
       "      <td>2020-08-03 05:00:00</td>\n",
       "      <td>Grand Designs</td>\n",
       "    </tr>\n",
       "    <tr>\n",
       "      <th>3</th>\n",
       "      <td>2020-08-04 05:00:00</td>\n",
       "      <td>Grand Designs</td>\n",
       "    </tr>\n",
       "    <tr>\n",
       "      <th>4</th>\n",
       "      <td>2020-08-05 05:00:00</td>\n",
       "      <td>Grand Designs</td>\n",
       "    </tr>\n",
       "    <tr>\n",
       "      <th>5</th>\n",
       "      <td>2020-08-06 05:00:00</td>\n",
       "      <td>Grand Designs</td>\n",
       "    </tr>\n",
       "    <tr>\n",
       "      <th>6</th>\n",
       "      <td>2020-08-07 05:00:00</td>\n",
       "      <td>Grand Designs</td>\n",
       "    </tr>\n",
       "    <tr>\n",
       "      <th>7</th>\n",
       "      <td>2020-08-08 05:00:00</td>\n",
       "      <td>Grand Designs</td>\n",
       "    </tr>\n",
       "    <tr>\n",
       "      <th>8</th>\n",
       "      <td>2020-08-09 05:00:00</td>\n",
       "      <td>Grand Designs</td>\n",
       "    </tr>\n",
       "    <tr>\n",
       "      <th>9</th>\n",
       "      <td>2020-08-10 05:00:00</td>\n",
       "      <td>Grand Designs</td>\n",
       "    </tr>\n",
       "    <tr>\n",
       "      <th>10</th>\n",
       "      <td>2020-08-11 05:00:00</td>\n",
       "      <td>Grand Designs</td>\n",
       "    </tr>\n",
       "    <tr>\n",
       "      <th>11</th>\n",
       "      <td>2020-08-12 05:00:00</td>\n",
       "      <td>Grand Designs</td>\n",
       "    </tr>\n",
       "    <tr>\n",
       "      <th>12</th>\n",
       "      <td>2020-08-13 05:00:00</td>\n",
       "      <td>Grand Designs</td>\n",
       "    </tr>\n",
       "    <tr>\n",
       "      <th>13</th>\n",
       "      <td>2020-08-14 05:00:00</td>\n",
       "      <td>Grand Designs</td>\n",
       "    </tr>\n",
       "    <tr>\n",
       "      <th>14</th>\n",
       "      <td>2020-08-15 05:00:00</td>\n",
       "      <td>Grand Designs</td>\n",
       "    </tr>\n",
       "    <tr>\n",
       "      <th>15</th>\n",
       "      <td>2020-08-16 05:00:00</td>\n",
       "      <td>Grand Designs</td>\n",
       "    </tr>\n",
       "    <tr>\n",
       "      <th>16</th>\n",
       "      <td>2020-08-17 05:00:00</td>\n",
       "      <td>Grand Designs</td>\n",
       "    </tr>\n",
       "    <tr>\n",
       "      <th>17</th>\n",
       "      <td>2020-08-18 05:00:00</td>\n",
       "      <td>Grand Designs</td>\n",
       "    </tr>\n",
       "    <tr>\n",
       "      <th>18</th>\n",
       "      <td>2020-08-19 05:00:00</td>\n",
       "      <td>Grand Designs</td>\n",
       "    </tr>\n",
       "    <tr>\n",
       "      <th>19</th>\n",
       "      <td>2020-08-20 05:00:00</td>\n",
       "      <td>Grand Designs</td>\n",
       "    </tr>\n",
       "    <tr>\n",
       "      <th>20</th>\n",
       "      <td>2020-08-21 05:00:00</td>\n",
       "      <td>Grand Designs</td>\n",
       "    </tr>\n",
       "    <tr>\n",
       "      <th>21</th>\n",
       "      <td>2020-08-22 05:00:00</td>\n",
       "      <td>Grand Designs</td>\n",
       "    </tr>\n",
       "    <tr>\n",
       "      <th>22</th>\n",
       "      <td>2020-08-23 05:00:00</td>\n",
       "      <td>Grand Designs</td>\n",
       "    </tr>\n",
       "    <tr>\n",
       "      <th>23</th>\n",
       "      <td>2020-08-24 05:00:00</td>\n",
       "      <td>Grand Designs</td>\n",
       "    </tr>\n",
       "    <tr>\n",
       "      <th>24</th>\n",
       "      <td>2020-08-25 05:00:00</td>\n",
       "      <td>Grand Designs</td>\n",
       "    </tr>\n",
       "    <tr>\n",
       "      <th>25</th>\n",
       "      <td>2020-08-26 05:00:00</td>\n",
       "      <td>Grand Designs</td>\n",
       "    </tr>\n",
       "    <tr>\n",
       "      <th>26</th>\n",
       "      <td>2020-08-27 05:00:00</td>\n",
       "      <td>Grand Designs</td>\n",
       "    </tr>\n",
       "    <tr>\n",
       "      <th>27</th>\n",
       "      <td>2020-08-28 05:00:00</td>\n",
       "      <td>Grand Designs</td>\n",
       "    </tr>\n",
       "    <tr>\n",
       "      <th>28</th>\n",
       "      <td>2020-08-29 05:00:00</td>\n",
       "      <td>Grand Designs</td>\n",
       "    </tr>\n",
       "    <tr>\n",
       "      <th>29</th>\n",
       "      <td>2020-08-30 05:00:00</td>\n",
       "      <td>Grand Designs</td>\n",
       "    </tr>\n",
       "    <tr>\n",
       "      <th>30</th>\n",
       "      <td>2020-08-31 05:00:00</td>\n",
       "      <td>Grand Designs</td>\n",
       "    </tr>\n",
       "  </tbody>\n",
       "</table>\n",
       "</div>"
      ],
      "text/plain": [
       "                  time          event\n",
       "0  2020-08-01 05:00:00  Grand Designs\n",
       "1  2020-08-02 05:00:00  Grand Designs\n",
       "2  2020-08-03 05:00:00  Grand Designs\n",
       "3  2020-08-04 05:00:00  Grand Designs\n",
       "4  2020-08-05 05:00:00  Grand Designs\n",
       "5  2020-08-06 05:00:00  Grand Designs\n",
       "6  2020-08-07 05:00:00  Grand Designs\n",
       "7  2020-08-08 05:00:00  Grand Designs\n",
       "8  2020-08-09 05:00:00  Grand Designs\n",
       "9  2020-08-10 05:00:00  Grand Designs\n",
       "10 2020-08-11 05:00:00  Grand Designs\n",
       "11 2020-08-12 05:00:00  Grand Designs\n",
       "12 2020-08-13 05:00:00  Grand Designs\n",
       "13 2020-08-14 05:00:00  Grand Designs\n",
       "14 2020-08-15 05:00:00  Grand Designs\n",
       "15 2020-08-16 05:00:00  Grand Designs\n",
       "16 2020-08-17 05:00:00  Grand Designs\n",
       "17 2020-08-18 05:00:00  Grand Designs\n",
       "18 2020-08-19 05:00:00  Grand Designs\n",
       "19 2020-08-20 05:00:00  Grand Designs\n",
       "20 2020-08-21 05:00:00  Grand Designs\n",
       "21 2020-08-22 05:00:00  Grand Designs\n",
       "22 2020-08-23 05:00:00  Grand Designs\n",
       "23 2020-08-24 05:00:00  Grand Designs\n",
       "24 2020-08-25 05:00:00  Grand Designs\n",
       "25 2020-08-26 05:00:00  Grand Designs\n",
       "26 2020-08-27 05:00:00  Grand Designs\n",
       "27 2020-08-28 05:00:00  Grand Designs\n",
       "28 2020-08-29 05:00:00  Grand Designs\n",
       "29 2020-08-30 05:00:00  Grand Designs\n",
       "30 2020-08-31 05:00:00  Grand Designs"
      ]
     },
     "execution_count": 18,
     "metadata": {},
     "output_type": "execute_result"
    }
   ],
   "source": [
    "pcm.reconstruct([1])"
   ]
  },
  {
   "cell_type": "code",
   "execution_count": 19,
   "metadata": {
    "tags": []
   },
   "outputs": [
    {
     "data": {
      "text/html": [
       "<div>\n",
       "<style scoped>\n",
       "    .dataframe tbody tr th:only-of-type {\n",
       "        vertical-align: middle;\n",
       "    }\n",
       "\n",
       "    .dataframe tbody tr th {\n",
       "        vertical-align: top;\n",
       "    }\n",
       "\n",
       "    .dataframe thead th {\n",
       "        text-align: right;\n",
       "    }\n",
       "</style>\n",
       "<table border=\"1\" class=\"dataframe\">\n",
       "  <thead>\n",
       "    <tr style=\"text-align: right;\">\n",
       "      <th></th>\n",
       "      <th>time</th>\n",
       "      <th>event</th>\n",
       "    </tr>\n",
       "  </thead>\n",
       "  <tbody>\n",
       "    <tr>\n",
       "      <th>143</th>\n",
       "      <td>2020-08-01 01:12:00</td>\n",
       "      <td>OLYMPIC GAMES REPLAY</td>\n",
       "    </tr>\n",
       "    <tr>\n",
       "      <th>287</th>\n",
       "      <td>2020-08-01 13:00:00</td>\n",
       "      <td>Bondi Vet</td>\n",
       "    </tr>\n",
       "    <tr>\n",
       "      <th>47</th>\n",
       "      <td>2020-08-01 13:30:00</td>\n",
       "      <td>Basketball</td>\n",
       "    </tr>\n",
       "    <tr>\n",
       "      <th>122</th>\n",
       "      <td>2020-08-01 15:55:00</td>\n",
       "      <td>Basketball</td>\n",
       "    </tr>\n",
       "    <tr>\n",
       "      <th>347</th>\n",
       "      <td>2020-08-01 19:00:00</td>\n",
       "      <td>Still Standing</td>\n",
       "    </tr>\n",
       "    <tr>\n",
       "      <th>...</th>\n",
       "      <td>...</td>\n",
       "      <td>...</td>\n",
       "    </tr>\n",
       "    <tr>\n",
       "      <th>351</th>\n",
       "      <td>2020-08-31 16:00:00</td>\n",
       "      <td>Escape to the Country</td>\n",
       "    </tr>\n",
       "    <tr>\n",
       "      <th>348</th>\n",
       "      <td>2020-08-31 17:00:00</td>\n",
       "      <td>Murdoch Mysteries</td>\n",
       "    </tr>\n",
       "    <tr>\n",
       "      <th>409</th>\n",
       "      <td>2020-08-31 17:59:00</td>\n",
       "      <td>News</td>\n",
       "    </tr>\n",
       "    <tr>\n",
       "      <th>386</th>\n",
       "      <td>2020-08-31 19:00:00</td>\n",
       "      <td>Hockey Night in Canada</td>\n",
       "    </tr>\n",
       "    <tr>\n",
       "      <th>74</th>\n",
       "      <td>2020-08-31 23:15:00</td>\n",
       "      <td>CBC News: The National</td>\n",
       "    </tr>\n",
       "  </tbody>\n",
       "</table>\n",
       "<p>454 rows × 2 columns</p>\n",
       "</div>"
      ],
      "text/plain": [
       "                   time                   event\n",
       "143 2020-08-01 01:12:00    OLYMPIC GAMES REPLAY\n",
       "287 2020-08-01 13:00:00               Bondi Vet\n",
       "47  2020-08-01 13:30:00              Basketball\n",
       "122 2020-08-01 15:55:00              Basketball\n",
       "347 2020-08-01 19:00:00          Still Standing\n",
       "..                  ...                     ...\n",
       "351 2020-08-31 16:00:00   Escape to the Country\n",
       "348 2020-08-31 17:00:00       Murdoch Mysteries\n",
       "409 2020-08-31 17:59:00                    News\n",
       "386 2020-08-31 19:00:00  Hockey Night in Canada\n",
       "74  2020-08-31 23:15:00  CBC News: The National\n",
       "\n",
       "[454 rows x 2 columns]"
      ]
     },
     "execution_count": 19,
     "metadata": {},
     "output_type": "execute_result"
    }
   ],
   "source": [
    "pcm.get_residuals()"
   ]
  },
  {
   "cell_type": "markdown",
   "metadata": {},
   "source": [
    "#### what are the 10 most unpunctual TV programs ?\n",
    "For this we are going to :\n",
    " 1. extract the shift corrections along with other informations about our cycles\n",
    " 2. compute the sum of the absolute values for the shift corrections, for every cycles\n",
    " 3. get the 10 biggest sums"
   ]
  },
  {
   "cell_type": "code",
   "execution_count": 20,
   "metadata": {},
   "outputs": [],
   "source": [
    "# full_cycles = pcm.transform(x)\n",
    "# full_cycles.head()"
   ]
  },
  {
   "cell_type": "code",
   "execution_count": 21,
   "metadata": {
    "scrolled": true
   },
   "outputs": [],
   "source": [
    "# def absolute_sum(*args):\n",
    "#     return sum(map(abs, *args))\n",
    "\n",
    "# # level 0 is the name of the TV program\n",
    "# shift_sums = full_cycles[\"dE\"].map(absolute_sum).groupby(level=[0]).sum()\n",
    "# shift_sums.nlargest(10)"
   ]
  },
  {
   "cell_type": "markdown",
   "metadata": {},
   "source": [
    "<!-- #### what are the 10 most unpunctual TV programs ?\n",
    "For this we are going to :\n",
    " 1. extract the shift corrections along with other informations about our cycles\n",
    " 2. compute the sum of the absolute values for the shift corrections, for every cycles\n",
    " 3. get the 10 biggest sums -->"
   ]
  },
  {
   "cell_type": "code",
   "execution_count": 22,
   "metadata": {},
   "outputs": [],
   "source": [
    "# def absolute_sum(*args):\n",
    "#     return sum(map(abs, *args))\n",
    "\n",
    "# # level 0 is the name of the TV program\n",
    "# shift_sums = full_cycles[\"dE\"].map(absolute_sum).groupby(level=[0]).sum()\n",
    "# shift_sums.nlargest(10)"
   ]
  },
  {
   "cell_type": "markdown",
   "metadata": {},
   "source": [
    "#### What TV programs have been broadcasted every day for at least 5 days straight?\n",
    "Let's make use of the [pandas.DataFrame.query](https://pandas.pydata.org/docs/reference/api/pandas.DataFrame.query.html) method to express our question in an SQL-like syntax"
   ]
  },
  {
   "cell_type": "code",
   "execution_count": 23,
   "metadata": {
    "scrolled": true
   },
   "outputs": [],
   "source": [
    "# cycles.query('length_major >= 5 and period_major >= 3600', engine='python')\n",
    "# # cycles.query('length >= 5 and period == \"1 days\"', engine='python')"
   ]
  },
  {
   "cell_type": "markdown",
   "metadata": {},
   "source": [
    "#### What TV programs are broadcast only on business days ?\n",
    "From the previous query we see we have a lot of 5-length cycles, with periods of 1 day.\n",
    "An intuition is that these cycles take place on business days. Let's confirm this by considering cycles with\n",
    " 1. start timestamps on mondays\n",
    " 2. periods of roughly 1 day  "
   ]
  },
  {
   "cell_type": "code",
   "execution_count": 24,
   "metadata": {
    "scrolled": true
   },
   "outputs": [],
   "source": [
    "# monday_starts = cycles[cycles.start.dt.weekday == 0]  # start on monday\n",
    "# monday_starts.query('length == 5 and period == \"1 days\"', engine='python')"
   ]
  },
  {
   "attachments": {},
   "cell_type": "markdown",
   "metadata": {},
   "source": [
    "------\n",
    "### Load your own custom datasets\n",
    "\n",
    "If you want to **use your own datasets from file**, you can use the `fetch_file` function.  \n",
    "There are **3 ways to write** :\n",
    "\n",
    "#### 1. **Each line consists of a datetime followed by its associated event.\n",
    "** By default, **the separator is a `,`**. This is customisable.  \n",
    "Example :"
   ]
  },
  {
   "cell_type": "code",
   "execution_count": 25,
   "metadata": {
    "scrolled": true
   },
   "outputs": [
    {
     "data": {
      "text/plain": [
       "['2020-04-16 07:30:00,wake up',\n",
       " '2020-04-17 07:29:00,wake up',\n",
       " '2020-04-17 07:29:00,wake up',\n",
       " '2020-04-18 07:29:00,wake up',\n",
       " '2020-04-19 07:30:00,wake up',\n",
       " '2020-04-20 07:32:00,wake up',\n",
       " '2020-04-23 07:30:00,wake up']"
      ]
     },
     "execution_count": 25,
     "metadata": {},
     "output_type": "execute_result"
    }
   ],
   "source": [
    "with open(\"dataset_datetime.csv\", \"r\") as f:\n",
    "    data = f.read().splitlines()\n",
    "    \n",
    "data"
   ]
  },
  {
   "cell_type": "code",
   "execution_count": 26,
   "metadata": {},
   "outputs": [
    {
     "name": "stderr",
     "output_type": "stream",
     "text": [
      "/home/hcourtei/Projects/F-WIN/scikit-mine/codes/skMineDev/skmine/periodic/cycles.py:131: UserWarning: found 1 duplicates in the input sequence, they have been removed.\n",
      "  warnings.warn(f\"found {diff} duplicates in the input sequence, they have been removed.\")\n"
     ]
    },
    {
     "data": {
      "text/html": [
       "<div>\n",
       "<style scoped>\n",
       "    .dataframe tbody tr th:only-of-type {\n",
       "        vertical-align: middle;\n",
       "    }\n",
       "\n",
       "    .dataframe tbody tr th {\n",
       "        vertical-align: top;\n",
       "    }\n",
       "\n",
       "    .dataframe thead th {\n",
       "        text-align: right;\n",
       "    }\n",
       "</style>\n",
       "<table border=\"1\" class=\"dataframe\">\n",
       "  <thead>\n",
       "    <tr style=\"text-align: right;\">\n",
       "      <th></th>\n",
       "      <th>t0</th>\n",
       "      <th>pattern</th>\n",
       "      <th>repetition_major</th>\n",
       "      <th>period_major</th>\n",
       "      <th>sum_E</th>\n",
       "    </tr>\n",
       "  </thead>\n",
       "  <tbody>\n",
       "    <tr>\n",
       "      <th>0</th>\n",
       "      <td>2020-04-16 07:30:00</td>\n",
       "      <td>(wake up)[r=5 p=1 day, 0:00:00]</td>\n",
       "      <td>5</td>\n",
       "      <td>1 days</td>\n",
       "      <td>0 days 00:04:00</td>\n",
       "    </tr>\n",
       "  </tbody>\n",
       "</table>\n",
       "</div>"
      ],
      "text/plain": [
       "                   t0                          pattern  repetition_major  \\\n",
       "0 2020-04-16 07:30:00  (wake up)[r=5 p=1 day, 0:00:00]                 5   \n",
       "\n",
       "  period_major           sum_E  \n",
       "0       1 days 0 days 00:04:00  "
      ]
     },
     "execution_count": 26,
     "metadata": {},
     "output_type": "execute_result"
    }
   ],
   "source": [
    "from skmine.datasets.periodic import fetch_file\n",
    "\n",
    "data = fetch_file(\"dataset_datetime.csv\", separator=\",\")  # by default separator is already comma\n",
    "pcm = PeriodicPatternMiner().fit(data)\n",
    "pcm.transform(data)"
   ]
  },
  {
   "cell_type": "markdown",
   "metadata": {},
   "source": [
    "Note that several formats for datetimes can be infered from example. But you can force to parse string according to a specific format with the extra option : `format=\"%d/%m/%Y %H:%M:%S\"` . see https://docs.python.org/3/library/datetime.html#strftime-and-strptime-behavior for all possibilities\n",
    "- `2020-04-23 07:30:00` -> YYYY-MM-DD hh:mm:ss\n",
    "- `1997-07-23T19:20+01:00` -> YYYY-MM-DDThh:mmTZD (TZD = time zone designator)\n",
    "- `1997-07-23T19:20:30.45+01:00` -> YYYY-MM-DDThh:mm:ss.sTZD\n",
    "- `02/23/2018` -> MM/DD/YYYY\n",
    "- `02/23/18` -> MM/DD/YY\n",
    "- ...\n",
    "\n",
    "**2 points of caution** are to be noted:\n",
    "- **Beware of this type of format \"Feb 23, 2018\" (Mth d, YYYY)** because comma is the default separator. If you want to use this format, you must use **double quotes around the date**.\n",
    "- **The MM/DD (Month/day) format is infered by default (when day is less than 12)**, for DD/MM; use format option as in example below:  \n",
    " "
   ]
  },
  {
   "cell_type": "code",
   "execution_count": 27,
   "metadata": {},
   "outputs": [
    {
     "data": {
      "text/plain": [
       "timestamp\n",
       "2018-02-10 07:30:00    wake up\n",
       "2018-02-23 07:30:00     coffee\n",
       "2018-03-10 07:30:00    wake up\n",
       "Name: dataset_datetime_DD_MM.csv, dtype: string"
      ]
     },
     "execution_count": 27,
     "metadata": {},
     "output_type": "execute_result"
    }
   ],
   "source": [
    "fetch_file(\"dataset_datetime_DD_MM.csv\",  separator=',' ,format=\"%d/%m/%Y %H:%M:%S\")"
   ]
  },
  {
   "cell_type": "markdown",
   "metadata": {},
   "source": [
    " \n",
    "#### 2. **Datetimes can also be replaced by integers**.  \n",
    "    Example:"
   ]
  },
  {
   "cell_type": "code",
   "execution_count": 28,
   "metadata": {},
   "outputs": [
    {
     "data": {
      "text/plain": [
       "['1,wake up',\n",
       " '3,wake up',\n",
       " '10,wake up',\n",
       " '30,wake up',\n",
       " '40,wake up',\n",
       " '70,wake up',\n",
       " '100,wake up']"
      ]
     },
     "execution_count": 28,
     "metadata": {},
     "output_type": "execute_result"
    }
   ],
   "source": [
    "with open(\"dataset_integer.csv\", \"r\") as f:\n",
    "    data = f.read().splitlines()\n",
    "    \n",
    "data"
   ]
  },
  {
   "attachments": {},
   "cell_type": "markdown",
   "metadata": {},
   "source": [
    "#### 3. **Use only the name of the events**.\n",
    "In this case, **the indexes correspond to the line numbers (starting from 0)**.  \n",
    "Example:"
   ]
  },
  {
   "cell_type": "code",
   "execution_count": 29,
   "metadata": {},
   "outputs": [
    {
     "data": {
      "text/plain": [
       "['wake up', 'wake up', 'wake up', 'wake up', 'wake up', 'wake up', 'wake up']"
      ]
     },
     "execution_count": 29,
     "metadata": {},
     "output_type": "execute_result"
    }
   ],
   "source": [
    "with open(\"dataset_no_index.csv\", \"r\") as f:\n",
    "    data = f.read().splitlines()\n",
    "    \n",
    "data"
   ]
  },
  {
   "cell_type": "code",
   "execution_count": 30,
   "metadata": {},
   "outputs": [
    {
     "data": {
      "text/plain": [
       "timestamp\n",
       "0    wake up\n",
       "1    wake up\n",
       "2    wake up\n",
       "3    wake up\n",
       "4    wake up\n",
       "5    wake up\n",
       "6    wake up\n",
       "Name: dataset_no_index.csv, dtype: string"
      ]
     },
     "execution_count": 30,
     "metadata": {},
     "output_type": "execute_result"
    }
   ],
   "source": [
    "data = fetch_file(\"dataset_no_index.csv\")\n",
    "data"
   ]
  },
  {
   "cell_type": "markdown",
   "metadata": {},
   "source": [
    "References\n",
    "----------\n",
    "\n",
    "1. Galbrun, E & Cellier, P & Tatti, N & Termier, A & Crémilleux, B\n",
    "   \"Mining Periodic Pattern with a MDL Criterion\"\n",
    "\n",
    "2. Galbrun, E\n",
    "   \"The Minimum Description Length Principle for Pattern Mining : A survey\"  \n",
    "\n",
    "3. Termier, A\n",
    "   [\"Periodic pattern mining\"](http://people.irisa.fr/Alexandre.Termier/dmv/DMV_Periodic_patterns.pdf) "
   ]
  }
 ],
 "metadata": {
  "kernelspec": {
   "display_name": "Python 3 (ipykernel)",
   "language": "python",
   "name": "python3"
  },
  "language_info": {
   "codemirror_mode": {
    "name": "ipython",
    "version": 3
   },
   "file_extension": ".py",
   "mimetype": "text/x-python",
   "name": "python",
   "nbconvert_exporter": "python",
   "pygments_lexer": "ipython3",
   "version": "3.10.9"
  },
  "toc": {
   "base_numbering": 1,
   "nav_menu": {},
   "number_sections": true,
   "sideBar": true,
   "skip_h1_title": false,
   "title_cell": "Table of Contents",
   "title_sidebar": "Contents",
   "toc_cell": false,
   "toc_position": {
    "height": "calc(100% - 180px)",
    "left": "10px",
    "top": "150px",
    "width": "247.55px"
   },
   "toc_section_display": true,
   "toc_window_display": true
  },
  "vscode": {
   "interpreter": {
    "hash": "c4418ac5ac56bcc1d654aebcb97e1ca3ff1be77625ab045a7b4b5e8ee820789e"
   }
  }
 },
 "nbformat": 4,
 "nbformat_minor": 4
}
