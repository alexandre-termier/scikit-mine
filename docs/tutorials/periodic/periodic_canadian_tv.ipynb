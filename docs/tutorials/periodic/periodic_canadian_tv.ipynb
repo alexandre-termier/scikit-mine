{
 "cells": [
  {
   "cell_type": "markdown",
   "metadata": {},
   "source": [
    "## Periodic pattern mining on canadian TV logs\n",
    "<img src=\"skmine_series.png\" alt=\"logo\" style=\"width: 60%;\"/>"
   ]
  },
  {
   "cell_type": "markdown",
   "metadata": {},
   "source": [
    "### The problem, informally\n",
    "Let's take a simple example. \n",
    "\n",
    "Imagine you set an alarm to wake up every day around 7:30AM, and go to work. Sometimes you wake up a bit earlier (your body anticipates on the alarm), and sometimes a bit later, for example if you press the \"snooze\" button and refuse to face the fact that you have to wake up.\n",
    "\n",
    "In python we can load those \"wake up\" events as logs, and store them in a [pandas.Series](https://pandas.pydata.org/pandas-docs/stable/reference/api/pandas.Series.html), like"
   ]
  },
  {
   "cell_type": "code",
   "execution_count": 1,
   "metadata": {
    "tags": []
   },
   "outputs": [
    {
     "data": {
      "text/plain": [
       "2020-04-16 07:30:00    wake up\n",
       "2020-04-17 07:29:00    wake up\n",
       "2020-04-18 07:29:00    wake up\n",
       "2020-04-19 07:30:00    wake up\n",
       "2020-04-20 07:32:00    wake up\n",
       "2020-04-23 07:30:00    wake up\n",
       "dtype: object"
      ]
     },
     "execution_count": 1,
     "metadata": {},
     "output_type": "execute_result"
    }
   ],
   "source": [
    "import datetime as dt\n",
    "import pandas as pd\n",
    "one_day = 60 * 24  # a day in minutes\n",
    "minutes = [0, one_day - 1, one_day * 2 - 1, one_day * 3, one_day * 4 + 2, one_day * 7]\n",
    "\n",
    "S = pd.Series(\"wake up\", index=minutes)\n",
    "start = dt.datetime.strptime(\"16/04/2020 07:30\", \"%d/%m/%Y %H:%M\")\n",
    "S.index = S.index.map(lambda e: start + dt.timedelta(minutes=e))\n",
    "S.index = S.index.round(\"min\")  # minutes as the lowest unit of difference\n",
    "S"
   ]
  },
  {
   "cell_type": "code",
   "execution_count": 2,
   "metadata": {
    "tags": []
   },
   "outputs": [
    {
     "data": {
      "text/plain": [
       "array(['2020-04-16T07:30:00.000000000', '2020-04-17T07:29:00.000000000',\n",
       "       '2020-04-18T07:29:00.000000000', '2020-04-19T07:30:00.000000000',\n",
       "       '2020-04-20T07:32:00.000000000', '2020-04-23T07:30:00.000000000'],\n",
       "      dtype='datetime64[ns]')"
      ]
     },
     "execution_count": 2,
     "metadata": {},
     "output_type": "execute_result"
    }
   ],
   "source": [
    "S.index.to_numpy()"
   ]
  },
  {
   "cell_type": "markdown",
   "metadata": {},
   "source": [
    "We can see the wake-up time is not exactly the same every day, but overall a consistent regular pattern seems to emerge.\n",
    "\n",
    "Now imagine that in addition to wake up times, we also have records of other daily activities (meals, work, household chores, etc.), and that rather than a handful of days, those records span several years and make up several thousands of events\n",
    "\n",
    "**How would you be able to detect regularities in the data ?**"
   ]
  },
  {
   "cell_type": "markdown",
   "metadata": {},
   "source": [
    "### Introduction to periodic pattern mining\n",
    "Periodic pattern mining aims at exploiting regularities not only about `what happens` by finding coordinated event occurrences, but also about `when it happens` and `how it happens`, by **finding consistent inter-occurrence timeintervals**.\n",
    "\n",
    "Next, we introduce the concept of cycles\n",
    "\n",
    "#### The cycle : a building block for periodic pattern mining\n",
    "Here is an explicit example of a cycle\n",
    "\n",
    "<img src=\"cycle_color.png\" alt=\"cycle\" style=\"width: 60%;\"/>\n",
    "\n",
    "This definition, while being relatively simple, is general enough to allow us to find regularities in different types of logs\n",
    "\n",
    "#### Handling noise in our timestamps\n",
    "\n",
    "Needless to say, it would be too easy if events in our data were equally spaced. As data often comes noisy, we have to be fault tolerant, and allow small errors to sneak into our cycles. \n",
    "\n",
    "That's the role of `shift corrections`, which capture the small deviations from perfectly regular periodic repetitions, and allow to reconstruct the (noisy) original sequence of events, using the following relation\n",
    "<img src=\"shifts.png\" alt=\"shifts\" style=\"width: 60%;\"/>"
   ]
  },
  {
   "cell_type": "markdown",
   "metadata": {},
   "source": [
    "#### A tiny example with scikit-mine\n",
    "`scikit-mine` offers a `PeriodicCycleMiner`, out of the box.\n",
    "You can use it to **detect regularities, in the form of cycles**, in the input data. \n",
    "\n",
    "These regularities are submitted to an MDL criterion, so that we do not mistakenly include redundant occurences, nor forget to consider other intervals that would sumarize our data in a better way.\n",
    "\n",
    "MDL offers a framework to find `the best set of cycles`, i.e the set that gives the most succint representation of the data. And `as humans, we often like to deal with non-redundant, well organized data`."
   ]
  },
  {
   "cell_type": "code",
   "execution_count": 3,
   "metadata": {
    "tags": []
   },
   "outputs": [
    {
     "name": "stdout",
     "output_type": "stream",
     "text": [
      "self.alpha_groups 1\n",
      "S.values 8\n",
      " ---- COLLECTION STATS (Total=1 nb_simple=1)\n",
      "Code length patterns (1): 30.826182\n",
      "Code length residuals (3): 23.555247\n",
      "-- Total code length = 54.381429 (86.575343% of 62.813992)\n",
      "\n"
     ]
    },
    {
     "name": "stderr",
     "output_type": "stream",
     "text": [
      "/home/cregan/fsl/lib/python3.10/site-packages/scikit_mine-0.0.10-py3.10.egg/skmine/periodic/cycles.py:20: FutureWarning: pandas.Int64Index is deprecated and will be removed from pandas in a future version. Use pandas.Index with the appropriate dtype instead.\n",
      "  pd.Int64Index,\n"
     ]
    },
    {
     "data": {
      "text/html": [
       "<div>\n",
       "<style scoped>\n",
       "    .dataframe tbody tr th:only-of-type {\n",
       "        vertical-align: middle;\n",
       "    }\n",
       "\n",
       "    .dataframe tbody tr th {\n",
       "        vertical-align: top;\n",
       "    }\n",
       "\n",
       "    .dataframe thead th {\n",
       "        text-align: right;\n",
       "    }\n",
       "</style>\n",
       "<table border=\"1\" class=\"dataframe\">\n",
       "  <thead>\n",
       "    <tr style=\"text-align: right;\">\n",
       "      <th></th>\n",
       "      <th>t0</th>\n",
       "      <th>pattern_json_tree</th>\n",
       "      <th>pattern_resume</th>\n",
       "      <th>length_major</th>\n",
       "      <th>period_major</th>\n",
       "      <th>cost</th>\n",
       "      <th>type</th>\n",
       "      <th>E</th>\n",
       "    </tr>\n",
       "  </thead>\n",
       "  <tbody>\n",
       "    <tr>\n",
       "      <th>0</th>\n",
       "      <td>20</td>\n",
       "      <td>{\"nid\": 0, \"r\": 5, \"p\": 20, \"parent\": \"None\", ...</td>\n",
       "      <td>(ring_a_bell)[r=5 p=20]</td>\n",
       "      <td>5</td>\n",
       "      <td>20</td>\n",
       "      <td>30.826182</td>\n",
       "      <td>simple</td>\n",
       "      <td>2</td>\n",
       "    </tr>\n",
       "  </tbody>\n",
       "</table>\n",
       "</div>"
      ],
      "text/plain": [
       "   t0                                  pattern_json_tree  \\\n",
       "0  20  {\"nid\": 0, \"r\": 5, \"p\": 20, \"parent\": \"None\", ...   \n",
       "\n",
       "            pattern_resume  length_major  period_major       cost    type  E  \n",
       "0  (ring_a_bell)[r=5 p=20]             5            20  30.826182  simple  2  "
      ]
     },
     "execution_count": 3,
     "metadata": {},
     "output_type": "execute_result"
    }
   ],
   "source": [
    "from skmine.periodic import PeriodicCycleMiner\n",
    "import pandas as pd\n",
    "S_doc = pd.Series(\"ring_a_bell\", [10, 20, 32, 40, 60, 79, 100, 240])\n",
    "pcm = PeriodicCycleMiner().fit(S_doc)\n",
    "pcm.discover()"
   ]
  },
  {
   "cell_type": "code",
   "execution_count": 4,
   "metadata": {
    "tags": []
   },
   "outputs": [],
   "source": [
    "from skmine.periodic import PeriodicCycleMiner\n",
    "import pandas as pd"
   ]
  },
  {
   "cell_type": "code",
   "execution_count": 5,
   "metadata": {
    "tags": []
   },
   "outputs": [
    {
     "name": "stdout",
     "output_type": "stream",
     "text": [
      "self.alpha_groups 1\n",
      "S.values 6\n",
      " ---- COLLECTION STATS (Total=1 nb_simple=1)\n",
      "Code length patterns (1): 67.885186\n",
      "Code length residuals (1): 15.884194\n",
      "-- Total code length = 83.769381 (87.895949% of 95.305166)\n",
      "\n"
     ]
    }
   ],
   "source": [
    "pcm = PeriodicCycleMiner().fit(S)"
   ]
  },
  {
   "cell_type": "code",
   "execution_count": 6,
   "metadata": {
    "tags": []
   },
   "outputs": [
    {
     "data": {
      "text/html": [
       "<div>\n",
       "<style scoped>\n",
       "    .dataframe tbody tr th:only-of-type {\n",
       "        vertical-align: middle;\n",
       "    }\n",
       "\n",
       "    .dataframe tbody tr th {\n",
       "        vertical-align: top;\n",
       "    }\n",
       "\n",
       "    .dataframe thead th {\n",
       "        text-align: right;\n",
       "    }\n",
       "</style>\n",
       "<table border=\"1\" class=\"dataframe\">\n",
       "  <thead>\n",
       "    <tr style=\"text-align: right;\">\n",
       "      <th></th>\n",
       "      <th>t0</th>\n",
       "      <th>pattern_json_tree</th>\n",
       "      <th>pattern_resume</th>\n",
       "      <th>length_major</th>\n",
       "      <th>period_major</th>\n",
       "      <th>cost</th>\n",
       "      <th>type</th>\n",
       "      <th>E</th>\n",
       "    </tr>\n",
       "  </thead>\n",
       "  <tbody>\n",
       "    <tr>\n",
       "      <th>0</th>\n",
       "      <td>2020-04-16 07:30:00</td>\n",
       "      <td>{\"nid\": 0, \"r\": 5, \"p\": 8643, \"parent\": \"None\"...</td>\n",
       "      <td>(wake up)[r=5 p=8643]</td>\n",
       "      <td>5</td>\n",
       "      <td>1 days 00:00:30</td>\n",
       "      <td>67.885186</td>\n",
       "      <td>simple</td>\n",
       "      <td>24</td>\n",
       "    </tr>\n",
       "  </tbody>\n",
       "</table>\n",
       "</div>"
      ],
      "text/plain": [
       "                   t0                                  pattern_json_tree  \\\n",
       "0 2020-04-16 07:30:00  {\"nid\": 0, \"r\": 5, \"p\": 8643, \"parent\": \"None\"...   \n",
       "\n",
       "          pattern_resume  length_major    period_major       cost    type   E  \n",
       "0  (wake up)[r=5 p=8643]             5 1 days 00:00:30  67.885186  simple  24  "
      ]
     },
     "execution_count": 6,
     "metadata": {},
     "output_type": "execute_result"
    }
   ],
   "source": [
    "pcm.discover()"
   ]
  },
  {
   "cell_type": "markdown",
   "metadata": {},
   "source": [
    "You can see one cycle has been extracted for our event `wake up`. The cycle covers the entire business week, but not the last monday separated by the weekend\n",
    "\n",
    "It has a length of 5 and a period close to 1 day, as expected.\n",
    "\n",
    "Also, note that we \"lost\" some information here. Our period of 1 day offers the best summary for this data.\n",
    "Accessing the little \"shifts\" as encountered in original data is also possible, with an extra argument in our `.discover` call"
   ]
  },
  {
   "cell_type": "markdown",
   "metadata": {},
   "source": [
    "The last column named `dE` contains a list of shifts to apply to our cycle in case we want to reconstruct the original data. Trailing zeros have been removed for efficiency, and their values are `relative to the period`, but we can see there is:\n",
    " * a -90 second shift between the 1st and 2nd entry (1day30s - 90s later = waking up at 7:29 on tuesday)\n",
    " * a 30 second shift between the 2nd and 3rd entry (1day30s - 30s later = still waking up at 7:29 on wednesday)\n",
    " * an 30 second shift between the 3rd and 4th entry (back to 7:30 on thursday)\n",
    " * an 90 second shift between the 4th and 5th entry (1day 30s + 90s later = waking up at 7:32 on friday)\n",
    "\n",
    "Also note that we can get the \"uncovered\" events, called `redisuals`"
   ]
  },
  {
   "cell_type": "code",
   "execution_count": 7,
   "metadata": {
    "scrolled": true,
    "tags": []
   },
   "outputs": [
    {
     "data": {
      "text/html": [
       "<div>\n",
       "<style scoped>\n",
       "    .dataframe tbody tr th:only-of-type {\n",
       "        vertical-align: middle;\n",
       "    }\n",
       "\n",
       "    .dataframe tbody tr th {\n",
       "        vertical-align: top;\n",
       "    }\n",
       "\n",
       "    .dataframe thead th {\n",
       "        text-align: right;\n",
       "    }\n",
       "</style>\n",
       "<table border=\"1\" class=\"dataframe\">\n",
       "  <thead>\n",
       "    <tr style=\"text-align: right;\">\n",
       "      <th></th>\n",
       "      <th>time</th>\n",
       "      <th>event</th>\n",
       "    </tr>\n",
       "  </thead>\n",
       "  <tbody>\n",
       "    <tr>\n",
       "      <th>0</th>\n",
       "      <td>2020-04-23 07:30:00</td>\n",
       "      <td>wake up</td>\n",
       "    </tr>\n",
       "  </tbody>\n",
       "</table>\n",
       "</div>"
      ],
      "text/plain": [
       "                  time    event\n",
       "0  2020-04-23 07:30:00  wake up"
      ]
     },
     "execution_count": 7,
     "metadata": {},
     "output_type": "execute_result"
    }
   ],
   "source": [
    "pcm.get_residuals()"
   ]
  },
  {
   "cell_type": "markdown",
   "metadata": {},
   "source": [
    "This way `pcm` does not store all the data, but has all information needed to reconstruct it entirely !!"
   ]
  },
  {
   "cell_type": "code",
   "execution_count": 8,
   "metadata": {
    "tags": []
   },
   "outputs": [
    {
     "data": {
      "text/html": [
       "<div>\n",
       "<style scoped>\n",
       "    .dataframe tbody tr th:only-of-type {\n",
       "        vertical-align: middle;\n",
       "    }\n",
       "\n",
       "    .dataframe tbody tr th {\n",
       "        vertical-align: top;\n",
       "    }\n",
       "\n",
       "    .dataframe thead th {\n",
       "        text-align: right;\n",
       "    }\n",
       "</style>\n",
       "<table border=\"1\" class=\"dataframe\">\n",
       "  <thead>\n",
       "    <tr style=\"text-align: right;\">\n",
       "      <th></th>\n",
       "      <th>time</th>\n",
       "      <th>event</th>\n",
       "    </tr>\n",
       "  </thead>\n",
       "  <tbody>\n",
       "    <tr>\n",
       "      <th>0</th>\n",
       "      <td>2020-04-16 07:30:00</td>\n",
       "      <td>wake up</td>\n",
       "    </tr>\n",
       "    <tr>\n",
       "      <th>1</th>\n",
       "      <td>2020-04-17 07:29:00</td>\n",
       "      <td>wake up</td>\n",
       "    </tr>\n",
       "    <tr>\n",
       "      <th>2</th>\n",
       "      <td>2020-04-18 07:29:00</td>\n",
       "      <td>wake up</td>\n",
       "    </tr>\n",
       "    <tr>\n",
       "      <th>3</th>\n",
       "      <td>2020-04-19 07:30:00</td>\n",
       "      <td>wake up</td>\n",
       "    </tr>\n",
       "    <tr>\n",
       "      <th>4</th>\n",
       "      <td>2020-04-20 07:32:00</td>\n",
       "      <td>wake up</td>\n",
       "    </tr>\n",
       "  </tbody>\n",
       "</table>\n",
       "</div>"
      ],
      "text/plain": [
       "                  time    event\n",
       "0  2020-04-16 07:30:00  wake up\n",
       "1  2020-04-17 07:29:00  wake up\n",
       "2  2020-04-18 07:29:00  wake up\n",
       "3  2020-04-19 07:30:00  wake up\n",
       "4  2020-04-20 07:32:00  wake up"
      ]
     },
     "execution_count": 8,
     "metadata": {},
     "output_type": "execute_result"
    }
   ],
   "source": [
    "pcm.reconstruct()"
   ]
  },
  {
   "cell_type": "markdown",
   "metadata": {},
   "source": [
    "### An example with Canadian TV programs\n",
    "#### Fetching logs from canadian TV\n",
    "\n",
    "In this section we are going to load some event logs of TV programs (the `WHAT`), indexed by their broadcast timestamps (the `WHEN`).\n",
    "\n",
    "`PeriodicCycleMiner` is here to help us discovering regularities (the `HOW`)"
   ]
  },
  {
   "cell_type": "code",
   "execution_count": 9,
   "metadata": {
    "tags": []
   },
   "outputs": [],
   "source": [
    "from skmine.datasets import fetch_canadian_tv\n",
    "from skmine.periodic import PeriodicCycleMiner"
   ]
  },
  {
   "cell_type": "markdown",
   "metadata": {},
   "source": [
    "#### Searching for cycles in TV programs\n",
    "\n",
    "Remember about the definition of cycles ?\n",
    "Let's apply it to our TV programs\n",
    "\n",
    "In our case\n",
    "\n",
    "* $\\alpha$ is the name of a TV program\n",
    "\n",
    "* $r$ is the number of broadcasts (repetitions) for this TV program (inside this cycle)\n",
    "\n",
    "* $p$ is the optimal time delta between broadcasts in this cycle. If a program is meant to be live everyday at 14:00PM, then $p$ is likely to be `1 day`\n",
    "\n",
    "* $\\tau$ is the first broadcast time in this cycle\n",
    "\n",
    "* $dE$ are the shift corrections between the $p$ and the actual broadcast time of an event. If a TV program was scheduled at 8:30:00AM and it went on air at 8:30:23AM the same day, then we keep track of a `23 seconds shift`. This way we can summarize our data (via cycles), and reconstruct it (via shift corrections). \n",
    "\n",
    "\n",
    "Finally we are going to dig a little deeper into these cycles, to answer quite complex questions about our logs. We will see that cycles contains usefull information about our input data"
   ]
  },
  {
   "cell_type": "code",
   "execution_count": 10,
   "metadata": {
    "tags": []
   },
   "outputs": [
    {
     "name": "stderr",
     "output_type": "stream",
     "text": [
      "/home/cregan/fsl/lib/python3.10/site-packages/scikit_mine-0.0.10-py3.10.egg/skmine/datasets/periodic.py:113: FutureWarning: The squeeze argument has been deprecated and will be removed in a future version. Append .squeeze(\"columns\") to the call to squeeze.\n",
      "\n",
      "\n",
      "  s = pd.read_csv(\n"
     ]
    },
    {
     "data": {
      "text/plain": [
       "timestamp\n",
       "2020-08-01 06:00:00            The Moblees\n",
       "2020-08-01 06:11:00    Big Block Sing Song\n",
       "2020-08-01 06:13:00    Big Block Sing Song\n",
       "2020-08-01 06:15:00               CBC Kids\n",
       "2020-08-01 06:15:00               CBC Kids\n",
       "Name: canadian_tv, dtype: string"
      ]
     },
     "execution_count": 10,
     "metadata": {},
     "output_type": "execute_result"
    }
   ],
   "source": [
    "ctv_logs = fetch_canadian_tv()\n",
    "ctv_logs.head()"
   ]
  },
  {
   "cell_type": "markdown",
   "metadata": {},
   "source": [
    "Compute only simple cycles on ctv_logs with the karg *complex=False* : "
   ]
  },
  {
   "cell_type": "code",
   "execution_count": 11,
   "metadata": {
    "tags": []
   },
   "outputs": [
    {
     "name": "stderr",
     "output_type": "stream",
     "text": [
      "/home/cregan/fsl/lib/python3.10/site-packages/scikit_mine-0.0.10-py3.10.egg/skmine/periodic/cycles.py:121: UserWarning: Duplicates found in the input sequence, they have been removed.\n",
      "  warnings.warn(\n"
     ]
    },
    {
     "name": "stdout",
     "output_type": "stream",
     "text": [
      "self.alpha_groups 98\n",
      "S.values 1859\n",
      " ---- COLLECTION STATS (Total=298 nb_simple=298)\n",
      "Code length patterns (298): 17740.810901\n",
      "Code length residuals (479): 11285.019585\n",
      "-- Total code length = 29025.830486 (67.942879% of 42720.931352)\n",
      "\n"
     ]
    },
    {
     "data": {
      "text/html": [
       "<div>\n",
       "<style scoped>\n",
       "    .dataframe tbody tr th:only-of-type {\n",
       "        vertical-align: middle;\n",
       "    }\n",
       "\n",
       "    .dataframe tbody tr th {\n",
       "        vertical-align: top;\n",
       "    }\n",
       "\n",
       "    .dataframe thead th {\n",
       "        text-align: right;\n",
       "    }\n",
       "</style>\n",
       "<table border=\"1\" class=\"dataframe\">\n",
       "  <thead>\n",
       "    <tr style=\"text-align: right;\">\n",
       "      <th></th>\n",
       "      <th>t0</th>\n",
       "      <th>pattern_json_tree</th>\n",
       "      <th>pattern_resume</th>\n",
       "      <th>length_major</th>\n",
       "      <th>period_major</th>\n",
       "      <th>cost</th>\n",
       "      <th>type</th>\n",
       "      <th>E</th>\n",
       "    </tr>\n",
       "  </thead>\n",
       "  <tbody>\n",
       "    <tr>\n",
       "      <th>57</th>\n",
       "      <td>2020-08-01 04:00:00</td>\n",
       "      <td>{\"nid\": 0, \"r\": 5, \"p\": 60480, \"parent\": \"None...</td>\n",
       "      <td>(Rick Mercer Report)[r=5 p=60480]</td>\n",
       "      <td>5</td>\n",
       "      <td>7 days 00:00:00</td>\n",
       "      <td>54.264637</td>\n",
       "      <td>simple</td>\n",
       "      <td>0</td>\n",
       "    </tr>\n",
       "    <tr>\n",
       "      <th>58</th>\n",
       "      <td>2020-08-01 04:30:00</td>\n",
       "      <td>{\"nid\": 0, \"r\": 5, \"p\": 60480, \"parent\": \"None...</td>\n",
       "      <td>(Rick Mercer Report)[r=5 p=60480]</td>\n",
       "      <td>5</td>\n",
       "      <td>7 days 00:00:00</td>\n",
       "      <td>54.264637</td>\n",
       "      <td>simple</td>\n",
       "      <td>0</td>\n",
       "    </tr>\n",
       "    <tr>\n",
       "      <th>0</th>\n",
       "      <td>2020-08-01 05:00:00</td>\n",
       "      <td>{\"nid\": 0, \"r\": 31, \"p\": 8640, \"parent\": \"None...</td>\n",
       "      <td>(Grand Designs)[r=31 p=8640]</td>\n",
       "      <td>31</td>\n",
       "      <td>1 days 00:00:00</td>\n",
       "      <td>101.690178</td>\n",
       "      <td>simple</td>\n",
       "      <td>0</td>\n",
       "    </tr>\n",
       "    <tr>\n",
       "      <th>65</th>\n",
       "      <td>2020-08-01 06:00:00</td>\n",
       "      <td>{\"nid\": 0, \"r\": 5, \"p\": 60480, \"parent\": \"None...</td>\n",
       "      <td>(The Moblees)[r=5 p=60480]</td>\n",
       "      <td>5</td>\n",
       "      <td>7 days 00:00:00</td>\n",
       "      <td>54.264637</td>\n",
       "      <td>simple</td>\n",
       "      <td>0</td>\n",
       "    </tr>\n",
       "    <tr>\n",
       "      <th>25</th>\n",
       "      <td>2020-08-01 06:11:00</td>\n",
       "      <td>{\"nid\": 0, \"r\": 5, \"p\": 60480, \"parent\": \"None...</td>\n",
       "      <td>(Big Block Sing Song)[r=5 p=60480]</td>\n",
       "      <td>5</td>\n",
       "      <td>7 days 00:00:00</td>\n",
       "      <td>54.264637</td>\n",
       "      <td>simple</td>\n",
       "      <td>0</td>\n",
       "    </tr>\n",
       "    <tr>\n",
       "      <th>...</th>\n",
       "      <td>...</td>\n",
       "      <td>...</td>\n",
       "      <td>...</td>\n",
       "      <td>...</td>\n",
       "      <td>...</td>\n",
       "      <td>...</td>\n",
       "      <td>...</td>\n",
       "      <td>...</td>\n",
       "    </tr>\n",
       "    <tr>\n",
       "      <th>277</th>\n",
       "      <td>2020-08-26 04:00:00</td>\n",
       "      <td>{\"nid\": 0, \"r\": 3, \"p\": 7560, \"parent\": \"None\"...</td>\n",
       "      <td>(CBC News: The National)[r=3 p=7560]</td>\n",
       "      <td>3</td>\n",
       "      <td>0 days 21:00:00</td>\n",
       "      <td>54.585597</td>\n",
       "      <td>simple</td>\n",
       "      <td>0</td>\n",
       "    </tr>\n",
       "    <tr>\n",
       "      <th>231</th>\n",
       "      <td>2020-08-26 10:59:00</td>\n",
       "      <td>{\"nid\": 0, \"r\": 4, \"p\": 8640, \"parent\": \"None\"...</td>\n",
       "      <td>(CBC Kids)[r=4 p=8640]</td>\n",
       "      <td>4</td>\n",
       "      <td>1 days 00:00:00</td>\n",
       "      <td>67.937446</td>\n",
       "      <td>simple</td>\n",
       "      <td>12</td>\n",
       "    </tr>\n",
       "    <tr>\n",
       "      <th>276</th>\n",
       "      <td>2020-08-26 14:00:00</td>\n",
       "      <td>{\"nid\": 0, \"r\": 3, \"p\": 8640, \"parent\": \"None\"...</td>\n",
       "      <td>(Jamie's Super Foods)[r=3 p=8640]</td>\n",
       "      <td>3</td>\n",
       "      <td>1 days 00:00:00</td>\n",
       "      <td>54.573179</td>\n",
       "      <td>simple</td>\n",
       "      <td>0</td>\n",
       "    </tr>\n",
       "    <tr>\n",
       "      <th>190</th>\n",
       "      <td>2020-08-27 02:00:00</td>\n",
       "      <td>{\"nid\": 0, \"r\": 4, \"p\": 180, \"parent\": \"None\",...</td>\n",
       "      <td>(Mr. D)[r=4 p=180]</td>\n",
       "      <td>4</td>\n",
       "      <td>0 days 00:30:00</td>\n",
       "      <td>56.081774</td>\n",
       "      <td>simple</td>\n",
       "      <td>0</td>\n",
       "    </tr>\n",
       "    <tr>\n",
       "      <th>2</th>\n",
       "      <td>2020-08-28 00:00:00</td>\n",
       "      <td>{\"nid\": 0, \"r\": 8, \"p\": 180, \"parent\": \"None\",...</td>\n",
       "      <td>(Schitt's Creek)[r=8 p=180]</td>\n",
       "      <td>8</td>\n",
       "      <td>0 days 00:30:00</td>\n",
       "      <td>62.855458</td>\n",
       "      <td>simple</td>\n",
       "      <td>0</td>\n",
       "    </tr>\n",
       "  </tbody>\n",
       "</table>\n",
       "<p>298 rows × 8 columns</p>\n",
       "</div>"
      ],
      "text/plain": [
       "                     t0                                  pattern_json_tree  \\\n",
       "57  2020-08-01 04:00:00  {\"nid\": 0, \"r\": 5, \"p\": 60480, \"parent\": \"None...   \n",
       "58  2020-08-01 04:30:00  {\"nid\": 0, \"r\": 5, \"p\": 60480, \"parent\": \"None...   \n",
       "0   2020-08-01 05:00:00  {\"nid\": 0, \"r\": 31, \"p\": 8640, \"parent\": \"None...   \n",
       "65  2020-08-01 06:00:00  {\"nid\": 0, \"r\": 5, \"p\": 60480, \"parent\": \"None...   \n",
       "25  2020-08-01 06:11:00  {\"nid\": 0, \"r\": 5, \"p\": 60480, \"parent\": \"None...   \n",
       "..                  ...                                                ...   \n",
       "277 2020-08-26 04:00:00  {\"nid\": 0, \"r\": 3, \"p\": 7560, \"parent\": \"None\"...   \n",
       "231 2020-08-26 10:59:00  {\"nid\": 0, \"r\": 4, \"p\": 8640, \"parent\": \"None\"...   \n",
       "276 2020-08-26 14:00:00  {\"nid\": 0, \"r\": 3, \"p\": 8640, \"parent\": \"None\"...   \n",
       "190 2020-08-27 02:00:00  {\"nid\": 0, \"r\": 4, \"p\": 180, \"parent\": \"None\",...   \n",
       "2   2020-08-28 00:00:00  {\"nid\": 0, \"r\": 8, \"p\": 180, \"parent\": \"None\",...   \n",
       "\n",
       "                           pattern_resume  length_major    period_major  \\\n",
       "57      (Rick Mercer Report)[r=5 p=60480]             5 7 days 00:00:00   \n",
       "58      (Rick Mercer Report)[r=5 p=60480]             5 7 days 00:00:00   \n",
       "0            (Grand Designs)[r=31 p=8640]            31 1 days 00:00:00   \n",
       "65             (The Moblees)[r=5 p=60480]             5 7 days 00:00:00   \n",
       "25     (Big Block Sing Song)[r=5 p=60480]             5 7 days 00:00:00   \n",
       "..                                    ...           ...             ...   \n",
       "277  (CBC News: The National)[r=3 p=7560]             3 0 days 21:00:00   \n",
       "231                (CBC Kids)[r=4 p=8640]             4 1 days 00:00:00   \n",
       "276     (Jamie's Super Foods)[r=3 p=8640]             3 1 days 00:00:00   \n",
       "190                    (Mr. D)[r=4 p=180]             4 0 days 00:30:00   \n",
       "2             (Schitt's Creek)[r=8 p=180]             8 0 days 00:30:00   \n",
       "\n",
       "           cost    type   E  \n",
       "57    54.264637  simple   0  \n",
       "58    54.264637  simple   0  \n",
       "0    101.690178  simple   0  \n",
       "65    54.264637  simple   0  \n",
       "25    54.264637  simple   0  \n",
       "..          ...     ...  ..  \n",
       "277   54.585597  simple   0  \n",
       "231   67.937446  simple  12  \n",
       "276   54.573179  simple   0  \n",
       "190   56.081774  simple   0  \n",
       "2     62.855458  simple   0  \n",
       "\n",
       "[298 rows x 8 columns]"
      ]
     },
     "execution_count": 11,
     "metadata": {},
     "output_type": "execute_result"
    }
   ],
   "source": [
    "pcm = PeriodicCycleMiner().fit(ctv_logs, complex=False)\n",
    "pcm.discover()"
   ]
  },
  {
   "cell_type": "markdown",
   "metadata": {},
   "source": [
    "Compute simple and complex (with horizontal and vertical combinations) cycles on ctv_logs : "
   ]
  },
  {
   "cell_type": "code",
   "execution_count": 12,
   "metadata": {
    "tags": []
   },
   "outputs": [
    {
     "name": "stderr",
     "output_type": "stream",
     "text": [
      "/home/cregan/fsl/lib/python3.10/site-packages/scikit_mine-0.0.10-py3.10.egg/skmine/periodic/cycles.py:121: UserWarning: Duplicates found in the input sequence, they have been removed.\n",
      "  warnings.warn(\n"
     ]
    },
    {
     "name": "stdout",
     "output_type": "stream",
     "text": [
      "self.alpha_groups 98\n",
      "S.values 1859\n",
      " ---- COLLECTION STATS (Total=140 nb_simple=70 nb_concat=60 nb_other=8 nb_nested=2)\n",
      "Code length patterns (140): 13747.284696\n",
      "Code length residuals (413): 9800.106879\n",
      "-- Total code length = 23547.391575 (55.119097% of 42720.931352)\n",
      "\n"
     ]
    }
   ],
   "source": [
    "pcm = PeriodicCycleMiner().fit(ctv_logs)"
   ]
  },
  {
   "cell_type": "code",
   "execution_count": 13,
   "metadata": {
    "tags": []
   },
   "outputs": [
    {
     "data": {
      "text/html": [
       "<div>\n",
       "<style scoped>\n",
       "    .dataframe tbody tr th:only-of-type {\n",
       "        vertical-align: middle;\n",
       "    }\n",
       "\n",
       "    .dataframe tbody tr th {\n",
       "        vertical-align: top;\n",
       "    }\n",
       "\n",
       "    .dataframe thead th {\n",
       "        text-align: right;\n",
       "    }\n",
       "</style>\n",
       "<table border=\"1\" class=\"dataframe\">\n",
       "  <thead>\n",
       "    <tr style=\"text-align: right;\">\n",
       "      <th></th>\n",
       "      <th>t0</th>\n",
       "      <th>pattern_json_tree</th>\n",
       "      <th>pattern_resume</th>\n",
       "      <th>length_major</th>\n",
       "      <th>period_major</th>\n",
       "      <th>cost</th>\n",
       "      <th>type</th>\n",
       "      <th>E</th>\n",
       "    </tr>\n",
       "  </thead>\n",
       "  <tbody>\n",
       "    <tr>\n",
       "      <th>51</th>\n",
       "      <td>2020-08-01 04:00:00</td>\n",
       "      <td>{\"nid\": 0, \"r\": 5, \"p\": 60480, \"parent\": \"None...</td>\n",
       "      <td>(Rick Mercer Report)[r=5 p=60480]</td>\n",
       "      <td>5</td>\n",
       "      <td>7 days 00:00:00</td>\n",
       "      <td>54.264637</td>\n",
       "      <td>simple</td>\n",
       "      <td>0</td>\n",
       "    </tr>\n",
       "    <tr>\n",
       "      <th>45</th>\n",
       "      <td>2020-08-01 04:30:00</td>\n",
       "      <td>{\"nid\": 0, \"r\": 5, \"p\": 60480, \"parent\": \"None...</td>\n",
       "      <td>(Rick Mercer Report [d=642] The Adventures of ...</td>\n",
       "      <td>5</td>\n",
       "      <td>7 days 00:00:00</td>\n",
       "      <td>103.131763</td>\n",
       "      <td>concat</td>\n",
       "      <td>6</td>\n",
       "    </tr>\n",
       "    <tr>\n",
       "      <th>0</th>\n",
       "      <td>2020-08-01 05:00:00</td>\n",
       "      <td>{\"nid\": 0, \"r\": 31, \"p\": 8640, \"parent\": \"None...</td>\n",
       "      <td>(Grand Designs)[r=31 p=8640]</td>\n",
       "      <td>31</td>\n",
       "      <td>1 days 00:00:00</td>\n",
       "      <td>101.690178</td>\n",
       "      <td>simple</td>\n",
       "      <td>0</td>\n",
       "    </tr>\n",
       "    <tr>\n",
       "      <th>9</th>\n",
       "      <td>2020-08-01 06:00:00</td>\n",
       "      <td>{\"nid\": 0, \"r\": 5, \"p\": 60480, \"parent\": \"None...</td>\n",
       "      <td>(The Moblees [d=66] Big Block Sing Song [d=12]...</td>\n",
       "      <td>5</td>\n",
       "      <td>7 days 00:00:00</td>\n",
       "      <td>164.529690</td>\n",
       "      <td>concat</td>\n",
       "      <td>6</td>\n",
       "    </tr>\n",
       "    <tr>\n",
       "      <th>96</th>\n",
       "      <td>2020-08-01 06:30:00</td>\n",
       "      <td>{\"nid\": 0, \"r\": 5, \"p\": 60477, \"parent\": \"None...</td>\n",
       "      <td>(Daniel Tiger's Neighbourhood)[r=5 p=60477]</td>\n",
       "      <td>5</td>\n",
       "      <td>6 days 23:59:30</td>\n",
       "      <td>72.264958</td>\n",
       "      <td>simple</td>\n",
       "      <td>18</td>\n",
       "    </tr>\n",
       "    <tr>\n",
       "      <th>...</th>\n",
       "      <td>...</td>\n",
       "      <td>...</td>\n",
       "      <td>...</td>\n",
       "      <td>...</td>\n",
       "      <td>...</td>\n",
       "      <td>...</td>\n",
       "      <td>...</td>\n",
       "      <td>...</td>\n",
       "    </tr>\n",
       "    <tr>\n",
       "      <th>93</th>\n",
       "      <td>2020-08-25 02:00:00</td>\n",
       "      <td>{\"nid\": 0, \"r\": 4, \"p\": 180, \"parent\": \"None\",...</td>\n",
       "      <td>(This Hour Has 22 Minutes)[r=4 p=180]</td>\n",
       "      <td>4</td>\n",
       "      <td>0 days 00:30:00</td>\n",
       "      <td>56.081774</td>\n",
       "      <td>simple</td>\n",
       "      <td>0</td>\n",
       "    </tr>\n",
       "    <tr>\n",
       "      <th>24</th>\n",
       "      <td>2020-08-26 00:30:00</td>\n",
       "      <td>{\"nid\": 0, \"r\": 7, \"p\": 180, \"parent\": \"None\",...</td>\n",
       "      <td>(Kim's Convenience)[r=7 p=180]</td>\n",
       "      <td>7</td>\n",
       "      <td>0 days 00:30:00</td>\n",
       "      <td>61.078848</td>\n",
       "      <td>simple</td>\n",
       "      <td>0</td>\n",
       "    </tr>\n",
       "    <tr>\n",
       "      <th>105</th>\n",
       "      <td>2020-08-26 14:00:00</td>\n",
       "      <td>{\"nid\": 0, \"r\": 3, \"p\": 8640, \"parent\": \"None\"...</td>\n",
       "      <td>(Jamie's Super Foods [d=1980] Just For Laughs:...</td>\n",
       "      <td>3</td>\n",
       "      <td>1 days 00:00:00</td>\n",
       "      <td>94.162808</td>\n",
       "      <td>concat</td>\n",
       "      <td>0</td>\n",
       "    </tr>\n",
       "    <tr>\n",
       "      <th>91</th>\n",
       "      <td>2020-08-27 02:00:00</td>\n",
       "      <td>{\"nid\": 0, \"r\": 4, \"p\": 180, \"parent\": \"None\",...</td>\n",
       "      <td>(Mr. D)[r=4 p=180]</td>\n",
       "      <td>4</td>\n",
       "      <td>0 days 00:30:00</td>\n",
       "      <td>56.081774</td>\n",
       "      <td>simple</td>\n",
       "      <td>0</td>\n",
       "    </tr>\n",
       "    <tr>\n",
       "      <th>17</th>\n",
       "      <td>2020-08-28 00:00:00</td>\n",
       "      <td>{\"nid\": 0, \"r\": 8, \"p\": 180, \"parent\": \"None\",...</td>\n",
       "      <td>(Schitt's Creek)[r=8 p=180]</td>\n",
       "      <td>8</td>\n",
       "      <td>0 days 00:30:00</td>\n",
       "      <td>62.855458</td>\n",
       "      <td>simple</td>\n",
       "      <td>0</td>\n",
       "    </tr>\n",
       "  </tbody>\n",
       "</table>\n",
       "<p>140 rows × 8 columns</p>\n",
       "</div>"
      ],
      "text/plain": [
       "                     t0                                  pattern_json_tree  \\\n",
       "51  2020-08-01 04:00:00  {\"nid\": 0, \"r\": 5, \"p\": 60480, \"parent\": \"None...   \n",
       "45  2020-08-01 04:30:00  {\"nid\": 0, \"r\": 5, \"p\": 60480, \"parent\": \"None...   \n",
       "0   2020-08-01 05:00:00  {\"nid\": 0, \"r\": 31, \"p\": 8640, \"parent\": \"None...   \n",
       "9   2020-08-01 06:00:00  {\"nid\": 0, \"r\": 5, \"p\": 60480, \"parent\": \"None...   \n",
       "96  2020-08-01 06:30:00  {\"nid\": 0, \"r\": 5, \"p\": 60477, \"parent\": \"None...   \n",
       "..                  ...                                                ...   \n",
       "93  2020-08-25 02:00:00  {\"nid\": 0, \"r\": 4, \"p\": 180, \"parent\": \"None\",...   \n",
       "24  2020-08-26 00:30:00  {\"nid\": 0, \"r\": 7, \"p\": 180, \"parent\": \"None\",...   \n",
       "105 2020-08-26 14:00:00  {\"nid\": 0, \"r\": 3, \"p\": 8640, \"parent\": \"None\"...   \n",
       "91  2020-08-27 02:00:00  {\"nid\": 0, \"r\": 4, \"p\": 180, \"parent\": \"None\",...   \n",
       "17  2020-08-28 00:00:00  {\"nid\": 0, \"r\": 8, \"p\": 180, \"parent\": \"None\",...   \n",
       "\n",
       "                                        pattern_resume  length_major  \\\n",
       "51                   (Rick Mercer Report)[r=5 p=60480]             5   \n",
       "45   (Rick Mercer Report [d=642] The Adventures of ...             5   \n",
       "0                         (Grand Designs)[r=31 p=8640]            31   \n",
       "9    (The Moblees [d=66] Big Block Sing Song [d=12]...             5   \n",
       "96         (Daniel Tiger's Neighbourhood)[r=5 p=60477]             5   \n",
       "..                                                 ...           ...   \n",
       "93               (This Hour Has 22 Minutes)[r=4 p=180]             4   \n",
       "24                      (Kim's Convenience)[r=7 p=180]             7   \n",
       "105  (Jamie's Super Foods [d=1980] Just For Laughs:...             3   \n",
       "91                                  (Mr. D)[r=4 p=180]             4   \n",
       "17                         (Schitt's Creek)[r=8 p=180]             8   \n",
       "\n",
       "       period_major        cost    type   E  \n",
       "51  7 days 00:00:00   54.264637  simple   0  \n",
       "45  7 days 00:00:00  103.131763  concat   6  \n",
       "0   1 days 00:00:00  101.690178  simple   0  \n",
       "9   7 days 00:00:00  164.529690  concat   6  \n",
       "96  6 days 23:59:30   72.264958  simple  18  \n",
       "..              ...         ...     ...  ..  \n",
       "93  0 days 00:30:00   56.081774  simple   0  \n",
       "24  0 days 00:30:00   61.078848  simple   0  \n",
       "105 1 days 00:00:00   94.162808  concat   0  \n",
       "91  0 days 00:30:00   56.081774  simple   0  \n",
       "17  0 days 00:30:00   62.855458  simple   0  \n",
       "\n",
       "[140 rows x 8 columns]"
      ]
     },
     "execution_count": 13,
     "metadata": {},
     "output_type": "execute_result"
    }
   ],
   "source": [
    "cycles = pcm.discover()\n",
    "cycles"
   ]
  },
  {
   "cell_type": "markdown",
   "metadata": {},
   "source": [
    "`Note` : no need to worry for the warning, it's here to notify duplicate event/timestamp pairs have been found"
   ]
  },
  {
   "cell_type": "markdown",
   "metadata": {},
   "source": [
    "Now that we have our cycles in a [pandas.DataFrame](https://pandas.pydata.org/pandas-docs/stable/reference/api/pandas.DataFrame.html), we can play with the pandas API and answer questions about our logs\n",
    "\n",
    "#### Did I find cycles for the TV show \"Arthurt Shorts\""
   ]
  },
  {
   "cell_type": "code",
   "execution_count": 14,
   "metadata": {
    "tags": []
   },
   "outputs": [
    {
     "data": {
      "text/html": [
       "<div>\n",
       "<style scoped>\n",
       "    .dataframe tbody tr th:only-of-type {\n",
       "        vertical-align: middle;\n",
       "    }\n",
       "\n",
       "    .dataframe tbody tr th {\n",
       "        vertical-align: top;\n",
       "    }\n",
       "\n",
       "    .dataframe thead th {\n",
       "        text-align: right;\n",
       "    }\n",
       "</style>\n",
       "<table border=\"1\" class=\"dataframe\">\n",
       "  <thead>\n",
       "    <tr style=\"text-align: right;\">\n",
       "      <th></th>\n",
       "      <th>t0</th>\n",
       "      <th>pattern_json_tree</th>\n",
       "      <th>pattern_resume</th>\n",
       "      <th>length_major</th>\n",
       "      <th>period_major</th>\n",
       "      <th>cost</th>\n",
       "      <th>type</th>\n",
       "      <th>E</th>\n",
       "    </tr>\n",
       "  </thead>\n",
       "  <tbody>\n",
       "    <tr>\n",
       "      <th>51</th>\n",
       "      <td>2020-08-01 04:00:00</td>\n",
       "      <td>{\"nid\": 0, \"r\": 5, \"p\": 60480, \"parent\": \"None...</td>\n",
       "      <td>(Rick Mercer Report)[r=5 p=60480]</td>\n",
       "      <td>5</td>\n",
       "      <td>7 days 00:00:00</td>\n",
       "      <td>54.264637</td>\n",
       "      <td>simple</td>\n",
       "      <td>0</td>\n",
       "    </tr>\n",
       "    <tr>\n",
       "      <th>45</th>\n",
       "      <td>2020-08-01 04:30:00</td>\n",
       "      <td>{\"nid\": 0, \"r\": 5, \"p\": 60480, \"parent\": \"None...</td>\n",
       "      <td>(Rick Mercer Report [d=642] The Adventures of ...</td>\n",
       "      <td>5</td>\n",
       "      <td>7 days 00:00:00</td>\n",
       "      <td>103.131763</td>\n",
       "      <td>concat</td>\n",
       "      <td>6</td>\n",
       "    </tr>\n",
       "    <tr>\n",
       "      <th>0</th>\n",
       "      <td>2020-08-01 05:00:00</td>\n",
       "      <td>{\"nid\": 0, \"r\": 31, \"p\": 8640, \"parent\": \"None...</td>\n",
       "      <td>(Grand Designs)[r=31 p=8640]</td>\n",
       "      <td>31</td>\n",
       "      <td>1 days 00:00:00</td>\n",
       "      <td>101.690178</td>\n",
       "      <td>simple</td>\n",
       "      <td>0</td>\n",
       "    </tr>\n",
       "    <tr>\n",
       "      <th>9</th>\n",
       "      <td>2020-08-01 06:00:00</td>\n",
       "      <td>{\"nid\": 0, \"r\": 5, \"p\": 60480, \"parent\": \"None...</td>\n",
       "      <td>(The Moblees [d=66] Big Block Sing Song [d=12]...</td>\n",
       "      <td>5</td>\n",
       "      <td>7 days 00:00:00</td>\n",
       "      <td>164.529690</td>\n",
       "      <td>concat</td>\n",
       "      <td>6</td>\n",
       "    </tr>\n",
       "    <tr>\n",
       "      <th>96</th>\n",
       "      <td>2020-08-01 06:30:00</td>\n",
       "      <td>{\"nid\": 0, \"r\": 5, \"p\": 60477, \"parent\": \"None...</td>\n",
       "      <td>(Daniel Tiger's Neighbourhood)[r=5 p=60477]</td>\n",
       "      <td>5</td>\n",
       "      <td>6 days 23:59:30</td>\n",
       "      <td>72.264958</td>\n",
       "      <td>simple</td>\n",
       "      <td>18</td>\n",
       "    </tr>\n",
       "    <tr>\n",
       "      <th>...</th>\n",
       "      <td>...</td>\n",
       "      <td>...</td>\n",
       "      <td>...</td>\n",
       "      <td>...</td>\n",
       "      <td>...</td>\n",
       "      <td>...</td>\n",
       "      <td>...</td>\n",
       "      <td>...</td>\n",
       "    </tr>\n",
       "    <tr>\n",
       "      <th>93</th>\n",
       "      <td>2020-08-25 02:00:00</td>\n",
       "      <td>{\"nid\": 0, \"r\": 4, \"p\": 180, \"parent\": \"None\",...</td>\n",
       "      <td>(This Hour Has 22 Minutes)[r=4 p=180]</td>\n",
       "      <td>4</td>\n",
       "      <td>0 days 00:30:00</td>\n",
       "      <td>56.081774</td>\n",
       "      <td>simple</td>\n",
       "      <td>0</td>\n",
       "    </tr>\n",
       "    <tr>\n",
       "      <th>24</th>\n",
       "      <td>2020-08-26 00:30:00</td>\n",
       "      <td>{\"nid\": 0, \"r\": 7, \"p\": 180, \"parent\": \"None\",...</td>\n",
       "      <td>(Kim's Convenience)[r=7 p=180]</td>\n",
       "      <td>7</td>\n",
       "      <td>0 days 00:30:00</td>\n",
       "      <td>61.078848</td>\n",
       "      <td>simple</td>\n",
       "      <td>0</td>\n",
       "    </tr>\n",
       "    <tr>\n",
       "      <th>105</th>\n",
       "      <td>2020-08-26 14:00:00</td>\n",
       "      <td>{\"nid\": 0, \"r\": 3, \"p\": 8640, \"parent\": \"None\"...</td>\n",
       "      <td>(Jamie's Super Foods [d=1980] Just For Laughs:...</td>\n",
       "      <td>3</td>\n",
       "      <td>1 days 00:00:00</td>\n",
       "      <td>94.162808</td>\n",
       "      <td>concat</td>\n",
       "      <td>0</td>\n",
       "    </tr>\n",
       "    <tr>\n",
       "      <th>91</th>\n",
       "      <td>2020-08-27 02:00:00</td>\n",
       "      <td>{\"nid\": 0, \"r\": 4, \"p\": 180, \"parent\": \"None\",...</td>\n",
       "      <td>(Mr. D)[r=4 p=180]</td>\n",
       "      <td>4</td>\n",
       "      <td>0 days 00:30:00</td>\n",
       "      <td>56.081774</td>\n",
       "      <td>simple</td>\n",
       "      <td>0</td>\n",
       "    </tr>\n",
       "    <tr>\n",
       "      <th>17</th>\n",
       "      <td>2020-08-28 00:00:00</td>\n",
       "      <td>{\"nid\": 0, \"r\": 8, \"p\": 180, \"parent\": \"None\",...</td>\n",
       "      <td>(Schitt's Creek)[r=8 p=180]</td>\n",
       "      <td>8</td>\n",
       "      <td>0 days 00:30:00</td>\n",
       "      <td>62.855458</td>\n",
       "      <td>simple</td>\n",
       "      <td>0</td>\n",
       "    </tr>\n",
       "  </tbody>\n",
       "</table>\n",
       "<p>140 rows × 8 columns</p>\n",
       "</div>"
      ],
      "text/plain": [
       "                     t0                                  pattern_json_tree  \\\n",
       "51  2020-08-01 04:00:00  {\"nid\": 0, \"r\": 5, \"p\": 60480, \"parent\": \"None...   \n",
       "45  2020-08-01 04:30:00  {\"nid\": 0, \"r\": 5, \"p\": 60480, \"parent\": \"None...   \n",
       "0   2020-08-01 05:00:00  {\"nid\": 0, \"r\": 31, \"p\": 8640, \"parent\": \"None...   \n",
       "9   2020-08-01 06:00:00  {\"nid\": 0, \"r\": 5, \"p\": 60480, \"parent\": \"None...   \n",
       "96  2020-08-01 06:30:00  {\"nid\": 0, \"r\": 5, \"p\": 60477, \"parent\": \"None...   \n",
       "..                  ...                                                ...   \n",
       "93  2020-08-25 02:00:00  {\"nid\": 0, \"r\": 4, \"p\": 180, \"parent\": \"None\",...   \n",
       "24  2020-08-26 00:30:00  {\"nid\": 0, \"r\": 7, \"p\": 180, \"parent\": \"None\",...   \n",
       "105 2020-08-26 14:00:00  {\"nid\": 0, \"r\": 3, \"p\": 8640, \"parent\": \"None\"...   \n",
       "91  2020-08-27 02:00:00  {\"nid\": 0, \"r\": 4, \"p\": 180, \"parent\": \"None\",...   \n",
       "17  2020-08-28 00:00:00  {\"nid\": 0, \"r\": 8, \"p\": 180, \"parent\": \"None\",...   \n",
       "\n",
       "                                        pattern_resume  length_major  \\\n",
       "51                   (Rick Mercer Report)[r=5 p=60480]             5   \n",
       "45   (Rick Mercer Report [d=642] The Adventures of ...             5   \n",
       "0                         (Grand Designs)[r=31 p=8640]            31   \n",
       "9    (The Moblees [d=66] Big Block Sing Song [d=12]...             5   \n",
       "96         (Daniel Tiger's Neighbourhood)[r=5 p=60477]             5   \n",
       "..                                                 ...           ...   \n",
       "93               (This Hour Has 22 Minutes)[r=4 p=180]             4   \n",
       "24                      (Kim's Convenience)[r=7 p=180]             7   \n",
       "105  (Jamie's Super Foods [d=1980] Just For Laughs:...             3   \n",
       "91                                  (Mr. D)[r=4 p=180]             4   \n",
       "17                         (Schitt's Creek)[r=8 p=180]             8   \n",
       "\n",
       "       period_major        cost    type   E  \n",
       "51  7 days 00:00:00   54.264637  simple   0  \n",
       "45  7 days 00:00:00  103.131763  concat   6  \n",
       "0   1 days 00:00:00  101.690178  simple   0  \n",
       "9   7 days 00:00:00  164.529690  concat   6  \n",
       "96  6 days 23:59:30   72.264958  simple  18  \n",
       "..              ...         ...     ...  ..  \n",
       "93  0 days 00:30:00   56.081774  simple   0  \n",
       "24  0 days 00:30:00   61.078848  simple   0  \n",
       "105 1 days 00:00:00   94.162808  concat   0  \n",
       "91  0 days 00:30:00   56.081774  simple   0  \n",
       "17  0 days 00:30:00   62.855458  simple   0  \n",
       "\n",
       "[140 rows x 8 columns]"
      ]
     },
     "execution_count": 14,
     "metadata": {},
     "output_type": "execute_result"
    }
   ],
   "source": [
    "cycles"
   ]
  },
  {
   "cell_type": "code",
   "execution_count": 15,
   "metadata": {
    "tags": []
   },
   "outputs": [
    {
     "ename": "KeyError",
     "evalue": "'event'",
     "output_type": "error",
     "traceback": [
      "\u001b[0;31m---------------------------------------------------------------------------\u001b[0m",
      "\u001b[0;31mKeyError\u001b[0m                                  Traceback (most recent call last)",
      "File \u001b[0;32m~/fsl/lib/python3.10/site-packages/pandas-1.5.2-py3.10-linux-x86_64.egg/pandas/core/indexes/base.py:3803\u001b[0m, in \u001b[0;36mIndex.get_loc\u001b[0;34m(self, key, method, tolerance)\u001b[0m\n\u001b[1;32m   3802\u001b[0m \u001b[38;5;28;01mtry\u001b[39;00m:\n\u001b[0;32m-> 3803\u001b[0m     \u001b[38;5;28;01mreturn\u001b[39;00m \u001b[38;5;28;43mself\u001b[39;49m\u001b[38;5;241;43m.\u001b[39;49m\u001b[43m_engine\u001b[49m\u001b[38;5;241;43m.\u001b[39;49m\u001b[43mget_loc\u001b[49m\u001b[43m(\u001b[49m\u001b[43mcasted_key\u001b[49m\u001b[43m)\u001b[49m\n\u001b[1;32m   3804\u001b[0m \u001b[38;5;28;01mexcept\u001b[39;00m \u001b[38;5;167;01mKeyError\u001b[39;00m \u001b[38;5;28;01mas\u001b[39;00m err:\n",
      "File \u001b[0;32m~/fsl/lib/python3.10/site-packages/pandas-1.5.2-py3.10-linux-x86_64.egg/pandas/_libs/index.pyx:138\u001b[0m, in \u001b[0;36mpandas._libs.index.IndexEngine.get_loc\u001b[0;34m()\u001b[0m\n",
      "File \u001b[0;32m~/fsl/lib/python3.10/site-packages/pandas-1.5.2-py3.10-linux-x86_64.egg/pandas/_libs/index.pyx:165\u001b[0m, in \u001b[0;36mpandas._libs.index.IndexEngine.get_loc\u001b[0;34m()\u001b[0m\n",
      "File \u001b[0;32mpandas/_libs/hashtable_class_helper.pxi:5745\u001b[0m, in \u001b[0;36mpandas._libs.hashtable.PyObjectHashTable.get_item\u001b[0;34m()\u001b[0m\n",
      "File \u001b[0;32mpandas/_libs/hashtable_class_helper.pxi:5753\u001b[0m, in \u001b[0;36mpandas._libs.hashtable.PyObjectHashTable.get_item\u001b[0;34m()\u001b[0m\n",
      "\u001b[0;31mKeyError\u001b[0m: 'event'",
      "\nThe above exception was the direct cause of the following exception:\n",
      "\u001b[0;31mKeyError\u001b[0m                                  Traceback (most recent call last)",
      "Cell \u001b[0;32mIn[15], line 1\u001b[0m\n\u001b[0;32m----> 1\u001b[0m cycles[\u001b[43mcycles\u001b[49m\u001b[43m[\u001b[49m\u001b[38;5;124;43m\"\u001b[39;49m\u001b[38;5;124;43mevent\u001b[39;49m\u001b[38;5;124;43m\"\u001b[39;49m\u001b[43m]\u001b[49m\u001b[38;5;241m.\u001b[39mapply(\u001b[38;5;28;01mlambda\u001b[39;00m x: \u001b[38;5;124m\"\u001b[39m\u001b[38;5;124mArthur Shorts\u001b[39m\u001b[38;5;124m\"\u001b[39m \u001b[38;5;129;01min\u001b[39;00m x)]\n",
      "File \u001b[0;32m~/fsl/lib/python3.10/site-packages/pandas-1.5.2-py3.10-linux-x86_64.egg/pandas/core/frame.py:3805\u001b[0m, in \u001b[0;36mDataFrame.__getitem__\u001b[0;34m(self, key)\u001b[0m\n\u001b[1;32m   3803\u001b[0m \u001b[38;5;28;01mif\u001b[39;00m \u001b[38;5;28mself\u001b[39m\u001b[38;5;241m.\u001b[39mcolumns\u001b[38;5;241m.\u001b[39mnlevels \u001b[38;5;241m>\u001b[39m \u001b[38;5;241m1\u001b[39m:\n\u001b[1;32m   3804\u001b[0m     \u001b[38;5;28;01mreturn\u001b[39;00m \u001b[38;5;28mself\u001b[39m\u001b[38;5;241m.\u001b[39m_getitem_multilevel(key)\n\u001b[0;32m-> 3805\u001b[0m indexer \u001b[38;5;241m=\u001b[39m \u001b[38;5;28;43mself\u001b[39;49m\u001b[38;5;241;43m.\u001b[39;49m\u001b[43mcolumns\u001b[49m\u001b[38;5;241;43m.\u001b[39;49m\u001b[43mget_loc\u001b[49m\u001b[43m(\u001b[49m\u001b[43mkey\u001b[49m\u001b[43m)\u001b[49m\n\u001b[1;32m   3806\u001b[0m \u001b[38;5;28;01mif\u001b[39;00m is_integer(indexer):\n\u001b[1;32m   3807\u001b[0m     indexer \u001b[38;5;241m=\u001b[39m [indexer]\n",
      "File \u001b[0;32m~/fsl/lib/python3.10/site-packages/pandas-1.5.2-py3.10-linux-x86_64.egg/pandas/core/indexes/base.py:3805\u001b[0m, in \u001b[0;36mIndex.get_loc\u001b[0;34m(self, key, method, tolerance)\u001b[0m\n\u001b[1;32m   3803\u001b[0m     \u001b[38;5;28;01mreturn\u001b[39;00m \u001b[38;5;28mself\u001b[39m\u001b[38;5;241m.\u001b[39m_engine\u001b[38;5;241m.\u001b[39mget_loc(casted_key)\n\u001b[1;32m   3804\u001b[0m \u001b[38;5;28;01mexcept\u001b[39;00m \u001b[38;5;167;01mKeyError\u001b[39;00m \u001b[38;5;28;01mas\u001b[39;00m err:\n\u001b[0;32m-> 3805\u001b[0m     \u001b[38;5;28;01mraise\u001b[39;00m \u001b[38;5;167;01mKeyError\u001b[39;00m(key) \u001b[38;5;28;01mfrom\u001b[39;00m \u001b[38;5;21;01merr\u001b[39;00m\n\u001b[1;32m   3806\u001b[0m \u001b[38;5;28;01mexcept\u001b[39;00m \u001b[38;5;167;01mTypeError\u001b[39;00m:\n\u001b[1;32m   3807\u001b[0m     \u001b[38;5;66;03m# If we have a listlike key, _check_indexing_error will raise\u001b[39;00m\n\u001b[1;32m   3808\u001b[0m     \u001b[38;5;66;03m#  InvalidIndexError. Otherwise we fall through and re-raise\u001b[39;00m\n\u001b[1;32m   3809\u001b[0m     \u001b[38;5;66;03m#  the TypeError.\u001b[39;00m\n\u001b[1;32m   3810\u001b[0m     \u001b[38;5;28mself\u001b[39m\u001b[38;5;241m.\u001b[39m_check_indexing_error(key)\n",
      "\u001b[0;31mKeyError\u001b[0m: 'event'"
     ]
    }
   ],
   "source": [
    "cycles[cycles[\"pattern_resume\"].apply(lambda x: \"Arthur Shorts\" in x)]"
   ]
  },
  {
   "cell_type": "markdown",
   "metadata": {},
   "source": [
    "#### What are the top 10 longest cycles ?"
   ]
  },
  {
   "cell_type": "code",
   "execution_count": null,
   "metadata": {
    "tags": []
   },
   "outputs": [],
   "source": [
    "cycles.nlargest(10, [\"length_major\"])"
   ]
  },
  {
   "cell_type": "code",
   "execution_count": null,
   "metadata": {
    "tags": []
   },
   "outputs": [],
   "source": [
    "pcm.reconstruct([1])"
   ]
  },
  {
   "cell_type": "code",
   "execution_count": null,
   "metadata": {
    "tags": []
   },
   "outputs": [],
   "source": [
    "pcm.get_residuals()"
   ]
  },
  {
   "cell_type": "markdown",
   "metadata": {},
   "source": [
    "#### what are the 10 most unpunctual TV programs ?\n",
    "For this we are going to :\n",
    " 1. extract the shift corrections along with other informations about our cycles\n",
    " 2. compute the sum of the absolute values for the shift corrections, for every cycles\n",
    " 3. get the 10 biggest sums"
   ]
  },
  {
   "cell_type": "code",
   "execution_count": null,
   "metadata": {},
   "outputs": [],
   "source": [
    "# full_cycles = pcm.discover()\n",
    "# full_cycles.head()"
   ]
  },
  {
   "cell_type": "code",
   "execution_count": null,
   "metadata": {
    "scrolled": true
   },
   "outputs": [],
   "source": [
    "# def absolute_sum(*args):\n",
    "#     return sum(map(abs, *args))\n",
    "\n",
    "# # level 0 is the name of the TV program\n",
    "# shift_sums = full_cycles[\"dE\"].map(absolute_sum).groupby(level=[0]).sum()\n",
    "# shift_sums.nlargest(10)"
   ]
  },
  {
   "cell_type": "markdown",
   "metadata": {},
   "source": [
    "<!-- #### what are the 10 most unpunctual TV programs ?\n",
    "For this we are going to :\n",
    " 1. extract the shift corrections along with other informations about our cycles\n",
    " 2. compute the sum of the absolute values for the shift corrections, for every cycles\n",
    " 3. get the 10 biggest sums -->"
   ]
  },
  {
   "cell_type": "code",
   "execution_count": null,
   "metadata": {},
   "outputs": [],
   "source": [
    "# def absolute_sum(*args):\n",
    "#     return sum(map(abs, *args))\n",
    "\n",
    "# # level 0 is the name of the TV program\n",
    "# shift_sums = full_cycles[\"dE\"].map(absolute_sum).groupby(level=[0]).sum()\n",
    "# shift_sums.nlargest(10)"
   ]
  },
  {
   "cell_type": "markdown",
   "metadata": {},
   "source": [
    "#### What TV programs have been broadcasted every day for at least 5 days straight?\n",
    "Let's make use of the [pandas.DataFrame.query](https://pandas.pydata.org/docs/reference/api/pandas.DataFrame.query.html) method to express our question in an SQL-like syntax"
   ]
  },
  {
   "cell_type": "code",
   "execution_count": null,
   "metadata": {
    "scrolled": true
   },
   "outputs": [],
   "source": [
    "# cycles.query('length_major >= 5 and period_major >= 3600', engine='python')\n",
    "# # cycles.query('length >= 5 and period == \"1 days\"', engine='python')"
   ]
  },
  {
   "cell_type": "markdown",
   "metadata": {},
   "source": [
    "#### What TV programs are broadcast only on business days ?\n",
    "From the previous query we see we have a lot of 5-length cycles, with periods of 1 day.\n",
    "An intuition is that these cycles take place on business days. Let's confirm this by considering cycles with\n",
    " 1. start timestamps on mondays\n",
    " 2. periods of roughly 1 day  "
   ]
  },
  {
   "cell_type": "code",
   "execution_count": null,
   "metadata": {
    "scrolled": true
   },
   "outputs": [],
   "source": [
    "# monday_starts = cycles[cycles.start.dt.weekday == 0]  # start on monday\n",
    "# monday_starts.query('length == 5 and period == \"1 days\"', engine='python')"
   ]
  },
  {
   "cell_type": "markdown",
   "metadata": {},
   "source": [
    "References\n",
    "----------\n",
    "\n",
    "1.\n",
    "    Galbrun, E & Cellier, P & Tatti, N & Termier, A & Crémilleux, B\n",
    "    \"Mining Periodic Pattern with a MDL Criterion\"\n",
    "\n",
    "2.\n",
    "    Galbrun, E\n",
    "    \"The Minimum Description Length Principle for Pattern Mining : A survey\"\n",
    "\n",
    "3. \n",
    "    Termier, A\n",
    "    [\"Periodic pattern mining\"](http://people.irisa.fr/Alexandre.Termier/dmv/DMV_Periodic_patterns.pdf) "
   ]
  }
 ],
 "metadata": {
  "kernelspec": {
   "display_name": "Python 3 (ipykernel)",
   "language": "python",
   "name": "python3"
  },
  "language_info": {
   "codemirror_mode": {
    "name": "ipython",
    "version": 3
   },
   "file_extension": ".py",
   "mimetype": "text/x-python",
   "name": "python",
   "nbconvert_exporter": "python",
   "pygments_lexer": "ipython3",
   "version": "3.10.8"
  },
  "toc": {
   "base_numbering": 1,
   "nav_menu": {},
   "number_sections": true,
   "sideBar": true,
   "skip_h1_title": false,
   "title_cell": "Table of Contents",
   "title_sidebar": "Contents",
   "toc_cell": false,
   "toc_position": {
    "height": "calc(100% - 180px)",
    "left": "10px",
    "top": "150px",
    "width": "247.55px"
   },
   "toc_section_display": true,
   "toc_window_display": true
  },
  "vscode": {
   "interpreter": {
    "hash": "c4418ac5ac56bcc1d654aebcb97e1ca3ff1be77625ab045a7b4b5e8ee820789e"
   }
  }
 },
 "nbformat": 4,
 "nbformat_minor": 4
}
