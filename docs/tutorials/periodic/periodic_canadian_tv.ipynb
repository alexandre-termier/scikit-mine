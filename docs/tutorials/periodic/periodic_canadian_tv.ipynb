{
 "cells": [
  {
   "cell_type": "markdown",
   "metadata": {},
   "source": [
    "## Periodic pattern mining on canadian TV logs\n",
    "<img src=\"skmine_series.png\" alt=\"logo\" style=\"width: 60%;\"/>"
   ]
  },
  {
   "cell_type": "markdown",
   "metadata": {},
   "source": [
    "### The problem, informally\n",
    "Let's take a simple example. \n",
    "\n",
    "Imagine you set an alarm to wake up every day around 7:30AM, and go to work. Sometimes you wake up a bit earlier (your body anticipates on the alarm), and sometimes a bit later, for example if you press the \"snooze\" button and refuse to face the fact that you have to wake up.\n",
    "\n",
    "In python we can load those \"wake up\" events as logs, and store them in a [pandas.Series](https://pandas.pydata.org/pandas-docs/stable/reference/api/pandas.Series.html), like"
   ]
  },
  {
   "cell_type": "code",
   "execution_count": 1,
   "metadata": {
    "tags": []
   },
   "outputs": [
    {
     "data": {
      "text/plain": [
       "2020-04-16 07:30:00    wake up\n",
       "2020-04-17 07:29:00    wake up\n",
       "2020-04-18 07:29:00    wake up\n",
       "2020-04-19 07:30:00    wake up\n",
       "2020-04-20 07:32:00    wake up\n",
       "2020-04-23 07:30:00    wake up\n",
       "dtype: object"
      ]
     },
     "execution_count": 1,
     "metadata": {},
     "output_type": "execute_result"
    }
   ],
   "source": [
    "import datetime as dt\n",
    "import pandas as pd\n",
    "one_day = 60 * 24  # a day in minutes\n",
    "minutes = [0, one_day - 1, one_day * 2 - 1, one_day * 3, one_day * 4 + 2, one_day * 7]\n",
    "\n",
    "S = pd.Series(\"wake up\", index=minutes)\n",
    "start = dt.datetime.strptime(\"16/04/2020 07:30\", \"%d/%m/%Y %H:%M\")\n",
    "S.index = S.index.map(lambda e: start + dt.timedelta(minutes=e))\n",
    "S.index = S.index.round(\"min\")  # minutes as the lowest unit of difference\n",
    "S"
   ]
  },
  {
   "cell_type": "code",
   "execution_count": 2,
   "metadata": {
    "tags": []
   },
   "outputs": [
    {
     "data": {
      "text/plain": [
       "array(['2020-04-16T07:30:00.000000000', '2020-04-17T07:29:00.000000000',\n",
       "       '2020-04-18T07:29:00.000000000', '2020-04-19T07:30:00.000000000',\n",
       "       '2020-04-20T07:32:00.000000000', '2020-04-23T07:30:00.000000000'],\n",
       "      dtype='datetime64[ns]')"
      ]
     },
     "execution_count": 2,
     "metadata": {},
     "output_type": "execute_result"
    }
   ],
   "source": [
    "S.index.to_numpy()"
   ]
  },
  {
   "cell_type": "markdown",
   "metadata": {},
   "source": [
    "We can see the wake-up time is not exactly the same every day, but overall a consistent regular pattern seems to emerge.\n",
    "\n",
    "Now imagine that in addition to wake up times, we also have records of other daily activities (meals, work, household chores, etc.), and that rather than a handful of days, those records span several years and make up several thousands of events\n",
    "\n",
    "**How would you be able to detect regularities in the data ?**"
   ]
  },
  {
   "cell_type": "markdown",
   "metadata": {},
   "source": [
    "### Introduction to periodic pattern mining\n",
    "Periodic pattern mining aims at exploiting regularities not only about `what happens` by finding coordinated event occurrences, but also about `when it happens` and `how it happens`, by **finding consistent inter-occurrence timeintervals**.\n",
    "\n",
    "Next, we introduce the concept of cycles\n",
    "\n",
    "#### The cycle : a building block for periodic pattern mining\n",
    "Here is an explicit example of a cycle\n",
    "\n",
    "<img src=\"cycle_color.png\" alt=\"cycle\" style=\"width: 60%;\"/>\n",
    "\n",
    "This definition, while being relatively simple, is general enough to allow us to find regularities in different types of logs\n",
    "\n",
    "#### Handling noise in our timestamps\n",
    "\n",
    "Needless to say, it would be too easy if events in our data were equally spaced. As data often comes noisy, we have to be fault tolerant, and allow small errors to sneak into our cycles. \n",
    "\n",
    "That's the role of `shift corrections`, which capture the small deviations from perfectly regular periodic repetitions, and allow to reconstruct the (noisy) original sequence of events, using the following relation\n",
    "<img src=\"shifts.png\" alt=\"shifts\" style=\"width: 60%;\"/>"
   ]
  },
  {
   "cell_type": "markdown",
   "metadata": {},
   "source": [
    "#### A tiny example with scikit-mine\n",
    "`scikit-mine` offers a `PeriodicCycleMiner`, out of the box.\n",
    "You can use it to **detect regularities, in the form of cycles**, in the input data. \n",
    "\n",
    "These regularities are submitted to an MDL criterion, so that we do not mistakenly include redundant occurences, nor forget to consider other intervals that would sumarize our data in a better way.\n",
    "\n",
    "MDL offers a framework to find `the best set of cycles`, i.e the set that gives the most succint representation of the data. And `as humans, we often like to deal with non-redundant, well organized data`."
   ]
  },
  {
   "cell_type": "code",
   "execution_count": 3,
   "metadata": {
    "tags": []
   },
   "outputs": [
    {
     "name": "stdout",
     "output_type": "stream",
     "text": [
      " ---- COLLECTION STATS (Total=1 nb_simple=1)\n",
      "Code length patterns (1): 30.826182\n",
      "Code length residuals (3): 23.555247\n",
      "-- Total code length = 54.381429 (86.575343% of 62.813992)\n",
      "\n"
     ]
    },
    {
     "name": "stderr",
     "output_type": "stream",
     "text": [
      "/home/tbetton/Documents/F-WIN/scikit-mine/skmine/periodic/cycles.py:20: FutureWarning: pandas.Int64Index is deprecated and will be removed from pandas in a future version. Use pandas.Index with the appropriate dtype instead.\n",
      "  pd.Int64Index,\n"
     ]
    },
    {
     "data": {
      "text/html": [
       "<div>\n",
       "<style scoped>\n",
       "    .dataframe tbody tr th:only-of-type {\n",
       "        vertical-align: middle;\n",
       "    }\n",
       "\n",
       "    .dataframe tbody tr th {\n",
       "        vertical-align: top;\n",
       "    }\n",
       "\n",
       "    .dataframe thead th {\n",
       "        text-align: right;\n",
       "    }\n",
       "</style>\n",
       "<table border=\"1\" class=\"dataframe\">\n",
       "  <thead>\n",
       "    <tr style=\"text-align: right;\">\n",
       "      <th></th>\n",
       "      <th>t0</th>\n",
       "      <th>event</th>\n",
       "      <th>length_major</th>\n",
       "      <th>period_major</th>\n",
       "      <th>cost</th>\n",
       "      <th>type</th>\n",
       "    </tr>\n",
       "  </thead>\n",
       "  <tbody>\n",
       "    <tr>\n",
       "      <th>0</th>\n",
       "      <td>20</td>\n",
       "      <td>(ring_a_bell)[r=5 p=20]</td>\n",
       "      <td>5</td>\n",
       "      <td>20</td>\n",
       "      <td>30.826182</td>\n",
       "      <td>simple</td>\n",
       "    </tr>\n",
       "  </tbody>\n",
       "</table>\n",
       "</div>"
      ],
      "text/plain": [
       "   t0                    event  length_major  period_major       cost    type\n",
       "0  20  (ring_a_bell)[r=5 p=20]             5            20  30.826182  simple"
      ]
     },
     "execution_count": 3,
     "metadata": {},
     "output_type": "execute_result"
    }
   ],
   "source": [
    "from skmine.periodic import PeriodicCycleMiner\n",
    "import pandas as pd\n",
    "S_doc = pd.Series(\"ring_a_bell\", [10, 20, 32, 40, 60, 79, 100, 240])\n",
    "pcm = PeriodicCycleMiner().fit(S_doc)\n",
    "pcm.discover()"
   ]
  },
  {
   "cell_type": "code",
   "execution_count": 4,
   "metadata": {
    "tags": []
   },
   "outputs": [],
   "source": [
    "from skmine.periodic import PeriodicCycleMiner\n",
    "import pandas as pd"
   ]
  },
  {
   "cell_type": "code",
   "execution_count": 5,
   "metadata": {
    "tags": []
   },
   "outputs": [
    {
     "name": "stdout",
     "output_type": "stream",
     "text": [
      " ---- COLLECTION STATS (Total=1 nb_simple=1)\n",
      "Code length patterns (1): 67.885186\n",
      "Code length residuals (1): 15.884194\n",
      "-- Total code length = 83.769381 (87.895949% of 95.305166)\n",
      "\n"
     ]
    }
   ],
   "source": [
    "pcm = PeriodicCycleMiner().fit(S)"
   ]
  },
  {
   "cell_type": "code",
   "execution_count": 6,
   "metadata": {
    "tags": []
   },
   "outputs": [
    {
     "data": {
      "text/html": [
       "<div>\n",
       "<style scoped>\n",
       "    .dataframe tbody tr th:only-of-type {\n",
       "        vertical-align: middle;\n",
       "    }\n",
       "\n",
       "    .dataframe tbody tr th {\n",
       "        vertical-align: top;\n",
       "    }\n",
       "\n",
       "    .dataframe thead th {\n",
       "        text-align: right;\n",
       "    }\n",
       "</style>\n",
       "<table border=\"1\" class=\"dataframe\">\n",
       "  <thead>\n",
       "    <tr style=\"text-align: right;\">\n",
       "      <th></th>\n",
       "      <th>t0</th>\n",
       "      <th>event</th>\n",
       "      <th>length_major</th>\n",
       "      <th>period_major</th>\n",
       "      <th>cost</th>\n",
       "      <th>type</th>\n",
       "    </tr>\n",
       "  </thead>\n",
       "  <tbody>\n",
       "    <tr>\n",
       "      <th>0</th>\n",
       "      <td>2020-04-16 07:30:00</td>\n",
       "      <td>(wake up)[r=5 p=8643]</td>\n",
       "      <td>5</td>\n",
       "      <td>1 days 00:00:30</td>\n",
       "      <td>67.885186</td>\n",
       "      <td>simple</td>\n",
       "    </tr>\n",
       "  </tbody>\n",
       "</table>\n",
       "</div>"
      ],
      "text/plain": [
       "                   t0                  event  length_major    period_major  \\\n",
       "0 2020-04-16 07:30:00  (wake up)[r=5 p=8643]             5 1 days 00:00:30   \n",
       "\n",
       "        cost    type  \n",
       "0  67.885186  simple  "
      ]
     },
     "execution_count": 6,
     "metadata": {},
     "output_type": "execute_result"
    }
   ],
   "source": [
    "pcm.discover()"
   ]
  },
  {
   "cell_type": "markdown",
   "metadata": {},
   "source": [
    "You can see one cycle has been extracted for our event `wake up`. The cycle covers the entire business week, but not the last monday separated by the weekend\n",
    "\n",
    "It has a length of 5 and a period close to 1 day, as expected.\n",
    "\n",
    "Also, note that we \"lost\" some information here. Our period of 1 day offers the best summary for this data.\n",
    "Accessing the little \"shifts\" as encountered in original data is also possible, with an extra argument in our `.discover` call"
   ]
  },
  {
   "cell_type": "markdown",
   "metadata": {},
   "source": [
    "The last column named `dE` contains a list of shifts to apply to our cycle in case we want to reconstruct the original data. Trailing zeros have been removed for efficiency, and their values are `relative to the period`, but we can see there is:\n",
    " * a -90 second shift between the 1st and 2nd entry (1day30s - 90s later = waking up at 7:29 on tuesday)\n",
    " * a 30 second shift between the 2nd and 3rd entry (1day30s - 30s later = still waking up at 7:29 on wednesday)\n",
    " * an 30 second shift between the 3rd and 4th entry (back to 7:30 on thursday)\n",
    " * an 90 second shift between the 4th and 5th entry (1day 30s + 90s later = waking up at 7:32 on friday)\n",
    "\n",
    "Also note that we can get the \"uncovered\" events, called `redisuals`"
   ]
  },
  {
   "cell_type": "code",
   "execution_count": 7,
   "metadata": {
    "scrolled": true,
    "tags": []
   },
   "outputs": [
    {
     "data": {
      "text/html": [
       "<div>\n",
       "<style scoped>\n",
       "    .dataframe tbody tr th:only-of-type {\n",
       "        vertical-align: middle;\n",
       "    }\n",
       "\n",
       "    .dataframe tbody tr th {\n",
       "        vertical-align: top;\n",
       "    }\n",
       "\n",
       "    .dataframe thead th {\n",
       "        text-align: right;\n",
       "    }\n",
       "</style>\n",
       "<table border=\"1\" class=\"dataframe\">\n",
       "  <thead>\n",
       "    <tr style=\"text-align: right;\">\n",
       "      <th></th>\n",
       "      <th>time</th>\n",
       "      <th>event</th>\n",
       "    </tr>\n",
       "  </thead>\n",
       "  <tbody>\n",
       "    <tr>\n",
       "      <th>0</th>\n",
       "      <td>2020-04-23 07:30:00</td>\n",
       "      <td>wake up</td>\n",
       "    </tr>\n",
       "  </tbody>\n",
       "</table>\n",
       "</div>"
      ],
      "text/plain": [
       "                  time    event\n",
       "0  2020-04-23 07:30:00  wake up"
      ]
     },
     "execution_count": 7,
     "metadata": {},
     "output_type": "execute_result"
    }
   ],
   "source": [
    "pcm.get_residuals()"
   ]
  },
  {
   "cell_type": "markdown",
   "metadata": {},
   "source": [
    "This way `pcm` does not store all the data, but has all information needed to reconstruct it entirely !!"
   ]
  },
  {
   "cell_type": "code",
   "execution_count": 8,
   "metadata": {
    "tags": []
   },
   "outputs": [
    {
     "data": {
      "text/html": [
       "<div>\n",
       "<style scoped>\n",
       "    .dataframe tbody tr th:only-of-type {\n",
       "        vertical-align: middle;\n",
       "    }\n",
       "\n",
       "    .dataframe tbody tr th {\n",
       "        vertical-align: top;\n",
       "    }\n",
       "\n",
       "    .dataframe thead th {\n",
       "        text-align: right;\n",
       "    }\n",
       "</style>\n",
       "<table border=\"1\" class=\"dataframe\">\n",
       "  <thead>\n",
       "    <tr style=\"text-align: right;\">\n",
       "      <th></th>\n",
       "      <th>time</th>\n",
       "      <th>event</th>\n",
       "    </tr>\n",
       "  </thead>\n",
       "  <tbody>\n",
       "    <tr>\n",
       "      <th>0</th>\n",
       "      <td>2020-04-16 07:30:00</td>\n",
       "      <td>wake up</td>\n",
       "    </tr>\n",
       "    <tr>\n",
       "      <th>1</th>\n",
       "      <td>2020-04-17 07:30:30</td>\n",
       "      <td>wake up</td>\n",
       "    </tr>\n",
       "    <tr>\n",
       "      <th>2</th>\n",
       "      <td>2020-04-18 07:31:00</td>\n",
       "      <td>wake up</td>\n",
       "    </tr>\n",
       "    <tr>\n",
       "      <th>3</th>\n",
       "      <td>2020-04-19 07:31:30</td>\n",
       "      <td>wake up</td>\n",
       "    </tr>\n",
       "    <tr>\n",
       "      <th>4</th>\n",
       "      <td>2020-04-20 07:32:00</td>\n",
       "      <td>wake up</td>\n",
       "    </tr>\n",
       "  </tbody>\n",
       "</table>\n",
       "</div>"
      ],
      "text/plain": [
       "                  time    event\n",
       "0  2020-04-16 07:30:00  wake up\n",
       "1  2020-04-17 07:30:30  wake up\n",
       "2  2020-04-18 07:31:00  wake up\n",
       "3  2020-04-19 07:31:30  wake up\n",
       "4  2020-04-20 07:32:00  wake up"
      ]
     },
     "execution_count": 8,
     "metadata": {},
     "output_type": "execute_result"
    }
   ],
   "source": [
    "pcm.reconstruct(0)"
   ]
  },
  {
   "cell_type": "markdown",
   "metadata": {},
   "source": [
    "### An example with Canadian TV programs\n",
    "#### Fetching logs from canadian TV\n",
    "\n",
    "In this section we are going to load some event logs of TV programs (the `WHAT`), indexed by their broadcast timestamps (the `WHEN`).\n",
    "\n",
    "`PeriodicCycleMiner` is here to help us discovering regularities (the `HOW`)"
   ]
  },
  {
   "cell_type": "code",
   "execution_count": 9,
   "metadata": {
    "tags": []
   },
   "outputs": [],
   "source": [
    "from skmine.datasets import fetch_canadian_tv\n",
    "from skmine.periodic import PeriodicCycleMiner"
   ]
  },
  {
   "cell_type": "markdown",
   "metadata": {},
   "source": [
    "#### Searching for cycles in TV programs\n",
    "\n",
    "Remember about the definition of cycles ?\n",
    "Let's apply it to our TV programs\n",
    "\n",
    "In our case\n",
    "\n",
    "* $\\alpha$ is the name of a TV program\n",
    "\n",
    "* $r$ is the number of broadcasts (repetitions) for this TV program (inside this cycle)\n",
    "\n",
    "* $p$ is the optimal time delta between broadcasts in this cycle. If a program is meant to be live everyday at 14:00PM, then $p$ is likely to be `1 day`\n",
    "\n",
    "* $\\tau$ is the first broadcast time in this cycle\n",
    "\n",
    "* $dE$ are the shift corrections between the $p$ and the actual broadcast time of an event. If a TV program was scheduled at 8:30:00AM and it went on air at 8:30:23AM the same day, then we keep track of a `23 seconds shift`. This way we can summarize our data (via cycles), and reconstruct it (via shift corrections). \n",
    "\n",
    "\n",
    "Finally we are going to dig a little deeper into these cycles, to answer quite complex questions about our logs. We will see that cycles contains usefull information about our input data"
   ]
  },
  {
   "cell_type": "code",
   "execution_count": 10,
   "metadata": {
    "tags": []
   },
   "outputs": [
    {
     "name": "stderr",
     "output_type": "stream",
     "text": [
      "/home/tbetton/Documents/F-WIN/scikit-mine/skmine/datasets/periodic.py:117: FutureWarning: The squeeze argument has been deprecated and will be removed in a future version. Append .squeeze(\"columns\") to the call to squeeze.\n",
      "\n",
      "\n",
      "  s = pd.read_csv(p, **kwargs)\n"
     ]
    },
    {
     "data": {
      "text/plain": [
       "timestamp\n",
       "2020-08-01 06:00:00            The Moblees\n",
       "2020-08-01 06:11:00    Big Block Sing Song\n",
       "2020-08-01 06:13:00    Big Block Sing Song\n",
       "2020-08-01 06:15:00               CBC Kids\n",
       "2020-08-01 06:15:00               CBC Kids\n",
       "Name: canadian_tv, dtype: string"
      ]
     },
     "execution_count": 10,
     "metadata": {},
     "output_type": "execute_result"
    }
   ],
   "source": [
    "ctv_logs = fetch_canadian_tv()\n",
    "ctv_logs.head()"
   ]
  },
  {
   "cell_type": "markdown",
   "metadata": {},
   "source": [
    "Compute only simple cycles on ctv_logs with the karg *complex=False* : "
   ]
  },
  {
   "cell_type": "code",
   "execution_count": 11,
   "metadata": {
    "tags": []
   },
   "outputs": [
    {
     "name": "stdout",
     "output_type": "stream",
     "text": [
      " ---- COLLECTION STATS (Total=231 nb_simple=231)\n",
      "Code length patterns (231): 13607.850841\n",
      "Code length residuals (507): 11994.387863\n",
      "-- Total code length = 25602.238704 (71.289653% of 35912.979983)\n",
      "\n"
     ]
    },
    {
     "data": {
      "text/html": [
       "<div>\n",
       "<style scoped>\n",
       "    .dataframe tbody tr th:only-of-type {\n",
       "        vertical-align: middle;\n",
       "    }\n",
       "\n",
       "    .dataframe tbody tr th {\n",
       "        vertical-align: top;\n",
       "    }\n",
       "\n",
       "    .dataframe thead th {\n",
       "        text-align: right;\n",
       "    }\n",
       "</style>\n",
       "<table border=\"1\" class=\"dataframe\">\n",
       "  <thead>\n",
       "    <tr style=\"text-align: right;\">\n",
       "      <th></th>\n",
       "      <th>t0</th>\n",
       "      <th>event</th>\n",
       "      <th>length_major</th>\n",
       "      <th>period_major</th>\n",
       "      <th>cost</th>\n",
       "      <th>type</th>\n",
       "    </tr>\n",
       "  </thead>\n",
       "  <tbody>\n",
       "    <tr>\n",
       "      <th>0</th>\n",
       "      <td>2020-08-01 05:00:00</td>\n",
       "      <td>(Grand Designs)[r=31 p=8640]</td>\n",
       "      <td>31</td>\n",
       "      <td>1 days 00:00:00</td>\n",
       "      <td>101.455576</td>\n",
       "      <td>simple</td>\n",
       "    </tr>\n",
       "    <tr>\n",
       "      <th>1</th>\n",
       "      <td>2020-08-01 07:43:00</td>\n",
       "      <td>(CBC Kids)[r=26 p=8640]</td>\n",
       "      <td>26</td>\n",
       "      <td>1 days 00:00:00</td>\n",
       "      <td>154.406032</td>\n",
       "      <td>simple</td>\n",
       "    </tr>\n",
       "    <tr>\n",
       "      <th>2</th>\n",
       "      <td>2020-08-28 00:00:00</td>\n",
       "      <td>(Schitt's Creek)[r=8 p=180]</td>\n",
       "      <td>8</td>\n",
       "      <td>0 days 00:30:00</td>\n",
       "      <td>62.620856</td>\n",
       "      <td>simple</td>\n",
       "    </tr>\n",
       "    <tr>\n",
       "      <th>3</th>\n",
       "      <td>2020-08-01 06:59:00</td>\n",
       "      <td>(CBC Kids)[r=11 p=25920]</td>\n",
       "      <td>11</td>\n",
       "      <td>3 days 00:00:00</td>\n",
       "      <td>93.039502</td>\n",
       "      <td>simple</td>\n",
       "    </tr>\n",
       "    <tr>\n",
       "      <th>4</th>\n",
       "      <td>2020-08-05 00:30:00</td>\n",
       "      <td>(Kim's Convenience)[r=7 p=180]</td>\n",
       "      <td>7</td>\n",
       "      <td>0 days 00:30:00</td>\n",
       "      <td>60.844246</td>\n",
       "      <td>simple</td>\n",
       "    </tr>\n",
       "    <tr>\n",
       "      <th>...</th>\n",
       "      <td>...</td>\n",
       "      <td>...</td>\n",
       "      <td>...</td>\n",
       "      <td>...</td>\n",
       "      <td>...</td>\n",
       "      <td>...</td>\n",
       "    </tr>\n",
       "    <tr>\n",
       "      <th>226</th>\n",
       "      <td>2020-08-11 14:00:00</td>\n",
       "      <td>(Jamie &amp; Jimmy's Food Fight Club)[r=4 p=8640]</td>\n",
       "      <td>4</td>\n",
       "      <td>1 days 00:00:00</td>\n",
       "      <td>55.702844</td>\n",
       "      <td>simple</td>\n",
       "    </tr>\n",
       "    <tr>\n",
       "      <th>227</th>\n",
       "      <td>2020-08-01 11:25:00</td>\n",
       "      <td>(CBC Kids)[r=4 p=86004]</td>\n",
       "      <td>4</td>\n",
       "      <td>9 days 22:54:00</td>\n",
       "      <td>56.979765</td>\n",
       "      <td>simple</td>\n",
       "    </tr>\n",
       "    <tr>\n",
       "      <th>228</th>\n",
       "      <td>2020-08-17 10:01:00</td>\n",
       "      <td>(CBC Kids)[r=5 p=8640]</td>\n",
       "      <td>5</td>\n",
       "      <td>1 days 00:00:00</td>\n",
       "      <td>57.235173</td>\n",
       "      <td>simple</td>\n",
       "    </tr>\n",
       "    <tr>\n",
       "      <th>229</th>\n",
       "      <td>2020-08-03 07:23:00</td>\n",
       "      <td>(CBC Kids)[r=5 p=8640]</td>\n",
       "      <td>5</td>\n",
       "      <td>1 days 00:00:00</td>\n",
       "      <td>57.235173</td>\n",
       "      <td>simple</td>\n",
       "    </tr>\n",
       "    <tr>\n",
       "      <th>230</th>\n",
       "      <td>2020-08-02 22:00:00</td>\n",
       "      <td>(CBC News: The National)[r=5 p=8640]</td>\n",
       "      <td>5</td>\n",
       "      <td>1 days 00:00:00</td>\n",
       "      <td>57.235173</td>\n",
       "      <td>simple</td>\n",
       "    </tr>\n",
       "  </tbody>\n",
       "</table>\n",
       "<p>231 rows × 6 columns</p>\n",
       "</div>"
      ],
      "text/plain": [
       "                     t0                                          event  \\\n",
       "0   2020-08-01 05:00:00                   (Grand Designs)[r=31 p=8640]   \n",
       "1   2020-08-01 07:43:00                        (CBC Kids)[r=26 p=8640]   \n",
       "2   2020-08-28 00:00:00                    (Schitt's Creek)[r=8 p=180]   \n",
       "3   2020-08-01 06:59:00                       (CBC Kids)[r=11 p=25920]   \n",
       "4   2020-08-05 00:30:00                 (Kim's Convenience)[r=7 p=180]   \n",
       "..                  ...                                            ...   \n",
       "226 2020-08-11 14:00:00  (Jamie & Jimmy's Food Fight Club)[r=4 p=8640]   \n",
       "227 2020-08-01 11:25:00                        (CBC Kids)[r=4 p=86004]   \n",
       "228 2020-08-17 10:01:00                         (CBC Kids)[r=5 p=8640]   \n",
       "229 2020-08-03 07:23:00                         (CBC Kids)[r=5 p=8640]   \n",
       "230 2020-08-02 22:00:00           (CBC News: The National)[r=5 p=8640]   \n",
       "\n",
       "     length_major    period_major        cost    type  \n",
       "0              31 1 days 00:00:00  101.455576  simple  \n",
       "1              26 1 days 00:00:00  154.406032  simple  \n",
       "2               8 0 days 00:30:00   62.620856  simple  \n",
       "3              11 3 days 00:00:00   93.039502  simple  \n",
       "4               7 0 days 00:30:00   60.844246  simple  \n",
       "..            ...             ...         ...     ...  \n",
       "226             4 1 days 00:00:00   55.702844  simple  \n",
       "227             4 9 days 22:54:00   56.979765  simple  \n",
       "228             5 1 days 00:00:00   57.235173  simple  \n",
       "229             5 1 days 00:00:00   57.235173  simple  \n",
       "230             5 1 days 00:00:00   57.235173  simple  \n",
       "\n",
       "[231 rows x 6 columns]"
      ]
     },
     "execution_count": 11,
     "metadata": {},
     "output_type": "execute_result"
    }
   ],
   "source": [
    "pcm = PeriodicCycleMiner().fit(ctv_logs, complex=False)\n",
    "pcm.discover()"
   ]
  },
  {
   "cell_type": "markdown",
   "metadata": {},
   "source": [
    "Compute simple and complex (with horizontal and vertical combinations) cycles on ctv_logs : "
   ]
  },
  {
   "cell_type": "code",
   "execution_count": 12,
   "metadata": {
    "tags": []
   },
   "outputs": [
    {
     "name": "stdout",
     "output_type": "stream",
     "text": [
      " ---- COLLECTION STATS (Total=115 nb_simple=61 nb_concat=47 nb_other=6 nb_nested=1)\n",
      "Code length patterns (115): 10880.109756\n",
      "Code length residuals (454): 10805.204927\n",
      "-- Total code length = 21685.314682 (60.382944% of 35912.979983)\n",
      "\n"
     ]
    }
   ],
   "source": [
    "pcm = PeriodicCycleMiner().fit(ctv_logs)"
   ]
  },
  {
   "cell_type": "code",
   "execution_count": 13,
   "metadata": {
    "collapsed": true,
    "jupyter": {
     "outputs_hidden": true
    },
    "tags": []
   },
   "outputs": [
    {
     "data": {
      "text/html": [
       "<div>\n",
       "<style scoped>\n",
       "    .dataframe tbody tr th:only-of-type {\n",
       "        vertical-align: middle;\n",
       "    }\n",
       "\n",
       "    .dataframe tbody tr th {\n",
       "        vertical-align: top;\n",
       "    }\n",
       "\n",
       "    .dataframe thead th {\n",
       "        text-align: right;\n",
       "    }\n",
       "</style>\n",
       "<table border=\"1\" class=\"dataframe\">\n",
       "  <thead>\n",
       "    <tr style=\"text-align: right;\">\n",
       "      <th></th>\n",
       "      <th>t0</th>\n",
       "      <th>event</th>\n",
       "      <th>length_major</th>\n",
       "      <th>period_major</th>\n",
       "      <th>cost</th>\n",
       "      <th>type</th>\n",
       "    </tr>\n",
       "  </thead>\n",
       "  <tbody>\n",
       "    <tr>\n",
       "      <th>0</th>\n",
       "      <td>2020-08-01 05:00:00</td>\n",
       "      <td>(Grand Designs)[r=31 p=8640]</td>\n",
       "      <td>31</td>\n",
       "      <td>1 days 00:00:00</td>\n",
       "      <td>101.455576</td>\n",
       "      <td>simple</td>\n",
       "    </tr>\n",
       "    <tr>\n",
       "      <th>1</th>\n",
       "      <td>2020-08-03 04:00:00</td>\n",
       "      <td>((CBC News: The National [d=2880] CBC News Net...</td>\n",
       "      <td>4</td>\n",
       "      <td>7 days 00:00:00</td>\n",
       "      <td>472.886395</td>\n",
       "      <td>other</td>\n",
       "    </tr>\n",
       "    <tr>\n",
       "      <th>2</th>\n",
       "      <td>2020-08-04 00:30:00</td>\n",
       "      <td>((This Hour Has 22 Minutes)[r=7 p=180] [d=5382...</td>\n",
       "      <td>3</td>\n",
       "      <td>7 days 00:00:00</td>\n",
       "      <td>255.643584</td>\n",
       "      <td>other</td>\n",
       "    </tr>\n",
       "    <tr>\n",
       "      <th>3</th>\n",
       "      <td>2020-08-04 07:00:00</td>\n",
       "      <td>((CBC Kids [d=258] CBC Kids)[r=4 p=60480])[r=4...</td>\n",
       "      <td>4</td>\n",
       "      <td>1 days 00:00:00</td>\n",
       "      <td>178.142750</td>\n",
       "      <td>other</td>\n",
       "    </tr>\n",
       "    <tr>\n",
       "      <th>4</th>\n",
       "      <td>2020-08-01 08:09:00</td>\n",
       "      <td>(CBC Kids [d=300] CBC Kids [d=6] Kingdom Force...</td>\n",
       "      <td>5</td>\n",
       "      <td>7 days 00:00:00</td>\n",
       "      <td>188.381406</td>\n",
       "      <td>concat</td>\n",
       "    </tr>\n",
       "    <tr>\n",
       "      <th>...</th>\n",
       "      <td>...</td>\n",
       "      <td>...</td>\n",
       "      <td>...</td>\n",
       "      <td>...</td>\n",
       "      <td>...</td>\n",
       "      <td>...</td>\n",
       "    </tr>\n",
       "    <tr>\n",
       "      <th>110</th>\n",
       "      <td>2020-08-04 08:58:00</td>\n",
       "      <td>(CBC Kids)[r=4 p=34272]</td>\n",
       "      <td>4</td>\n",
       "      <td>3 days 23:12:00</td>\n",
       "      <td>55.149034</td>\n",
       "      <td>simple</td>\n",
       "    </tr>\n",
       "    <tr>\n",
       "      <th>111</th>\n",
       "      <td>2020-08-17 07:23:00</td>\n",
       "      <td>(Big Block Sing Song)[r=5 p=8643]</td>\n",
       "      <td>5</td>\n",
       "      <td>1 days 00:00:30</td>\n",
       "      <td>75.235039</td>\n",
       "      <td>simple</td>\n",
       "    </tr>\n",
       "    <tr>\n",
       "      <th>112</th>\n",
       "      <td>2020-08-05 08:59:00</td>\n",
       "      <td>(CBC Kids [d=558] Daniel Tiger's Neighbourhood...</td>\n",
       "      <td>3</td>\n",
       "      <td>7 days 00:00:00</td>\n",
       "      <td>94.546656</td>\n",
       "      <td>concat</td>\n",
       "    </tr>\n",
       "    <tr>\n",
       "      <th>113</th>\n",
       "      <td>2020-08-10 10:59:00</td>\n",
       "      <td>(CBC Kids [d=2724] News)[r=4 p=60480]</td>\n",
       "      <td>4</td>\n",
       "      <td>7 days 00:00:00</td>\n",
       "      <td>94.856042</td>\n",
       "      <td>concat</td>\n",
       "    </tr>\n",
       "    <tr>\n",
       "      <th>114</th>\n",
       "      <td>2020-08-02 22:00:00</td>\n",
       "      <td>(CBC News: The National)[r=5 p=8640]</td>\n",
       "      <td>5</td>\n",
       "      <td>1 days 00:00:00</td>\n",
       "      <td>57.235173</td>\n",
       "      <td>simple</td>\n",
       "    </tr>\n",
       "  </tbody>\n",
       "</table>\n",
       "<p>115 rows × 6 columns</p>\n",
       "</div>"
      ],
      "text/plain": [
       "                     t0                                              event  \\\n",
       "0   2020-08-01 05:00:00                       (Grand Designs)[r=31 p=8640]   \n",
       "1   2020-08-03 04:00:00  ((CBC News: The National [d=2880] CBC News Net...   \n",
       "2   2020-08-04 00:30:00  ((This Hour Has 22 Minutes)[r=7 p=180] [d=5382...   \n",
       "3   2020-08-04 07:00:00  ((CBC Kids [d=258] CBC Kids)[r=4 p=60480])[r=4...   \n",
       "4   2020-08-01 08:09:00  (CBC Kids [d=300] CBC Kids [d=6] Kingdom Force...   \n",
       "..                  ...                                                ...   \n",
       "110 2020-08-04 08:58:00                            (CBC Kids)[r=4 p=34272]   \n",
       "111 2020-08-17 07:23:00                  (Big Block Sing Song)[r=5 p=8643]   \n",
       "112 2020-08-05 08:59:00  (CBC Kids [d=558] Daniel Tiger's Neighbourhood...   \n",
       "113 2020-08-10 10:59:00              (CBC Kids [d=2724] News)[r=4 p=60480]   \n",
       "114 2020-08-02 22:00:00               (CBC News: The National)[r=5 p=8640]   \n",
       "\n",
       "     length_major    period_major        cost    type  \n",
       "0              31 1 days 00:00:00  101.455576  simple  \n",
       "1               4 7 days 00:00:00  472.886395   other  \n",
       "2               3 7 days 00:00:00  255.643584   other  \n",
       "3               4 1 days 00:00:00  178.142750   other  \n",
       "4               5 7 days 00:00:00  188.381406  concat  \n",
       "..            ...             ...         ...     ...  \n",
       "110             4 3 days 23:12:00   55.149034  simple  \n",
       "111             5 1 days 00:00:30   75.235039  simple  \n",
       "112             3 7 days 00:00:00   94.546656  concat  \n",
       "113             4 7 days 00:00:00   94.856042  concat  \n",
       "114             5 1 days 00:00:00   57.235173  simple  \n",
       "\n",
       "[115 rows x 6 columns]"
      ]
     },
     "execution_count": 13,
     "metadata": {},
     "output_type": "execute_result"
    }
   ],
   "source": [
    "cycles = pcm.discover()\n",
    "cycles"
   ]
  },
  {
   "cell_type": "markdown",
   "metadata": {},
   "source": [
    "`Note` : no need to worry for the warning, it's here to notify duplicate event/timestamp pairs have been found"
   ]
  },
  {
   "cell_type": "markdown",
   "metadata": {},
   "source": [
    "Now that we have our cycles in a [pandas.DataFrame](https://pandas.pydata.org/pandas-docs/stable/reference/api/pandas.DataFrame.html), we can play with the pandas API and answer questions about our logs\n",
    "\n",
    "#### Did I find cycles for the TV show \"Arthurt Shorts\""
   ]
  },
  {
   "cell_type": "code",
   "execution_count": 14,
   "metadata": {
    "tags": []
   },
   "outputs": [
    {
     "data": {
      "text/html": [
       "<div>\n",
       "<style scoped>\n",
       "    .dataframe tbody tr th:only-of-type {\n",
       "        vertical-align: middle;\n",
       "    }\n",
       "\n",
       "    .dataframe tbody tr th {\n",
       "        vertical-align: top;\n",
       "    }\n",
       "\n",
       "    .dataframe thead th {\n",
       "        text-align: right;\n",
       "    }\n",
       "</style>\n",
       "<table border=\"1\" class=\"dataframe\">\n",
       "  <thead>\n",
       "    <tr style=\"text-align: right;\">\n",
       "      <th></th>\n",
       "      <th>t0</th>\n",
       "      <th>event</th>\n",
       "      <th>length_major</th>\n",
       "      <th>period_major</th>\n",
       "      <th>cost</th>\n",
       "      <th>type</th>\n",
       "    </tr>\n",
       "  </thead>\n",
       "  <tbody>\n",
       "    <tr>\n",
       "      <th>0</th>\n",
       "      <td>2020-08-01 05:00:00</td>\n",
       "      <td>(Grand Designs)[r=31 p=8640]</td>\n",
       "      <td>31</td>\n",
       "      <td>1 days 00:00:00</td>\n",
       "      <td>101.455576</td>\n",
       "      <td>simple</td>\n",
       "    </tr>\n",
       "    <tr>\n",
       "      <th>1</th>\n",
       "      <td>2020-08-03 04:00:00</td>\n",
       "      <td>((CBC News: The National [d=2880] CBC News Net...</td>\n",
       "      <td>4</td>\n",
       "      <td>7 days 00:00:00</td>\n",
       "      <td>472.886395</td>\n",
       "      <td>other</td>\n",
       "    </tr>\n",
       "    <tr>\n",
       "      <th>2</th>\n",
       "      <td>2020-08-04 00:30:00</td>\n",
       "      <td>((This Hour Has 22 Minutes)[r=7 p=180] [d=5382...</td>\n",
       "      <td>3</td>\n",
       "      <td>7 days 00:00:00</td>\n",
       "      <td>255.643584</td>\n",
       "      <td>other</td>\n",
       "    </tr>\n",
       "    <tr>\n",
       "      <th>3</th>\n",
       "      <td>2020-08-04 07:00:00</td>\n",
       "      <td>((CBC Kids [d=258] CBC Kids)[r=4 p=60480])[r=4...</td>\n",
       "      <td>4</td>\n",
       "      <td>1 days 00:00:00</td>\n",
       "      <td>178.142750</td>\n",
       "      <td>other</td>\n",
       "    </tr>\n",
       "    <tr>\n",
       "      <th>4</th>\n",
       "      <td>2020-08-01 08:09:00</td>\n",
       "      <td>(CBC Kids [d=300] CBC Kids [d=6] Kingdom Force...</td>\n",
       "      <td>5</td>\n",
       "      <td>7 days 00:00:00</td>\n",
       "      <td>188.381406</td>\n",
       "      <td>concat</td>\n",
       "    </tr>\n",
       "    <tr>\n",
       "      <th>...</th>\n",
       "      <td>...</td>\n",
       "      <td>...</td>\n",
       "      <td>...</td>\n",
       "      <td>...</td>\n",
       "      <td>...</td>\n",
       "      <td>...</td>\n",
       "    </tr>\n",
       "    <tr>\n",
       "      <th>110</th>\n",
       "      <td>2020-08-04 08:58:00</td>\n",
       "      <td>(CBC Kids)[r=4 p=34272]</td>\n",
       "      <td>4</td>\n",
       "      <td>3 days 23:12:00</td>\n",
       "      <td>55.149034</td>\n",
       "      <td>simple</td>\n",
       "    </tr>\n",
       "    <tr>\n",
       "      <th>111</th>\n",
       "      <td>2020-08-17 07:23:00</td>\n",
       "      <td>(Big Block Sing Song)[r=5 p=8643]</td>\n",
       "      <td>5</td>\n",
       "      <td>1 days 00:00:30</td>\n",
       "      <td>75.235039</td>\n",
       "      <td>simple</td>\n",
       "    </tr>\n",
       "    <tr>\n",
       "      <th>112</th>\n",
       "      <td>2020-08-05 08:59:00</td>\n",
       "      <td>(CBC Kids [d=558] Daniel Tiger's Neighbourhood...</td>\n",
       "      <td>3</td>\n",
       "      <td>7 days 00:00:00</td>\n",
       "      <td>94.546656</td>\n",
       "      <td>concat</td>\n",
       "    </tr>\n",
       "    <tr>\n",
       "      <th>113</th>\n",
       "      <td>2020-08-10 10:59:00</td>\n",
       "      <td>(CBC Kids [d=2724] News)[r=4 p=60480]</td>\n",
       "      <td>4</td>\n",
       "      <td>7 days 00:00:00</td>\n",
       "      <td>94.856042</td>\n",
       "      <td>concat</td>\n",
       "    </tr>\n",
       "    <tr>\n",
       "      <th>114</th>\n",
       "      <td>2020-08-02 22:00:00</td>\n",
       "      <td>(CBC News: The National)[r=5 p=8640]</td>\n",
       "      <td>5</td>\n",
       "      <td>1 days 00:00:00</td>\n",
       "      <td>57.235173</td>\n",
       "      <td>simple</td>\n",
       "    </tr>\n",
       "  </tbody>\n",
       "</table>\n",
       "<p>115 rows × 6 columns</p>\n",
       "</div>"
      ],
      "text/plain": [
       "                     t0                                              event  \\\n",
       "0   2020-08-01 05:00:00                       (Grand Designs)[r=31 p=8640]   \n",
       "1   2020-08-03 04:00:00  ((CBC News: The National [d=2880] CBC News Net...   \n",
       "2   2020-08-04 00:30:00  ((This Hour Has 22 Minutes)[r=7 p=180] [d=5382...   \n",
       "3   2020-08-04 07:00:00  ((CBC Kids [d=258] CBC Kids)[r=4 p=60480])[r=4...   \n",
       "4   2020-08-01 08:09:00  (CBC Kids [d=300] CBC Kids [d=6] Kingdom Force...   \n",
       "..                  ...                                                ...   \n",
       "110 2020-08-04 08:58:00                            (CBC Kids)[r=4 p=34272]   \n",
       "111 2020-08-17 07:23:00                  (Big Block Sing Song)[r=5 p=8643]   \n",
       "112 2020-08-05 08:59:00  (CBC Kids [d=558] Daniel Tiger's Neighbourhood...   \n",
       "113 2020-08-10 10:59:00              (CBC Kids [d=2724] News)[r=4 p=60480]   \n",
       "114 2020-08-02 22:00:00               (CBC News: The National)[r=5 p=8640]   \n",
       "\n",
       "     length_major    period_major        cost    type  \n",
       "0              31 1 days 00:00:00  101.455576  simple  \n",
       "1               4 7 days 00:00:00  472.886395   other  \n",
       "2               3 7 days 00:00:00  255.643584   other  \n",
       "3               4 1 days 00:00:00  178.142750   other  \n",
       "4               5 7 days 00:00:00  188.381406  concat  \n",
       "..            ...             ...         ...     ...  \n",
       "110             4 3 days 23:12:00   55.149034  simple  \n",
       "111             5 1 days 00:00:30   75.235039  simple  \n",
       "112             3 7 days 00:00:00   94.546656  concat  \n",
       "113             4 7 days 00:00:00   94.856042  concat  \n",
       "114             5 1 days 00:00:00   57.235173  simple  \n",
       "\n",
       "[115 rows x 6 columns]"
      ]
     },
     "execution_count": 14,
     "metadata": {},
     "output_type": "execute_result"
    }
   ],
   "source": [
    "cycles"
   ]
  },
  {
   "cell_type": "code",
   "execution_count": 15,
   "metadata": {
    "tags": []
   },
   "outputs": [
    {
     "data": {
      "text/html": [
       "<div>\n",
       "<style scoped>\n",
       "    .dataframe tbody tr th:only-of-type {\n",
       "        vertical-align: middle;\n",
       "    }\n",
       "\n",
       "    .dataframe tbody tr th {\n",
       "        vertical-align: top;\n",
       "    }\n",
       "\n",
       "    .dataframe thead th {\n",
       "        text-align: right;\n",
       "    }\n",
       "</style>\n",
       "<table border=\"1\" class=\"dataframe\">\n",
       "  <thead>\n",
       "    <tr style=\"text-align: right;\">\n",
       "      <th></th>\n",
       "      <th>t0</th>\n",
       "      <th>event</th>\n",
       "      <th>length_major</th>\n",
       "      <th>period_major</th>\n",
       "      <th>cost</th>\n",
       "      <th>type</th>\n",
       "    </tr>\n",
       "  </thead>\n",
       "  <tbody>\n",
       "    <tr>\n",
       "      <th>7</th>\n",
       "      <td>2020-08-03 09:48:00</td>\n",
       "      <td>((Arthur Shorts [d=78] CBC Kids)[r=5 p=8640])[...</td>\n",
       "      <td>3</td>\n",
       "      <td>6 days 23:59:00</td>\n",
       "      <td>193.816983</td>\n",
       "      <td>other</td>\n",
       "    </tr>\n",
       "    <tr>\n",
       "      <th>36</th>\n",
       "      <td>2020-08-01 11:00:00</td>\n",
       "      <td>(Arthur Shorts)[r=5 p=60480]</td>\n",
       "      <td>5</td>\n",
       "      <td>7 days 00:00:00</td>\n",
       "      <td>54.030035</td>\n",
       "      <td>simple</td>\n",
       "    </tr>\n",
       "    <tr>\n",
       "      <th>81</th>\n",
       "      <td>2020-08-24 09:48:00</td>\n",
       "      <td>(Arthur Shorts [d=258] CBC Kids)[r=4 p=8640]</td>\n",
       "      <td>4</td>\n",
       "      <td>1 days 00:00:00</td>\n",
       "      <td>114.108878</td>\n",
       "      <td>concat</td>\n",
       "    </tr>\n",
       "  </tbody>\n",
       "</table>\n",
       "</div>"
      ],
      "text/plain": [
       "                    t0                                              event  \\\n",
       "7  2020-08-03 09:48:00  ((Arthur Shorts [d=78] CBC Kids)[r=5 p=8640])[...   \n",
       "36 2020-08-01 11:00:00                       (Arthur Shorts)[r=5 p=60480]   \n",
       "81 2020-08-24 09:48:00       (Arthur Shorts [d=258] CBC Kids)[r=4 p=8640]   \n",
       "\n",
       "    length_major    period_major        cost    type  \n",
       "7              3 6 days 23:59:00  193.816983   other  \n",
       "36             5 7 days 00:00:00   54.030035  simple  \n",
       "81             4 1 days 00:00:00  114.108878  concat  "
      ]
     },
     "execution_count": 15,
     "metadata": {},
     "output_type": "execute_result"
    }
   ],
   "source": [
    "cycles[cycles[\"event\"].apply(lambda x: \"Arthur Shorts\" in x)]"
   ]
  },
  {
   "cell_type": "markdown",
   "metadata": {},
   "source": [
    "#### What are the top 10 longest cycles ?"
   ]
  },
  {
   "cell_type": "code",
   "execution_count": 16,
   "metadata": {
    "tags": []
   },
   "outputs": [
    {
     "data": {
      "text/html": [
       "<div>\n",
       "<style scoped>\n",
       "    .dataframe tbody tr th:only-of-type {\n",
       "        vertical-align: middle;\n",
       "    }\n",
       "\n",
       "    .dataframe tbody tr th {\n",
       "        vertical-align: top;\n",
       "    }\n",
       "\n",
       "    .dataframe thead th {\n",
       "        text-align: right;\n",
       "    }\n",
       "</style>\n",
       "<table border=\"1\" class=\"dataframe\">\n",
       "  <thead>\n",
       "    <tr style=\"text-align: right;\">\n",
       "      <th></th>\n",
       "      <th>t0</th>\n",
       "      <th>event</th>\n",
       "      <th>length_major</th>\n",
       "      <th>period_major</th>\n",
       "      <th>cost</th>\n",
       "      <th>type</th>\n",
       "    </tr>\n",
       "  </thead>\n",
       "  <tbody>\n",
       "    <tr>\n",
       "      <th>0</th>\n",
       "      <td>2020-08-01 05:00:00</td>\n",
       "      <td>(Grand Designs)[r=31 p=8640]</td>\n",
       "      <td>31</td>\n",
       "      <td>1 days 00:00:00</td>\n",
       "      <td>101.455576</td>\n",
       "      <td>simple</td>\n",
       "    </tr>\n",
       "    <tr>\n",
       "      <th>68</th>\n",
       "      <td>2020-08-17 07:22:00</td>\n",
       "      <td>(CBC Kids)[r=12 p=8640]</td>\n",
       "      <td>12</td>\n",
       "      <td>1 days 00:00:00</td>\n",
       "      <td>111.340664</td>\n",
       "      <td>simple</td>\n",
       "    </tr>\n",
       "    <tr>\n",
       "      <th>10</th>\n",
       "      <td>2020-08-28 00:00:00</td>\n",
       "      <td>(Schitt's Creek)[r=8 p=180]</td>\n",
       "      <td>8</td>\n",
       "      <td>0 days 00:30:00</td>\n",
       "      <td>62.620856</td>\n",
       "      <td>simple</td>\n",
       "    </tr>\n",
       "    <tr>\n",
       "      <th>16</th>\n",
       "      <td>2020-08-05 00:30:00</td>\n",
       "      <td>(Kim's Convenience)[r=7 p=180]</td>\n",
       "      <td>7</td>\n",
       "      <td>0 days 00:30:00</td>\n",
       "      <td>60.844246</td>\n",
       "      <td>simple</td>\n",
       "    </tr>\n",
       "    <tr>\n",
       "      <th>17</th>\n",
       "      <td>2020-08-26 00:30:00</td>\n",
       "      <td>(Kim's Convenience)[r=7 p=180]</td>\n",
       "      <td>7</td>\n",
       "      <td>0 days 00:30:00</td>\n",
       "      <td>60.844246</td>\n",
       "      <td>simple</td>\n",
       "    </tr>\n",
       "    <tr>\n",
       "      <th>18</th>\n",
       "      <td>2020-08-06 00:30:00</td>\n",
       "      <td>(Mr. D)[r=7 p=180]</td>\n",
       "      <td>7</td>\n",
       "      <td>0 days 00:30:00</td>\n",
       "      <td>60.844246</td>\n",
       "      <td>simple</td>\n",
       "    </tr>\n",
       "    <tr>\n",
       "      <th>19</th>\n",
       "      <td>2020-08-07 00:30:00</td>\n",
       "      <td>(Schitt's Creek)[r=7 p=180]</td>\n",
       "      <td>7</td>\n",
       "      <td>0 days 00:30:00</td>\n",
       "      <td>60.844246</td>\n",
       "      <td>simple</td>\n",
       "    </tr>\n",
       "    <tr>\n",
       "      <th>29</th>\n",
       "      <td>2020-08-23 07:27:00</td>\n",
       "      <td>(CBC Kids)[r=6 p=8640]</td>\n",
       "      <td>6</td>\n",
       "      <td>1 days 00:00:00</td>\n",
       "      <td>58.858624</td>\n",
       "      <td>simple</td>\n",
       "    </tr>\n",
       "    <tr>\n",
       "      <th>50</th>\n",
       "      <td>2020-08-11 08:59:00</td>\n",
       "      <td>(CBC Kids)[r=6 p=17280]</td>\n",
       "      <td>6</td>\n",
       "      <td>2 days 00:00:00</td>\n",
       "      <td>58.549426</td>\n",
       "      <td>simple</td>\n",
       "    </tr>\n",
       "    <tr>\n",
       "      <th>4</th>\n",
       "      <td>2020-08-01 08:09:00</td>\n",
       "      <td>(CBC Kids [d=300] CBC Kids [d=6] Kingdom Force...</td>\n",
       "      <td>5</td>\n",
       "      <td>7 days 00:00:00</td>\n",
       "      <td>188.381406</td>\n",
       "      <td>concat</td>\n",
       "    </tr>\n",
       "  </tbody>\n",
       "</table>\n",
       "</div>"
      ],
      "text/plain": [
       "                    t0                                              event  \\\n",
       "0  2020-08-01 05:00:00                       (Grand Designs)[r=31 p=8640]   \n",
       "68 2020-08-17 07:22:00                            (CBC Kids)[r=12 p=8640]   \n",
       "10 2020-08-28 00:00:00                        (Schitt's Creek)[r=8 p=180]   \n",
       "16 2020-08-05 00:30:00                     (Kim's Convenience)[r=7 p=180]   \n",
       "17 2020-08-26 00:30:00                     (Kim's Convenience)[r=7 p=180]   \n",
       "18 2020-08-06 00:30:00                                 (Mr. D)[r=7 p=180]   \n",
       "19 2020-08-07 00:30:00                        (Schitt's Creek)[r=7 p=180]   \n",
       "29 2020-08-23 07:27:00                             (CBC Kids)[r=6 p=8640]   \n",
       "50 2020-08-11 08:59:00                            (CBC Kids)[r=6 p=17280]   \n",
       "4  2020-08-01 08:09:00  (CBC Kids [d=300] CBC Kids [d=6] Kingdom Force...   \n",
       "\n",
       "    length_major    period_major        cost    type  \n",
       "0             31 1 days 00:00:00  101.455576  simple  \n",
       "68            12 1 days 00:00:00  111.340664  simple  \n",
       "10             8 0 days 00:30:00   62.620856  simple  \n",
       "16             7 0 days 00:30:00   60.844246  simple  \n",
       "17             7 0 days 00:30:00   60.844246  simple  \n",
       "18             7 0 days 00:30:00   60.844246  simple  \n",
       "19             7 0 days 00:30:00   60.844246  simple  \n",
       "29             6 1 days 00:00:00   58.858624  simple  \n",
       "50             6 2 days 00:00:00   58.549426  simple  \n",
       "4              5 7 days 00:00:00  188.381406  concat  "
      ]
     },
     "execution_count": 16,
     "metadata": {},
     "output_type": "execute_result"
    }
   ],
   "source": [
    "cycles.nlargest(10, [\"length_major\"])"
   ]
  },
  {
   "cell_type": "code",
   "execution_count": 17,
   "metadata": {
    "tags": []
   },
   "outputs": [
    {
     "data": {
      "text/html": [
       "<div>\n",
       "<style scoped>\n",
       "    .dataframe tbody tr th:only-of-type {\n",
       "        vertical-align: middle;\n",
       "    }\n",
       "\n",
       "    .dataframe tbody tr th {\n",
       "        vertical-align: top;\n",
       "    }\n",
       "\n",
       "    .dataframe thead th {\n",
       "        text-align: right;\n",
       "    }\n",
       "</style>\n",
       "<table border=\"1\" class=\"dataframe\">\n",
       "  <thead>\n",
       "    <tr style=\"text-align: right;\">\n",
       "      <th></th>\n",
       "      <th>time</th>\n",
       "      <th>event</th>\n",
       "    </tr>\n",
       "  </thead>\n",
       "  <tbody>\n",
       "    <tr>\n",
       "      <th>0</th>\n",
       "      <td>2020-08-03 04:00:00</td>\n",
       "      <td>CBC News: The National</td>\n",
       "    </tr>\n",
       "    <tr>\n",
       "      <th>1</th>\n",
       "      <td>2020-08-03 12:00:00</td>\n",
       "      <td>CBC News Network</td>\n",
       "    </tr>\n",
       "    <tr>\n",
       "      <th>2</th>\n",
       "      <td>2020-08-04 04:00:00</td>\n",
       "      <td>CBC News: The National</td>\n",
       "    </tr>\n",
       "    <tr>\n",
       "      <th>3</th>\n",
       "      <td>2020-08-04 12:00:00</td>\n",
       "      <td>CBC News Network</td>\n",
       "    </tr>\n",
       "    <tr>\n",
       "      <th>4</th>\n",
       "      <td>2020-08-05 04:00:00</td>\n",
       "      <td>CBC News: The National</td>\n",
       "    </tr>\n",
       "    <tr>\n",
       "      <th>...</th>\n",
       "      <td>...</td>\n",
       "      <td>...</td>\n",
       "    </tr>\n",
       "    <tr>\n",
       "      <th>115</th>\n",
       "      <td>2020-08-26 11:00:00</td>\n",
       "      <td>Dragons' Den</td>\n",
       "    </tr>\n",
       "    <tr>\n",
       "      <th>116</th>\n",
       "      <td>2020-08-27 10:59:00</td>\n",
       "      <td>CBC Kids</td>\n",
       "    </tr>\n",
       "    <tr>\n",
       "      <th>117</th>\n",
       "      <td>2020-08-27 11:00:00</td>\n",
       "      <td>Dragons' Den</td>\n",
       "    </tr>\n",
       "    <tr>\n",
       "      <th>118</th>\n",
       "      <td>2020-08-28 10:59:00</td>\n",
       "      <td>CBC Kids</td>\n",
       "    </tr>\n",
       "    <tr>\n",
       "      <th>119</th>\n",
       "      <td>2020-08-28 11:00:00</td>\n",
       "      <td>Dragons' Den</td>\n",
       "    </tr>\n",
       "  </tbody>\n",
       "</table>\n",
       "<p>120 rows × 2 columns</p>\n",
       "</div>"
      ],
      "text/plain": [
       "                    time                   event\n",
       "0    2020-08-03 04:00:00  CBC News: The National\n",
       "1    2020-08-03 12:00:00        CBC News Network\n",
       "2    2020-08-04 04:00:00  CBC News: The National\n",
       "3    2020-08-04 12:00:00        CBC News Network\n",
       "4    2020-08-05 04:00:00  CBC News: The National\n",
       "..                   ...                     ...\n",
       "115  2020-08-26 11:00:00            Dragons' Den\n",
       "116  2020-08-27 10:59:00                CBC Kids\n",
       "117  2020-08-27 11:00:00            Dragons' Den\n",
       "118  2020-08-28 10:59:00                CBC Kids\n",
       "119  2020-08-28 11:00:00            Dragons' Den\n",
       "\n",
       "[120 rows x 2 columns]"
      ]
     },
     "execution_count": 17,
     "metadata": {},
     "output_type": "execute_result"
    }
   ],
   "source": [
    "pcm.reconstruct(1)"
   ]
  },
  {
   "cell_type": "code",
   "execution_count": 18,
   "metadata": {
    "tags": []
   },
   "outputs": [
    {
     "data": {
      "text/html": [
       "<div>\n",
       "<style scoped>\n",
       "    .dataframe tbody tr th:only-of-type {\n",
       "        vertical-align: middle;\n",
       "    }\n",
       "\n",
       "    .dataframe tbody tr th {\n",
       "        vertical-align: top;\n",
       "    }\n",
       "\n",
       "    .dataframe thead th {\n",
       "        text-align: right;\n",
       "    }\n",
       "</style>\n",
       "<table border=\"1\" class=\"dataframe\">\n",
       "  <thead>\n",
       "    <tr style=\"text-align: right;\">\n",
       "      <th></th>\n",
       "      <th>time</th>\n",
       "      <th>event</th>\n",
       "    </tr>\n",
       "  </thead>\n",
       "  <tbody>\n",
       "    <tr>\n",
       "      <th>0</th>\n",
       "      <td>2020-08-04 09:35:00</td>\n",
       "      <td>Arthur Shorts</td>\n",
       "    </tr>\n",
       "    <tr>\n",
       "      <th>1</th>\n",
       "      <td>2020-08-01 13:00:00</td>\n",
       "      <td>Bondi Vet</td>\n",
       "    </tr>\n",
       "    <tr>\n",
       "      <th>2</th>\n",
       "      <td>2020-08-25 17:00:00</td>\n",
       "      <td>Heartland</td>\n",
       "    </tr>\n",
       "    <tr>\n",
       "      <th>3</th>\n",
       "      <td>2020-08-20 03:00:00</td>\n",
       "      <td>Mr. D</td>\n",
       "    </tr>\n",
       "    <tr>\n",
       "      <th>4</th>\n",
       "      <td>2020-08-31 15:00:00</td>\n",
       "      <td>Jamie's Super Foods</td>\n",
       "    </tr>\n",
       "    <tr>\n",
       "      <th>...</th>\n",
       "      <td>...</td>\n",
       "      <td>...</td>\n",
       "    </tr>\n",
       "    <tr>\n",
       "      <th>449</th>\n",
       "      <td>2020-08-11 08:33:00</td>\n",
       "      <td>CBC Kids</td>\n",
       "    </tr>\n",
       "    <tr>\n",
       "      <th>450</th>\n",
       "      <td>2020-08-02 07:43:00</td>\n",
       "      <td>Rusty Rivets</td>\n",
       "    </tr>\n",
       "    <tr>\n",
       "      <th>451</th>\n",
       "      <td>2020-08-27 08:07:00</td>\n",
       "      <td>CBC Kids</td>\n",
       "    </tr>\n",
       "    <tr>\n",
       "      <th>452</th>\n",
       "      <td>2020-08-07 09:00:00</td>\n",
       "      <td>Ollie: The Boy Who Became What He Ate</td>\n",
       "    </tr>\n",
       "    <tr>\n",
       "      <th>453</th>\n",
       "      <td>2020-08-18 10:17:00</td>\n",
       "      <td>CBC Kids</td>\n",
       "    </tr>\n",
       "  </tbody>\n",
       "</table>\n",
       "<p>454 rows × 2 columns</p>\n",
       "</div>"
      ],
      "text/plain": [
       "                    time                                  event\n",
       "0    2020-08-04 09:35:00                          Arthur Shorts\n",
       "1    2020-08-01 13:00:00                              Bondi Vet\n",
       "2    2020-08-25 17:00:00                              Heartland\n",
       "3    2020-08-20 03:00:00                                  Mr. D\n",
       "4    2020-08-31 15:00:00                    Jamie's Super Foods\n",
       "..                   ...                                    ...\n",
       "449  2020-08-11 08:33:00                               CBC Kids\n",
       "450  2020-08-02 07:43:00                           Rusty Rivets\n",
       "451  2020-08-27 08:07:00                               CBC Kids\n",
       "452  2020-08-07 09:00:00  Ollie: The Boy Who Became What He Ate\n",
       "453  2020-08-18 10:17:00                               CBC Kids\n",
       "\n",
       "[454 rows x 2 columns]"
      ]
     },
     "execution_count": 18,
     "metadata": {},
     "output_type": "execute_result"
    }
   ],
   "source": [
    "pcm.get_residuals()"
   ]
  },
  {
   "cell_type": "markdown",
   "metadata": {},
   "source": [
    "#### what are the 10 most unpunctual TV programs ?\n",
    "For this we are going to :\n",
    " 1. extract the shift corrections along with other informations about our cycles\n",
    " 2. compute the sum of the absolute values for the shift corrections, for every cycles\n",
    " 3. get the 10 biggest sums"
   ]
  },
  {
   "cell_type": "code",
   "execution_count": 19,
   "metadata": {},
   "outputs": [],
   "source": [
    "# full_cycles = pcm.discover()\n",
    "# full_cycles.head()"
   ]
  },
  {
   "cell_type": "code",
   "execution_count": 20,
   "metadata": {
    "scrolled": true
   },
   "outputs": [],
   "source": [
    "# def absolute_sum(*args):\n",
    "#     return sum(map(abs, *args))\n",
    "\n",
    "# # level 0 is the name of the TV program\n",
    "# shift_sums = full_cycles[\"dE\"].map(absolute_sum).groupby(level=[0]).sum()\n",
    "# shift_sums.nlargest(10)"
   ]
  },
  {
   "cell_type": "markdown",
   "metadata": {},
   "source": [
    "<!-- #### what are the 10 most unpunctual TV programs ?\n",
    "For this we are going to :\n",
    " 1. extract the shift corrections along with other informations about our cycles\n",
    " 2. compute the sum of the absolute values for the shift corrections, for every cycles\n",
    " 3. get the 10 biggest sums -->"
   ]
  },
  {
   "cell_type": "code",
   "execution_count": 21,
   "metadata": {},
   "outputs": [],
   "source": [
    "# def absolute_sum(*args):\n",
    "#     return sum(map(abs, *args))\n",
    "\n",
    "# # level 0 is the name of the TV program\n",
    "# shift_sums = full_cycles[\"dE\"].map(absolute_sum).groupby(level=[0]).sum()\n",
    "# shift_sums.nlargest(10)"
   ]
  },
  {
   "cell_type": "markdown",
   "metadata": {},
   "source": [
    "#### What TV programs have been broadcasted every day for at least 5 days straight?\n",
    "Let's make use of the [pandas.DataFrame.query](https://pandas.pydata.org/docs/reference/api/pandas.DataFrame.query.html) method to express our question in an SQL-like syntax"
   ]
  },
  {
   "cell_type": "code",
   "execution_count": 22,
   "metadata": {
    "scrolled": true
   },
   "outputs": [],
   "source": [
    "# cycles.query('length_major >= 5 and period_major >= 3600', engine='python')\n",
    "# # cycles.query('length >= 5 and period == \"1 days\"', engine='python')"
   ]
  },
  {
   "cell_type": "markdown",
   "metadata": {},
   "source": [
    "#### What TV programs are broadcast only on business days ?\n",
    "From the previous query we see we have a lot of 5-length cycles, with periods of 1 day.\n",
    "An intuition is that these cycles take place on business days. Let's confirm this by considering cycles with\n",
    " 1. start timestamps on mondays\n",
    " 2. periods of roughly 1 day  "
   ]
  },
  {
   "cell_type": "code",
   "execution_count": 23,
   "metadata": {
    "scrolled": true
   },
   "outputs": [],
   "source": [
    "# monday_starts = cycles[cycles.start.dt.weekday == 0]  # start on monday\n",
    "# monday_starts.query('length == 5 and period == \"1 days\"', engine='python')"
   ]
  },
  {
   "cell_type": "markdown",
   "metadata": {},
   "source": [
    "References\n",
    "----------\n",
    "\n",
    "1.\n",
    "    Galbrun, E & Cellier, P & Tatti, N & Termier, A & Crémilleux, B\n",
    "    \"Mining Periodic Pattern with a MDL Criterion\"\n",
    "\n",
    "2.\n",
    "    Galbrun, E\n",
    "    \"The Minimum Description Length Principle for Pattern Mining : A survey\"\n",
    "\n",
    "3. \n",
    "    Termier, A\n",
    "    [\"Periodic pattern mining\"](http://people.irisa.fr/Alexandre.Termier/dmv/DMV_Periodic_patterns.pdf) "
   ]
  }
 ],
 "metadata": {
  "kernelspec": {
   "display_name": "Python 3 (ipykernel)",
   "language": "python",
   "name": "python3"
  },
  "language_info": {
   "codemirror_mode": {
    "name": "ipython",
    "version": 3
   },
   "file_extension": ".py",
   "mimetype": "text/x-python",
   "name": "python",
   "nbconvert_exporter": "python",
   "pygments_lexer": "ipython3",
   "version": "3.11.1"
  },
  "toc": {
   "base_numbering": 1,
   "nav_menu": {},
   "number_sections": true,
   "sideBar": true,
   "skip_h1_title": false,
   "title_cell": "Table of Contents",
   "title_sidebar": "Contents",
   "toc_cell": false,
   "toc_position": {
    "height": "calc(100% - 180px)",
    "left": "10px",
    "top": "150px",
    "width": "247.55px"
   },
   "toc_section_display": true,
   "toc_window_display": true
  },
  "vscode": {
   "interpreter": {
    "hash": "c4418ac5ac56bcc1d654aebcb97e1ca3ff1be77625ab045a7b4b5e8ee820789e"
   }
  }
 },
 "nbformat": 4,
 "nbformat_minor": 4
}
