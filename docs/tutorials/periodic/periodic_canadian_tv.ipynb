{
 "cells": [
  {
   "cell_type": "markdown",
   "metadata": {},
   "source": [
    "## Periodic pattern mining on canadian TV logs\n",
    "<img src=\"skmine_series.png\" alt=\"logo\" style=\"width: 60%;\"/>"
   ]
  },
  {
   "cell_type": "markdown",
   "metadata": {},
   "source": [
    "### The problem, informally\n",
    "Let's take a simple example. \n",
    "\n",
    "Imagine you set an alarm to wake up every day around 7:30AM, and go to work. Sometimes you wake up a bit earlier (your body anticipates on the alarm), and sometimes a bit later, for example if you press the \"snooze\" button and refuse to face the fact that you have to wake up.\n",
    "\n",
    "In python we can load those \"wake up\" events as logs, and store them in a [pandas.Series](https://pandas.pydata.org/pandas-docs/stable/reference/api/pandas.Series.html), like"
   ]
  },
  {
   "cell_type": "code",
   "execution_count": 1,
   "metadata": {},
   "outputs": [
    {
     "data": {
      "text/plain": [
       "2020-04-16 07:30:00    wake up\n",
       "2020-04-17 07:29:00    wake up\n",
       "2020-04-18 07:29:00    wake up\n",
       "2020-04-19 07:30:00    wake up\n",
       "2020-04-20 07:32:00    wake up\n",
       "2020-04-23 07:30:00    wake up\n",
       "dtype: object"
      ]
     },
     "execution_count": 1,
     "metadata": {},
     "output_type": "execute_result"
    }
   ],
   "source": [
    "import datetime as dt\n",
    "import pandas as pd\n",
    "one_day = 60 * 24  # a day in minutes\n",
    "minutes = [0, one_day - 1, one_day * 2 - 1, one_day * 3, one_day * 4 + 2, one_day * 7]\n",
    "\n",
    "S = pd.Series(\"wake up\", index=minutes)\n",
    "start = dt.datetime.strptime(\"16/04/2020 07:30\", \"%d/%m/%Y %H:%M\")\n",
    "S.index = S.index.map(lambda e: start + dt.timedelta(minutes=e))\n",
    "S.index = S.index.round(\"min\")  # minutes as the lowest unit of difference\n",
    "S"
   ]
  },
  {
   "cell_type": "code",
   "execution_count": 2,
   "metadata": {},
   "outputs": [
    {
     "data": {
      "text/plain": [
       "([2, 3, 5, 9, 31], array([ 2,  3,  5,  9, 31]))"
      ]
     },
     "execution_count": 2,
     "metadata": {},
     "output_type": "execute_result"
    }
   ],
   "source": [
    "\n",
    "import numpy as np\n",
    "sorted([5,9,31,2,3]), np.sort([5,9,31,2,3])"
   ]
  },
  {
   "cell_type": "code",
   "execution_count": 3,
   "metadata": {},
   "outputs": [
    {
     "data": {
      "text/plain": [
       "array(['2020-04-16T07:30:00.000000000', '2020-04-17T07:29:00.000000000',\n",
       "       '2020-04-18T07:29:00.000000000', '2020-04-19T07:30:00.000000000',\n",
       "       '2020-04-20T07:32:00.000000000', '2020-04-23T07:30:00.000000000'],\n",
       "      dtype='datetime64[ns]')"
      ]
     },
     "execution_count": 3,
     "metadata": {},
     "output_type": "execute_result"
    }
   ],
   "source": [
    "S.index.to_numpy()"
   ]
  },
  {
   "cell_type": "code",
   "execution_count": null,
   "metadata": {},
   "outputs": [],
   "source": []
  },
  {
   "cell_type": "markdown",
   "metadata": {},
   "source": [
    "We can see the wake-up time is not exactly the same every day, but overall a consistent regular pattern seems to emerge.\n",
    "\n",
    "Now imagine that in addition to wake up times, we also have records of other daily activities (meals, work, household chores, etc.), and that rather than a handful of days, those records span several years and make up several thousands of events\n",
    "\n",
    "**How would you be able to detect regularities in the data ?**"
   ]
  },
  {
   "cell_type": "markdown",
   "metadata": {},
   "source": [
    "### Introduction to periodic pattern mining\n",
    "Periodic pattern mining aims at exploiting regularities not only about `what happens` by finding coordinated event occurrences, but also about `when it happens` and `how it happens`, by **finding consistent inter-occurrence timeintervals**.\n",
    "\n",
    "Next, we introduce the concept of cycles\n",
    "\n",
    "#### The cycle : a building block for periodic pattern mining\n",
    "Here is an explicit example of a cycle\n",
    "\n",
    "<img src=\"cycle_color.png\" alt=\"cycle\" style=\"width: 60%;\"/>\n",
    "\n",
    "This definition, while being relatively simple, is general enough to allow us to find regularities in different types of logs\n",
    "\n",
    "#### Handling noise in our timestamps\n",
    "\n",
    "Needless to say, it would be too easy if events in our data were equally spaced. As data often comes noisy, we have to be fault tolerant, and allow small errors to sneak into our cycles. \n",
    "\n",
    "That's the role of `shift corrections`, which capture the small deviations from perfectly regular periodic repetitions, and allow to reconstruct the (noisy) original sequence of events, using the following relation\n",
    "<img src=\"shifts.png\" alt=\"shifts\" style=\"width: 60%;\"/>"
   ]
  },
  {
   "cell_type": "markdown",
   "metadata": {},
   "source": [
    "#### A tiny example with scikit-mine\n",
    "`scikit-mine` offers a `PeriodicCycleMiner`, out of the box.\n",
    "You can use it to **detect regularities, in the form of cycles**, in the input data. \n",
    "\n",
    "These regularities are submitted to an MDL criterion, so that we do not mistakenly include redundant occurences, nor forget to consider other intervals that would sumarize our data in a better way.\n",
    "\n",
    "MDL offers a framework to find `the best set of cycles`, i.e the set that gives the most succint representation of the data. And `as humans, we often like to deal with non-redundant, well organized data`."
   ]
  },
  {
   "cell_type": "code",
   "execution_count": 4,
   "metadata": {},
   "outputs": [
    {
     "name": "stderr",
     "output_type": "stream",
     "text": [
      "/home/cregan/fsl/lib/python3.10/site-packages/scikit_mine-0.0.10-py3.10.egg/skmine/periodic/cycles.py:20: FutureWarning: pandas.Int64Index is deprecated and will be removed from pandas in a future version. Use pandas.Index with the appropriate dtype instead.\n",
      "  INDEX_TYPES = (pd.DatetimeIndex, pd.RangeIndex, pd.Int64Index,)\n"
     ]
    },
    {
     "data": {
      "text/html": [
       "<div>\n",
       "<style scoped>\n",
       "    .dataframe tbody tr th:only-of-type {\n",
       "        vertical-align: middle;\n",
       "    }\n",
       "\n",
       "    .dataframe tbody tr th {\n",
       "        vertical-align: top;\n",
       "    }\n",
       "\n",
       "    .dataframe thead th {\n",
       "        text-align: right;\n",
       "    }\n",
       "</style>\n",
       "<table border=\"1\" class=\"dataframe\">\n",
       "  <thead>\n",
       "    <tr style=\"text-align: right;\">\n",
       "      <th></th>\n",
       "      <th></th>\n",
       "      <th>start</th>\n",
       "      <th>length</th>\n",
       "      <th>period</th>\n",
       "      <th>cost</th>\n",
       "    </tr>\n",
       "  </thead>\n",
       "  <tbody>\n",
       "    <tr>\n",
       "      <th>wake up</th>\n",
       "      <th>0</th>\n",
       "      <td>2020-04-16 07:30:00</td>\n",
       "      <td>5</td>\n",
       "      <td>1 days 00:00:30</td>\n",
       "      <td>63.130299</td>\n",
       "    </tr>\n",
       "  </tbody>\n",
       "</table>\n",
       "</div>"
      ],
      "text/plain": [
       "                        start  length          period       cost\n",
       "wake up 0 2020-04-16 07:30:00       5 1 days 00:00:30  63.130299"
      ]
     },
     "execution_count": 4,
     "metadata": {},
     "output_type": "execute_result"
    }
   ],
   "source": [
    "from skmine.periodic import PeriodicCycleMiner\n",
    "pcm = PeriodicCycleMiner().fit(S)\n",
    "pcm.discover()"
   ]
  },
  {
   "cell_type": "markdown",
   "metadata": {},
   "source": [
    "You can see one cycle has been extracted for our event `wake up`. The cycle covers the entire business week, but not the last monday separated by the weekend\n",
    "\n",
    "It has a length of 5 and a period close to 1 day, as expected.\n",
    "\n",
    "Also, note that we \"lost\" some information here. Our period of 1 day offers the best summary for this data.\n",
    "Accessing the little \"shifts\" as encountered in original data is also possible, with an extra argument in our `.discover` call"
   ]
  },
  {
   "cell_type": "code",
   "execution_count": 5,
   "metadata": {},
   "outputs": [
    {
     "data": {
      "text/html": [
       "<div>\n",
       "<style scoped>\n",
       "    .dataframe tbody tr th:only-of-type {\n",
       "        vertical-align: middle;\n",
       "    }\n",
       "\n",
       "    .dataframe tbody tr th {\n",
       "        vertical-align: top;\n",
       "    }\n",
       "\n",
       "    .dataframe thead th {\n",
       "        text-align: right;\n",
       "    }\n",
       "</style>\n",
       "<table border=\"1\" class=\"dataframe\">\n",
       "  <thead>\n",
       "    <tr style=\"text-align: right;\">\n",
       "      <th></th>\n",
       "      <th></th>\n",
       "      <th>start</th>\n",
       "      <th>length</th>\n",
       "      <th>period</th>\n",
       "      <th>cost</th>\n",
       "    </tr>\n",
       "  </thead>\n",
       "  <tbody>\n",
       "    <tr>\n",
       "      <th>wake up</th>\n",
       "      <th>0</th>\n",
       "      <td>2020-04-16 07:30:00</td>\n",
       "      <td>5</td>\n",
       "      <td>1 days 00:00:30</td>\n",
       "      <td>63.130299</td>\n",
       "    </tr>\n",
       "  </tbody>\n",
       "</table>\n",
       "</div>"
      ],
      "text/plain": [
       "                        start  length          period       cost\n",
       "wake up 0 2020-04-16 07:30:00       5 1 days 00:00:30  63.130299"
      ]
     },
     "execution_count": 5,
     "metadata": {},
     "output_type": "execute_result"
    }
   ],
   "source": [
    "pcm.discover()"
   ]
  },
  {
   "cell_type": "markdown",
   "metadata": {},
   "source": [
    "The last column named `dE` contains a list of shifts to apply to our cycle in case we want to reconstruct the original data. Trailing zeros have been removed for efficiency, and their values are `relative to the period`, but we can see there is:\n",
    " * a -90 second shift between the 1st and 2nd entry (1day30s - 90s later = waking up at 7:29 on tuesday)\n",
    " * a 30 second shift between the 2nd and 3rd entry (1day30s - 30s later = still waking up at 7:29 on wednesday)\n",
    " * an 30 second shift between the 3rd and 4th entry (back to 7:30 on thursday)\n",
    " * an 90 second shift between the 4th and 5th entry (1day 30s + 90s later = waking up at 7:32 on friday)\n",
    "\n",
    "Also note that we can get the \"uncovered\" events, called `redisuals`"
   ]
  },
  {
   "cell_type": "code",
   "execution_count": 6,
   "metadata": {
    "scrolled": true
   },
   "outputs": [
    {
     "data": {
      "text/plain": [
       "Series([], dtype: object)"
      ]
     },
     "execution_count": 6,
     "metadata": {},
     "output_type": "execute_result"
    }
   ],
   "source": [
    "pcm.get_residuals()"
   ]
  },
  {
   "cell_type": "markdown",
   "metadata": {},
   "source": [
    "This way `pcm` does not store all the data, but has all information needed to reconstruct it entirely !!"
   ]
  },
  {
   "cell_type": "code",
   "execution_count": 7,
   "metadata": {},
   "outputs": [
    {
     "data": {
      "text/plain": [
       "2020-04-16 07:30:00    wake up\n",
       "2020-04-17 07:29:00    wake up\n",
       "2020-04-18 07:29:00    wake up\n",
       "2020-04-19 07:30:00    wake up\n",
       "2020-04-20 07:32:00    wake up\n",
       "dtype: object"
      ]
     },
     "execution_count": 7,
     "metadata": {},
     "output_type": "execute_result"
    }
   ],
   "source": [
    "pcm.reconstruct()"
   ]
  },
  {
   "cell_type": "markdown",
   "metadata": {},
   "source": [
    "#### **ESTHER CODE INTEGRATION TEST**"
   ]
  },
  {
   "cell_type": "code",
   "execution_count": 8,
   "metadata": {},
   "outputs": [
    {
     "data": {
      "text/html": [
       "<div>\n",
       "<style scoped>\n",
       "    .dataframe tbody tr th:only-of-type {\n",
       "        vertical-align: middle;\n",
       "    }\n",
       "\n",
       "    .dataframe tbody tr th {\n",
       "        vertical-align: top;\n",
       "    }\n",
       "\n",
       "    .dataframe thead th {\n",
       "        text-align: right;\n",
       "    }\n",
       "</style>\n",
       "<table border=\"1\" class=\"dataframe\">\n",
       "  <thead>\n",
       "    <tr style=\"text-align: right;\">\n",
       "      <th></th>\n",
       "      <th></th>\n",
       "      <th>start</th>\n",
       "      <th>length</th>\n",
       "      <th>period</th>\n",
       "      <th>cost</th>\n",
       "    </tr>\n",
       "  </thead>\n",
       "  <tbody>\n",
       "    <tr>\n",
       "      <th rowspan=\"2\" valign=\"top\">ring_a_bell</th>\n",
       "      <th>1</th>\n",
       "      <td>10</td>\n",
       "      <td>3</td>\n",
       "      <td>11</td>\n",
       "      <td>23.552849</td>\n",
       "    </tr>\n",
       "    <tr>\n",
       "      <th>0</th>\n",
       "      <td>40</td>\n",
       "      <td>4</td>\n",
       "      <td>20</td>\n",
       "      <td>24.665780</td>\n",
       "    </tr>\n",
       "  </tbody>\n",
       "</table>\n",
       "</div>"
      ],
      "text/plain": [
       "               start  length  period       cost\n",
       "ring_a_bell 1     10       3      11  23.552849\n",
       "            0     40       4      20  24.665780"
      ]
     },
     "execution_count": 8,
     "metadata": {},
     "output_type": "execute_result"
    }
   ],
   "source": [
    "from skmine.periodic import PeriodicCycleMiner\n",
    "import pandas as pd\n",
    "S_doc = pd.Series(\"ring_a_bell\", [10, 20, 32, 40, 60, 79, 100, 240])\n",
    "pcm = PeriodicCycleMiner().fit(S_doc)\n",
    "pcm.discover()"
   ]
  },
  {
   "cell_type": "code",
   "execution_count": null,
   "metadata": {},
   "outputs": [],
   "source": []
  },
  {
   "cell_type": "code",
   "execution_count": 9,
   "metadata": {},
   "outputs": [
    {
     "name": "stderr",
     "output_type": "stream",
     "text": [
      "/home/cregan/fsl/lib/python3.10/site-packages/scikit_mine-0.0.10-py3.10.egg/skmine/periodic_esther/cycles.py:26: FutureWarning: pandas.Int64Index is deprecated and will be removed from pandas in a future version. Use pandas.Index with the appropriate dtype instead.\n",
      "  pd.Int64Index,\n"
     ]
    }
   ],
   "source": [
    "from skmine.periodic_esther import PeriodicCycleMiner\n",
    "import pandas as pd\n"
   ]
  },
  {
   "cell_type": "code",
   "execution_count": 10,
   "metadata": {},
   "outputs": [
    {
     "name": "stdout",
     "output_type": "stream",
     "text": [
      " ---- COLLECTION STATS (Total=1 nb_simple=1)\n",
      "Code length patterns (1): 67.885186\n",
      "Code length residuals (1): 15.884194\n",
      "-- Total code length = 83.769381 (87.895949% of 95.305166)\n",
      "\n"
     ]
    },
    {
     "data": {
      "text/html": [
       "<div>\n",
       "<style scoped>\n",
       "    .dataframe tbody tr th:only-of-type {\n",
       "        vertical-align: middle;\n",
       "    }\n",
       "\n",
       "    .dataframe tbody tr th {\n",
       "        vertical-align: top;\n",
       "    }\n",
       "\n",
       "    .dataframe thead th {\n",
       "        text-align: right;\n",
       "    }\n",
       "</style>\n",
       "<table border=\"1\" class=\"dataframe\">\n",
       "  <thead>\n",
       "    <tr style=\"text-align: right;\">\n",
       "      <th></th>\n",
       "      <th>t0</th>\n",
       "      <th>event</th>\n",
       "      <th>length_major</th>\n",
       "      <th>period_major</th>\n",
       "      <th>cost</th>\n",
       "      <th>type</th>\n",
       "    </tr>\n",
       "  </thead>\n",
       "  <tbody>\n",
       "    <tr>\n",
       "      <th>0</th>\n",
       "      <td>158702220</td>\n",
       "      <td>(wake up)[r=5 p=8643]</td>\n",
       "      <td>5</td>\n",
       "      <td>8643</td>\n",
       "      <td>67.885186</td>\n",
       "      <td>simple</td>\n",
       "    </tr>\n",
       "  </tbody>\n",
       "</table>\n",
       "</div>"
      ],
      "text/plain": [
       "          t0                  event  length_major  period_major       cost  \\\n",
       "0  158702220  (wake up)[r=5 p=8643]             5          8643  67.885186   \n",
       "\n",
       "     type  \n",
       "0  simple  "
      ]
     },
     "execution_count": 10,
     "metadata": {},
     "output_type": "execute_result"
    }
   ],
   "source": [
    "pcm = PeriodicCycleMiner().fit(S)\n",
    "pcm.discover()"
   ]
  },
  {
   "cell_type": "markdown",
   "metadata": {},
   "source": [
    "You can see one cycle has been extracted for our event `wake up`. The cycle covers the entire business week, but not the last monday separated by the weekend\n",
    "\n",
    "It has a length of 5 and a period close to 1 day, as expected.\n",
    "\n",
    "Also, note that we \"lost\" some information here. Our period of 1 day offers the best summary for this data.\n",
    "Accessing the little \"shifts\" as encountered in original data is also possible, with an extra argument in our `.discover` call"
   ]
  },
  {
   "cell_type": "code",
   "execution_count": 11,
   "metadata": {},
   "outputs": [
    {
     "name": "stdout",
     "output_type": "stream",
     "text": [
      " ---- COLLECTION STATS (Total=1 nb_simple=1)\n",
      "Code length patterns (1): 67.885186\n",
      "Code length residuals (1): 15.884194\n",
      "-- Total code length = 83.769381 (87.895949% of 95.305166)\n",
      "\n"
     ]
    },
    {
     "data": {
      "text/html": [
       "<div>\n",
       "<style scoped>\n",
       "    .dataframe tbody tr th:only-of-type {\n",
       "        vertical-align: middle;\n",
       "    }\n",
       "\n",
       "    .dataframe tbody tr th {\n",
       "        vertical-align: top;\n",
       "    }\n",
       "\n",
       "    .dataframe thead th {\n",
       "        text-align: right;\n",
       "    }\n",
       "</style>\n",
       "<table border=\"1\" class=\"dataframe\">\n",
       "  <thead>\n",
       "    <tr style=\"text-align: right;\">\n",
       "      <th></th>\n",
       "      <th>t0</th>\n",
       "      <th>event</th>\n",
       "      <th>length_major</th>\n",
       "      <th>period_major</th>\n",
       "      <th>cost</th>\n",
       "      <th>type</th>\n",
       "    </tr>\n",
       "  </thead>\n",
       "  <tbody>\n",
       "    <tr>\n",
       "      <th>0</th>\n",
       "      <td>158702220</td>\n",
       "      <td>(wake up)[r=5 p=8643]</td>\n",
       "      <td>5</td>\n",
       "      <td>8643</td>\n",
       "      <td>67.885186</td>\n",
       "      <td>simple</td>\n",
       "    </tr>\n",
       "  </tbody>\n",
       "</table>\n",
       "</div>"
      ],
      "text/plain": [
       "          t0                  event  length_major  period_major       cost  \\\n",
       "0  158702220  (wake up)[r=5 p=8643]             5          8643  67.885186   \n",
       "\n",
       "     type  \n",
       "0  simple  "
      ]
     },
     "execution_count": 11,
     "metadata": {},
     "output_type": "execute_result"
    }
   ],
   "source": [
    "pcm.discover()"
   ]
  },
  {
   "cell_type": "markdown",
   "metadata": {},
   "source": [
    "The last column named `dE` contains a list of shifts to apply to our cycle in case we want to reconstruct the original data. Trailing zeros have been removed for efficiency, and their values are `relative to the period`, but we can see there is:\n",
    " * a -90 second shift between the 1st and 2nd entry (1day30s - 90s later = waking up at 7:29 on tuesday)\n",
    " * a 30 second shift between the 2nd and 3rd entry (1day30s - 30s later = still waking up at 7:29 on wednesday)\n",
    " * an 30 second shift between the 3rd and 4th entry (back to 7:30 on thursday)\n",
    " * an 90 second shift between the 4th and 5th entry (1day 30s + 90s later = waking up at 7:32 on friday)\n",
    "\n",
    "Also note that we can get the \"uncovered\" events, called `redisuals`"
   ]
  },
  {
   "cell_type": "code",
   "execution_count": 12,
   "metadata": {
    "scrolled": true
   },
   "outputs": [
    {
     "data": {
      "text/plain": [
       "{(158762700, 0)}"
      ]
     },
     "execution_count": 12,
     "metadata": {},
     "output_type": "execute_result"
    }
   ],
   "source": [
    "pcm.get_residuals()"
   ]
  },
  {
   "cell_type": "markdown",
   "metadata": {},
   "source": [
    "This way `pcm` does not store all the data, but has all information needed to reconstruct it entirely !!"
   ]
  },
  {
   "cell_type": "code",
   "execution_count": 13,
   "metadata": {},
   "outputs": [
    {
     "data": {
      "text/html": [
       "<div>\n",
       "<style scoped>\n",
       "    .dataframe tbody tr th:only-of-type {\n",
       "        vertical-align: middle;\n",
       "    }\n",
       "\n",
       "    .dataframe tbody tr th {\n",
       "        vertical-align: top;\n",
       "    }\n",
       "\n",
       "    .dataframe thead th {\n",
       "        text-align: right;\n",
       "    }\n",
       "</style>\n",
       "<table border=\"1\" class=\"dataframe\">\n",
       "  <thead>\n",
       "    <tr style=\"text-align: right;\">\n",
       "      <th></th>\n",
       "      <th>occs</th>\n",
       "    </tr>\n",
       "  </thead>\n",
       "  <tbody>\n",
       "    <tr>\n",
       "      <th>0</th>\n",
       "      <td>[(0, 0, 0,0), (8643, 0, 0,1), (17286, 0, 0,2),...</td>\n",
       "    </tr>\n",
       "  </tbody>\n",
       "</table>\n",
       "</div>"
      ],
      "text/plain": [
       "                                                occs\n",
       "0  [(0, 0, 0,0), (8643, 0, 0,1), (17286, 0, 0,2),..."
      ]
     },
     "execution_count": 13,
     "metadata": {},
     "output_type": "execute_result"
    }
   ],
   "source": [
    "pcm.reconstruct()"
   ]
  },
  {
   "cell_type": "markdown",
   "metadata": {},
   "source": [
    "### An example with Canadian TV programs\n",
    "#### Fetching logs from canadian TV\n",
    "\n",
    "In this section we are going to load some event logs of TV programs (the `WHAT`), indexed by their broadcast timestamps (the `WHEN`).\n",
    "\n",
    "`PeriodicCycleMiner` is here to help us discovering regularities (the `HOW`)"
   ]
  },
  {
   "cell_type": "code",
   "execution_count": 14,
   "metadata": {},
   "outputs": [],
   "source": [
    "from skmine.datasets import fetch_canadian_tv\n",
    "from skmine.periodic import PeriodicCycleMiner"
   ]
  },
  {
   "cell_type": "markdown",
   "metadata": {},
   "source": [
    "#### Searching for cycles in TV programs\n",
    "\n",
    "Remember about the definition of cycles ?\n",
    "Let's apply it to our TV programs\n",
    "\n",
    "In our case\n",
    "\n",
    "* $\\alpha$ is the name of a TV program\n",
    "\n",
    "* $r$ is the number of broadcasts (repetitions) for this TV program (inside this cycle)\n",
    "\n",
    "* $p$ is the optimal time delta between broadcasts in this cycle. If a program is meant to be live everyday at 14:00PM, then $p$ is likely to be `1 day`\n",
    "\n",
    "* $\\tau$ is the first broadcast time in this cycle\n",
    "\n",
    "* $dE$ are the shift corrections between the $p$ and the actual broadcast time of an event. If a TV program was scheduled at 8:30:00AM and it went on air at 8:30:23AM the same day, then we keep track of a `23 seconds shift`. This way we can summarize our data (via cycles), and reconstruct it (via shift corrections). \n",
    "\n",
    "\n",
    "Finally we are going to dig a little deeper into these cycles, to answer quite complex questions about our logs. We will see that cycles contains usefull information about our input data"
   ]
  },
  {
   "cell_type": "code",
   "execution_count": 15,
   "metadata": {},
   "outputs": [
    {
     "name": "stderr",
     "output_type": "stream",
     "text": [
      "/home/cregan/fsl/lib/python3.10/site-packages/scikit_mine-0.0.10-py3.10.egg/skmine/datasets/periodic.py:117: FutureWarning: The squeeze argument has been deprecated and will be removed in a future version. Append .squeeze(\"columns\") to the call to squeeze.\n",
      "\n",
      "\n",
      "  s = pd.read_csv(p, **kwargs)\n"
     ]
    },
    {
     "data": {
      "text/plain": [
       "timestamp\n",
       "2020-08-01 06:00:00            The Moblees\n",
       "2020-08-01 06:11:00    Big Block Sing Song\n",
       "2020-08-01 06:13:00    Big Block Sing Song\n",
       "2020-08-01 06:15:00               CBC Kids\n",
       "2020-08-01 06:15:00               CBC Kids\n",
       "Name: canadian_tv, dtype: string"
      ]
     },
     "execution_count": 15,
     "metadata": {},
     "output_type": "execute_result"
    }
   ],
   "source": [
    "ctv_logs = fetch_canadian_tv()\n",
    "ctv_logs.head()"
   ]
  },
  {
   "cell_type": "code",
   "execution_count": 16,
   "metadata": {},
   "outputs": [
    {
     "name": "stderr",
     "output_type": "stream",
     "text": [
      "/home/cregan/fsl/lib/python3.10/site-packages/scikit_mine-0.0.10-py3.10.egg/skmine/periodic/cycles.py:538: UserWarning: found duplicates in input sequence, removing them\n",
      "  warnings.warn(\"found duplicates in input sequence, removing them\")\n",
      "/home/cregan/fsl/lib/python3.10/site-packages/scikit_mine-0.0.10-py3.10.egg/skmine/periodic/cycles.py:403: UserWarning: could not generate candidates for the input sequence,\n",
      "                the model is left empty\n",
      "  warnings.warn(\n",
      "/home/cregan/fsl/lib/python3.10/site-packages/scikit_mine-0.0.10-py3.10.egg/skmine/periodic/cycles.py:403: UserWarning: could not generate candidates for the input sequence,\n",
      "                the model is left empty\n",
      "  warnings.warn(\n",
      "/home/cregan/fsl/lib/python3.10/site-packages/scikit_mine-0.0.10-py3.10.egg/skmine/periodic/cycles.py:403: UserWarning: could not generate candidates for the input sequence,\n",
      "                the model is left empty\n",
      "  warnings.warn(\n",
      "/home/cregan/fsl/lib/python3.10/site-packages/scikit_mine-0.0.10-py3.10.egg/skmine/periodic/cycles.py:403: UserWarning: could not generate candidates for the input sequence,\n",
      "                the model is left empty\n",
      "  warnings.warn(\n",
      "/home/cregan/fsl/lib/python3.10/site-packages/scikit_mine-0.0.10-py3.10.egg/skmine/periodic/cycles.py:403: UserWarning: could not generate candidates for the input sequence,\n",
      "                the model is left empty\n",
      "  warnings.warn(\n",
      "/home/cregan/fsl/lib/python3.10/site-packages/scikit_mine-0.0.10-py3.10.egg/skmine/periodic/cycles.py:403: UserWarning: could not generate candidates for the input sequence,\n",
      "                the model is left empty\n",
      "  warnings.warn(\n",
      "/home/cregan/fsl/lib/python3.10/site-packages/scikit_mine-0.0.10-py3.10.egg/skmine/periodic/cycles.py:403: UserWarning: could not generate candidates for the input sequence,\n",
      "                the model is left empty\n",
      "  warnings.warn(\n",
      "/home/cregan/fsl/lib/python3.10/site-packages/scikit_mine-0.0.10-py3.10.egg/skmine/periodic/cycles.py:403: UserWarning: could not generate candidates for the input sequence,\n",
      "                the model is left empty\n",
      "  warnings.warn(\n",
      "/home/cregan/fsl/lib/python3.10/site-packages/scikit_mine-0.0.10-py3.10.egg/skmine/periodic/cycles.py:403: UserWarning: could not generate candidates for the input sequence,\n",
      "                the model is left empty\n",
      "  warnings.warn(\n",
      "/home/cregan/fsl/lib/python3.10/site-packages/scikit_mine-0.0.10-py3.10.egg/skmine/periodic/cycles.py:403: UserWarning: could not generate candidates for the input sequence,\n",
      "                the model is left empty\n",
      "  warnings.warn(\n",
      "/home/cregan/fsl/lib/python3.10/site-packages/scikit_mine-0.0.10-py3.10.egg/skmine/periodic/cycles.py:403: UserWarning: could not generate candidates for the input sequence,\n",
      "                the model is left empty\n",
      "  warnings.warn(\n",
      "/home/cregan/fsl/lib/python3.10/site-packages/scikit_mine-0.0.10-py3.10.egg/skmine/periodic/cycles.py:403: UserWarning: could not generate candidates for the input sequence,\n",
      "                the model is left empty\n",
      "  warnings.warn(\n",
      "/home/cregan/fsl/lib/python3.10/site-packages/scikit_mine-0.0.10-py3.10.egg/skmine/periodic/cycles.py:403: UserWarning: could not generate candidates for the input sequence,\n",
      "                the model is left empty\n",
      "  warnings.warn(\n",
      "/home/cregan/fsl/lib/python3.10/site-packages/scikit_mine-0.0.10-py3.10.egg/skmine/periodic/cycles.py:403: UserWarning: could not generate candidates for the input sequence,\n",
      "                the model is left empty\n",
      "  warnings.warn(\n",
      "/home/cregan/fsl/lib/python3.10/site-packages/scikit_mine-0.0.10-py3.10.egg/skmine/periodic/cycles.py:403: UserWarning: could not generate candidates for the input sequence,\n",
      "                the model is left empty\n",
      "  warnings.warn(\n",
      "/home/cregan/fsl/lib/python3.10/site-packages/scikit_mine-0.0.10-py3.10.egg/skmine/periodic/cycles.py:403: UserWarning: could not generate candidates for the input sequence,\n",
      "                the model is left empty\n",
      "  warnings.warn(\n",
      "/home/cregan/fsl/lib/python3.10/site-packages/scikit_mine-0.0.10-py3.10.egg/skmine/periodic/cycles.py:403: UserWarning: could not generate candidates for the input sequence,\n",
      "                the model is left empty\n",
      "  warnings.warn(\n",
      "/home/cregan/fsl/lib/python3.10/site-packages/scikit_mine-0.0.10-py3.10.egg/skmine/periodic/cycles.py:403: UserWarning: could not generate candidates for the input sequence,\n",
      "                the model is left empty\n",
      "  warnings.warn(\n",
      "/home/cregan/fsl/lib/python3.10/site-packages/scikit_mine-0.0.10-py3.10.egg/skmine/periodic/cycles.py:403: UserWarning: could not generate candidates for the input sequence,\n",
      "                the model is left empty\n",
      "  warnings.warn(\n",
      "/home/cregan/fsl/lib/python3.10/site-packages/scikit_mine-0.0.10-py3.10.egg/skmine/periodic/cycles.py:403: UserWarning: could not generate candidates for the input sequence,\n",
      "                the model is left empty\n",
      "  warnings.warn(\n",
      "/home/cregan/fsl/lib/python3.10/site-packages/scikit_mine-0.0.10-py3.10.egg/skmine/periodic/cycles.py:403: UserWarning: could not generate candidates for the input sequence,\n",
      "                the model is left empty\n",
      "  warnings.warn(\n",
      "/home/cregan/fsl/lib/python3.10/site-packages/scikit_mine-0.0.10-py3.10.egg/skmine/periodic/cycles.py:403: UserWarning: could not generate candidates for the input sequence,\n",
      "                the model is left empty\n",
      "  warnings.warn(\n",
      "/home/cregan/fsl/lib/python3.10/site-packages/scikit_mine-0.0.10-py3.10.egg/skmine/periodic/cycles.py:403: UserWarning: could not generate candidates for the input sequence,\n",
      "                the model is left empty\n",
      "  warnings.warn(\n",
      "/home/cregan/fsl/lib/python3.10/site-packages/scikit_mine-0.0.10-py3.10.egg/skmine/periodic/cycles.py:403: UserWarning: could not generate candidates for the input sequence,\n",
      "                the model is left empty\n",
      "  warnings.warn(\n",
      "/home/cregan/fsl/lib/python3.10/site-packages/scikit_mine-0.0.10-py3.10.egg/skmine/periodic/cycles.py:403: UserWarning: could not generate candidates for the input sequence,\n",
      "                the model is left empty\n",
      "  warnings.warn(\n",
      "/home/cregan/fsl/lib/python3.10/site-packages/scikit_mine-0.0.10-py3.10.egg/skmine/periodic/cycles.py:403: UserWarning: could not generate candidates for the input sequence,\n",
      "                the model is left empty\n",
      "  warnings.warn(\n"
     ]
    },
    {
     "data": {
      "text/html": [
       "<div>\n",
       "<style scoped>\n",
       "    .dataframe tbody tr th:only-of-type {\n",
       "        vertical-align: middle;\n",
       "    }\n",
       "\n",
       "    .dataframe tbody tr th {\n",
       "        vertical-align: top;\n",
       "    }\n",
       "\n",
       "    .dataframe thead th {\n",
       "        text-align: right;\n",
       "    }\n",
       "</style>\n",
       "<table border=\"1\" class=\"dataframe\">\n",
       "  <thead>\n",
       "    <tr style=\"text-align: right;\">\n",
       "      <th></th>\n",
       "      <th></th>\n",
       "      <th>start</th>\n",
       "      <th>length</th>\n",
       "      <th>period</th>\n",
       "      <th>cost</th>\n",
       "    </tr>\n",
       "  </thead>\n",
       "  <tbody>\n",
       "    <tr>\n",
       "      <th rowspan=\"2\" valign=\"top\">A Kandahar Away</th>\n",
       "      <th>1</th>\n",
       "      <td>2020-08-02 06:00:00</td>\n",
       "      <td>4</td>\n",
       "      <td>7 days 00:00:00</td>\n",
       "      <td>49.063694</td>\n",
       "    </tr>\n",
       "    <tr>\n",
       "      <th>0</th>\n",
       "      <td>2020-08-03 07:11:00</td>\n",
       "      <td>4</td>\n",
       "      <td>1 days 00:00:00</td>\n",
       "      <td>50.757989</td>\n",
       "    </tr>\n",
       "    <tr>\n",
       "      <th rowspan=\"2\" valign=\"top\">Absolutely Toronto</th>\n",
       "      <th>1</th>\n",
       "      <td>2020-08-01 11:00:00</td>\n",
       "      <td>4</td>\n",
       "      <td>7 days 00:00:00</td>\n",
       "      <td>49.260768</td>\n",
       "    </tr>\n",
       "    <tr>\n",
       "      <th>0</th>\n",
       "      <td>2020-08-03 09:48:00</td>\n",
       "      <td>4</td>\n",
       "      <td>1 days 00:00:00</td>\n",
       "      <td>62.851081</td>\n",
       "    </tr>\n",
       "    <tr>\n",
       "      <th>Across the Line</th>\n",
       "      <th>0</th>\n",
       "      <td>2020-08-03 07:30:00</td>\n",
       "      <td>4</td>\n",
       "      <td>1 days 00:00:00</td>\n",
       "      <td>50.645595</td>\n",
       "    </tr>\n",
       "    <tr>\n",
       "      <th>...</th>\n",
       "      <th>...</th>\n",
       "      <td>...</td>\n",
       "      <td>...</td>\n",
       "      <td>...</td>\n",
       "      <td>...</td>\n",
       "    </tr>\n",
       "    <tr>\n",
       "      <th rowspan=\"2\" valign=\"top\">Jackie Robinson</th>\n",
       "      <th>4</th>\n",
       "      <td>2020-08-18 00:30:00</td>\n",
       "      <td>4</td>\n",
       "      <td>0 days 00:30:00</td>\n",
       "      <td>50.805869</td>\n",
       "    </tr>\n",
       "    <tr>\n",
       "      <th>5</th>\n",
       "      <td>2020-08-25 02:00:00</td>\n",
       "      <td>4</td>\n",
       "      <td>0 days 00:30:00</td>\n",
       "      <td>50.805869</td>\n",
       "    </tr>\n",
       "    <tr>\n",
       "      <th>Jamie &amp; Jimmy's Food Fight Club</th>\n",
       "      <th>0</th>\n",
       "      <td>2020-08-02 07:36:00</td>\n",
       "      <td>5</td>\n",
       "      <td>7 days 00:00:00</td>\n",
       "      <td>46.509879</td>\n",
       "    </tr>\n",
       "    <tr>\n",
       "      <th>Jamie's 15 Minute Meals</th>\n",
       "      <th>0</th>\n",
       "      <td>2020-08-11 09:12:00</td>\n",
       "      <td>3</td>\n",
       "      <td>6 days 23:59:30</td>\n",
       "      <td>53.459446</td>\n",
       "    </tr>\n",
       "    <tr>\n",
       "      <th>Jamie's Super Foods</th>\n",
       "      <th>0</th>\n",
       "      <td>2020-08-03 16:00:00</td>\n",
       "      <td>5</td>\n",
       "      <td>1 days 00:00:00</td>\n",
       "      <td>47.171713</td>\n",
       "    </tr>\n",
       "  </tbody>\n",
       "</table>\n",
       "<p>131 rows × 4 columns</p>\n",
       "</div>"
      ],
      "text/plain": [
       "                                                start  length          period  \\\n",
       "A Kandahar Away                 1 2020-08-02 06:00:00       4 7 days 00:00:00   \n",
       "                                0 2020-08-03 07:11:00       4 1 days 00:00:00   \n",
       "Absolutely Toronto              1 2020-08-01 11:00:00       4 7 days 00:00:00   \n",
       "                                0 2020-08-03 09:48:00       4 1 days 00:00:00   \n",
       "Across the Line                 0 2020-08-03 07:30:00       4 1 days 00:00:00   \n",
       "...                                               ...     ...             ...   \n",
       "Jackie Robinson                 4 2020-08-18 00:30:00       4 0 days 00:30:00   \n",
       "                                5 2020-08-25 02:00:00       4 0 days 00:30:00   \n",
       "Jamie & Jimmy's Food Fight Club 0 2020-08-02 07:36:00       5 7 days 00:00:00   \n",
       "Jamie's 15 Minute Meals         0 2020-08-11 09:12:00       3 6 days 23:59:30   \n",
       "Jamie's Super Foods             0 2020-08-03 16:00:00       5 1 days 00:00:00   \n",
       "\n",
       "                                        cost  \n",
       "A Kandahar Away                 1  49.063694  \n",
       "                                0  50.757989  \n",
       "Absolutely Toronto              1  49.260768  \n",
       "                                0  62.851081  \n",
       "Across the Line                 0  50.645595  \n",
       "...                                      ...  \n",
       "Jackie Robinson                 4  50.805869  \n",
       "                                5  50.805869  \n",
       "Jamie & Jimmy's Food Fight Club 0  46.509879  \n",
       "Jamie's 15 Minute Meals         0  53.459446  \n",
       "Jamie's Super Foods             0  47.171713  \n",
       "\n",
       "[131 rows x 4 columns]"
      ]
     },
     "execution_count": 16,
     "metadata": {},
     "output_type": "execute_result"
    }
   ],
   "source": [
    "pcm = PeriodicCycleMiner(keep_residuals=True).fit(ctv_logs)\n",
    "pcm.discover()\n",
    "\n",
    "\n",
    "\n",
    "# %snakeviz -t pcm.fit(ctv_logs)"
   ]
  },
  {
   "cell_type": "markdown",
   "metadata": {},
   "source": [
    "`Note` : no need to worry for the warning, it's here to notify duplicate event/timestamp pairs have been found"
   ]
  },
  {
   "cell_type": "code",
   "execution_count": 17,
   "metadata": {},
   "outputs": [
    {
     "data": {
      "text/html": [
       "<div>\n",
       "<style scoped>\n",
       "    .dataframe tbody tr th:only-of-type {\n",
       "        vertical-align: middle;\n",
       "    }\n",
       "\n",
       "    .dataframe tbody tr th {\n",
       "        vertical-align: top;\n",
       "    }\n",
       "\n",
       "    .dataframe thead th {\n",
       "        text-align: right;\n",
       "    }\n",
       "</style>\n",
       "<table border=\"1\" class=\"dataframe\">\n",
       "  <thead>\n",
       "    <tr style=\"text-align: right;\">\n",
       "      <th></th>\n",
       "      <th></th>\n",
       "      <th>start</th>\n",
       "      <th>length</th>\n",
       "      <th>period</th>\n",
       "      <th>cost</th>\n",
       "    </tr>\n",
       "  </thead>\n",
       "  <tbody>\n",
       "    <tr>\n",
       "      <th rowspan=\"2\" valign=\"top\">A Kandahar Away</th>\n",
       "      <th>1</th>\n",
       "      <td>2020-08-02 06:00:00</td>\n",
       "      <td>4</td>\n",
       "      <td>7 days 00:00:00</td>\n",
       "      <td>49.063694</td>\n",
       "    </tr>\n",
       "    <tr>\n",
       "      <th>0</th>\n",
       "      <td>2020-08-03 07:11:00</td>\n",
       "      <td>4</td>\n",
       "      <td>1 days 00:00:00</td>\n",
       "      <td>50.757989</td>\n",
       "    </tr>\n",
       "    <tr>\n",
       "      <th rowspan=\"2\" valign=\"top\">Absolutely Toronto</th>\n",
       "      <th>1</th>\n",
       "      <td>2020-08-01 11:00:00</td>\n",
       "      <td>4</td>\n",
       "      <td>7 days 00:00:00</td>\n",
       "      <td>49.260768</td>\n",
       "    </tr>\n",
       "    <tr>\n",
       "      <th>0</th>\n",
       "      <td>2020-08-03 09:48:00</td>\n",
       "      <td>4</td>\n",
       "      <td>1 days 00:00:00</td>\n",
       "      <td>62.851081</td>\n",
       "    </tr>\n",
       "    <tr>\n",
       "      <th>Across the Line</th>\n",
       "      <th>0</th>\n",
       "      <td>2020-08-03 07:30:00</td>\n",
       "      <td>4</td>\n",
       "      <td>1 days 00:00:00</td>\n",
       "      <td>50.645595</td>\n",
       "    </tr>\n",
       "    <tr>\n",
       "      <th>...</th>\n",
       "      <th>...</th>\n",
       "      <td>...</td>\n",
       "      <td>...</td>\n",
       "      <td>...</td>\n",
       "      <td>...</td>\n",
       "    </tr>\n",
       "    <tr>\n",
       "      <th rowspan=\"2\" valign=\"top\">Jackie Robinson</th>\n",
       "      <th>4</th>\n",
       "      <td>2020-08-18 00:30:00</td>\n",
       "      <td>4</td>\n",
       "      <td>0 days 00:30:00</td>\n",
       "      <td>50.805869</td>\n",
       "    </tr>\n",
       "    <tr>\n",
       "      <th>5</th>\n",
       "      <td>2020-08-25 02:00:00</td>\n",
       "      <td>4</td>\n",
       "      <td>0 days 00:30:00</td>\n",
       "      <td>50.805869</td>\n",
       "    </tr>\n",
       "    <tr>\n",
       "      <th>Jamie &amp; Jimmy's Food Fight Club</th>\n",
       "      <th>0</th>\n",
       "      <td>2020-08-02 07:36:00</td>\n",
       "      <td>5</td>\n",
       "      <td>7 days 00:00:00</td>\n",
       "      <td>46.509879</td>\n",
       "    </tr>\n",
       "    <tr>\n",
       "      <th>Jamie's 15 Minute Meals</th>\n",
       "      <th>0</th>\n",
       "      <td>2020-08-11 09:12:00</td>\n",
       "      <td>3</td>\n",
       "      <td>6 days 23:59:30</td>\n",
       "      <td>53.459446</td>\n",
       "    </tr>\n",
       "    <tr>\n",
       "      <th>Jamie's Super Foods</th>\n",
       "      <th>0</th>\n",
       "      <td>2020-08-03 16:00:00</td>\n",
       "      <td>5</td>\n",
       "      <td>1 days 00:00:00</td>\n",
       "      <td>47.171713</td>\n",
       "    </tr>\n",
       "  </tbody>\n",
       "</table>\n",
       "<p>131 rows × 4 columns</p>\n",
       "</div>"
      ],
      "text/plain": [
       "                                                start  length          period  \\\n",
       "A Kandahar Away                 1 2020-08-02 06:00:00       4 7 days 00:00:00   \n",
       "                                0 2020-08-03 07:11:00       4 1 days 00:00:00   \n",
       "Absolutely Toronto              1 2020-08-01 11:00:00       4 7 days 00:00:00   \n",
       "                                0 2020-08-03 09:48:00       4 1 days 00:00:00   \n",
       "Across the Line                 0 2020-08-03 07:30:00       4 1 days 00:00:00   \n",
       "...                                               ...     ...             ...   \n",
       "Jackie Robinson                 4 2020-08-18 00:30:00       4 0 days 00:30:00   \n",
       "                                5 2020-08-25 02:00:00       4 0 days 00:30:00   \n",
       "Jamie & Jimmy's Food Fight Club 0 2020-08-02 07:36:00       5 7 days 00:00:00   \n",
       "Jamie's 15 Minute Meals         0 2020-08-11 09:12:00       3 6 days 23:59:30   \n",
       "Jamie's Super Foods             0 2020-08-03 16:00:00       5 1 days 00:00:00   \n",
       "\n",
       "                                        cost  \n",
       "A Kandahar Away                 1  49.063694  \n",
       "                                0  50.757989  \n",
       "Absolutely Toronto              1  49.260768  \n",
       "                                0  62.851081  \n",
       "Across the Line                 0  50.645595  \n",
       "...                                      ...  \n",
       "Jackie Robinson                 4  50.805869  \n",
       "                                5  50.805869  \n",
       "Jamie & Jimmy's Food Fight Club 0  46.509879  \n",
       "Jamie's 15 Minute Meals         0  53.459446  \n",
       "Jamie's Super Foods             0  47.171713  \n",
       "\n",
       "[131 rows x 4 columns]"
      ]
     },
     "execution_count": 17,
     "metadata": {},
     "output_type": "execute_result"
    }
   ],
   "source": [
    "cycles = pcm.discover()\n",
    "cycles"
   ]
  },
  {
   "cell_type": "markdown",
   "metadata": {},
   "source": [
    "The resulting dataframe has a [MultIndex](https://pandas.pydata.org/pandas-docs/stable/reference/api/pandas.MultiIndex.html).\n",
    "\n",
    "The first level is the event name, the second level corresponds to the cycle number, as we can detect multiple cycles for the same event"
   ]
  },
  {
   "cell_type": "markdown",
   "metadata": {},
   "source": [
    "Now that we have our cycles in a [pandas.DataFrame](https://pandas.pydata.org/pandas-docs/stable/reference/api/pandas.DataFrame.html), we can play with the pandas API and answer questions about our logs\n",
    "\n",
    "#### Did I find cycles for the TV show \"Arthurt Shorts\""
   ]
  },
  {
   "cell_type": "code",
   "execution_count": 18,
   "metadata": {},
   "outputs": [
    {
     "data": {
      "text/html": [
       "<div>\n",
       "<style scoped>\n",
       "    .dataframe tbody tr th:only-of-type {\n",
       "        vertical-align: middle;\n",
       "    }\n",
       "\n",
       "    .dataframe tbody tr th {\n",
       "        vertical-align: top;\n",
       "    }\n",
       "\n",
       "    .dataframe thead th {\n",
       "        text-align: right;\n",
       "    }\n",
       "</style>\n",
       "<table border=\"1\" class=\"dataframe\">\n",
       "  <thead>\n",
       "    <tr style=\"text-align: right;\">\n",
       "      <th></th>\n",
       "      <th>start</th>\n",
       "      <th>length</th>\n",
       "      <th>period</th>\n",
       "      <th>cost</th>\n",
       "    </tr>\n",
       "  </thead>\n",
       "  <tbody>\n",
       "    <tr>\n",
       "      <th>0</th>\n",
       "      <td>2020-08-03 23:00:00</td>\n",
       "      <td>4</td>\n",
       "      <td>1 days</td>\n",
       "      <td>50.297673</td>\n",
       "    </tr>\n",
       "  </tbody>\n",
       "</table>\n",
       "</div>"
      ],
      "text/plain": [
       "                start  length period       cost\n",
       "0 2020-08-03 23:00:00       4 1 days  50.297673"
      ]
     },
     "execution_count": 18,
     "metadata": {},
     "output_type": "execute_result"
    }
   ],
   "source": [
    "cycles.loc[\"Arthur Shorts\"]"
   ]
  },
  {
   "cell_type": "markdown",
   "metadata": {},
   "source": [
    "#### What are the top 10 longest cycles ?"
   ]
  },
  {
   "cell_type": "code",
   "execution_count": 19,
   "metadata": {},
   "outputs": [
    {
     "data": {
      "text/html": [
       "<div>\n",
       "<style scoped>\n",
       "    .dataframe tbody tr th:only-of-type {\n",
       "        vertical-align: middle;\n",
       "    }\n",
       "\n",
       "    .dataframe tbody tr th {\n",
       "        vertical-align: top;\n",
       "    }\n",
       "\n",
       "    .dataframe thead th {\n",
       "        text-align: right;\n",
       "    }\n",
       "</style>\n",
       "<table border=\"1\" class=\"dataframe\">\n",
       "  <thead>\n",
       "    <tr style=\"text-align: right;\">\n",
       "      <th></th>\n",
       "      <th></th>\n",
       "      <th>start</th>\n",
       "      <th>length</th>\n",
       "      <th>period</th>\n",
       "      <th>cost</th>\n",
       "    </tr>\n",
       "  </thead>\n",
       "  <tbody>\n",
       "    <tr>\n",
       "      <th>Dr. Seuss' The Lorax</th>\n",
       "      <th>0</th>\n",
       "      <td>2020-08-06 00:30:00</td>\n",
       "      <td>7</td>\n",
       "      <td>0 days 00:30:00</td>\n",
       "      <td>54.987582</td>\n",
       "    </tr>\n",
       "    <tr>\n",
       "      <th>Big Block Sing Song</th>\n",
       "      <th>0</th>\n",
       "      <td>2020-08-02 08:57:00</td>\n",
       "      <td>5</td>\n",
       "      <td>7 days 00:00:00</td>\n",
       "      <td>34.509879</td>\n",
       "    </tr>\n",
       "    <tr>\n",
       "      <th>Bondi Vet</th>\n",
       "      <th>0</th>\n",
       "      <td>2020-08-01 07:40:00</td>\n",
       "      <td>5</td>\n",
       "      <td>7 days 00:00:00</td>\n",
       "      <td>46.509879</td>\n",
       "    </tr>\n",
       "    <tr>\n",
       "      <th>CBC Arts: Exhibitionists</th>\n",
       "      <th>0</th>\n",
       "      <td>2020-08-02 07:30:00</td>\n",
       "      <td>5</td>\n",
       "      <td>7 days 00:00:00</td>\n",
       "      <td>34.509879</td>\n",
       "    </tr>\n",
       "    <tr>\n",
       "      <th>CBC Winnipeg Comedy Festival</th>\n",
       "      <th>0</th>\n",
       "      <td>2020-08-02 07:34:00</td>\n",
       "      <td>5</td>\n",
       "      <td>7 days 00:00:00</td>\n",
       "      <td>46.509879</td>\n",
       "    </tr>\n",
       "    <tr>\n",
       "      <th>Ethiopian Musicians</th>\n",
       "      <th>0</th>\n",
       "      <td>2020-08-10 08:59:00</td>\n",
       "      <td>5</td>\n",
       "      <td>1 days 00:00:00</td>\n",
       "      <td>57.686133</td>\n",
       "    </tr>\n",
       "    <tr>\n",
       "      <th>In the Making</th>\n",
       "      <th>0</th>\n",
       "      <td>2020-08-01 11:48:00</td>\n",
       "      <td>5</td>\n",
       "      <td>7 days 00:00:00</td>\n",
       "      <td>40.509879</td>\n",
       "    </tr>\n",
       "    <tr>\n",
       "      <th>Interrupt This Program</th>\n",
       "      <th>0</th>\n",
       "      <td>2020-08-02 11:00:00</td>\n",
       "      <td>5</td>\n",
       "      <td>7 days 00:00:00</td>\n",
       "      <td>34.509879</td>\n",
       "    </tr>\n",
       "    <tr>\n",
       "      <th>Jamie &amp; Jimmy's Food Fight Club</th>\n",
       "      <th>0</th>\n",
       "      <td>2020-08-02 07:36:00</td>\n",
       "      <td>5</td>\n",
       "      <td>7 days 00:00:00</td>\n",
       "      <td>46.509879</td>\n",
       "    </tr>\n",
       "    <tr>\n",
       "      <th>Jamie's Super Foods</th>\n",
       "      <th>0</th>\n",
       "      <td>2020-08-03 16:00:00</td>\n",
       "      <td>5</td>\n",
       "      <td>1 days 00:00:00</td>\n",
       "      <td>47.171713</td>\n",
       "    </tr>\n",
       "  </tbody>\n",
       "</table>\n",
       "</div>"
      ],
      "text/plain": [
       "                                                start  length          period  \\\n",
       "Dr. Seuss' The Lorax            0 2020-08-06 00:30:00       7 0 days 00:30:00   \n",
       "Big Block Sing Song             0 2020-08-02 08:57:00       5 7 days 00:00:00   \n",
       "Bondi Vet                       0 2020-08-01 07:40:00       5 7 days 00:00:00   \n",
       "CBC Arts: Exhibitionists        0 2020-08-02 07:30:00       5 7 days 00:00:00   \n",
       "CBC Winnipeg Comedy Festival    0 2020-08-02 07:34:00       5 7 days 00:00:00   \n",
       "Ethiopian Musicians             0 2020-08-10 08:59:00       5 1 days 00:00:00   \n",
       "In the Making                   0 2020-08-01 11:48:00       5 7 days 00:00:00   \n",
       "Interrupt This Program          0 2020-08-02 11:00:00       5 7 days 00:00:00   \n",
       "Jamie & Jimmy's Food Fight Club 0 2020-08-02 07:36:00       5 7 days 00:00:00   \n",
       "Jamie's Super Foods             0 2020-08-03 16:00:00       5 1 days 00:00:00   \n",
       "\n",
       "                                        cost  \n",
       "Dr. Seuss' The Lorax            0  54.987582  \n",
       "Big Block Sing Song             0  34.509879  \n",
       "Bondi Vet                       0  46.509879  \n",
       "CBC Arts: Exhibitionists        0  34.509879  \n",
       "CBC Winnipeg Comedy Festival    0  46.509879  \n",
       "Ethiopian Musicians             0  57.686133  \n",
       "In the Making                   0  40.509879  \n",
       "Interrupt This Program          0  34.509879  \n",
       "Jamie & Jimmy's Food Fight Club 0  46.509879  \n",
       "Jamie's Super Foods             0  47.171713  "
      ]
     },
     "execution_count": 19,
     "metadata": {},
     "output_type": "execute_result"
    }
   ],
   "source": [
    "cycles.nlargest(10, [\"length\"])"
   ]
  },
  {
   "cell_type": "markdown",
   "metadata": {},
   "source": [
    "#### what are the 10 most unpunctual TV programs ?\n",
    "For this we are going to :\n",
    " 1. extract the shift corrections along with other informations about our cycles\n",
    " 2. compute the sum of the absolute values for the shift corrections, for every cycles\n",
    " 3. get the 10 biggest sums"
   ]
  },
  {
   "cell_type": "code",
   "execution_count": 20,
   "metadata": {},
   "outputs": [
    {
     "data": {
      "text/html": [
       "<div>\n",
       "<style scoped>\n",
       "    .dataframe tbody tr th:only-of-type {\n",
       "        vertical-align: middle;\n",
       "    }\n",
       "\n",
       "    .dataframe tbody tr th {\n",
       "        vertical-align: top;\n",
       "    }\n",
       "\n",
       "    .dataframe thead th {\n",
       "        text-align: right;\n",
       "    }\n",
       "</style>\n",
       "<table border=\"1\" class=\"dataframe\">\n",
       "  <thead>\n",
       "    <tr style=\"text-align: right;\">\n",
       "      <th></th>\n",
       "      <th></th>\n",
       "      <th>start</th>\n",
       "      <th>length</th>\n",
       "      <th>period</th>\n",
       "      <th>cost</th>\n",
       "      <th>dE</th>\n",
       "    </tr>\n",
       "  </thead>\n",
       "  <tbody>\n",
       "    <tr>\n",
       "      <th rowspan=\"2\" valign=\"top\">A Kandahar Away</th>\n",
       "      <th>1</th>\n",
       "      <td>2020-08-02 06:00:00</td>\n",
       "      <td>4</td>\n",
       "      <td>7 days</td>\n",
       "      <td>49.063694</td>\n",
       "      <td>[0, 0, 0]</td>\n",
       "    </tr>\n",
       "    <tr>\n",
       "      <th>0</th>\n",
       "      <td>2020-08-03 07:11:00</td>\n",
       "      <td>4</td>\n",
       "      <td>1 days</td>\n",
       "      <td>50.757989</td>\n",
       "      <td>[0, 0, 0]</td>\n",
       "    </tr>\n",
       "    <tr>\n",
       "      <th rowspan=\"2\" valign=\"top\">Absolutely Toronto</th>\n",
       "      <th>1</th>\n",
       "      <td>2020-08-01 11:00:00</td>\n",
       "      <td>4</td>\n",
       "      <td>7 days</td>\n",
       "      <td>49.260768</td>\n",
       "      <td>[0, 0, 0]</td>\n",
       "    </tr>\n",
       "    <tr>\n",
       "      <th>0</th>\n",
       "      <td>2020-08-03 09:48:00</td>\n",
       "      <td>4</td>\n",
       "      <td>1 days</td>\n",
       "      <td>62.851081</td>\n",
       "      <td>[0, -60000000000, 60000000000]</td>\n",
       "    </tr>\n",
       "    <tr>\n",
       "      <th>Across the Line</th>\n",
       "      <th>0</th>\n",
       "      <td>2020-08-03 07:30:00</td>\n",
       "      <td>4</td>\n",
       "      <td>1 days</td>\n",
       "      <td>50.645595</td>\n",
       "      <td>[0, 0, 0]</td>\n",
       "    </tr>\n",
       "  </tbody>\n",
       "</table>\n",
       "</div>"
      ],
      "text/plain": [
       "                                   start  length period       cost  \\\n",
       "A Kandahar Away    1 2020-08-02 06:00:00       4 7 days  49.063694   \n",
       "                   0 2020-08-03 07:11:00       4 1 days  50.757989   \n",
       "Absolutely Toronto 1 2020-08-01 11:00:00       4 7 days  49.260768   \n",
       "                   0 2020-08-03 09:48:00       4 1 days  62.851081   \n",
       "Across the Line    0 2020-08-03 07:30:00       4 1 days  50.645595   \n",
       "\n",
       "                                                  dE  \n",
       "A Kandahar Away    1                       [0, 0, 0]  \n",
       "                   0                       [0, 0, 0]  \n",
       "Absolutely Toronto 1                       [0, 0, 0]  \n",
       "                   0  [0, -60000000000, 60000000000]  \n",
       "Across the Line    0                       [0, 0, 0]  "
      ]
     },
     "execution_count": 20,
     "metadata": {},
     "output_type": "execute_result"
    }
   ],
   "source": [
    "full_cycles = pcm.discover(shifts=True)\n",
    "full_cycles.head()"
   ]
  },
  {
   "cell_type": "code",
   "execution_count": 21,
   "metadata": {},
   "outputs": [
    {
     "data": {
      "text/plain": [
       "Frankie Drake Mysteries         1200000000000\n",
       "CBC News: The National           300000000000\n",
       "Anne with an E                   240000000000\n",
       "Daniel Tiger's Neighbourhood     240000000000\n",
       "Grand Designs                    240000000000\n",
       "Burden of Truth                  180000000000\n",
       "Ethiopian Musicians              180000000000\n",
       "Absolutely Toronto               120000000000\n",
       "Bondi Vet                        120000000000\n",
       "CBC Winnipeg Comedy Festival     120000000000\n",
       "Name: dE, dtype: int64"
      ]
     },
     "execution_count": 21,
     "metadata": {},
     "output_type": "execute_result"
    }
   ],
   "source": [
    "def absolute_sum(*args):\n",
    "    return sum(map(abs, *args))\n",
    "\n",
    "# level 0 is the name of the TV program\n",
    "shift_sums = full_cycles[\"dE\"].map(absolute_sum).groupby(level=[0]).sum()\n",
    "shift_sums.nlargest(10)"
   ]
  },
  {
   "cell_type": "markdown",
   "metadata": {},
   "source": [
    "#### What TV programs have been broadcasted every day for at least 5 days straight?\n",
    "Let's make use of the [pandas.DataFrame.query](https://pandas.pydata.org/docs/reference/api/pandas.DataFrame.query.html) method to express our question in an SQL-like syntax"
   ]
  },
  {
   "cell_type": "code",
   "execution_count": 22,
   "metadata": {
    "scrolled": true
   },
   "outputs": [
    {
     "data": {
      "text/html": [
       "<div>\n",
       "<style scoped>\n",
       "    .dataframe tbody tr th:only-of-type {\n",
       "        vertical-align: middle;\n",
       "    }\n",
       "\n",
       "    .dataframe tbody tr th {\n",
       "        vertical-align: top;\n",
       "    }\n",
       "\n",
       "    .dataframe thead th {\n",
       "        text-align: right;\n",
       "    }\n",
       "</style>\n",
       "<table border=\"1\" class=\"dataframe\">\n",
       "  <thead>\n",
       "    <tr style=\"text-align: right;\">\n",
       "      <th></th>\n",
       "      <th></th>\n",
       "      <th>start</th>\n",
       "      <th>length</th>\n",
       "      <th>period</th>\n",
       "      <th>cost</th>\n",
       "    </tr>\n",
       "  </thead>\n",
       "  <tbody>\n",
       "    <tr>\n",
       "      <th>Big Block Sing Song</th>\n",
       "      <th>0</th>\n",
       "      <td>2020-08-02 08:57:00</td>\n",
       "      <td>5</td>\n",
       "      <td>7 days</td>\n",
       "      <td>34.509879</td>\n",
       "    </tr>\n",
       "    <tr>\n",
       "      <th>Bondi Vet</th>\n",
       "      <th>0</th>\n",
       "      <td>2020-08-01 07:40:00</td>\n",
       "      <td>5</td>\n",
       "      <td>7 days</td>\n",
       "      <td>46.509879</td>\n",
       "    </tr>\n",
       "    <tr>\n",
       "      <th>CBC Arts: Exhibitionists</th>\n",
       "      <th>0</th>\n",
       "      <td>2020-08-02 07:30:00</td>\n",
       "      <td>5</td>\n",
       "      <td>7 days</td>\n",
       "      <td>34.509879</td>\n",
       "    </tr>\n",
       "    <tr>\n",
       "      <th>CBC Winnipeg Comedy Festival</th>\n",
       "      <th>0</th>\n",
       "      <td>2020-08-02 07:34:00</td>\n",
       "      <td>5</td>\n",
       "      <td>7 days</td>\n",
       "      <td>46.509879</td>\n",
       "    </tr>\n",
       "    <tr>\n",
       "      <th>Ethiopian Musicians</th>\n",
       "      <th>0</th>\n",
       "      <td>2020-08-10 08:59:00</td>\n",
       "      <td>5</td>\n",
       "      <td>1 days</td>\n",
       "      <td>57.686133</td>\n",
       "    </tr>\n",
       "    <tr>\n",
       "      <th>In the Making</th>\n",
       "      <th>0</th>\n",
       "      <td>2020-08-01 11:48:00</td>\n",
       "      <td>5</td>\n",
       "      <td>7 days</td>\n",
       "      <td>40.509879</td>\n",
       "    </tr>\n",
       "    <tr>\n",
       "      <th>Interrupt This Program</th>\n",
       "      <th>0</th>\n",
       "      <td>2020-08-02 11:00:00</td>\n",
       "      <td>5</td>\n",
       "      <td>7 days</td>\n",
       "      <td>34.509879</td>\n",
       "    </tr>\n",
       "    <tr>\n",
       "      <th>Jamie &amp; Jimmy's Food Fight Club</th>\n",
       "      <th>0</th>\n",
       "      <td>2020-08-02 07:36:00</td>\n",
       "      <td>5</td>\n",
       "      <td>7 days</td>\n",
       "      <td>46.509879</td>\n",
       "    </tr>\n",
       "    <tr>\n",
       "      <th>Jamie's Super Foods</th>\n",
       "      <th>0</th>\n",
       "      <td>2020-08-03 16:00:00</td>\n",
       "      <td>5</td>\n",
       "      <td>1 days</td>\n",
       "      <td>47.171713</td>\n",
       "    </tr>\n",
       "  </tbody>\n",
       "</table>\n",
       "</div>"
      ],
      "text/plain": [
       "                                                start  length period  \\\n",
       "Big Block Sing Song             0 2020-08-02 08:57:00       5 7 days   \n",
       "Bondi Vet                       0 2020-08-01 07:40:00       5 7 days   \n",
       "CBC Arts: Exhibitionists        0 2020-08-02 07:30:00       5 7 days   \n",
       "CBC Winnipeg Comedy Festival    0 2020-08-02 07:34:00       5 7 days   \n",
       "Ethiopian Musicians             0 2020-08-10 08:59:00       5 1 days   \n",
       "In the Making                   0 2020-08-01 11:48:00       5 7 days   \n",
       "Interrupt This Program          0 2020-08-02 11:00:00       5 7 days   \n",
       "Jamie & Jimmy's Food Fight Club 0 2020-08-02 07:36:00       5 7 days   \n",
       "Jamie's Super Foods             0 2020-08-03 16:00:00       5 1 days   \n",
       "\n",
       "                                        cost  \n",
       "Big Block Sing Song             0  34.509879  \n",
       "Bondi Vet                       0  46.509879  \n",
       "CBC Arts: Exhibitionists        0  34.509879  \n",
       "CBC Winnipeg Comedy Festival    0  46.509879  \n",
       "Ethiopian Musicians             0  57.686133  \n",
       "In the Making                   0  40.509879  \n",
       "Interrupt This Program          0  34.509879  \n",
       "Jamie & Jimmy's Food Fight Club 0  46.509879  \n",
       "Jamie's Super Foods             0  47.171713  "
      ]
     },
     "execution_count": 22,
     "metadata": {},
     "output_type": "execute_result"
    }
   ],
   "source": [
    "cycles.query('length >= 5 and period >= \"1 days\"', engine='python')"
   ]
  },
  {
   "cell_type": "markdown",
   "metadata": {},
   "source": [
    "#### What TV programs are broadcast only on business days ?\n",
    "From the previous query we see we have a lot of 5-length cycles, with periods of 1 day.\n",
    "An intuition is that these cycles take place on business days. Let's confirm this by considering cycles with\n",
    " 1. start timestamps on mondays\n",
    " 2. periods of roughly 1 day  "
   ]
  },
  {
   "cell_type": "code",
   "execution_count": 23,
   "metadata": {
    "scrolled": true
   },
   "outputs": [
    {
     "data": {
      "text/html": [
       "<div>\n",
       "<style scoped>\n",
       "    .dataframe tbody tr th:only-of-type {\n",
       "        vertical-align: middle;\n",
       "    }\n",
       "\n",
       "    .dataframe tbody tr th {\n",
       "        vertical-align: top;\n",
       "    }\n",
       "\n",
       "    .dataframe thead th {\n",
       "        text-align: right;\n",
       "    }\n",
       "</style>\n",
       "<table border=\"1\" class=\"dataframe\">\n",
       "  <thead>\n",
       "    <tr style=\"text-align: right;\">\n",
       "      <th></th>\n",
       "      <th></th>\n",
       "      <th>start</th>\n",
       "      <th>length</th>\n",
       "      <th>period</th>\n",
       "      <th>cost</th>\n",
       "    </tr>\n",
       "  </thead>\n",
       "  <tbody>\n",
       "    <tr>\n",
       "      <th>Ethiopian Musicians</th>\n",
       "      <th>0</th>\n",
       "      <td>2020-08-10 08:59:00</td>\n",
       "      <td>5</td>\n",
       "      <td>1 days</td>\n",
       "      <td>57.686133</td>\n",
       "    </tr>\n",
       "    <tr>\n",
       "      <th>Jamie's Super Foods</th>\n",
       "      <th>0</th>\n",
       "      <td>2020-08-03 16:00:00</td>\n",
       "      <td>5</td>\n",
       "      <td>1 days</td>\n",
       "      <td>47.171713</td>\n",
       "    </tr>\n",
       "  </tbody>\n",
       "</table>\n",
       "</div>"
      ],
      "text/plain": [
       "                                    start  length period       cost\n",
       "Ethiopian Musicians 0 2020-08-10 08:59:00       5 1 days  57.686133\n",
       "Jamie's Super Foods 0 2020-08-03 16:00:00       5 1 days  47.171713"
      ]
     },
     "execution_count": 23,
     "metadata": {},
     "output_type": "execute_result"
    }
   ],
   "source": [
    "monday_starts = cycles[cycles.start.dt.weekday == 0]  # start on monday\n",
    "monday_starts.query('length == 5 and period >= \"1 days\"', engine='python')"
   ]
  },
  {
   "cell_type": "markdown",
   "metadata": {},
   "source": [
    "### **ESTHER CODE INTEGRATION TEST** with Canadian TV programs\n",
    "#### Fetching logs from canadian TV\n",
    "\n",
    "In this section we are going to load some event logs of TV programs (the `WHAT`), indexed by their broadcast timestamps (the `WHEN`).\n",
    "\n",
    "`PeriodicCycleMiner` is here to help us discovering regularities (the `HOW`)"
   ]
  },
  {
   "cell_type": "code",
   "execution_count": 24,
   "metadata": {},
   "outputs": [],
   "source": [
    "from skmine.datasets import fetch_canadian_tv\n",
    "from skmine.periodic_esther import PeriodicCycleMiner"
   ]
  },
  {
   "cell_type": "markdown",
   "metadata": {},
   "source": [
    "#### Searching for cycles in TV programs\n",
    "\n",
    "Remember about the definition of cycles ?\n",
    "Let's apply it to our TV programs\n",
    "\n",
    "In our case\n",
    "\n",
    "* $\\alpha$ is the name of a TV program\n",
    "\n",
    "* $r$ is the number of broadcasts (repetitions) for this TV program (inside this cycle)\n",
    "\n",
    "* $p$ is the optimal time delta between broadcasts in this cycle. If a program is meant to be live everyday at 14:00PM, then $p$ is likely to be `1 day`\n",
    "\n",
    "* $\\tau$ is the first broadcast time in this cycle\n",
    "\n",
    "* $dE$ are the shift corrections between the $p$ and the actual broadcast time of an event. If a TV program was scheduled at 8:30:00AM and it went on air at 8:30:23AM the same day, then we keep track of a `23 seconds shift`. This way we can summarize our data (via cycles), and reconstruct it (via shift corrections). \n",
    "\n",
    "\n",
    "Finally we are going to dig a little deeper into these cycles, to answer quite complex questions about our logs. We will see that cycles contains usefull information about our input data"
   ]
  },
  {
   "cell_type": "code",
   "execution_count": 25,
   "metadata": {},
   "outputs": [
    {
     "name": "stderr",
     "output_type": "stream",
     "text": [
      "/home/cregan/fsl/lib/python3.10/site-packages/scikit_mine-0.0.10-py3.10.egg/skmine/datasets/periodic.py:117: FutureWarning: The squeeze argument has been deprecated and will be removed in a future version. Append .squeeze(\"columns\") to the call to squeeze.\n",
      "\n",
      "\n",
      "  s = pd.read_csv(p, **kwargs)\n"
     ]
    },
    {
     "data": {
      "text/plain": [
       "timestamp\n",
       "2020-08-01 06:00:00            The Moblees\n",
       "2020-08-01 06:11:00    Big Block Sing Song\n",
       "2020-08-01 06:13:00    Big Block Sing Song\n",
       "2020-08-01 06:15:00               CBC Kids\n",
       "2020-08-01 06:15:00               CBC Kids\n",
       "Name: canadian_tv, dtype: string"
      ]
     },
     "execution_count": 25,
     "metadata": {},
     "output_type": "execute_result"
    }
   ],
   "source": [
    "ctv_logs = fetch_canadian_tv()\n",
    "ctv_logs.head()"
   ]
  },
  {
   "cell_type": "markdown",
   "metadata": {},
   "source": [
    "Compute only simple cycles on ctv_logs with the karg *complex=False* : "
   ]
  },
  {
   "cell_type": "code",
   "execution_count": 26,
   "metadata": {},
   "outputs": [
    {
     "name": "stderr",
     "output_type": "stream",
     "text": [
      "/home/cregan/fsl/lib/python3.10/site-packages/scikit_mine-0.0.10-py3.10.egg/skmine/periodic_esther/cycles.py:138: UserWarning: found duplicates in input sequence, removing them\n",
      "  warnings.warn(\"found duplicates in input sequence, removing them\")\n"
     ]
    },
    {
     "name": "stdout",
     "output_type": "stream",
     "text": [
      " ---- COLLECTION STATS (Total=231 nb_simple=231)\n",
      "Code length patterns (231): 13607.850841\n",
      "Code length residuals (507): 11994.387863\n",
      "-- Total code length = 25602.238704 (71.289653% of 35912.979983)\n",
      "\n"
     ]
    },
    {
     "data": {
      "text/html": [
       "<div>\n",
       "<style scoped>\n",
       "    .dataframe tbody tr th:only-of-type {\n",
       "        vertical-align: middle;\n",
       "    }\n",
       "\n",
       "    .dataframe tbody tr th {\n",
       "        vertical-align: top;\n",
       "    }\n",
       "\n",
       "    .dataframe thead th {\n",
       "        text-align: right;\n",
       "    }\n",
       "</style>\n",
       "<table border=\"1\" class=\"dataframe\">\n",
       "  <thead>\n",
       "    <tr style=\"text-align: right;\">\n",
       "      <th></th>\n",
       "      <th>t0</th>\n",
       "      <th>event</th>\n",
       "      <th>length_major</th>\n",
       "      <th>period_major</th>\n",
       "      <th>cost</th>\n",
       "      <th>type</th>\n",
       "    </tr>\n",
       "  </thead>\n",
       "  <tbody>\n",
       "    <tr>\n",
       "      <th>0</th>\n",
       "      <td>159625800</td>\n",
       "      <td>(Grand Designs)[r=31 p=8640]</td>\n",
       "      <td>31</td>\n",
       "      <td>8640</td>\n",
       "      <td>101.455576</td>\n",
       "      <td>simple</td>\n",
       "    </tr>\n",
       "    <tr>\n",
       "      <th>1</th>\n",
       "      <td>159626778</td>\n",
       "      <td>(CBC Kids)[r=26 p=8640]</td>\n",
       "      <td>26</td>\n",
       "      <td>8640</td>\n",
       "      <td>154.406032</td>\n",
       "      <td>simple</td>\n",
       "    </tr>\n",
       "    <tr>\n",
       "      <th>2</th>\n",
       "      <td>159857280</td>\n",
       "      <td>(Schitt's Creek)[r=8 p=180]</td>\n",
       "      <td>8</td>\n",
       "      <td>180</td>\n",
       "      <td>62.620856</td>\n",
       "      <td>simple</td>\n",
       "    </tr>\n",
       "    <tr>\n",
       "      <th>3</th>\n",
       "      <td>159626514</td>\n",
       "      <td>(CBC Kids)[r=11 p=25920]</td>\n",
       "      <td>11</td>\n",
       "      <td>25920</td>\n",
       "      <td>93.039502</td>\n",
       "      <td>simple</td>\n",
       "    </tr>\n",
       "    <tr>\n",
       "      <th>4</th>\n",
       "      <td>159658740</td>\n",
       "      <td>(Kim's Convenience)[r=7 p=180]</td>\n",
       "      <td>7</td>\n",
       "      <td>180</td>\n",
       "      <td>60.844246</td>\n",
       "      <td>simple</td>\n",
       "    </tr>\n",
       "    <tr>\n",
       "      <th>...</th>\n",
       "      <td>...</td>\n",
       "      <td>...</td>\n",
       "      <td>...</td>\n",
       "      <td>...</td>\n",
       "      <td>...</td>\n",
       "      <td>...</td>\n",
       "    </tr>\n",
       "    <tr>\n",
       "      <th>226</th>\n",
       "      <td>159715440</td>\n",
       "      <td>(Jamie &amp; Jimmy's Food Fight Club)[r=4 p=8640]</td>\n",
       "      <td>4</td>\n",
       "      <td>8640</td>\n",
       "      <td>55.702844</td>\n",
       "      <td>simple</td>\n",
       "    </tr>\n",
       "    <tr>\n",
       "      <th>227</th>\n",
       "      <td>159628110</td>\n",
       "      <td>(CBC Kids)[r=4 p=86004]</td>\n",
       "      <td>4</td>\n",
       "      <td>86004</td>\n",
       "      <td>56.979765</td>\n",
       "      <td>simple</td>\n",
       "    </tr>\n",
       "    <tr>\n",
       "      <th>228</th>\n",
       "      <td>159765846</td>\n",
       "      <td>(CBC Kids)[r=5 p=8640]</td>\n",
       "      <td>5</td>\n",
       "      <td>8640</td>\n",
       "      <td>57.235173</td>\n",
       "      <td>simple</td>\n",
       "    </tr>\n",
       "    <tr>\n",
       "      <th>229</th>\n",
       "      <td>159643938</td>\n",
       "      <td>(CBC Kids)[r=5 p=8640]</td>\n",
       "      <td>5</td>\n",
       "      <td>8640</td>\n",
       "      <td>57.235173</td>\n",
       "      <td>simple</td>\n",
       "    </tr>\n",
       "    <tr>\n",
       "      <th>230</th>\n",
       "      <td>159640560</td>\n",
       "      <td>(CBC News: The National)[r=5 p=8640]</td>\n",
       "      <td>5</td>\n",
       "      <td>8640</td>\n",
       "      <td>57.235173</td>\n",
       "      <td>simple</td>\n",
       "    </tr>\n",
       "  </tbody>\n",
       "</table>\n",
       "<p>231 rows × 6 columns</p>\n",
       "</div>"
      ],
      "text/plain": [
       "            t0                                          event  length_major  \\\n",
       "0    159625800                   (Grand Designs)[r=31 p=8640]            31   \n",
       "1    159626778                        (CBC Kids)[r=26 p=8640]            26   \n",
       "2    159857280                    (Schitt's Creek)[r=8 p=180]             8   \n",
       "3    159626514                       (CBC Kids)[r=11 p=25920]            11   \n",
       "4    159658740                 (Kim's Convenience)[r=7 p=180]             7   \n",
       "..         ...                                            ...           ...   \n",
       "226  159715440  (Jamie & Jimmy's Food Fight Club)[r=4 p=8640]             4   \n",
       "227  159628110                        (CBC Kids)[r=4 p=86004]             4   \n",
       "228  159765846                         (CBC Kids)[r=5 p=8640]             5   \n",
       "229  159643938                         (CBC Kids)[r=5 p=8640]             5   \n",
       "230  159640560           (CBC News: The National)[r=5 p=8640]             5   \n",
       "\n",
       "     period_major        cost    type  \n",
       "0            8640  101.455576  simple  \n",
       "1            8640  154.406032  simple  \n",
       "2             180   62.620856  simple  \n",
       "3           25920   93.039502  simple  \n",
       "4             180   60.844246  simple  \n",
       "..            ...         ...     ...  \n",
       "226          8640   55.702844  simple  \n",
       "227         86004   56.979765  simple  \n",
       "228          8640   57.235173  simple  \n",
       "229          8640   57.235173  simple  \n",
       "230          8640   57.235173  simple  \n",
       "\n",
       "[231 rows x 6 columns]"
      ]
     },
     "execution_count": 26,
     "metadata": {},
     "output_type": "execute_result"
    }
   ],
   "source": [
    "pcm = PeriodicCycleMiner().fit(ctv_logs, complex=False)\n",
    "pcm.discover()"
   ]
  },
  {
   "cell_type": "markdown",
   "metadata": {},
   "source": [
    "Compute simple and complex (with horizontal and vertical combinations) cycles on ctv_logs : "
   ]
  },
  {
   "cell_type": "code",
   "execution_count": null,
   "metadata": {},
   "outputs": [
    {
     "name": "stderr",
     "output_type": "stream",
     "text": [
      "/home/cregan/fsl/lib/python3.10/site-packages/scikit_mine-0.0.10-py3.10.egg/skmine/periodic_esther/cycles.py:138: UserWarning: found duplicates in input sequence, removing them\n",
      "  warnings.warn(\"found duplicates in input sequence, removing them\")\n"
     ]
    }
   ],
   "source": [
    "pcm = PeriodicCycleMiner().fit(ctv_logs)\n",
    "\n",
    "# %snakeviz -t pcm.fit(ctv_logs)"
   ]
  },
  {
   "cell_type": "code",
   "execution_count": null,
   "metadata": {},
   "outputs": [],
   "source": [
    "cycles = pcm.discover()"
   ]
  },
  {
   "cell_type": "markdown",
   "metadata": {},
   "source": [
    "`Note` : no need to worry for the warning, it's here to notify duplicate event/timestamp pairs have been found"
   ]
  },
  {
   "cell_type": "markdown",
   "metadata": {},
   "source": [
    "Now that we have our cycles in a [pandas.DataFrame](https://pandas.pydata.org/pandas-docs/stable/reference/api/pandas.DataFrame.html), we can play with the pandas API and answer questions about our logs\n",
    "\n",
    "#### Did I find cycles for the TV show \"Arthurt Shorts\""
   ]
  },
  {
   "cell_type": "code",
   "execution_count": null,
   "metadata": {},
   "outputs": [],
   "source": [
    "cycles"
   ]
  },
  {
   "cell_type": "code",
   "execution_count": null,
   "metadata": {},
   "outputs": [],
   "source": [
    "cycles[cycles[\"event\"].apply(lambda x: \"Arthur Shorts\" in x)]"
   ]
  },
  {
   "cell_type": "markdown",
   "metadata": {},
   "source": [
    "#### What are the top 10 longest cycles ?"
   ]
  },
  {
   "cell_type": "code",
   "execution_count": null,
   "metadata": {},
   "outputs": [],
   "source": [
    "cycles.nlargest(10, [\"length_major\"])"
   ]
  },
  {
   "cell_type": "markdown",
   "metadata": {},
   "source": [
    "#### what are the 10 most unpunctual TV programs ?\n",
    "For this we are going to :\n",
    " 1. extract the shift corrections along with other informations about our cycles\n",
    " 2. compute the sum of the absolute values for the shift corrections, for every cycles\n",
    " 3. get the 10 biggest sums"
   ]
  },
  {
   "cell_type": "code",
   "execution_count": null,
   "metadata": {},
   "outputs": [],
   "source": [
    "# full_cycles = pcm.discover()\n",
    "# full_cycles.head()"
   ]
  },
  {
   "cell_type": "code",
   "execution_count": null,
   "metadata": {
    "scrolled": true
   },
   "outputs": [],
   "source": [
    "# def absolute_sum(*args):\n",
    "#     return sum(map(abs, *args))\n",
    "\n",
    "# # level 0 is the name of the TV program\n",
    "# shift_sums = full_cycles[\"dE\"].map(absolute_sum).groupby(level=[0]).sum()\n",
    "# shift_sums.nlargest(10)"
   ]
  },
  {
   "cell_type": "markdown",
   "metadata": {},
   "source": [
    "<!-- #### what are the 10 most unpunctual TV programs ?\n",
    "For this we are going to :\n",
    " 1. extract the shift corrections along with other informations about our cycles\n",
    " 2. compute the sum of the absolute values for the shift corrections, for every cycles\n",
    " 3. get the 10 biggest sums -->"
   ]
  },
  {
   "cell_type": "code",
   "execution_count": null,
   "metadata": {},
   "outputs": [],
   "source": [
    "# def absolute_sum(*args):\n",
    "#     return sum(map(abs, *args))\n",
    "\n",
    "# # level 0 is the name of the TV program\n",
    "# shift_sums = full_cycles[\"dE\"].map(absolute_sum).groupby(level=[0]).sum()\n",
    "# shift_sums.nlargest(10)"
   ]
  },
  {
   "cell_type": "markdown",
   "metadata": {},
   "source": [
    "#### What TV programs have been broadcasted every day for at least 5 days straight?\n",
    "Let's make use of the [pandas.DataFrame.query](https://pandas.pydata.org/docs/reference/api/pandas.DataFrame.query.html) method to express our question in an SQL-like syntax"
   ]
  },
  {
   "cell_type": "code",
   "execution_count": null,
   "metadata": {
    "scrolled": true
   },
   "outputs": [],
   "source": [
    "# cycles.query('length_major >= 5 and period_major >= 3600', engine='python')\n",
    "# # cycles.query('length >= 5 and period >= \"1 days\"', engine='python')"
   ]
  },
  {
   "cell_type": "markdown",
   "metadata": {},
   "source": [
    "#### What TV programs are broadcast only on business days ?\n",
    "From the previous query we see we have a lot of 5-length cycles, with periods of 1 day.\n",
    "An intuition is that these cycles take place on business days. Let's confirm this by considering cycles with\n",
    " 1. start timestamps on mondays\n",
    " 2. periods of roughly 1 day  "
   ]
  },
  {
   "cell_type": "code",
   "execution_count": null,
   "metadata": {
    "scrolled": true
   },
   "outputs": [],
   "source": [
    "# monday_starts = cycles[cycles.start.dt.weekday == 0]  # start on monday\n",
    "# monday_starts.query('length == 5 and period >= \"1 days\"', engine='python')"
   ]
  },
  {
   "cell_type": "markdown",
   "metadata": {},
   "source": [
    "References\n",
    "----------\n",
    "\n",
    "1.\n",
    "    Galbrun, E & Cellier, P & Tatti, N & Termier, A & Crémilleux, B\n",
    "    \"Mining Periodic Pattern with a MDL Criterion\"\n",
    "\n",
    "2.\n",
    "    Galbrun, E\n",
    "    \"The Minimum Description Length Principle for Pattern Mining : A survey\"\n",
    "\n",
    "3. \n",
    "    Termier, A\n",
    "    [\"Periodic pattern mining\"](http://people.irisa.fr/Alexandre.Termier/dmv/DMV_Periodic_patterns.pdf) "
   ]
  },
  {
   "cell_type": "code",
   "execution_count": null,
   "metadata": {},
   "outputs": [],
   "source": []
  },
  {
   "cell_type": "code",
   "execution_count": null,
   "metadata": {},
   "outputs": [],
   "source": []
  }
 ],
 "metadata": {
  "kernelspec": {
   "display_name": "Python 3 (ipykernel)",
   "language": "python",
   "name": "python3"
  },
  "language_info": {
   "codemirror_mode": {
    "name": "ipython",
    "version": 3
   },
   "file_extension": ".py",
   "mimetype": "text/x-python",
   "name": "python",
   "nbconvert_exporter": "python",
   "pygments_lexer": "ipython3",
   "version": "3.10.8"
  },
  "toc": {
   "base_numbering": 1,
   "nav_menu": {},
   "number_sections": true,
   "sideBar": true,
   "skip_h1_title": false,
   "title_cell": "Table of Contents",
   "title_sidebar": "Contents",
   "toc_cell": false,
   "toc_position": {
    "height": "calc(100% - 180px)",
    "left": "10px",
    "top": "150px",
    "width": "247.55px"
   },
   "toc_section_display": true,
   "toc_window_display": true
  },
  "vscode": {
   "interpreter": {
    "hash": "c4418ac5ac56bcc1d654aebcb97e1ca3ff1be77625ab045a7b4b5e8ee820789e"
   }
  }
 },
 "nbformat": 4,
 "nbformat_minor": 4
}
