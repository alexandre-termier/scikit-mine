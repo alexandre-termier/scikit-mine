{
 "cells": [
  {
   "attachments": {},
   "cell_type": "markdown",
   "metadata": {},
   "source": [
    "## Classification examples with SLIM"
   ]
  },
  {
   "cell_type": "code",
   "execution_count": 29,
   "metadata": {},
   "outputs": [
    {
     "name": "stdout",
     "output_type": "stream",
     "text": [
      "This tutorial was tested with the following version of skmine : 0.0.9\n"
     ]
    }
   ],
   "source": [
    "import skmine\n",
    "import pandas as pd\n",
    "import numpy as np\n",
    "\n",
    "print(\"This tutorial was tested with the following version of skmine :\", skmine.__version__)"
   ]
  },
  {
   "cell_type": "markdown",
   "metadata": {},
   "source": [
    "MDL based algorithms encode data according to a given codetable\n",
    "\n",
    "When calling ``.fit``, we iteratively look for the codetable that compress\n",
    "the training data the best\n",
    "\n",
    "**When we are done with training our model, we can benefit from the refined codetable \n",
    "to make some predictions**"
   ]
  },
  {
   "attachments": {},
   "cell_type": "markdown",
   "metadata": {},
   "source": [
    "### SLIM Classifier for k>=2 classes\n",
    "\n",
    "An **integrated classifier in scikit mine is available** and allows to **solve binary and multiclass problems**. It uses the SLIM compression algorithm. \n",
    "\n",
    "To use it, we need to have **discretized dataset**. Let's take for example the **discretized iris dataset** with  **3 classes**."
   ]
  },
  {
   "cell_type": "code",
   "execution_count": 39,
   "metadata": {},
   "outputs": [
    {
     "name": "stdout",
     "output_type": "stream",
     "text": [
      "-> Data:\n",
      " 0       [2, 9, 12, 15]\n",
      "1      [1, 10, 11, 14]\n",
      "2      [5, 10, 13, 16]\n",
      "3       [2, 6, 12, 15]\n",
      "4       [1, 8, 11, 14]\n",
      "            ...       \n",
      "145     [3, 9, 13, 16]\n",
      "146    [1, 10, 11, 14]\n",
      "147     [3, 8, 12, 15]\n",
      "148     [5, 9, 13, 16]\n",
      "149    [5, 10, 13, 16]\n",
      "Name: iris.D19.N150.C3.num, Length: 150, dtype: object\n",
      "-> Unique label : [17 18 19]\n"
     ]
    }
   ],
   "source": [
    "from skmine.datasets.fimi import fetch_iris\n",
    "X, y = fetch_iris(return_y=True)  # without return_y=True, the method would have returned the whole dataset in one variable\n",
    "label_names = ['setosa', 'versicolor', 'virginica']\n",
    "print(\"-> Data:\\n\", X)\n",
    "print(\"-> Unique label :\", np.unique(y))"
   ]
  },
  {
   "cell_type": "markdown",
   "metadata": {},
   "source": [
    "Note that in the discretized iris dataset, each features is discretized **with different labels** : "
   ]
  },
  {
   "cell_type": "code",
   "execution_count": 40,
   "metadata": {},
   "outputs": [
    {
     "name": "stdout",
     "output_type": "stream",
     "text": [
      "unique items in colunms 0 : [1 2 3 4 5]\n",
      "unique items in colunms 1 : [ 6  7  8  9 10]\n",
      "unique items in colunms 2 : [11 12 13]\n",
      "unique items in colunms 3 : [14 15 16]\n"
     ]
    }
   ],
   "source": [
    "import numpy as np\n",
    "X_2d = np.array(X.to_list())\n",
    "for k in range(X_2d.shape[-1]): \n",
    "    print(f\"unique items in colunms {k} : {np.unique(X_2d[:,k])}\")\n"
   ]
  },
  {
   "cell_type": "markdown",
   "metadata": {},
   "source": [
    "The purpose of this dataset is to **predict the last column of db from the other 4**. The possible targets are: 17, 18, 19. We can prepare our train and test data set."
   ]
  },
  {
   "cell_type": "code",
   "execution_count": 41,
   "metadata": {},
   "outputs": [
    {
     "name": "stdout",
     "output_type": "stream",
     "text": [
      "X_train shape: (120,) y_train shape: (120,)\n",
      "X_test shape: (30,) y_test shape: (30,)\n"
     ]
    }
   ],
   "source": [
    "from sklearn.model_selection import train_test_split\n",
    "\n",
    "(X_train, X_test, y_train, y_test) = train_test_split(X, y, random_state=1, test_size=0.2, shuffle=True)\n",
    "print(\"X_train shape:\", X_train.shape, \"y_train shape:\", y_train.shape)\n",
    "print(\"X_test shape:\", X_test.shape, \"y_test shape:\", y_test.shape)"
   ]
  },
  {
   "cell_type": "markdown",
   "metadata": {},
   "source": [
    "Now we can use our **SlimClassifier**."
   ]
  },
  {
   "cell_type": "code",
   "execution_count": 42,
   "metadata": {
    "scrolled": true
   },
   "outputs": [
    {
     "name": "stdout",
     "output_type": "stream",
     "text": [
      "items {1, 2, 3, 4, 5, 6, 7, 8, 9, 10, 11, 12, 13, 14, 15, 16}\n"
     ]
    },
    {
     "data": {
      "text/html": [
       "<style>#sk-container-id-1 {color: black;background-color: white;}#sk-container-id-1 pre{padding: 0;}#sk-container-id-1 div.sk-toggleable {background-color: white;}#sk-container-id-1 label.sk-toggleable__label {cursor: pointer;display: block;width: 100%;margin-bottom: 0;padding: 0.3em;box-sizing: border-box;text-align: center;}#sk-container-id-1 label.sk-toggleable__label-arrow:before {content: \"▸\";float: left;margin-right: 0.25em;color: #696969;}#sk-container-id-1 label.sk-toggleable__label-arrow:hover:before {color: black;}#sk-container-id-1 div.sk-estimator:hover label.sk-toggleable__label-arrow:before {color: black;}#sk-container-id-1 div.sk-toggleable__content {max-height: 0;max-width: 0;overflow: hidden;text-align: left;background-color: #f0f8ff;}#sk-container-id-1 div.sk-toggleable__content pre {margin: 0.2em;color: black;border-radius: 0.25em;background-color: #f0f8ff;}#sk-container-id-1 input.sk-toggleable__control:checked~div.sk-toggleable__content {max-height: 200px;max-width: 100%;overflow: auto;}#sk-container-id-1 input.sk-toggleable__control:checked~label.sk-toggleable__label-arrow:before {content: \"▾\";}#sk-container-id-1 div.sk-estimator input.sk-toggleable__control:checked~label.sk-toggleable__label {background-color: #d4ebff;}#sk-container-id-1 div.sk-label input.sk-toggleable__control:checked~label.sk-toggleable__label {background-color: #d4ebff;}#sk-container-id-1 input.sk-hidden--visually {border: 0;clip: rect(1px 1px 1px 1px);clip: rect(1px, 1px, 1px, 1px);height: 1px;margin: -1px;overflow: hidden;padding: 0;position: absolute;width: 1px;}#sk-container-id-1 div.sk-estimator {font-family: monospace;background-color: #f0f8ff;border: 1px dotted black;border-radius: 0.25em;box-sizing: border-box;margin-bottom: 0.5em;}#sk-container-id-1 div.sk-estimator:hover {background-color: #d4ebff;}#sk-container-id-1 div.sk-parallel-item::after {content: \"\";width: 100%;border-bottom: 1px solid gray;flex-grow: 1;}#sk-container-id-1 div.sk-label:hover label.sk-toggleable__label {background-color: #d4ebff;}#sk-container-id-1 div.sk-serial::before {content: \"\";position: absolute;border-left: 1px solid gray;box-sizing: border-box;top: 0;bottom: 0;left: 50%;z-index: 0;}#sk-container-id-1 div.sk-serial {display: flex;flex-direction: column;align-items: center;background-color: white;padding-right: 0.2em;padding-left: 0.2em;position: relative;}#sk-container-id-1 div.sk-item {position: relative;z-index: 1;}#sk-container-id-1 div.sk-parallel {display: flex;align-items: stretch;justify-content: center;background-color: white;position: relative;}#sk-container-id-1 div.sk-item::before, #sk-container-id-1 div.sk-parallel-item::before {content: \"\";position: absolute;border-left: 1px solid gray;box-sizing: border-box;top: 0;bottom: 0;left: 50%;z-index: -1;}#sk-container-id-1 div.sk-parallel-item {display: flex;flex-direction: column;z-index: 1;position: relative;background-color: white;}#sk-container-id-1 div.sk-parallel-item:first-child::after {align-self: flex-end;width: 50%;}#sk-container-id-1 div.sk-parallel-item:last-child::after {align-self: flex-start;width: 50%;}#sk-container-id-1 div.sk-parallel-item:only-child::after {width: 0;}#sk-container-id-1 div.sk-dashed-wrapped {border: 1px dashed gray;margin: 0 0.4em 0.5em 0.4em;box-sizing: border-box;padding-bottom: 0.4em;background-color: white;}#sk-container-id-1 div.sk-label label {font-family: monospace;font-weight: bold;display: inline-block;line-height: 1.2em;}#sk-container-id-1 div.sk-label-container {text-align: center;}#sk-container-id-1 div.sk-container {/* jupyter's `normalize.less` sets `[hidden] { display: none; }` but bootstrap.min.css set `[hidden] { display: none !important; }` so we also need the `!important` here to be able to override the default hidden behavior on the sphinx rendered scikit-learn.org. See: https://github.com/scikit-learn/scikit-learn/issues/21755 */display: inline-block !important;position: relative;}#sk-container-id-1 div.sk-text-repr-fallback {display: none;}</style><div id=\"sk-container-id-1\" class=\"sk-top-container\"><div class=\"sk-text-repr-fallback\"><pre>SlimClassifier(items={1, 2, 3, 4, 5, 6, 7, 8, 9, 10, 11, 12, 13, 14, 15, 16})</pre><b>In a Jupyter environment, please rerun this cell to show the HTML representation or trust the notebook. <br />On GitHub, the HTML representation is unable to render, please try loading this page with nbviewer.org.</b></div><div class=\"sk-container\" hidden><div class=\"sk-item\"><div class=\"sk-estimator sk-toggleable\"><input class=\"sk-toggleable__control sk-hidden--visually\" id=\"sk-estimator-id-1\" type=\"checkbox\" checked><label for=\"sk-estimator-id-1\" class=\"sk-toggleable__label sk-toggleable__label-arrow\">SlimClassifier</label><div class=\"sk-toggleable__content\"><pre>SlimClassifier(items={1, 2, 3, 4, 5, 6, 7, 8, 9, 10, 11, 12, 13, 14, 15, 16})</pre></div></div></div></div></div>"
      ],
      "text/plain": [
       "SlimClassifier(items={1, 2, 3, 4, 5, 6, 7, 8, 9, 10, 11, 12, 13, 14, 15, 16})"
      ]
     },
     "execution_count": 42,
     "metadata": {},
     "output_type": "execute_result"
    }
   ],
   "source": [
    "from skmine.itemsets.slim_classifier import SlimClassifier\n",
    "\n",
    "# You can pass in parameter of your classifier the set of your items. \n",
    "# This will improve its performance especially on small data sets like iris.\n",
    "items = set(item for transaction in X for item in transaction)\n",
    "print(\"items\", items)\n",
    "clf = SlimClassifier(items=items)  # You can also enable or disable the pruning of SLIM compressors via the `pruning` parameter\n",
    "clf.fit(X_train, y_train)\n"
   ]
  },
  {
   "cell_type": "markdown",
   "metadata": {},
   "source": [
    "You can use many functions of sckit learn that are compatible with classifiers. For example, build a **confusion matrix**, use **GridSearchCV** or **cross validation**.\n",
    "\n",
    "- **Confusion matrix**"
   ]
  },
  {
   "cell_type": "code",
   "execution_count": 38,
   "metadata": {},
   "outputs": [
    {
     "name": "stdout",
     "output_type": "stream",
     "text": [
      "-> Accuracy : 83.3 %\n",
      "-> Confusion matrix :\n",
      "             setosa  versicolor  virginica\n",
      "setosa          13           1          0\n",
      "versicolor       0           8          1\n",
      "virginica        0           3          4\n"
     ]
    }
   ],
   "source": [
    "from sklearn.metrics import confusion_matrix\n",
    "y_pred = clf.predict(X_test)\n",
    "print(f\"-> Accuracy : {round(clf.score(X_test, y_test)*100,1)} %\")\n",
    "\n",
    "print(\"-> Confusion matrix :\\n\", pd.DataFrame(data=confusion_matrix(y_test, y_pred),columns=label_names, index=label_names))"
   ]
  },
  {
   "cell_type": "markdown",
   "metadata": {},
   "source": [
    "- **GridSearchCV** (this method allows us to test many parameters for a classifier and to retain the best combination)"
   ]
  },
  {
   "cell_type": "code",
   "execution_count": 45,
   "metadata": {},
   "outputs": [
    {
     "name": "stdout",
     "output_type": "stream",
     "text": [
      "-> Best params : {'items': {1, 2, 3, 4, 5, 6, 7, 8, 9, 10, 11, 12, 13, 14, 15, 16}, 'pruning': False}\n",
      "-> Accuracy : 98.3 %\n"
     ]
    }
   ],
   "source": [
    "from sklearn.model_selection import GridSearchCV\n",
    "\n",
    "parameters = {'pruning': [False, True], 'items': [None, items]}\n",
    "grid = GridSearchCV(clf, parameters)\n",
    "grid.fit(X_train,y_train)\n",
    "print(\"-> Best params :\", grid.best_params_)\n",
    "print(f\"-> Accuracy : {round(grid.score(X_train, y_train)*100,1)} %\")"
   ]
  },
  {
   "cell_type": "markdown",
   "metadata": {},
   "source": [
    "With GridSearchCV we get with the best parameters an **accuracy of more than 98%**, much better than the previous score. With this combination, the item list is passed as a parameter and pruning is disabled. Since pruning does not improve the compression of codetables in the SLIM algorithm on iris, it does not matter whether it is enabled or not.\n",
    "\n",
    "To reduce overfitting, we can use the cross validation of sklearn.\n",
    "- **Cross validation**"
   ]
  },
  {
   "cell_type": "code",
   "execution_count": 49,
   "metadata": {},
   "outputs": [
    {
     "name": "stdout",
     "output_type": "stream",
     "text": [
      "-> 10 Cross validation: [0.93 0.93 0.87 0.93 0.93 0.93 1.   1.   1.   0.93]\n",
      "-> Mean Accuracy : 94.7 %\n"
     ]
    }
   ],
   "source": [
    "from sklearn.model_selection import cross_val_score\n",
    "\n",
    "cross_validation = cross_val_score(clf, X, y, cv=10)\n",
    "print(f\"-> 10 Cross validation: {cross_validation.round(2)}\")\n",
    "print(f\"-> Mean Accuracy : {round(cross_validation.mean()*100,1)} %\") "
   ]
  },
  {
   "cell_type": "markdown",
   "metadata": {},
   "source": [
    "After cross validation, we see that the **accuracy is almost 95% on average**. So in 95% of the cases, the right type of flower is given."
   ]
  },
  {
   "cell_type": "markdown",
   "metadata": {},
   "source": [
    "### SLIM classifier from numerical dataset"
   ]
  },
  {
   "cell_type": "markdown",
   "metadata": {},
   "source": [
    "#### Preprocessing"
   ]
  },
  {
   "cell_type": "markdown",
   "metadata": {},
   "source": [
    "Load standard iris dataset : "
   ]
  },
  {
   "cell_type": "code",
   "execution_count": 79,
   "metadata": {},
   "outputs": [
    {
     "name": "stdout",
     "output_type": "stream",
     "text": [
      "-> X.shape :  (150, 4)\n",
      "-> X,  5 rows :\n",
      " [[5.1 3.5 1.4 0.2]\n",
      " [4.9 3.  1.4 0.2]\n",
      " [4.7 3.2 1.3 0.2]\n",
      " [4.6 3.1 1.5 0.2]\n",
      " [5.  3.6 1.4 0.2]]\n",
      "-> Unique labels :  [0 1 2]\n"
     ]
    }
   ],
   "source": [
    "from sklearn.datasets import load_iris\n",
    "data = load_iris()\n",
    "X, y = data.data, data.target\n",
    "print(\"-> X.shape : \", X.shape)\n",
    "print(\"-> X,  5 rows :\\n\", X[0:5])\n",
    "print(\"-> Unique labels : \", np.unique(y))"
   ]
  },
  {
   "cell_type": "markdown",
   "metadata": {},
   "source": [
    "Classic standardisation "
   ]
  },
  {
   "cell_type": "code",
   "execution_count": 63,
   "metadata": {},
   "outputs": [
    {
     "name": "stdout",
     "output_type": "stream",
     "text": [
      "-> Xst.shape :  (150, 4)\n",
      "-> Xst, 5 rows :\n",
      " [[-0.901  1.019 -1.34  -1.315]\n",
      " [-1.143 -0.132 -1.34  -1.315]\n",
      " [-1.385  0.328 -1.397 -1.315]\n",
      " [-1.507  0.098 -1.283 -1.315]\n",
      " [-1.022  1.249 -1.34  -1.315]]\n"
     ]
    }
   ],
   "source": [
    "from sklearn.preprocessing import StandardScaler\n",
    "Xst = StandardScaler().fit_transform(X)\n",
    "print(\"-> Xst.shape : \", Xst.shape)\n",
    "print(\"-> Xst, 5 rows :\\n\", Xst[0:5].round(3))"
   ]
  },
  {
   "cell_type": "markdown",
   "metadata": {},
   "source": [
    "KBins discretisation"
   ]
  },
  {
   "cell_type": "code",
   "execution_count": 83,
   "metadata": {},
   "outputs": [
    {
     "name": "stdout",
     "output_type": "stream",
     "text": [
      "-> Xt.shape :  (150, 12)\n",
      "-> Xt, 5 rows :\n",
      " [[1 0 0 0 1 0 1 0 0 1 0 0]\n",
      " [1 0 0 0 1 0 1 0 0 1 0 0]\n",
      " [1 0 0 0 1 0 1 0 0 1 0 0]\n",
      " [1 0 0 0 1 0 1 0 0 1 0 0]\n",
      " [1 0 0 0 1 0 1 0 0 1 0 0]]\n"
     ]
    }
   ],
   "source": [
    "from sklearn.preprocessing import KBinsDiscretizer\n",
    "Xt =  KBinsDiscretizer(n_bins=3, encode='onehot-dense', strategy='uniform').fit_transform(Xst).astype(int)\n",
    "print(\"-> Xt.shape : \", Xt.shape)\n",
    "print(\"-> Xt, 5 rows :\\n\", Xt[0:5])"
   ]
  },
  {
   "cell_type": "markdown",
   "metadata": {},
   "source": [
    "Note that in this discretization of iris dataset, **each feature** is discretized with the **same labels**, which **is not what we want**"
   ]
  },
  {
   "cell_type": "code",
   "execution_count": 84,
   "metadata": {},
   "outputs": [
    {
     "name": "stdout",
     "output_type": "stream",
     "text": [
      "unique items in colunms 0 : [0 1]\n",
      "unique items in colunms 1 : [0 1]\n",
      "unique items in colunms 2 : [0 1]\n",
      "unique items in colunms 3 : [0 1]\n"
     ]
    }
   ],
   "source": [
    "for k in range(4): \n",
    "    print(f\"unique items in colunms {k} : {np.unique(Xt[:,k])}\")\n"
   ]
  },
  {
   "cell_type": "markdown",
   "metadata": {},
   "source": [
    "We must **shift** values in columns in order to **avoid identical labels between columns**.    "
   ]
  },
  {
   "cell_type": "code",
   "execution_count": 85,
   "metadata": {},
   "outputs": [
    {
     "name": "stdout",
     "output_type": "stream",
     "text": [
      "unique items in colunms 0 : [0 1]\n",
      "unique items in colunms 1 : [2 3]\n",
      "unique items in colunms 2 : [4 5]\n",
      "unique items in colunms 3 : [6 7]\n",
      "-> Xt.shape :  (150,)\n",
      "-> Xt, 10 rows :\n",
      " 10    [1, 2, 4, 6, 8, 11, 13, 14, 16, 19, 20, 22]\n",
      "11    [1, 2, 4, 6, 9, 10, 13, 14, 16, 19, 20, 22]\n",
      "12    [1, 2, 4, 6, 9, 10, 13, 14, 16, 19, 20, 22]\n",
      "13    [1, 2, 4, 6, 9, 10, 13, 14, 16, 19, 20, 22]\n",
      "14    [0, 3, 4, 6, 8, 11, 13, 14, 16, 19, 20, 22]\n",
      "15    [0, 3, 4, 6, 8, 11, 13, 14, 16, 19, 20, 22]\n",
      "16    [1, 2, 4, 6, 8, 11, 13, 14, 16, 19, 20, 22]\n",
      "17    [1, 2, 4, 6, 9, 10, 13, 14, 16, 19, 20, 22]\n",
      "18    [0, 3, 4, 6, 8, 11, 13, 14, 16, 19, 20, 22]\n",
      "19    [1, 2, 4, 6, 8, 11, 13, 14, 16, 19, 20, 22]\n",
      "dtype: object\n"
     ]
    }
   ],
   "source": [
    "\n",
    "shift_col = np.max(Xt, axis=0)\n",
    "for k in range(1, len(shift_col))  : \n",
    "     shift_col[k]+= shift_col[k-1] + 1\n",
    "shift_col+=-shift_col[0]\n",
    "\n",
    "for k in range(len(shift_col))  : \n",
    "    Xt[:,k]+=shift_col[k]\n",
    "\n",
    "for k in range(4): \n",
    "    print(f\"unique items in colunms {k} : {np.unique(Xt[:,k])}\")\n",
    "\n",
    "Xt = pd.Series( Xt.tolist() )   # we must tranform the array into series of list\n",
    "print(\"-> Xt.shape : \", Xt.shape)\n",
    "print(\"-> Xt, 10 rows :\\n\",  Xt[10:20])"
   ]
  },
  {
   "cell_type": "markdown",
   "metadata": {},
   "source": [
    "#### In pipelines : "
   ]
  },
  {
   "cell_type": "code",
   "execution_count": 86,
   "metadata": {},
   "outputs": [
    {
     "name": "stdout",
     "output_type": "stream",
     "text": [
      "X_train shape: (120, 4) y_train shape: (120,)\n",
      "X_test shape: (30, 4) y_test shape: (30,)\n",
      "-> Xt.shape :  (120,)\n",
      "-> Xt, 10 rows :\n",
      " 10    [2, 4, 8, 11]\n",
      "11     [0, 4, 6, 9]\n",
      "12    [1, 3, 8, 10]\n",
      "13    [1, 4, 8, 11]\n",
      "14    [2, 4, 7, 10]\n",
      "15    [2, 3, 8, 11]\n",
      "16     [1, 5, 6, 9]\n",
      "17     [0, 4, 6, 9]\n",
      "18     [0, 4, 6, 9]\n",
      "19    [0, 3, 7, 10]\n",
      "dtype: object\n"
     ]
    }
   ],
   "source": [
    "from skmine.itemsets.slim_classifier import SlimClassifier\n",
    "\n",
    "from sklearn.datasets import load_iris\n",
    "from sklearn.pipeline import Pipeline\n",
    "from sklearn.model_selection import train_test_split\n",
    "from sklearn.preprocessing import StandardScaler, KBinsDiscretizer\n",
    "\n",
    "\n",
    "class MultiLabelsKbins(KBinsDiscretizer):  # pandas DataFrames are easier to read ;)   \n",
    "    def transform(self, X):\n",
    "        Xt = super().transform(X).astype(int)\n",
    "        \n",
    "        shift_col = np.max(Xt, axis=0)\n",
    "        for k in range(1, len(shift_col))  : \n",
    "             shift_col[k]+= shift_col[k-1] + 1\n",
    "        shift_col+=-shift_col[0]\n",
    "        for k in range(len(shift_col))  : \n",
    "            Xt[:,k]+=shift_col[k]\n",
    "            \n",
    "        return pd.Series( Xt.tolist() )\n",
    "\n",
    "data = load_iris()\n",
    "X, y = data.data, data.target\n",
    "\n",
    "(X_train, X_test, y_train, y_test) = train_test_split(X, y, random_state=1, test_size=0.2, shuffle=True)\n",
    "print(\"X_train shape:\", X_train.shape, \"y_train shape:\", y_train.shape)\n",
    "print(\"X_test shape:\", X_test.shape, \"y_test shape:\", y_test.shape)\n",
    "\n",
    "\n",
    "preproc = Pipeline([\n",
    "    ('StandardScaler', StandardScaler()),\n",
    "    ('MultiLabelsKbins', MultiLabelsKbins(n_bins=3, encode='ordinal', strategy='uniform')),\n",
    "])\n",
    "\n",
    "Xt = preproc.fit_transform(X_train)\n",
    "print(\"-> Xt.shape : \", Xt.shape)\n",
    "print(\"-> Xt, 10 rows :\\n\",  Xt[10:20])"
   ]
  },
  {
   "cell_type": "markdown",
   "metadata": {},
   "source": [
    "Now we can add SlimClassifier to the pipe"
   ]
  },
  {
   "cell_type": "code",
   "execution_count": 87,
   "metadata": {},
   "outputs": [],
   "source": [
    "items = set(item for transaction in Xt for item in transaction)\n",
    "\n",
    "pipe = Pipeline([\n",
    "    ('preproc', preproc),\n",
    "    ('SlimClassifier', SlimClassifier(items=items))\n",
    "])\n"
   ]
  },
  {
   "cell_type": "code",
   "execution_count": 88,
   "metadata": {
    "scrolled": false
   },
   "outputs": [
    {
     "data": {
      "text/plain": [
       "array([0, 1, 1, 0, 2, 1, 2, 0, 0, 2, 1, 0, 2, 1, 1, 0, 1, 1, 0, 0, 1, 1,\n",
       "       2, 0, 2, 1, 0, 0, 1, 2])"
      ]
     },
     "execution_count": 88,
     "metadata": {},
     "output_type": "execute_result"
    }
   ],
   "source": [
    "pipe.fit(X_train,y_train)\n",
    "y_preds = pipe.predict(X_test)\n",
    "y_preds"
   ]
  },
  {
   "cell_type": "code",
   "execution_count": 90,
   "metadata": {},
   "outputs": [
    {
     "name": "stdout",
     "output_type": "stream",
     "text": [
      "-> Pipe Accuracy : 96.7 %\n"
     ]
    }
   ],
   "source": [
    "print(f\"-> Pipe Accuracy : {round(pipe.score(X_test, y_test)*100,1)} %\") "
   ]
  },
  {
   "cell_type": "markdown",
   "metadata": {},
   "source": [
    "----------\n",
    "\n",
    "### OneVsRest classifier for k>2 classes\n",
    "\n",
    "The **SLIM algorithm** is also compatible with **scikit-learn** to be used from other classifiers like **One-vs-the-rest (OvR)** (https://scikit-learn.org/stable/modules/generated/sklearn.multiclass.OneVsRestClassifier.html). The limitation of this method is that the classifier **only works for multiclass classification** problems while the embedded classifier works for both binary and multiclass problems."
   ]
  },
  {
   "cell_type": "code",
   "execution_count": 94,
   "metadata": {},
   "outputs": [],
   "source": [
    "from skmine.itemsets import SLIM\n",
    "from sklearn.preprocessing import MultiLabelBinarizer"
   ]
  },
  {
   "cell_type": "code",
   "execution_count": 95,
   "metadata": {},
   "outputs": [],
   "source": [
    "class TransactionEncoder(MultiLabelBinarizer):  # pandas DataFrames are easier to read ;)\n",
    "    def transform(self, X):\n",
    "        _X = super().transform(X)\n",
    "        return pd.DataFrame(data=_X, columns=self.classes_)"
   ]
  },
  {
   "cell_type": "code",
   "execution_count": 96,
   "metadata": {},
   "outputs": [
    {
     "data": {
      "text/html": [
       "<div>\n",
       "<style scoped>\n",
       "    .dataframe tbody tr th:only-of-type {\n",
       "        vertical-align: middle;\n",
       "    }\n",
       "\n",
       "    .dataframe tbody tr th {\n",
       "        vertical-align: top;\n",
       "    }\n",
       "\n",
       "    .dataframe thead th {\n",
       "        text-align: right;\n",
       "    }\n",
       "</style>\n",
       "<table border=\"1\" class=\"dataframe\">\n",
       "  <thead>\n",
       "    <tr style=\"text-align: right;\">\n",
       "      <th></th>\n",
       "      <th>bananas</th>\n",
       "      <th>butter</th>\n",
       "      <th>cookies</th>\n",
       "      <th>milk</th>\n",
       "      <th>tea</th>\n",
       "    </tr>\n",
       "  </thead>\n",
       "  <tbody>\n",
       "    <tr>\n",
       "      <th>0</th>\n",
       "      <td>1</td>\n",
       "      <td>0</td>\n",
       "      <td>0</td>\n",
       "      <td>1</td>\n",
       "      <td>0</td>\n",
       "    </tr>\n",
       "    <tr>\n",
       "      <th>1</th>\n",
       "      <td>1</td>\n",
       "      <td>0</td>\n",
       "      <td>1</td>\n",
       "      <td>1</td>\n",
       "      <td>0</td>\n",
       "    </tr>\n",
       "    <tr>\n",
       "      <th>2</th>\n",
       "      <td>0</td>\n",
       "      <td>1</td>\n",
       "      <td>1</td>\n",
       "      <td>0</td>\n",
       "      <td>1</td>\n",
       "    </tr>\n",
       "    <tr>\n",
       "      <th>3</th>\n",
       "      <td>0</td>\n",
       "      <td>0</td>\n",
       "      <td>0</td>\n",
       "      <td>0</td>\n",
       "      <td>1</td>\n",
       "    </tr>\n",
       "    <tr>\n",
       "      <th>4</th>\n",
       "      <td>1</td>\n",
       "      <td>0</td>\n",
       "      <td>0</td>\n",
       "      <td>1</td>\n",
       "      <td>1</td>\n",
       "    </tr>\n",
       "  </tbody>\n",
       "</table>\n",
       "</div>"
      ],
      "text/plain": [
       "   bananas  butter  cookies  milk  tea\n",
       "0        1       0        0     1    0\n",
       "1        1       0        1     1    0\n",
       "2        0       1        1     0    1\n",
       "3        0       0        0     0    1\n",
       "4        1       0        0     1    1"
      ]
     },
     "execution_count": 96,
     "metadata": {},
     "output_type": "execute_result"
    }
   ],
   "source": [
    "transactions = [ \n",
    "     ['bananas', 'milk'], \n",
    "     ['milk', 'bananas', 'cookies'], \n",
    "     ['cookies', 'butter', 'tea'], \n",
    "     ['tea'],  \n",
    "     ['milk', 'bananas', 'tea'], \n",
    "]\n",
    "te = TransactionEncoder()\n",
    "D = te.fit(transactions).transform(transactions)\n",
    "D "
   ]
  },
  {
   "cell_type": "code",
   "execution_count": 98,
   "metadata": {},
   "outputs": [
    {
     "data": {
      "text/html": [
       "<div>\n",
       "<style scoped>\n",
       "    .dataframe tbody tr th:only-of-type {\n",
       "        vertical-align: middle;\n",
       "    }\n",
       "\n",
       "    .dataframe tbody tr th {\n",
       "        vertical-align: top;\n",
       "    }\n",
       "\n",
       "    .dataframe thead th {\n",
       "        text-align: right;\n",
       "    }\n",
       "</style>\n",
       "<table border=\"1\" class=\"dataframe\">\n",
       "  <thead>\n",
       "    <tr style=\"text-align: right;\">\n",
       "      <th></th>\n",
       "      <th>itemset</th>\n",
       "      <th>usage</th>\n",
       "    </tr>\n",
       "  </thead>\n",
       "  <tbody>\n",
       "    <tr>\n",
       "      <th>0</th>\n",
       "      <td>[bananas, milk]</td>\n",
       "      <td>3</td>\n",
       "    </tr>\n",
       "    <tr>\n",
       "      <th>1</th>\n",
       "      <td>[tea]</td>\n",
       "      <td>3</td>\n",
       "    </tr>\n",
       "    <tr>\n",
       "      <th>2</th>\n",
       "      <td>[cookies]</td>\n",
       "      <td>2</td>\n",
       "    </tr>\n",
       "    <tr>\n",
       "      <th>3</th>\n",
       "      <td>[butter]</td>\n",
       "      <td>1</td>\n",
       "    </tr>\n",
       "  </tbody>\n",
       "</table>\n",
       "</div>"
      ],
      "text/plain": [
       "           itemset  usage\n",
       "0  [bananas, milk]      3\n",
       "1            [tea]      3\n",
       "2        [cookies]      2\n",
       "3         [butter]      1"
      ]
     },
     "execution_count": 98,
     "metadata": {},
     "output_type": "execute_result"
    }
   ],
   "source": [
    "slim = SLIM()\n",
    "codetable = slim.fit(D).transform(D)\n",
    "codetable"
   ]
  },
  {
   "cell_type": "markdown",
   "metadata": {},
   "source": [
    "We keep this **codetable** in mind, as we will later use it **to interpret our predictions**"
   ]
  },
  {
   "cell_type": "markdown",
   "metadata": {},
   "source": [
    "----------\n",
    "#### First \"predictions\" with OneHot\n",
    "\n",
    "We define a new transactional dataset, and can call our ``decision_function`` on it. This will yield a decrease exponential function ***Exp_neg*** of the ``distances`` ($d$) w.r.t the encoding scheme provided by our codetable : \n",
    "$$\n",
    "Exp\\_neg(d) = \\exp(-0.2 * d)\n",
    "$$"
   ]
  },
  {
   "cell_type": "code",
   "execution_count": 99,
   "metadata": {},
   "outputs": [
    {
     "name": "stderr",
     "output_type": "stream",
     "text": [
      "/home/hcourtei/miniconda3/envs/ml-sklearn/lib/python3.10/site-packages/sklearn/preprocessing/_label.py:895: UserWarning: unknown class(es) ['sirup'] will be ignored\n",
      "  warnings.warn(\n"
     ]
    },
    {
     "data": {
      "text/html": [
       "<div>\n",
       "<style scoped>\n",
       "    .dataframe tbody tr th:only-of-type {\n",
       "        vertical-align: middle;\n",
       "    }\n",
       "\n",
       "    .dataframe tbody tr th {\n",
       "        vertical-align: top;\n",
       "    }\n",
       "\n",
       "    .dataframe thead th {\n",
       "        text-align: right;\n",
       "    }\n",
       "</style>\n",
       "<table border=\"1\" class=\"dataframe\">\n",
       "  <thead>\n",
       "    <tr style=\"text-align: right;\">\n",
       "      <th></th>\n",
       "      <th>bananas</th>\n",
       "      <th>butter</th>\n",
       "      <th>cookies</th>\n",
       "      <th>milk</th>\n",
       "      <th>tea</th>\n",
       "    </tr>\n",
       "  </thead>\n",
       "  <tbody>\n",
       "    <tr>\n",
       "      <th>0</th>\n",
       "      <td>1</td>\n",
       "      <td>0</td>\n",
       "      <td>0</td>\n",
       "      <td>1</td>\n",
       "      <td>0</td>\n",
       "    </tr>\n",
       "    <tr>\n",
       "      <th>1</th>\n",
       "      <td>0</td>\n",
       "      <td>0</td>\n",
       "      <td>1</td>\n",
       "      <td>1</td>\n",
       "      <td>0</td>\n",
       "    </tr>\n",
       "    <tr>\n",
       "      <th>2</th>\n",
       "      <td>0</td>\n",
       "      <td>1</td>\n",
       "      <td>0</td>\n",
       "      <td>0</td>\n",
       "      <td>1</td>\n",
       "    </tr>\n",
       "  </tbody>\n",
       "</table>\n",
       "</div>"
      ],
      "text/plain": [
       "   bananas  butter  cookies  milk  tea\n",
       "0        1       0        0     1    0\n",
       "1        0       0        1     1    0\n",
       "2        0       1        0     0    1"
      ]
     },
     "execution_count": 99,
     "metadata": {},
     "output_type": "execute_result"
    }
   ],
   "source": [
    "new_transactions = [ \n",
    "   ['bananas', 'milk'], \n",
    "   ['milk', 'sirup', 'cookies'], \n",
    "   ['butter', 'tea'], \n",
    "]\n",
    "new_D = te.transform(new_transactions)\n",
    "new_D"
   ]
  },
  {
   "cell_type": "code",
   "execution_count": 106,
   "metadata": {},
   "outputs": [
    {
     "data": {
      "text/html": [
       "<div>\n",
       "<style scoped>\n",
       "    .dataframe tbody tr th:only-of-type {\n",
       "        vertical-align: middle;\n",
       "    }\n",
       "\n",
       "    .dataframe tbody tr th {\n",
       "        vertical-align: top;\n",
       "    }\n",
       "\n",
       "    .dataframe thead th {\n",
       "        text-align: right;\n",
       "    }\n",
       "</style>\n",
       "<table border=\"1\" class=\"dataframe\">\n",
       "  <thead>\n",
       "    <tr style=\"text-align: right;\">\n",
       "      <th></th>\n",
       "      <th>transaction</th>\n",
       "      <th>code length</th>\n",
       "      <th>score</th>\n",
       "    </tr>\n",
       "  </thead>\n",
       "  <tbody>\n",
       "    <tr>\n",
       "      <th>0</th>\n",
       "      <td>[bananas, milk]</td>\n",
       "      <td>1.907</td>\n",
       "      <td>0.683</td>\n",
       "    </tr>\n",
       "    <tr>\n",
       "      <th>1</th>\n",
       "      <td>[milk, sirup, cookies]</td>\n",
       "      <td>6.229</td>\n",
       "      <td>0.288</td>\n",
       "    </tr>\n",
       "    <tr>\n",
       "      <th>2</th>\n",
       "      <td>[butter, tea]</td>\n",
       "      <td>4.814</td>\n",
       "      <td>0.382</td>\n",
       "    </tr>\n",
       "  </tbody>\n",
       "</table>\n",
       "</div>"
      ],
      "text/plain": [
       "              transaction code length  score\n",
       "0         [bananas, milk]       1.907  0.683\n",
       "1  [milk, sirup, cookies]       6.229  0.288\n",
       "2           [butter, tea]       4.814  0.382"
      ]
     },
     "execution_count": 106,
     "metadata": {},
     "output_type": "execute_result"
    }
   ],
   "source": [
    "codes_length = slim.get_code_length(new_D).round(3)\n",
    "scores = slim.decision_function(new_D).round(3)\n",
    "pd.DataFrame([new_transactions, codes_length, scores], index=['transaction', 'code length' , 'score']).T"
   ]
  },
  {
   "cell_type": "markdown",
   "metadata": {},
   "source": [
    "#### Built-in interpretations\n",
    "Now we can interpret codes for the new data, directly by **looking at the codetable inferred from training data**\n",
    "\n",
    "First observations\n",
    "\n",
    "* Entry 1 has the highest distance w.r.t the encoding scheme : so the smallest score for decision function (*Exp_neg*). \n",
    "  You can see it contains `milk`, `sirup` and `cookies`. From the codetable we see `milk` and `cookies` are not    grouped together, while `sirup` has never been seen\n",
    "  \n",
    "\n",
    "*  Entry 4 (as for entry 0) has the lowest distance, so the highest score for decision function (*Exp_neg*). It contains `bananas` and `milk`, which are grouped together in the codetable and have high occurence in the training data."
   ]
  },
  {
   "cell_type": "markdown",
   "metadata": {},
   "source": [
    "#### Shortest code wins !!\n",
    "Next, we are going to use an ensemble of SLIM encoding schemes, and utilize them via a ``OneVsRest`` methodology, to perform **multi-class classification**.\n",
    "The methodology is very simple\n",
    "\n",
    "1. We clone our base estimator as many time as we need (one per class)\n",
    "2. We fit every estimator on entries corresponding to its class in the input data\n",
    "3. When calling ``.predict``, we actually call ``.decision_function`` and get negative exponential of distances, from our decision boundaries for every class\n",
    "4. The shorted code wins : we choose the class with the lowest distance (so the highest negative exponential of distances) for a given transaction"
   ]
  },
  {
   "cell_type": "code",
   "execution_count": 107,
   "metadata": {},
   "outputs": [],
   "source": [
    "from sklearn.multiclass import OneVsRestClassifier\n",
    "from sklearn.pipeline import Pipeline"
   ]
  },
  {
   "cell_type": "code",
   "execution_count": 108,
   "metadata": {},
   "outputs": [],
   "source": [
    "pipe = Pipeline([\n",
    "    ('transaction_encoder', TransactionEncoder(sparse_output=False)),\n",
    "    ('slim', SLIM()),\n",
    "])"
   ]
  },
  {
   "cell_type": "code",
   "execution_count": 109,
   "metadata": {},
   "outputs": [],
   "source": [
    "transactions = [\n",
    "    ['milk', 'bananas'],\n",
    "    ['tea', 'New York Times', 'El Pais'],\n",
    "    ['New York Times'],\n",
    "    ['El Pais', 'The Economist'],\n",
    "    ['milk', 'tea'],\n",
    "    ['croissant', 'tea'],\n",
    "    ['croissant', 'chocolatine', 'milk'],\n",
    "]\n",
    "target = [\n",
    "    'foodstore', \n",
    "    'newspaper', \n",
    "    'newspaper', \n",
    "    'newspaper', \n",
    "    'foodstore',\n",
    "    'bakery',\n",
    "    'bakery',\n",
    "]"
   ]
  },
  {
   "cell_type": "code",
   "execution_count": 110,
   "metadata": {},
   "outputs": [
    {
     "data": {
      "text/html": [
       "<div>\n",
       "<style scoped>\n",
       "    .dataframe tbody tr th:only-of-type {\n",
       "        vertical-align: middle;\n",
       "    }\n",
       "\n",
       "    .dataframe tbody tr th {\n",
       "        vertical-align: top;\n",
       "    }\n",
       "\n",
       "    .dataframe thead th {\n",
       "        text-align: right;\n",
       "    }\n",
       "</style>\n",
       "<table border=\"1\" class=\"dataframe\">\n",
       "  <thead>\n",
       "    <tr style=\"text-align: right;\">\n",
       "      <th></th>\n",
       "      <th>El Pais</th>\n",
       "      <th>New York Times</th>\n",
       "      <th>The Economist</th>\n",
       "      <th>bananas</th>\n",
       "      <th>chocolatine</th>\n",
       "      <th>croissant</th>\n",
       "      <th>milk</th>\n",
       "      <th>tea</th>\n",
       "    </tr>\n",
       "  </thead>\n",
       "  <tbody>\n",
       "    <tr>\n",
       "      <th>0</th>\n",
       "      <td>0</td>\n",
       "      <td>0</td>\n",
       "      <td>0</td>\n",
       "      <td>1</td>\n",
       "      <td>0</td>\n",
       "      <td>0</td>\n",
       "      <td>1</td>\n",
       "      <td>0</td>\n",
       "    </tr>\n",
       "    <tr>\n",
       "      <th>1</th>\n",
       "      <td>1</td>\n",
       "      <td>1</td>\n",
       "      <td>0</td>\n",
       "      <td>0</td>\n",
       "      <td>0</td>\n",
       "      <td>0</td>\n",
       "      <td>0</td>\n",
       "      <td>1</td>\n",
       "    </tr>\n",
       "    <tr>\n",
       "      <th>2</th>\n",
       "      <td>0</td>\n",
       "      <td>1</td>\n",
       "      <td>0</td>\n",
       "      <td>0</td>\n",
       "      <td>0</td>\n",
       "      <td>0</td>\n",
       "      <td>0</td>\n",
       "      <td>0</td>\n",
       "    </tr>\n",
       "    <tr>\n",
       "      <th>3</th>\n",
       "      <td>1</td>\n",
       "      <td>0</td>\n",
       "      <td>1</td>\n",
       "      <td>0</td>\n",
       "      <td>0</td>\n",
       "      <td>0</td>\n",
       "      <td>0</td>\n",
       "      <td>0</td>\n",
       "    </tr>\n",
       "    <tr>\n",
       "      <th>4</th>\n",
       "      <td>0</td>\n",
       "      <td>0</td>\n",
       "      <td>0</td>\n",
       "      <td>0</td>\n",
       "      <td>0</td>\n",
       "      <td>0</td>\n",
       "      <td>1</td>\n",
       "      <td>1</td>\n",
       "    </tr>\n",
       "    <tr>\n",
       "      <th>5</th>\n",
       "      <td>0</td>\n",
       "      <td>0</td>\n",
       "      <td>0</td>\n",
       "      <td>0</td>\n",
       "      <td>0</td>\n",
       "      <td>1</td>\n",
       "      <td>0</td>\n",
       "      <td>1</td>\n",
       "    </tr>\n",
       "    <tr>\n",
       "      <th>6</th>\n",
       "      <td>0</td>\n",
       "      <td>0</td>\n",
       "      <td>0</td>\n",
       "      <td>0</td>\n",
       "      <td>1</td>\n",
       "      <td>1</td>\n",
       "      <td>1</td>\n",
       "      <td>0</td>\n",
       "    </tr>\n",
       "  </tbody>\n",
       "</table>\n",
       "</div>"
      ],
      "text/plain": [
       "   El Pais  New York Times  The Economist  bananas  chocolatine  croissant  \\\n",
       "0        0               0              0        1            0          0   \n",
       "1        1               1              0        0            0          0   \n",
       "2        0               1              0        0            0          0   \n",
       "3        1               0              1        0            0          0   \n",
       "4        0               0              0        0            0          0   \n",
       "5        0               0              0        0            0          1   \n",
       "6        0               0              0        0            1          1   \n",
       "\n",
       "   milk  tea  \n",
       "0     1    0  \n",
       "1     0    1  \n",
       "2     0    0  \n",
       "3     0    0  \n",
       "4     1    1  \n",
       "5     0    1  \n",
       "6     1    0  "
      ]
     },
     "execution_count": 110,
     "metadata": {},
     "output_type": "execute_result"
    }
   ],
   "source": [
    "te = TransactionEncoder()\n",
    "D = te.fit(transactions).transform(transactions)\n",
    "D"
   ]
  },
  {
   "cell_type": "code",
   "execution_count": 111,
   "metadata": {},
   "outputs": [],
   "source": [
    "ovr = OneVsRestClassifier(SLIM())"
   ]
  },
  {
   "cell_type": "code",
   "execution_count": 112,
   "metadata": {},
   "outputs": [
    {
     "data": {
      "text/plain": [
       "[SLIM(), SLIM(), SLIM()]"
      ]
     },
     "execution_count": 112,
     "metadata": {},
     "output_type": "execute_result"
    }
   ],
   "source": [
    "ovr.fit(D, y=target)\n",
    "ovr.estimators_ # "
   ]
  },
  {
   "cell_type": "code",
   "execution_count": 114,
   "metadata": {},
   "outputs": [
    {
     "data": {
      "text/html": [
       "<div>\n",
       "<style scoped>\n",
       "    .dataframe tbody tr th:only-of-type {\n",
       "        vertical-align: middle;\n",
       "    }\n",
       "\n",
       "    .dataframe tbody tr th {\n",
       "        vertical-align: top;\n",
       "    }\n",
       "\n",
       "    .dataframe thead th {\n",
       "        text-align: right;\n",
       "    }\n",
       "</style>\n",
       "<table border=\"1\" class=\"dataframe\">\n",
       "  <thead>\n",
       "    <tr style=\"text-align: right;\">\n",
       "      <th></th>\n",
       "      <th>bakery</th>\n",
       "      <th>foodstore</th>\n",
       "      <th>newspaper</th>\n",
       "    </tr>\n",
       "  </thead>\n",
       "  <tbody>\n",
       "    <tr>\n",
       "      <th>0</th>\n",
       "      <td>0.238</td>\n",
       "      <td>0.400</td>\n",
       "      <td>0.218</td>\n",
       "    </tr>\n",
       "    <tr>\n",
       "      <th>1</th>\n",
       "      <td>0.116</td>\n",
       "      <td>0.142</td>\n",
       "      <td>0.234</td>\n",
       "    </tr>\n",
       "    <tr>\n",
       "      <th>2</th>\n",
       "      <td>0.488</td>\n",
       "      <td>0.488</td>\n",
       "      <td>0.641</td>\n",
       "    </tr>\n",
       "    <tr>\n",
       "      <th>3</th>\n",
       "      <td>0.238</td>\n",
       "      <td>0.238</td>\n",
       "      <td>0.366</td>\n",
       "    </tr>\n",
       "    <tr>\n",
       "      <th>4</th>\n",
       "      <td>0.238</td>\n",
       "      <td>0.400</td>\n",
       "      <td>0.266</td>\n",
       "    </tr>\n",
       "    <tr>\n",
       "      <th>5</th>\n",
       "      <td>0.596</td>\n",
       "      <td>0.291</td>\n",
       "      <td>0.266</td>\n",
       "    </tr>\n",
       "    <tr>\n",
       "      <th>6</th>\n",
       "      <td>0.596</td>\n",
       "      <td>0.160</td>\n",
       "      <td>0.102</td>\n",
       "    </tr>\n",
       "  </tbody>\n",
       "</table>\n",
       "</div>"
      ],
      "text/plain": [
       "   bakery  foodstore  newspaper\n",
       "0   0.238      0.400      0.218\n",
       "1   0.116      0.142      0.234\n",
       "2   0.488      0.488      0.641\n",
       "3   0.238      0.238      0.366\n",
       "4   0.238      0.400      0.266\n",
       "5   0.596      0.291      0.266\n",
       "6   0.596      0.160      0.102"
      ]
     },
     "execution_count": 114,
     "metadata": {},
     "output_type": "execute_result"
    }
   ],
   "source": [
    "pd.DataFrame(ovr.decision_function(D).round(3), columns=ovr.classes_)"
   ]
  },
  {
   "cell_type": "code",
   "execution_count": 115,
   "metadata": {},
   "outputs": [
    {
     "data": {
      "text/plain": [
       "array(['foodstore', 'newspaper', 'newspaper', 'newspaper', 'foodstore',\n",
       "       'bakery', 'bakery'], dtype='<U9')"
      ]
     },
     "execution_count": 115,
     "metadata": {},
     "output_type": "execute_result"
    }
   ],
   "source": [
    "ovr.predict(D)"
   ]
  },
  {
   "cell_type": "markdown",
   "metadata": {},
   "source": [
    "#### Questions on binary OneVsRest classifier"
   ]
  },
  {
   "cell_type": "code",
   "execution_count": 116,
   "metadata": {},
   "outputs": [],
   "source": [
    "from sklearn.multiclass import OneVsRestClassifier\n",
    "from sklearn.pipeline import Pipeline\n",
    "\n",
    "pipe = Pipeline([\n",
    "    ('transaction_encoder', TransactionEncoder(sparse_output=False)),\n",
    "    ('slim', SLIM()),\n",
    "])"
   ]
  },
  {
   "cell_type": "code",
   "execution_count": 117,
   "metadata": {},
   "outputs": [],
   "source": [
    "transactions = [\n",
    "    ['milk', 'bananas'],\n",
    "    ['tea', 'New York Times', 'El Pais'],\n",
    "    ['New York Times'],\n",
    "    ['El Pais', 'The Economist'],\n",
    "    ['milk', 'tea'],\n",
    "]\n",
    "target = [\n",
    "    'foodstore', \n",
    "    'newspaper', \n",
    "    'newspaper', \n",
    "    'newspaper', \n",
    "    'foodstore',\n",
    "]"
   ]
  },
  {
   "cell_type": "code",
   "execution_count": 118,
   "metadata": {},
   "outputs": [
    {
     "data": {
      "text/html": [
       "<div>\n",
       "<style scoped>\n",
       "    .dataframe tbody tr th:only-of-type {\n",
       "        vertical-align: middle;\n",
       "    }\n",
       "\n",
       "    .dataframe tbody tr th {\n",
       "        vertical-align: top;\n",
       "    }\n",
       "\n",
       "    .dataframe thead th {\n",
       "        text-align: right;\n",
       "    }\n",
       "</style>\n",
       "<table border=\"1\" class=\"dataframe\">\n",
       "  <thead>\n",
       "    <tr style=\"text-align: right;\">\n",
       "      <th></th>\n",
       "      <th>El Pais</th>\n",
       "      <th>New York Times</th>\n",
       "      <th>The Economist</th>\n",
       "      <th>bananas</th>\n",
       "      <th>milk</th>\n",
       "      <th>tea</th>\n",
       "    </tr>\n",
       "  </thead>\n",
       "  <tbody>\n",
       "    <tr>\n",
       "      <th>0</th>\n",
       "      <td>0</td>\n",
       "      <td>0</td>\n",
       "      <td>0</td>\n",
       "      <td>1</td>\n",
       "      <td>1</td>\n",
       "      <td>0</td>\n",
       "    </tr>\n",
       "    <tr>\n",
       "      <th>1</th>\n",
       "      <td>1</td>\n",
       "      <td>1</td>\n",
       "      <td>0</td>\n",
       "      <td>0</td>\n",
       "      <td>0</td>\n",
       "      <td>1</td>\n",
       "    </tr>\n",
       "    <tr>\n",
       "      <th>2</th>\n",
       "      <td>0</td>\n",
       "      <td>1</td>\n",
       "      <td>0</td>\n",
       "      <td>0</td>\n",
       "      <td>0</td>\n",
       "      <td>0</td>\n",
       "    </tr>\n",
       "    <tr>\n",
       "      <th>3</th>\n",
       "      <td>1</td>\n",
       "      <td>0</td>\n",
       "      <td>1</td>\n",
       "      <td>0</td>\n",
       "      <td>0</td>\n",
       "      <td>0</td>\n",
       "    </tr>\n",
       "    <tr>\n",
       "      <th>4</th>\n",
       "      <td>0</td>\n",
       "      <td>0</td>\n",
       "      <td>0</td>\n",
       "      <td>0</td>\n",
       "      <td>1</td>\n",
       "      <td>1</td>\n",
       "    </tr>\n",
       "  </tbody>\n",
       "</table>\n",
       "</div>"
      ],
      "text/plain": [
       "   El Pais  New York Times  The Economist  bananas  milk  tea\n",
       "0        0               0              0        1     1    0\n",
       "1        1               1              0        0     0    1\n",
       "2        0               1              0        0     0    0\n",
       "3        1               0              1        0     0    0\n",
       "4        0               0              0        0     1    1"
      ]
     },
     "execution_count": 118,
     "metadata": {},
     "output_type": "execute_result"
    }
   ],
   "source": [
    "te = TransactionEncoder()\n",
    "D = te.fit(transactions).transform(transactions)\n",
    "D"
   ]
  },
  {
   "cell_type": "code",
   "execution_count": 119,
   "metadata": {},
   "outputs": [],
   "source": [
    "ovr = OneVsRestClassifier(SLIM())"
   ]
  },
  {
   "cell_type": "code",
   "execution_count": 120,
   "metadata": {},
   "outputs": [
    {
     "data": {
      "text/plain": [
       "[SLIM()]"
      ]
     },
     "execution_count": 120,
     "metadata": {},
     "output_type": "execute_result"
    }
   ],
   "source": [
    "ovr.fit(D, y=target)\n",
    "ovr.estimators_"
   ]
  },
  {
   "cell_type": "code",
   "execution_count": 122,
   "metadata": {},
   "outputs": [
    {
     "data": {
      "text/plain": [
       "0    0.238\n",
       "1    0.268\n",
       "2    0.670\n",
       "3    0.400\n",
       "4    0.291\n",
       "dtype: float32"
      ]
     },
     "execution_count": 122,
     "metadata": {},
     "output_type": "execute_result"
    }
   ],
   "source": [
    "ovr.decision_function(D).round(3)"
   ]
  },
  {
   "cell_type": "markdown",
   "metadata": {},
   "source": [
    "**=> Which thresold can we take to decide if the prediction is 'foodstore', or 'newspaper' ?**"
   ]
  },
  {
   "cell_type": "code",
   "execution_count": null,
   "metadata": {},
   "outputs": [],
   "source": []
  },
  {
   "cell_type": "markdown",
   "metadata": {},
   "source": [
    "#### OneVsOne"
   ]
  },
  {
   "cell_type": "code",
   "execution_count": 44,
   "metadata": {},
   "outputs": [],
   "source": [
    "from sklearn.multiclass import OneVsOneClassifier\n",
    "from sklearn.pipeline import Pipeline"
   ]
  },
  {
   "cell_type": "code",
   "execution_count": 45,
   "metadata": {},
   "outputs": [],
   "source": [
    "pipe = Pipeline([\n",
    "    ('transaction_encoder', TransactionEncoder(sparse_output=False)),\n",
    "    ('slim', SLIM()),\n",
    "])"
   ]
  },
  {
   "cell_type": "code",
   "execution_count": 46,
   "metadata": {},
   "outputs": [],
   "source": [
    "transactions = [\n",
    "    ['milk', 'bananas'],\n",
    "    ['tea', 'New York Times', 'El Pais'],\n",
    "    ['New York Times'],\n",
    "    ['El Pais', 'The Economist'],\n",
    "    ['milk', 'tea'],\n",
    "    ['croissant', 'tea'],\n",
    "    ['croissant', 'chocolatine', 'milk'],\n",
    "    ['Monde diplo', 'Game of Thrones', 'Harry Potter'],\n",
    "    ['New York Times', 'Harry Potter'],\n",
    "]\n",
    "target = [\n",
    "    'foodstore', \n",
    "    'newspaper', \n",
    "    'newspaper', \n",
    "    'newspaper', \n",
    "    'foodstore',\n",
    "    'bakery',\n",
    "    'bakery',\n",
    "    'library',\n",
    "    'library',\n",
    "]"
   ]
  },
  {
   "cell_type": "code",
   "execution_count": 47,
   "metadata": {},
   "outputs": [
    {
     "data": {
      "text/html": [
       "<div>\n",
       "<style scoped>\n",
       "    .dataframe tbody tr th:only-of-type {\n",
       "        vertical-align: middle;\n",
       "    }\n",
       "\n",
       "    .dataframe tbody tr th {\n",
       "        vertical-align: top;\n",
       "    }\n",
       "\n",
       "    .dataframe thead th {\n",
       "        text-align: right;\n",
       "    }\n",
       "</style>\n",
       "<table border=\"1\" class=\"dataframe\">\n",
       "  <thead>\n",
       "    <tr style=\"text-align: right;\">\n",
       "      <th></th>\n",
       "      <th>El Pais</th>\n",
       "      <th>Game of Thrones</th>\n",
       "      <th>Harry Potter</th>\n",
       "      <th>Monde diplo</th>\n",
       "      <th>New York Times</th>\n",
       "      <th>The Economist</th>\n",
       "      <th>bananas</th>\n",
       "      <th>chocolatine</th>\n",
       "      <th>croissant</th>\n",
       "      <th>milk</th>\n",
       "      <th>tea</th>\n",
       "    </tr>\n",
       "  </thead>\n",
       "  <tbody>\n",
       "    <tr>\n",
       "      <th>0</th>\n",
       "      <td>0</td>\n",
       "      <td>0</td>\n",
       "      <td>0</td>\n",
       "      <td>0</td>\n",
       "      <td>0</td>\n",
       "      <td>0</td>\n",
       "      <td>1</td>\n",
       "      <td>0</td>\n",
       "      <td>0</td>\n",
       "      <td>1</td>\n",
       "      <td>0</td>\n",
       "    </tr>\n",
       "    <tr>\n",
       "      <th>1</th>\n",
       "      <td>1</td>\n",
       "      <td>0</td>\n",
       "      <td>0</td>\n",
       "      <td>0</td>\n",
       "      <td>1</td>\n",
       "      <td>0</td>\n",
       "      <td>0</td>\n",
       "      <td>0</td>\n",
       "      <td>0</td>\n",
       "      <td>0</td>\n",
       "      <td>1</td>\n",
       "    </tr>\n",
       "    <tr>\n",
       "      <th>2</th>\n",
       "      <td>0</td>\n",
       "      <td>0</td>\n",
       "      <td>0</td>\n",
       "      <td>0</td>\n",
       "      <td>1</td>\n",
       "      <td>0</td>\n",
       "      <td>0</td>\n",
       "      <td>0</td>\n",
       "      <td>0</td>\n",
       "      <td>0</td>\n",
       "      <td>0</td>\n",
       "    </tr>\n",
       "    <tr>\n",
       "      <th>3</th>\n",
       "      <td>1</td>\n",
       "      <td>0</td>\n",
       "      <td>0</td>\n",
       "      <td>0</td>\n",
       "      <td>0</td>\n",
       "      <td>1</td>\n",
       "      <td>0</td>\n",
       "      <td>0</td>\n",
       "      <td>0</td>\n",
       "      <td>0</td>\n",
       "      <td>0</td>\n",
       "    </tr>\n",
       "    <tr>\n",
       "      <th>4</th>\n",
       "      <td>0</td>\n",
       "      <td>0</td>\n",
       "      <td>0</td>\n",
       "      <td>0</td>\n",
       "      <td>0</td>\n",
       "      <td>0</td>\n",
       "      <td>0</td>\n",
       "      <td>0</td>\n",
       "      <td>0</td>\n",
       "      <td>1</td>\n",
       "      <td>1</td>\n",
       "    </tr>\n",
       "    <tr>\n",
       "      <th>5</th>\n",
       "      <td>0</td>\n",
       "      <td>0</td>\n",
       "      <td>0</td>\n",
       "      <td>0</td>\n",
       "      <td>0</td>\n",
       "      <td>0</td>\n",
       "      <td>0</td>\n",
       "      <td>0</td>\n",
       "      <td>1</td>\n",
       "      <td>0</td>\n",
       "      <td>1</td>\n",
       "    </tr>\n",
       "    <tr>\n",
       "      <th>6</th>\n",
       "      <td>0</td>\n",
       "      <td>0</td>\n",
       "      <td>0</td>\n",
       "      <td>0</td>\n",
       "      <td>0</td>\n",
       "      <td>0</td>\n",
       "      <td>0</td>\n",
       "      <td>1</td>\n",
       "      <td>1</td>\n",
       "      <td>1</td>\n",
       "      <td>0</td>\n",
       "    </tr>\n",
       "    <tr>\n",
       "      <th>7</th>\n",
       "      <td>0</td>\n",
       "      <td>1</td>\n",
       "      <td>1</td>\n",
       "      <td>1</td>\n",
       "      <td>0</td>\n",
       "      <td>0</td>\n",
       "      <td>0</td>\n",
       "      <td>0</td>\n",
       "      <td>0</td>\n",
       "      <td>0</td>\n",
       "      <td>0</td>\n",
       "    </tr>\n",
       "    <tr>\n",
       "      <th>8</th>\n",
       "      <td>0</td>\n",
       "      <td>0</td>\n",
       "      <td>1</td>\n",
       "      <td>0</td>\n",
       "      <td>1</td>\n",
       "      <td>0</td>\n",
       "      <td>0</td>\n",
       "      <td>0</td>\n",
       "      <td>0</td>\n",
       "      <td>0</td>\n",
       "      <td>0</td>\n",
       "    </tr>\n",
       "  </tbody>\n",
       "</table>\n",
       "</div>"
      ],
      "text/plain": [
       "   El Pais  Game of Thrones  Harry Potter  Monde diplo  New York Times  \\\n",
       "0        0                0             0            0               0   \n",
       "1        1                0             0            0               1   \n",
       "2        0                0             0            0               1   \n",
       "3        1                0             0            0               0   \n",
       "4        0                0             0            0               0   \n",
       "5        0                0             0            0               0   \n",
       "6        0                0             0            0               0   \n",
       "7        0                1             1            1               0   \n",
       "8        0                0             1            0               1   \n",
       "\n",
       "   The Economist  bananas  chocolatine  croissant  milk  tea  \n",
       "0              0        1            0          0     1    0  \n",
       "1              0        0            0          0     0    1  \n",
       "2              0        0            0          0     0    0  \n",
       "3              1        0            0          0     0    0  \n",
       "4              0        0            0          0     1    1  \n",
       "5              0        0            0          1     0    1  \n",
       "6              0        0            1          1     1    0  \n",
       "7              0        0            0          0     0    0  \n",
       "8              0        0            0          0     0    0  "
      ]
     },
     "execution_count": 47,
     "metadata": {},
     "output_type": "execute_result"
    }
   ],
   "source": [
    "te = TransactionEncoder()\n",
    "D = te.fit(transactions).transform(transactions)\n",
    "D"
   ]
  },
  {
   "cell_type": "code",
   "execution_count": 48,
   "metadata": {},
   "outputs": [],
   "source": [
    "ovo = OneVsOneClassifier(SLIM())"
   ]
  },
  {
   "cell_type": "code",
   "execution_count": 49,
   "metadata": {},
   "outputs": [
    {
     "data": {
      "text/plain": [
       "(SLIM(), SLIM(), SLIM(), SLIM(), SLIM(), SLIM())"
      ]
     },
     "execution_count": 49,
     "metadata": {},
     "output_type": "execute_result"
    }
   ],
   "source": [
    "ovo.fit(D, y=target)\n",
    "ovo.estimators_"
   ]
  },
  {
   "cell_type": "code",
   "execution_count": 50,
   "metadata": {},
   "outputs": [
    {
     "ename": "ValueError",
     "evalue": "`axis` must be fewer than the number of dimensions (1)",
     "output_type": "error",
     "traceback": [
      "\u001b[0;31m---------------------------------------------------------------------------\u001b[0m",
      "\u001b[0;31mValueError\u001b[0m                                Traceback (most recent call last)",
      "Cell \u001b[0;32mIn[50], line 1\u001b[0m\n\u001b[0;32m----> 1\u001b[0m ovo\u001b[39m.\u001b[39;49mdecision_function(D)\n",
      "File \u001b[0;32m~/miniconda3/envs/ml-sklearn/lib/python3.10/site-packages/sklearn/multiclass.py:834\u001b[0m, in \u001b[0;36mOneVsOneClassifier.decision_function\u001b[0;34m(self, X)\u001b[0m\n\u001b[1;32m    830\u001b[0m \u001b[39melse\u001b[39;00m:\n\u001b[1;32m    831\u001b[0m     Xs \u001b[39m=\u001b[39m [X[:, idx] \u001b[39mfor\u001b[39;00m idx \u001b[39min\u001b[39;00m indices]\n\u001b[1;32m    833\u001b[0m predictions \u001b[39m=\u001b[39m np\u001b[39m.\u001b[39mvstack(\n\u001b[0;32m--> 834\u001b[0m     [est\u001b[39m.\u001b[39mpredict(Xi) \u001b[39mfor\u001b[39;00m est, Xi \u001b[39min\u001b[39;00m \u001b[39mzip\u001b[39m(\u001b[39mself\u001b[39m\u001b[39m.\u001b[39mestimators_, Xs)]\n\u001b[1;32m    835\u001b[0m )\u001b[39m.\u001b[39mT\n\u001b[1;32m    836\u001b[0m confidences \u001b[39m=\u001b[39m np\u001b[39m.\u001b[39mvstack(\n\u001b[1;32m    837\u001b[0m     [_predict_binary(est, Xi) \u001b[39mfor\u001b[39;00m est, Xi \u001b[39min\u001b[39;00m \u001b[39mzip\u001b[39m(\u001b[39mself\u001b[39m\u001b[39m.\u001b[39mestimators_, Xs)]\n\u001b[1;32m    838\u001b[0m )\u001b[39m.\u001b[39mT\n\u001b[1;32m    839\u001b[0m Y \u001b[39m=\u001b[39m _ovr_decision_function(predictions, confidences, \u001b[39mlen\u001b[39m(\u001b[39mself\u001b[39m\u001b[39m.\u001b[39mclasses_))\n",
      "File \u001b[0;32m~/miniconda3/envs/ml-sklearn/lib/python3.10/site-packages/sklearn/multiclass.py:834\u001b[0m, in \u001b[0;36m<listcomp>\u001b[0;34m(.0)\u001b[0m\n\u001b[1;32m    830\u001b[0m \u001b[39melse\u001b[39;00m:\n\u001b[1;32m    831\u001b[0m     Xs \u001b[39m=\u001b[39m [X[:, idx] \u001b[39mfor\u001b[39;00m idx \u001b[39min\u001b[39;00m indices]\n\u001b[1;32m    833\u001b[0m predictions \u001b[39m=\u001b[39m np\u001b[39m.\u001b[39mvstack(\n\u001b[0;32m--> 834\u001b[0m     [est\u001b[39m.\u001b[39;49mpredict(Xi) \u001b[39mfor\u001b[39;00m est, Xi \u001b[39min\u001b[39;00m \u001b[39mzip\u001b[39m(\u001b[39mself\u001b[39m\u001b[39m.\u001b[39mestimators_, Xs)]\n\u001b[1;32m    835\u001b[0m )\u001b[39m.\u001b[39mT\n\u001b[1;32m    836\u001b[0m confidences \u001b[39m=\u001b[39m np\u001b[39m.\u001b[39mvstack(\n\u001b[1;32m    837\u001b[0m     [_predict_binary(est, Xi) \u001b[39mfor\u001b[39;00m est, Xi \u001b[39min\u001b[39;00m \u001b[39mzip\u001b[39m(\u001b[39mself\u001b[39m\u001b[39m.\u001b[39mestimators_, Xs)]\n\u001b[1;32m    838\u001b[0m )\u001b[39m.\u001b[39mT\n\u001b[1;32m    839\u001b[0m Y \u001b[39m=\u001b[39m _ovr_decision_function(predictions, confidences, \u001b[39mlen\u001b[39m(\u001b[39mself\u001b[39m\u001b[39m.\u001b[39mclasses_))\n",
      "File \u001b[0;32m~/miniconda3/envs/ml-sklearn/lib/python3.10/site-packages/scikit_mine-0.0.9-py3.10.egg/skmine/itemsets/slim.py:317\u001b[0m, in \u001b[0;36mSLIM.predict\u001b[0;34m(self, X)\u001b[0m\n\u001b[1;32m    315\u001b[0m xp, _ \u001b[39m=\u001b[39m get_namespace(X)\n\u001b[1;32m    316\u001b[0m scores \u001b[39m=\u001b[39m \u001b[39mself\u001b[39m\u001b[39m.\u001b[39mdecision_function(X)\n\u001b[0;32m--> 317\u001b[0m indices \u001b[39m=\u001b[39m xp\u001b[39m.\u001b[39;49margmax(scores, axis\u001b[39m=\u001b[39;49m\u001b[39m1\u001b[39;49m)\n\u001b[1;32m    319\u001b[0m \u001b[39mreturn\u001b[39;00m xp\u001b[39m.\u001b[39mtake(\u001b[39mself\u001b[39m\u001b[39m.\u001b[39mitems, indices, axis\u001b[39m=\u001b[39m\u001b[39m0\u001b[39m)\n",
      "File \u001b[0;32m<__array_function__ internals>:180\u001b[0m, in \u001b[0;36margmax\u001b[0;34m(*args, **kwargs)\u001b[0m\n",
      "File \u001b[0;32m~/miniconda3/envs/ml-sklearn/lib/python3.10/site-packages/numpy/core/fromnumeric.py:1216\u001b[0m, in \u001b[0;36margmax\u001b[0;34m(a, axis, out, keepdims)\u001b[0m\n\u001b[1;32m   1129\u001b[0m \u001b[39m\u001b[39m\u001b[39m\"\"\"\u001b[39;00m\n\u001b[1;32m   1130\u001b[0m \u001b[39mReturns the indices of the maximum values along an axis.\u001b[39;00m\n\u001b[1;32m   1131\u001b[0m \n\u001b[0;32m   (...)\u001b[0m\n\u001b[1;32m   1213\u001b[0m \u001b[39m(2, 1, 4)\u001b[39;00m\n\u001b[1;32m   1214\u001b[0m \u001b[39m\"\"\"\u001b[39;00m\n\u001b[1;32m   1215\u001b[0m kwds \u001b[39m=\u001b[39m {\u001b[39m'\u001b[39m\u001b[39mkeepdims\u001b[39m\u001b[39m'\u001b[39m: keepdims} \u001b[39mif\u001b[39;00m keepdims \u001b[39mis\u001b[39;00m \u001b[39mnot\u001b[39;00m np\u001b[39m.\u001b[39m_NoValue \u001b[39melse\u001b[39;00m {}\n\u001b[0;32m-> 1216\u001b[0m \u001b[39mreturn\u001b[39;00m _wrapfunc(a, \u001b[39m'\u001b[39;49m\u001b[39margmax\u001b[39;49m\u001b[39m'\u001b[39;49m, axis\u001b[39m=\u001b[39;49maxis, out\u001b[39m=\u001b[39;49mout, \u001b[39m*\u001b[39;49m\u001b[39m*\u001b[39;49mkwds)\n",
      "File \u001b[0;32m~/miniconda3/envs/ml-sklearn/lib/python3.10/site-packages/numpy/core/fromnumeric.py:57\u001b[0m, in \u001b[0;36m_wrapfunc\u001b[0;34m(obj, method, *args, **kwds)\u001b[0m\n\u001b[1;32m     54\u001b[0m     \u001b[39mreturn\u001b[39;00m _wrapit(obj, method, \u001b[39m*\u001b[39margs, \u001b[39m*\u001b[39m\u001b[39m*\u001b[39mkwds)\n\u001b[1;32m     56\u001b[0m \u001b[39mtry\u001b[39;00m:\n\u001b[0;32m---> 57\u001b[0m     \u001b[39mreturn\u001b[39;00m bound(\u001b[39m*\u001b[39;49margs, \u001b[39m*\u001b[39;49m\u001b[39m*\u001b[39;49mkwds)\n\u001b[1;32m     58\u001b[0m \u001b[39mexcept\u001b[39;00m \u001b[39mTypeError\u001b[39;00m:\n\u001b[1;32m     59\u001b[0m     \u001b[39m# A TypeError occurs if the object does have such a method in its\u001b[39;00m\n\u001b[1;32m     60\u001b[0m     \u001b[39m# class, but its signature is not identical to that of NumPy's. This\u001b[39;00m\n\u001b[0;32m   (...)\u001b[0m\n\u001b[1;32m     64\u001b[0m     \u001b[39m# Call _wrapit from within the except clause to ensure a potential\u001b[39;00m\n\u001b[1;32m     65\u001b[0m     \u001b[39m# exception has a traceback chain.\u001b[39;00m\n\u001b[1;32m     66\u001b[0m     \u001b[39mreturn\u001b[39;00m _wrapit(obj, method, \u001b[39m*\u001b[39margs, \u001b[39m*\u001b[39m\u001b[39m*\u001b[39mkwds)\n",
      "File \u001b[0;32m~/miniconda3/envs/ml-sklearn/lib/python3.10/site-packages/pandas/core/base.py:646\u001b[0m, in \u001b[0;36mIndexOpsMixin.argmax\u001b[0;34m(self, axis, skipna, *args, **kwargs)\u001b[0m\n\u001b[1;32m    595\u001b[0m \u001b[39m\u001b[39m\u001b[39m\"\"\"\u001b[39;00m\n\u001b[1;32m    596\u001b[0m \u001b[39mReturn int position of the {value} value in the Series.\u001b[39;00m\n\u001b[1;32m    597\u001b[0m \n\u001b[0;32m   (...)\u001b[0m\n\u001b[1;32m    643\u001b[0m \u001b[39msince series is zero-indexed.\u001b[39;00m\n\u001b[1;32m    644\u001b[0m \u001b[39m\"\"\"\u001b[39;00m\n\u001b[1;32m    645\u001b[0m delegate \u001b[39m=\u001b[39m \u001b[39mself\u001b[39m\u001b[39m.\u001b[39m_values\n\u001b[0;32m--> 646\u001b[0m nv\u001b[39m.\u001b[39;49mvalidate_minmax_axis(axis)\n\u001b[1;32m    647\u001b[0m skipna \u001b[39m=\u001b[39m nv\u001b[39m.\u001b[39mvalidate_argmax_with_skipna(skipna, args, kwargs)\n\u001b[1;32m    649\u001b[0m \u001b[39mif\u001b[39;00m \u001b[39misinstance\u001b[39m(delegate, ExtensionArray):\n",
      "File \u001b[0;32m~/miniconda3/envs/ml-sklearn/lib/python3.10/site-packages/pandas/compat/numpy/function.py:409\u001b[0m, in \u001b[0;36mvalidate_minmax_axis\u001b[0;34m(axis, ndim)\u001b[0m\n\u001b[1;32m    407\u001b[0m     \u001b[39mreturn\u001b[39;00m\n\u001b[1;32m    408\u001b[0m \u001b[39mif\u001b[39;00m axis \u001b[39m>\u001b[39m\u001b[39m=\u001b[39m ndim \u001b[39mor\u001b[39;00m (axis \u001b[39m<\u001b[39m \u001b[39m0\u001b[39m \u001b[39mand\u001b[39;00m ndim \u001b[39m+\u001b[39m axis \u001b[39m<\u001b[39m \u001b[39m0\u001b[39m):\n\u001b[0;32m--> 409\u001b[0m     \u001b[39mraise\u001b[39;00m \u001b[39mValueError\u001b[39;00m(\u001b[39mf\u001b[39m\u001b[39m\"\u001b[39m\u001b[39m`axis` must be fewer than the number of dimensions (\u001b[39m\u001b[39m{\u001b[39;00mndim\u001b[39m}\u001b[39;00m\u001b[39m)\u001b[39m\u001b[39m\"\u001b[39m)\n",
      "\u001b[0;31mValueError\u001b[0m: `axis` must be fewer than the number of dimensions (1)"
     ]
    }
   ],
   "source": [
    "ovo.decision_function(D)"
   ]
  },
  {
   "cell_type": "code",
   "execution_count": null,
   "metadata": {},
   "outputs": [],
   "source": []
  }
 ],
 "metadata": {
  "kernelspec": {
   "display_name": "ml-sklearn",
   "language": "python",
   "name": "python3"
  },
  "language_info": {
   "codemirror_mode": {
    "name": "ipython",
    "version": 3
   },
   "file_extension": ".py",
   "mimetype": "text/x-python",
   "name": "python",
   "nbconvert_exporter": "python",
   "pygments_lexer": "ipython3",
   "version": "3.10.9"
  },
  "toc": {
   "base_numbering": 1,
   "nav_menu": {},
   "number_sections": true,
   "sideBar": true,
   "skip_h1_title": false,
   "title_cell": "Table of Contents",
   "title_sidebar": "Contents",
   "toc_cell": false,
   "toc_position": {
    "height": "calc(100% - 180px)",
    "left": "10px",
    "top": "150px",
    "width": "342.417px"
   },
   "toc_section_display": true,
   "toc_window_display": true
  },
  "vscode": {
   "interpreter": {
    "hash": "c4418ac5ac56bcc1d654aebcb97e1ca3ff1be77625ab045a7b4b5e8ee820789e"
   }
  }
 },
 "nbformat": 4,
 "nbformat_minor": 4
}
