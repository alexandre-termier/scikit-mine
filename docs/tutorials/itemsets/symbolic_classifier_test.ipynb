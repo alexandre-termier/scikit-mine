{
 "cells": [
  {
   "cell_type": "markdown",
   "metadata": {},
   "source": [
    "## Building a symbolic classifier"
   ]
  },
  {
   "cell_type": "code",
   "execution_count": 1,
   "metadata": {},
   "outputs": [
    {
     "name": "stdout",
     "output_type": "stream",
     "text": [
      "This tutorial was tested with the following version of skmine : 0.0.9\n"
     ]
    }
   ],
   "source": [
    "import skmine\n",
    "\n",
    "print(\"This tutorial was tested with the following version of skmine :\", skmine.__version__)"
   ]
  },
  {
   "cell_type": "markdown",
   "metadata": {},
   "source": [
    "MDL based algorithms encode data according to a given codetable\n",
    "\n",
    "When calling ``.fit``, we iteratively look for the codetable that compress\n",
    "the training data the best\n",
    "\n",
    "**When we are done with training our model, we can benefit from the refined codetable \n",
    "to make some predictions**"
   ]
  },
  {
   "cell_type": "markdown",
   "metadata": {},
   "source": [
    "### SLIM Classifier for k>=2 classes\n",
    "\n",
    "An **integrated classifier in scikit mine is available** and allows to **solve binary and multiclass problems**. It uses the SLIM compression algorithm. \n",
    "\n",
    "To use it, we need to have **discretized dataset**. Let's take for example the **discretized iris dataset**."
   ]
  },
  {
   "cell_type": "code",
   "execution_count": 2,
   "metadata": {},
   "outputs": [
    {
     "name": "stdout",
     "output_type": "stream",
     "text": [
      "X shape: (150,)\n",
      "y shape: (150,)\n"
     ]
    },
    {
     "data": {
      "text/plain": [
       "0     [2, 9, 12, 15]\n",
       "1    [1, 10, 11, 14]\n",
       "2    [5, 10, 13, 16]\n",
       "3     [2, 6, 12, 15]\n",
       "4     [1, 8, 11, 14]\n",
       "Name: iris.D19.N150.C3.num, dtype: object"
      ]
     },
     "execution_count": 2,
     "metadata": {},
     "output_type": "execute_result"
    }
   ],
   "source": [
    "from skmine.datasets.fimi import fetch_iris\n",
    "X, y = fetch_iris(return_y=True)  # without return_y=True, the method would have returned the whole dataset in one variable\n",
    "print(\"X shape:\", X.shape)\n",
    "print(\"y shape:\", y.shape)\n",
    "X.head()"
   ]
  },
  {
   "cell_type": "markdown",
   "metadata": {},
   "source": [
    "Note that in the discretized iris dataset, each features is discretized **with different labels** : "
   ]
  },
  {
   "cell_type": "code",
   "execution_count": 3,
   "metadata": {},
   "outputs": [
    {
     "name": "stdout",
     "output_type": "stream",
     "text": [
      "Labels in colunms 0 :  [1 2 3 4 5]\n",
      "Labels in colunms 1 :  [ 6  7  8  9 10]\n",
      "Labels in colunms 2 :  [11 12 13]\n",
      "Labels in colunms 3 :  [14 15 16]\n"
     ]
    }
   ],
   "source": [
    "import numpy as np\n",
    "print(\"Labels in colunms 0 : \", np.unique([X[k][0] for k in range(len(X))]))\n",
    "print(\"Labels in colunms 1 : \", np.unique([X[k][1] for k in range(len(X))]))\n",
    "print(\"Labels in colunms 2 : \", np.unique([X[k][2] for k in range(len(X))]))\n",
    "print(\"Labels in colunms 3 : \", np.unique([X[k][3] for k in range(len(X))]))\n"
   ]
  },
  {
   "cell_type": "markdown",
   "metadata": {},
   "source": [
    "There are **3 classes** in Iris dataset : "
   ]
  },
  {
   "cell_type": "code",
   "execution_count": 4,
   "metadata": {},
   "outputs": [
    {
     "data": {
      "text/plain": [
       "array([17, 18, 19])"
      ]
     },
     "execution_count": 4,
     "metadata": {},
     "output_type": "execute_result"
    }
   ],
   "source": [
    "np.unique(y)"
   ]
  },
  {
   "cell_type": "markdown",
   "metadata": {},
   "source": [
    "The purpose of this dataset is to **predict the last column of db from the other 4**. The possible targets are: 17, 18, 19. We can prepare our train and test data set."
   ]
  },
  {
   "cell_type": "code",
   "execution_count": 5,
   "metadata": {},
   "outputs": [
    {
     "name": "stdout",
     "output_type": "stream",
     "text": [
      "X_train shape: (120,) y_train shape: (120,)\n",
      "X_test shape: (30,) y_test shape: (30,)\n"
     ]
    }
   ],
   "source": [
    "from sklearn.model_selection import train_test_split\n",
    "\n",
    "(X_train, X_test, y_train, y_test) = train_test_split(X, y, random_state=1, test_size=0.2, shuffle=True)\n",
    "print(\"X_train shape:\", X_train.shape, \"y_train shape:\", y_train.shape)\n",
    "print(\"X_test shape:\", X_test.shape, \"y_test shape:\", y_test.shape)"
   ]
  },
  {
   "cell_type": "markdown",
   "metadata": {},
   "source": [
    "Now we can use our **SlimClassifier**."
   ]
  },
  {
   "cell_type": "code",
   "execution_count": 6,
   "metadata": {
    "scrolled": true
   },
   "outputs": [
    {
     "name": "stdout",
     "output_type": "stream",
     "text": [
      "items {1, 2, 3, 4, 5, 6, 7, 8, 9, 10, 11, 12, 13, 14, 15, 16}\n"
     ]
    },
    {
     "data": {
      "text/plain": [
       "0.8333333333333334"
      ]
     },
     "execution_count": 6,
     "metadata": {},
     "output_type": "execute_result"
    }
   ],
   "source": [
    "from skmine.itemsets.slim_classifier import SlimClassifier\n",
    "\n",
    "# You can pass in parameter of your classifier the set of your items. \n",
    "# This will improve its performance especially on small data sets like iris.\n",
    "items = set(item for transaction in X for item in transaction)\n",
    "print(\"items\", items)\n",
    "clf = SlimClassifier(items=items)  # You can also enable or disable the pruning of SLIM compressors via the `pruning` parameter\n",
    "clf.fit(X_train, y_train)\n",
    "clf.score(X_test, y_test)"
   ]
  },
  {
   "cell_type": "markdown",
   "metadata": {},
   "source": [
    "You can use many functions of sckit learn that are compatible with classifiers. For example, build a **confusion matrix**, use **GridSearchCV** or **cross validation**.\n",
    "\n",
    "- **Confusion matrix**"
   ]
  },
  {
   "cell_type": "code",
   "execution_count": 7,
   "metadata": {},
   "outputs": [
    {
     "data": {
      "text/plain": [
       "array([[13,  1,  0],\n",
       "       [ 0,  8,  1],\n",
       "       [ 0,  3,  4]])"
      ]
     },
     "execution_count": 7,
     "metadata": {},
     "output_type": "execute_result"
    }
   ],
   "source": [
    "from sklearn.metrics import confusion_matrix\n",
    "\n",
    "y_pred = clf.predict(X_test)\n",
    "confusion_matrix(y_test, y_pred)"
   ]
  },
  {
   "cell_type": "markdown",
   "metadata": {},
   "source": [
    "- **GridSearchCV** (this method allows us to test many parameters for a classifier and to retain the best combination)"
   ]
  },
  {
   "cell_type": "code",
   "execution_count": 8,
   "metadata": {},
   "outputs": [
    {
     "name": "stdout",
     "output_type": "stream",
     "text": [
      "GridSearchCV(estimator=SlimClassifier(items={1, 2, 3, 4, 5, 6, 7, 8, 9, 10, 11,\n",
      "                                             12, 13, 14, 15, 16}),\n",
      "             param_grid={'items': [None,\n",
      "                                   {1, 2, 3, 4, 5, 6, 7, 8, 9, 10, 11, 12, 13,\n",
      "                                    14, 15, 16}],\n",
      "                         'pruning': [False, True]})\n",
      "{'items': {1, 2, 3, 4, 5, 6, 7, 8, 9, 10, 11, 12, 13, 14, 15, 16}, 'pruning': False}\n",
      "0.9833333333333333\n"
     ]
    }
   ],
   "source": [
    "from sklearn.model_selection import GridSearchCV\n",
    "\n",
    "parameters = {'pruning': [False, True], 'items': [None, items]}\n",
    "grid = GridSearchCV(clf, parameters)\n",
    "print(grid.fit(X_train,y_train))\n",
    "print(grid.best_params_)\n",
    "print(grid.score(X_train, y_train))"
   ]
  },
  {
   "cell_type": "markdown",
   "metadata": {},
   "source": [
    "With GridSearchCV we get with the best parameters an **accuracy of more than 98%**, much better than the previous score. With this combination, the item list is passed as a parameter and pruning is disabled. Since pruning does not improve the compression of codetables in the SLIM algorithm on iris, it does not matter whether it is enabled or not.\n",
    "\n",
    "To reduce overfitting, we can use the cross validation of sklearn.\n",
    "- **Cross validation**"
   ]
  },
  {
   "cell_type": "code",
   "execution_count": 9,
   "metadata": {},
   "outputs": [
    {
     "name": "stdout",
     "output_type": "stream",
     "text": [
      "[0.93333333 0.93333333 0.86666667 0.93333333 0.93333333 0.93333333\n",
      " 1.         1.         1.         0.93333333]\n"
     ]
    },
    {
     "data": {
      "text/plain": [
       "0.9466666666666667"
      ]
     },
     "execution_count": 9,
     "metadata": {},
     "output_type": "execute_result"
    }
   ],
   "source": [
    "from sklearn.model_selection import cross_val_score\n",
    "\n",
    "cross_validation = cross_val_score(clf, X, y, cv=10)\n",
    "print(cross_validation)\n",
    "cross_validation.mean()"
   ]
  },
  {
   "cell_type": "markdown",
   "metadata": {},
   "source": [
    "After cross validation, we see that the **accuracy is almost 95% on average**. So in 95% of the cases, the right type of flower is given."
   ]
  },
  {
   "cell_type": "markdown",
   "metadata": {},
   "source": [
    "### SLIM classifier from numerical dataset"
   ]
  },
  {
   "cell_type": "markdown",
   "metadata": {},
   "source": [
    "#### Preprocessing"
   ]
  },
  {
   "cell_type": "markdown",
   "metadata": {},
   "source": [
    "Load standard iris dataset : "
   ]
  },
  {
   "cell_type": "code",
   "execution_count": 10,
   "metadata": {},
   "outputs": [
    {
     "data": {
      "text/plain": [
       "((150, 4),\n",
       " array([[5.1, 3.5, 1.4, 0.2],\n",
       "        [4.9, 3. , 1.4, 0.2],\n",
       "        [4.7, 3.2, 1.3, 0.2],\n",
       "        [4.6, 3.1, 1.5, 0.2],\n",
       "        [5. , 3.6, 1.4, 0.2],\n",
       "        [5.4, 3.9, 1.7, 0.4],\n",
       "        [4.6, 3.4, 1.4, 0.3],\n",
       "        [5. , 3.4, 1.5, 0.2],\n",
       "        [4.4, 2.9, 1.4, 0.2],\n",
       "        [4.9, 3.1, 1.5, 0.1]]))"
      ]
     },
     "execution_count": 10,
     "metadata": {},
     "output_type": "execute_result"
    }
   ],
   "source": [
    "from sklearn.datasets import load_iris\n",
    "data = load_iris()\n",
    "X, y = data.data, data.target\n",
    "X.shape, X[0:10]"
   ]
  },
  {
   "cell_type": "markdown",
   "metadata": {},
   "source": [
    "Classic standardisation "
   ]
  },
  {
   "cell_type": "code",
   "execution_count": 11,
   "metadata": {},
   "outputs": [
    {
     "data": {
      "text/plain": [
       "((150, 4),\n",
       " array([[-0.90068117,  1.01900435, -1.34022653, -1.3154443 ],\n",
       "        [-1.14301691, -0.13197948, -1.34022653, -1.3154443 ],\n",
       "        [-1.38535265,  0.32841405, -1.39706395, -1.3154443 ],\n",
       "        [-1.50652052,  0.09821729, -1.2833891 , -1.3154443 ],\n",
       "        [-1.02184904,  1.24920112, -1.34022653, -1.3154443 ],\n",
       "        [-0.53717756,  1.93979142, -1.16971425, -1.05217993],\n",
       "        [-1.50652052,  0.78880759, -1.34022653, -1.18381211],\n",
       "        [-1.02184904,  0.78880759, -1.2833891 , -1.3154443 ],\n",
       "        [-1.74885626, -0.36217625, -1.34022653, -1.3154443 ],\n",
       "        [-1.14301691,  0.09821729, -1.2833891 , -1.44707648]]))"
      ]
     },
     "execution_count": 11,
     "metadata": {},
     "output_type": "execute_result"
    }
   ],
   "source": [
    "from sklearn.preprocessing import StandardScaler\n",
    "Xst = StandardScaler().fit_transform(X)\n",
    "Xst.shape,Xst[0:10]"
   ]
  },
  {
   "cell_type": "markdown",
   "metadata": {},
   "source": [
    "KBins discretisation"
   ]
  },
  {
   "cell_type": "code",
   "execution_count": 12,
   "metadata": {},
   "outputs": [
    {
     "data": {
      "text/plain": [
       "((150, 4),\n",
       " array([[0, 1, 0, 0],\n",
       "        [0, 1, 0, 0],\n",
       "        [0, 1, 0, 0],\n",
       "        [0, 1, 0, 0],\n",
       "        [0, 1, 0, 0],\n",
       "        [0, 2, 0, 0],\n",
       "        [0, 1, 0, 0],\n",
       "        [0, 1, 0, 0],\n",
       "        [0, 1, 0, 0],\n",
       "        [0, 1, 0, 0]]))"
      ]
     },
     "execution_count": 12,
     "metadata": {},
     "output_type": "execute_result"
    }
   ],
   "source": [
    "from sklearn.preprocessing import KBinsDiscretizer\n",
    "Xt =  KBinsDiscretizer(n_bins=3, encode='ordinal', strategy='uniform').fit_transform(Xst).astype(int)\n",
    "Xt.shape,  Xt[:10]"
   ]
  },
  {
   "cell_type": "markdown",
   "metadata": {},
   "source": [
    "Note that in this discretization of iris dataset, **each feature** is discretized with the **same labels**, which **is not what we want**"
   ]
  },
  {
   "cell_type": "code",
   "execution_count": 13,
   "metadata": {},
   "outputs": [
    {
     "name": "stdout",
     "output_type": "stream",
     "text": [
      "Labels in colunms 0 :  [0 1 2]\n",
      "Labels in colunms 1 :  [0 1 2]\n",
      "Labels in colunms 2 :  [0 1 2]\n",
      "Labels in colunms 3 :  [0 1 2]\n"
     ]
    }
   ],
   "source": [
    "import numpy as np\n",
    "print(\"Labels in colunms 0 : \", np.unique(Xt[:,0]))\n",
    "print(\"Labels in colunms 1 : \", np.unique(Xt[:,1]))\n",
    "print(\"Labels in colunms 2 : \", np.unique(Xt[:,2]))\n",
    "print(\"Labels in colunms 3 : \", np.unique(Xt[:,3]))"
   ]
  },
  {
   "cell_type": "markdown",
   "metadata": {},
   "source": [
    "We must **shift** values in columns in order to **avoid identical labels between columns**.    "
   ]
  },
  {
   "cell_type": "code",
   "execution_count": 14,
   "metadata": {},
   "outputs": [
    {
     "name": "stdout",
     "output_type": "stream",
     "text": [
      "Labels in colunms 0 :  [0 1 2]\n",
      "Labels in colunms 1 :  [3 4 5]\n",
      "Labels in colunms 2 :  [6 7 8]\n",
      "Labels in colunms 3 :  [ 9 10 11]\n"
     ]
    },
    {
     "data": {
      "text/plain": [
       "((150,),\n",
       " 50    [2, 4, 7, 10]\n",
       " 51    [1, 4, 7, 10]\n",
       " 52    [2, 4, 7, 10]\n",
       " 53    [1, 3, 7, 10]\n",
       " 54    [1, 3, 7, 10]\n",
       " 55    [1, 3, 7, 10]\n",
       " 56    [1, 4, 7, 10]\n",
       " 57    [0, 3, 7, 10]\n",
       " 58    [1, 4, 7, 10]\n",
       " 59    [0, 3, 7, 10]\n",
       " dtype: object)"
      ]
     },
     "execution_count": 14,
     "metadata": {},
     "output_type": "execute_result"
    }
   ],
   "source": [
    "\n",
    "shift_col = np.max(Xt, axis=0)\n",
    "for k in range(1, len(shift_col))  : \n",
    "     shift_col[k]+= shift_col[k-1] + 1\n",
    "shift_col+=-shift_col[0]\n",
    "\n",
    "for k in range(len(shift_col))  : \n",
    "    Xt[:,k]+=shift_col[k]\n",
    "\n",
    "print(\"Labels in colunms 0 : \", np.unique(Xt[:,0]))\n",
    "print(\"Labels in colunms 1 : \", np.unique(Xt[:,1]))\n",
    "print(\"Labels in colunms 2 : \", np.unique(Xt[:,2]))\n",
    "print(\"Labels in colunms 3 : \", np.unique(Xt[:,3]))\n",
    "\n",
    "import pandas as pd\n",
    "Xt = pd.Series( Xt.tolist() )   # we must tranform the array into series of list\n",
    "Xt.shape, Xt[50:60]"
   ]
  },
  {
   "cell_type": "code",
   "execution_count": 15,
   "metadata": {},
   "outputs": [
    {
     "data": {
      "text/plain": [
       "array([0, 1, 2])"
      ]
     },
     "execution_count": 15,
     "metadata": {},
     "output_type": "execute_result"
    }
   ],
   "source": [
    "np.unique(y)"
   ]
  },
  {
   "cell_type": "markdown",
   "metadata": {},
   "source": [
    "#### Preprocessing with pipelines : "
   ]
  },
  {
   "cell_type": "code",
   "execution_count": 47,
   "metadata": {},
   "outputs": [
    {
     "data": {
      "text/plain": [
       "((150,),\n",
       " 50    [2, 4, 7, 10]\n",
       " 51    [1, 4, 7, 10]\n",
       " 52    [2, 4, 7, 10]\n",
       " 53    [1, 3, 7, 10]\n",
       " 54    [1, 3, 7, 10]\n",
       " 55    [1, 3, 7, 10]\n",
       " 56    [1, 4, 7, 10]\n",
       " 57    [0, 3, 7, 10]\n",
       " 58    [1, 4, 7, 10]\n",
       " 59    [0, 3, 7, 10]\n",
       " dtype: object)"
      ]
     },
     "execution_count": 47,
     "metadata": {},
     "output_type": "execute_result"
    }
   ],
   "source": [
    "from sklearn.pipeline import Pipeline\n",
    "import pandas as pd\n",
    "import numpy as np\n",
    "\n",
    "class MultiLabelsKbins(KBinsDiscretizer):  # pandas DataFrames are easier to read ;)\n",
    "    def transform(self, X):\n",
    "        Xt = super().transform(X).astype(int)\n",
    "        \n",
    "        shift_col = np.max(Xt, axis=0)\n",
    "        for k in range(1, len(shift_col))  : \n",
    "             shift_col[k]+= shift_col[k-1] + 1\n",
    "        shift_col+=-shift_col[0]\n",
    "        for k in range(len(shift_col))  : \n",
    "            Xt[:,k]+=shift_col[k]\n",
    "            \n",
    "        return pd.Series( Xt.tolist() )\n",
    "\n",
    "preproc = Pipeline([\n",
    "    ('StandardScaler', StandardScaler()),\n",
    "    ('MultiLabelsKbins', MultiLabelsKbins(n_bins=3, encode='ordinal', strategy='uniform')),\n",
    "])\n",
    "\n",
    "Xt = preproc.fit(X).transform(X)\n",
    "Xt.shape, Xt[50:60]"
   ]
  },
  {
   "cell_type": "markdown",
   "metadata": {},
   "source": [
    "#### Train-test dataset and SlimClassifier."
   ]
  },
  {
   "cell_type": "markdown",
   "metadata": {},
   "source": [
    "Now we can prepare our **train and test data set**."
   ]
  },
  {
   "cell_type": "code",
   "execution_count": 48,
   "metadata": {},
   "outputs": [
    {
     "name": "stdout",
     "output_type": "stream",
     "text": [
      "X_train shape: (120,) y_train shape: (120,)\n",
      "X_test shape: (30,) y_test shape: (30,)\n"
     ]
    }
   ],
   "source": [
    "from sklearn.model_selection import train_test_split\n",
    "\n",
    "(X_train, X_test, y_train, y_test) = train_test_split(Xt, y, random_state=1, test_size=0.2, shuffle=True)\n",
    "print(\"X_train shape:\", X_train.shape, \"y_train shape:\", y_train.shape)\n",
    "print(\"X_test shape:\", X_test.shape, \"y_test shape:\", y_test.shape)"
   ]
  },
  {
   "cell_type": "markdown",
   "metadata": {},
   "source": [
    "And use our **SlimClassifier**."
   ]
  },
  {
   "cell_type": "code",
   "execution_count": 49,
   "metadata": {
    "scrolled": true
   },
   "outputs": [
    {
     "name": "stdout",
     "output_type": "stream",
     "text": [
      "items {0, 1, 2, 3, 4, 5, 6, 7, 8, 9, 10, 11}\n"
     ]
    },
    {
     "data": {
      "text/plain": [
       "0.9333333333333333"
      ]
     },
     "execution_count": 49,
     "metadata": {},
     "output_type": "execute_result"
    }
   ],
   "source": [
    "from skmine.itemsets.slim_classifier import SlimClassifier\n",
    "\n",
    "# You can pass in parameter of your classifier the set of your items. \n",
    "# This will improve its performance especially on small data sets like iris.\n",
    "items = set(item for transaction in Xt for item in transaction)\n",
    "print(\"items\", items)\n",
    "clf = SlimClassifier(items=items)  # You can also enable or disable the pruning of SLIM compressors via the `pruning` parameter\n",
    "clf.fit(X_train, y_train)\n",
    "clf.score(X_test, y_test)"
   ]
  },
  {
   "cell_type": "markdown",
   "metadata": {},
   "source": [
    "----------\n",
    "\n",
    "### OneVsRest classifier for k>2 classes\n",
    "\n",
    "The **SLIM algorithm** is also compatible with **scikit-learn** to be used from other classifiers like **One-vs-the-rest (OvR)** (https://scikit-learn.org/stable/modules/generated/sklearn.multiclass.OneVsRestClassifier.html). The limitation of this method is that the classifier **only works for multiclass classification** problems while the embedded classifier works for both binary and multiclass problems."
   ]
  },
  {
   "cell_type": "code",
   "execution_count": 19,
   "metadata": {},
   "outputs": [],
   "source": [
    "import pandas as pd\n",
    "from skmine.itemsets import SLIM\n",
    "from sklearn.preprocessing import MultiLabelBinarizer"
   ]
  },
  {
   "cell_type": "code",
   "execution_count": 20,
   "metadata": {},
   "outputs": [],
   "source": [
    "class TransactionEncoder(MultiLabelBinarizer):  # pandas DataFrames are easier to read ;)\n",
    "    def transform(self, X):\n",
    "        _X = super().transform(X)\n",
    "        return pd.DataFrame(data=_X, columns=self.classes_)"
   ]
  },
  {
   "cell_type": "code",
   "execution_count": 21,
   "metadata": {},
   "outputs": [
    {
     "data": {
      "text/html": [
       "<div>\n",
       "<style scoped>\n",
       "    .dataframe tbody tr th:only-of-type {\n",
       "        vertical-align: middle;\n",
       "    }\n",
       "\n",
       "    .dataframe tbody tr th {\n",
       "        vertical-align: top;\n",
       "    }\n",
       "\n",
       "    .dataframe thead th {\n",
       "        text-align: right;\n",
       "    }\n",
       "</style>\n",
       "<table border=\"1\" class=\"dataframe\">\n",
       "  <thead>\n",
       "    <tr style=\"text-align: right;\">\n",
       "      <th></th>\n",
       "      <th>bananas</th>\n",
       "      <th>butter</th>\n",
       "      <th>cookies</th>\n",
       "      <th>milk</th>\n",
       "      <th>tea</th>\n",
       "    </tr>\n",
       "  </thead>\n",
       "  <tbody>\n",
       "    <tr>\n",
       "      <th>0</th>\n",
       "      <td>1</td>\n",
       "      <td>0</td>\n",
       "      <td>0</td>\n",
       "      <td>1</td>\n",
       "      <td>0</td>\n",
       "    </tr>\n",
       "    <tr>\n",
       "      <th>1</th>\n",
       "      <td>1</td>\n",
       "      <td>0</td>\n",
       "      <td>1</td>\n",
       "      <td>1</td>\n",
       "      <td>0</td>\n",
       "    </tr>\n",
       "    <tr>\n",
       "      <th>2</th>\n",
       "      <td>0</td>\n",
       "      <td>1</td>\n",
       "      <td>1</td>\n",
       "      <td>0</td>\n",
       "      <td>1</td>\n",
       "    </tr>\n",
       "    <tr>\n",
       "      <th>3</th>\n",
       "      <td>0</td>\n",
       "      <td>0</td>\n",
       "      <td>0</td>\n",
       "      <td>0</td>\n",
       "      <td>1</td>\n",
       "    </tr>\n",
       "    <tr>\n",
       "      <th>4</th>\n",
       "      <td>1</td>\n",
       "      <td>0</td>\n",
       "      <td>0</td>\n",
       "      <td>1</td>\n",
       "      <td>1</td>\n",
       "    </tr>\n",
       "  </tbody>\n",
       "</table>\n",
       "</div>"
      ],
      "text/plain": [
       "   bananas  butter  cookies  milk  tea\n",
       "0        1       0        0     1    0\n",
       "1        1       0        1     1    0\n",
       "2        0       1        1     0    1\n",
       "3        0       0        0     0    1\n",
       "4        1       0        0     1    1"
      ]
     },
     "execution_count": 21,
     "metadata": {},
     "output_type": "execute_result"
    }
   ],
   "source": [
    "transactions = [ \n",
    "     ['bananas', 'milk'], \n",
    "     ['milk', 'bananas', 'cookies'], \n",
    "     ['cookies', 'butter', 'tea'], \n",
    "     ['tea'],  \n",
    "     ['milk', 'bananas', 'tea'], \n",
    "]\n",
    "te = TransactionEncoder()\n",
    "D = te.fit(transactions).transform(transactions)\n",
    "D "
   ]
  },
  {
   "cell_type": "code",
   "execution_count": 22,
   "metadata": {},
   "outputs": [
    {
     "data": {
      "text/html": [
       "<div>\n",
       "<style scoped>\n",
       "    .dataframe tbody tr th:only-of-type {\n",
       "        vertical-align: middle;\n",
       "    }\n",
       "\n",
       "    .dataframe tbody tr th {\n",
       "        vertical-align: top;\n",
       "    }\n",
       "\n",
       "    .dataframe thead th {\n",
       "        text-align: right;\n",
       "    }\n",
       "</style>\n",
       "<table border=\"1\" class=\"dataframe\">\n",
       "  <thead>\n",
       "    <tr style=\"text-align: right;\">\n",
       "      <th></th>\n",
       "      <th>itemset</th>\n",
       "      <th>usage</th>\n",
       "    </tr>\n",
       "  </thead>\n",
       "  <tbody>\n",
       "    <tr>\n",
       "      <th>0</th>\n",
       "      <td>[bananas, milk]</td>\n",
       "      <td>3</td>\n",
       "    </tr>\n",
       "    <tr>\n",
       "      <th>1</th>\n",
       "      <td>[tea]</td>\n",
       "      <td>3</td>\n",
       "    </tr>\n",
       "    <tr>\n",
       "      <th>2</th>\n",
       "      <td>[cookies]</td>\n",
       "      <td>2</td>\n",
       "    </tr>\n",
       "    <tr>\n",
       "      <th>3</th>\n",
       "      <td>[butter]</td>\n",
       "      <td>1</td>\n",
       "    </tr>\n",
       "  </tbody>\n",
       "</table>\n",
       "</div>"
      ],
      "text/plain": [
       "           itemset  usage\n",
       "0  [bananas, milk]      3\n",
       "1            [tea]      3\n",
       "2        [cookies]      2\n",
       "3         [butter]      1"
      ]
     },
     "execution_count": 22,
     "metadata": {},
     "output_type": "execute_result"
    }
   ],
   "source": [
    "slim = SLIM()\n",
    "slim.fit(D).transform(D)"
   ]
  },
  {
   "cell_type": "markdown",
   "metadata": {},
   "source": [
    "We keep this **codetable** in mind, as we will later use it **to interpret our predictions**"
   ]
  },
  {
   "cell_type": "markdown",
   "metadata": {},
   "source": [
    "----------\n",
    "#### First \"predictions\" \n",
    "\n",
    "We define a new transactional dataset, and can call our ``decision_function`` on it. This will yield a decrease exponential function ***Exp_neg*** of the ``distances`` ($d$) w.r.t the encoding scheme provided by our codetable : \n",
    "$$\n",
    "Exp\\_neg(d) = \\exp(-0.2 * d)\n",
    "$$"
   ]
  },
  {
   "cell_type": "code",
   "execution_count": 23,
   "metadata": {},
   "outputs": [
    {
     "name": "stderr",
     "output_type": "stream",
     "text": [
      "/home/cregan/fsl/lib/python3.10/site-packages/scikit_learn-1.2.0-py3.10-linux-x86_64.egg/sklearn/preprocessing/_label.py:895: UserWarning: unknown class(es) ['sirup'] will be ignored\n",
      "  warnings.warn(\n"
     ]
    },
    {
     "data": {
      "text/html": [
       "<div>\n",
       "<style scoped>\n",
       "    .dataframe tbody tr th:only-of-type {\n",
       "        vertical-align: middle;\n",
       "    }\n",
       "\n",
       "    .dataframe tbody tr th {\n",
       "        vertical-align: top;\n",
       "    }\n",
       "\n",
       "    .dataframe thead th {\n",
       "        text-align: right;\n",
       "    }\n",
       "</style>\n",
       "<table border=\"1\" class=\"dataframe\">\n",
       "  <thead>\n",
       "    <tr style=\"text-align: right;\">\n",
       "      <th></th>\n",
       "      <th>bananas</th>\n",
       "      <th>butter</th>\n",
       "      <th>cookies</th>\n",
       "      <th>milk</th>\n",
       "      <th>tea</th>\n",
       "    </tr>\n",
       "  </thead>\n",
       "  <tbody>\n",
       "    <tr>\n",
       "      <th>0</th>\n",
       "      <td>1</td>\n",
       "      <td>0</td>\n",
       "      <td>0</td>\n",
       "      <td>1</td>\n",
       "      <td>0</td>\n",
       "    </tr>\n",
       "    <tr>\n",
       "      <th>1</th>\n",
       "      <td>0</td>\n",
       "      <td>0</td>\n",
       "      <td>1</td>\n",
       "      <td>1</td>\n",
       "      <td>0</td>\n",
       "    </tr>\n",
       "    <tr>\n",
       "      <th>2</th>\n",
       "      <td>0</td>\n",
       "      <td>1</td>\n",
       "      <td>0</td>\n",
       "      <td>0</td>\n",
       "      <td>1</td>\n",
       "    </tr>\n",
       "    <tr>\n",
       "      <th>3</th>\n",
       "      <td>0</td>\n",
       "      <td>0</td>\n",
       "      <td>0</td>\n",
       "      <td>0</td>\n",
       "      <td>1</td>\n",
       "    </tr>\n",
       "    <tr>\n",
       "      <th>4</th>\n",
       "      <td>1</td>\n",
       "      <td>0</td>\n",
       "      <td>0</td>\n",
       "      <td>1</td>\n",
       "      <td>1</td>\n",
       "    </tr>\n",
       "  </tbody>\n",
       "</table>\n",
       "</div>"
      ],
      "text/plain": [
       "   bananas  butter  cookies  milk  tea\n",
       "0        1       0        0     1    0\n",
       "1        0       0        1     1    0\n",
       "2        0       1        0     0    1\n",
       "3        0       0        0     0    1\n",
       "4        1       0        0     1    1"
      ]
     },
     "execution_count": 23,
     "metadata": {},
     "output_type": "execute_result"
    }
   ],
   "source": [
    "new_transactions = [ \n",
    "   ['bananas', 'milk'], \n",
    "   ['milk', 'sirup', 'cookies'], \n",
    "   ['butter', 'tea'], \n",
    "   ['tea'],  \n",
    "   ['milk', 'bananas', 'tea'], \n",
    "]\n",
    "new_D = te.transform(new_transactions)\n",
    "new_D"
   ]
  },
  {
   "cell_type": "code",
   "execution_count": 24,
   "metadata": {},
   "outputs": [
    {
     "data": {
      "text/plain": [
       "0    0.682920\n",
       "1    0.287721\n",
       "2    0.381839\n",
       "3    0.682920\n",
       "4    0.466379\n",
       "dtype: float32"
      ]
     },
     "execution_count": 24,
     "metadata": {},
     "output_type": "execute_result"
    }
   ],
   "source": [
    "codes = slim.decision_function(new_D)\n",
    "codes"
   ]
  },
  {
   "cell_type": "code",
   "execution_count": 25,
   "metadata": {},
   "outputs": [
    {
     "data": {
      "text/html": [
       "<div>\n",
       "<style scoped>\n",
       "    .dataframe tbody tr th:only-of-type {\n",
       "        vertical-align: middle;\n",
       "    }\n",
       "\n",
       "    .dataframe tbody tr th {\n",
       "        vertical-align: top;\n",
       "    }\n",
       "\n",
       "    .dataframe thead th {\n",
       "        text-align: right;\n",
       "    }\n",
       "</style>\n",
       "<table border=\"1\" class=\"dataframe\">\n",
       "  <thead>\n",
       "    <tr style=\"text-align: right;\">\n",
       "      <th></th>\n",
       "      <th>transaction</th>\n",
       "      <th>distance</th>\n",
       "    </tr>\n",
       "  </thead>\n",
       "  <tbody>\n",
       "    <tr>\n",
       "      <th>0</th>\n",
       "      <td>[bananas, milk]</td>\n",
       "      <td>0.68292</td>\n",
       "    </tr>\n",
       "    <tr>\n",
       "      <th>1</th>\n",
       "      <td>[milk, sirup, cookies]</td>\n",
       "      <td>0.287721</td>\n",
       "    </tr>\n",
       "    <tr>\n",
       "      <th>2</th>\n",
       "      <td>[butter, tea]</td>\n",
       "      <td>0.381839</td>\n",
       "    </tr>\n",
       "    <tr>\n",
       "      <th>3</th>\n",
       "      <td>[tea]</td>\n",
       "      <td>0.68292</td>\n",
       "    </tr>\n",
       "    <tr>\n",
       "      <th>4</th>\n",
       "      <td>[milk, bananas, tea]</td>\n",
       "      <td>0.466379</td>\n",
       "    </tr>\n",
       "  </tbody>\n",
       "</table>\n",
       "</div>"
      ],
      "text/plain": [
       "              transaction  distance\n",
       "0         [bananas, milk]   0.68292\n",
       "1  [milk, sirup, cookies]  0.287721\n",
       "2           [butter, tea]  0.381839\n",
       "3                   [tea]   0.68292\n",
       "4    [milk, bananas, tea]  0.466379"
      ]
     },
     "execution_count": 25,
     "metadata": {},
     "output_type": "execute_result"
    }
   ],
   "source": [
    "pd.DataFrame([pd.Series(new_transactions), codes], index=['transaction', 'distance']).T"
   ]
  },
  {
   "cell_type": "markdown",
   "metadata": {},
   "source": [
    "#### Built-in interpretations\n",
    "Now we can interpret codes for the new data, directly by **looking at the codetable inferred from training data**\n",
    "\n",
    "First observations\n",
    "\n",
    "* Entry 1 has the highest distance w.r.t the encoding scheme : so the smallest score for decision function (*Exp_neg*). \n",
    "  You can see it contains `milk`, `sirup` and `cookies`. From the codetable we see `milk` and `cookies` are not    grouped together, while `sirup` has never been seen\n",
    "  \n",
    "\n",
    "*  Entry 4 (as for entry 0) has the lowest distance, so the highest score for decision function (*Exp_neg*). It contains `bananas` and `milk`, which are grouped together in the codetable and have high occurence in the training data."
   ]
  },
  {
   "cell_type": "markdown",
   "metadata": {},
   "source": [
    "#### Shortest code wins !!\n",
    "Next, we are going to use an ensemble of SLIM encoding schemes, and utilize them via a ``OneVsRest`` methodology, to perform **multi-class classification**.\n",
    "The methodology is very simple\n",
    "\n",
    "1. We clone our base estimator as many time as we need (one per class)\n",
    "2. We fit every estimator on entries corresponding to its class in the input data\n",
    "3. When calling ``.predict``, we actually call ``.decision_function`` and get negative exponential of distances, from our decision boundaries for every class\n",
    "4. The shorted code wins : we choose the class with the lowest distance (so the highest negative exponential of distances) for a given transaction"
   ]
  },
  {
   "cell_type": "code",
   "execution_count": 26,
   "metadata": {},
   "outputs": [],
   "source": [
    "from sklearn.multiclass import OneVsRestClassifier\n",
    "from sklearn.pipeline import Pipeline"
   ]
  },
  {
   "cell_type": "code",
   "execution_count": 27,
   "metadata": {},
   "outputs": [],
   "source": [
    "pipe = Pipeline([\n",
    "    ('transaction_encoder', TransactionEncoder(sparse_output=False)),\n",
    "    ('slim', SLIM()),\n",
    "])"
   ]
  },
  {
   "cell_type": "code",
   "execution_count": 28,
   "metadata": {},
   "outputs": [],
   "source": [
    "transactions = [\n",
    "    ['milk', 'bananas'],\n",
    "    ['tea', 'New York Times', 'El Pais'],\n",
    "    ['New York Times'],\n",
    "    ['El Pais', 'The Economist'],\n",
    "    ['milk', 'tea'],\n",
    "    ['croissant', 'tea'],\n",
    "    ['croissant', 'chocolatine', 'milk'],\n",
    "]\n",
    "target = [\n",
    "    'foodstore', \n",
    "    'newspaper', \n",
    "    'newspaper', \n",
    "    'newspaper', \n",
    "    'foodstore',\n",
    "    'bakery',\n",
    "    'bakery',\n",
    "]"
   ]
  },
  {
   "cell_type": "code",
   "execution_count": 29,
   "metadata": {},
   "outputs": [
    {
     "data": {
      "text/html": [
       "<div>\n",
       "<style scoped>\n",
       "    .dataframe tbody tr th:only-of-type {\n",
       "        vertical-align: middle;\n",
       "    }\n",
       "\n",
       "    .dataframe tbody tr th {\n",
       "        vertical-align: top;\n",
       "    }\n",
       "\n",
       "    .dataframe thead th {\n",
       "        text-align: right;\n",
       "    }\n",
       "</style>\n",
       "<table border=\"1\" class=\"dataframe\">\n",
       "  <thead>\n",
       "    <tr style=\"text-align: right;\">\n",
       "      <th></th>\n",
       "      <th>El Pais</th>\n",
       "      <th>New York Times</th>\n",
       "      <th>The Economist</th>\n",
       "      <th>bananas</th>\n",
       "      <th>chocolatine</th>\n",
       "      <th>croissant</th>\n",
       "      <th>milk</th>\n",
       "      <th>tea</th>\n",
       "    </tr>\n",
       "  </thead>\n",
       "  <tbody>\n",
       "    <tr>\n",
       "      <th>0</th>\n",
       "      <td>0</td>\n",
       "      <td>0</td>\n",
       "      <td>0</td>\n",
       "      <td>1</td>\n",
       "      <td>0</td>\n",
       "      <td>0</td>\n",
       "      <td>1</td>\n",
       "      <td>0</td>\n",
       "    </tr>\n",
       "    <tr>\n",
       "      <th>1</th>\n",
       "      <td>1</td>\n",
       "      <td>1</td>\n",
       "      <td>0</td>\n",
       "      <td>0</td>\n",
       "      <td>0</td>\n",
       "      <td>0</td>\n",
       "      <td>0</td>\n",
       "      <td>1</td>\n",
       "    </tr>\n",
       "    <tr>\n",
       "      <th>2</th>\n",
       "      <td>0</td>\n",
       "      <td>1</td>\n",
       "      <td>0</td>\n",
       "      <td>0</td>\n",
       "      <td>0</td>\n",
       "      <td>0</td>\n",
       "      <td>0</td>\n",
       "      <td>0</td>\n",
       "    </tr>\n",
       "    <tr>\n",
       "      <th>3</th>\n",
       "      <td>1</td>\n",
       "      <td>0</td>\n",
       "      <td>1</td>\n",
       "      <td>0</td>\n",
       "      <td>0</td>\n",
       "      <td>0</td>\n",
       "      <td>0</td>\n",
       "      <td>0</td>\n",
       "    </tr>\n",
       "    <tr>\n",
       "      <th>4</th>\n",
       "      <td>0</td>\n",
       "      <td>0</td>\n",
       "      <td>0</td>\n",
       "      <td>0</td>\n",
       "      <td>0</td>\n",
       "      <td>0</td>\n",
       "      <td>1</td>\n",
       "      <td>1</td>\n",
       "    </tr>\n",
       "    <tr>\n",
       "      <th>5</th>\n",
       "      <td>0</td>\n",
       "      <td>0</td>\n",
       "      <td>0</td>\n",
       "      <td>0</td>\n",
       "      <td>0</td>\n",
       "      <td>1</td>\n",
       "      <td>0</td>\n",
       "      <td>1</td>\n",
       "    </tr>\n",
       "    <tr>\n",
       "      <th>6</th>\n",
       "      <td>0</td>\n",
       "      <td>0</td>\n",
       "      <td>0</td>\n",
       "      <td>0</td>\n",
       "      <td>1</td>\n",
       "      <td>1</td>\n",
       "      <td>1</td>\n",
       "      <td>0</td>\n",
       "    </tr>\n",
       "  </tbody>\n",
       "</table>\n",
       "</div>"
      ],
      "text/plain": [
       "   El Pais  New York Times  The Economist  bananas  chocolatine  croissant  \\\n",
       "0        0               0              0        1            0          0   \n",
       "1        1               1              0        0            0          0   \n",
       "2        0               1              0        0            0          0   \n",
       "3        1               0              1        0            0          0   \n",
       "4        0               0              0        0            0          0   \n",
       "5        0               0              0        0            0          1   \n",
       "6        0               0              0        0            1          1   \n",
       "\n",
       "   milk  tea  \n",
       "0     1    0  \n",
       "1     0    1  \n",
       "2     0    0  \n",
       "3     0    0  \n",
       "4     1    1  \n",
       "5     0    1  \n",
       "6     1    0  "
      ]
     },
     "execution_count": 29,
     "metadata": {},
     "output_type": "execute_result"
    }
   ],
   "source": [
    "te = TransactionEncoder()\n",
    "D = te.fit(transactions).transform(transactions)\n",
    "D"
   ]
  },
  {
   "cell_type": "code",
   "execution_count": 30,
   "metadata": {},
   "outputs": [],
   "source": [
    "ovr = OneVsRestClassifier(SLIM())"
   ]
  },
  {
   "cell_type": "code",
   "execution_count": 31,
   "metadata": {},
   "outputs": [
    {
     "data": {
      "text/plain": [
       "[SLIM(), SLIM(), SLIM()]"
      ]
     },
     "execution_count": 31,
     "metadata": {},
     "output_type": "execute_result"
    }
   ],
   "source": [
    "ovr.fit(D, y=target)\n",
    "ovr.estimators_"
   ]
  },
  {
   "cell_type": "code",
   "execution_count": 32,
   "metadata": {},
   "outputs": [
    {
     "data": {
      "text/html": [
       "<div>\n",
       "<style scoped>\n",
       "    .dataframe tbody tr th:only-of-type {\n",
       "        vertical-align: middle;\n",
       "    }\n",
       "\n",
       "    .dataframe tbody tr th {\n",
       "        vertical-align: top;\n",
       "    }\n",
       "\n",
       "    .dataframe thead th {\n",
       "        text-align: right;\n",
       "    }\n",
       "</style>\n",
       "<table border=\"1\" class=\"dataframe\">\n",
       "  <thead>\n",
       "    <tr style=\"text-align: right;\">\n",
       "      <th></th>\n",
       "      <th>bakery</th>\n",
       "      <th>foodstore</th>\n",
       "      <th>newspaper</th>\n",
       "    </tr>\n",
       "  </thead>\n",
       "  <tbody>\n",
       "    <tr>\n",
       "      <th>0</th>\n",
       "      <td>0.238357</td>\n",
       "      <td>0.399719</td>\n",
       "      <td>0.218069</td>\n",
       "    </tr>\n",
       "    <tr>\n",
       "      <th>1</th>\n",
       "      <td>0.116370</td>\n",
       "      <td>0.142135</td>\n",
       "      <td>0.234470</td>\n",
       "    </tr>\n",
       "    <tr>\n",
       "      <th>2</th>\n",
       "      <td>0.488218</td>\n",
       "      <td>0.488218</td>\n",
       "      <td>0.641159</td>\n",
       "    </tr>\n",
       "    <tr>\n",
       "      <th>3</th>\n",
       "      <td>0.238357</td>\n",
       "      <td>0.238357</td>\n",
       "      <td>0.365697</td>\n",
       "    </tr>\n",
       "    <tr>\n",
       "      <th>4</th>\n",
       "      <td>0.238357</td>\n",
       "      <td>0.399719</td>\n",
       "      <td>0.266351</td>\n",
       "    </tr>\n",
       "    <tr>\n",
       "      <th>5</th>\n",
       "      <td>0.596311</td>\n",
       "      <td>0.291130</td>\n",
       "      <td>0.266351</td>\n",
       "    </tr>\n",
       "    <tr>\n",
       "      <th>6</th>\n",
       "      <td>0.596311</td>\n",
       "      <td>0.159776</td>\n",
       "      <td>0.101834</td>\n",
       "    </tr>\n",
       "  </tbody>\n",
       "</table>\n",
       "</div>"
      ],
      "text/plain": [
       "     bakery  foodstore  newspaper\n",
       "0  0.238357   0.399719   0.218069\n",
       "1  0.116370   0.142135   0.234470\n",
       "2  0.488218   0.488218   0.641159\n",
       "3  0.238357   0.238357   0.365697\n",
       "4  0.238357   0.399719   0.266351\n",
       "5  0.596311   0.291130   0.266351\n",
       "6  0.596311   0.159776   0.101834"
      ]
     },
     "execution_count": 32,
     "metadata": {},
     "output_type": "execute_result"
    }
   ],
   "source": [
    "pd.DataFrame(ovr.decision_function(D), columns=ovr.classes_)"
   ]
  },
  {
   "cell_type": "code",
   "execution_count": 33,
   "metadata": {},
   "outputs": [
    {
     "data": {
      "text/plain": [
       "array(['foodstore', 'newspaper', 'newspaper', 'newspaper', 'foodstore',\n",
       "       'bakery', 'bakery'], dtype='<U9')"
      ]
     },
     "execution_count": 33,
     "metadata": {},
     "output_type": "execute_result"
    }
   ],
   "source": [
    "ovr.predict(D)"
   ]
  },
  {
   "cell_type": "markdown",
   "metadata": {},
   "source": [
    "#### Questions on binary OneVsRest classifier"
   ]
  },
  {
   "cell_type": "code",
   "execution_count": 34,
   "metadata": {},
   "outputs": [],
   "source": [
    "from sklearn.multiclass import OneVsRestClassifier\n",
    "from sklearn.pipeline import Pipeline\n",
    "\n",
    "pipe = Pipeline([\n",
    "    ('transaction_encoder', TransactionEncoder(sparse_output=False)),\n",
    "    ('slim', SLIM()),\n",
    "])"
   ]
  },
  {
   "cell_type": "code",
   "execution_count": 35,
   "metadata": {},
   "outputs": [],
   "source": [
    "transactions = [\n",
    "    ['milk', 'bananas'],\n",
    "    ['tea', 'New York Times', 'El Pais'],\n",
    "    ['New York Times'],\n",
    "    ['El Pais', 'The Economist'],\n",
    "    ['milk', 'tea'],\n",
    "]\n",
    "target = [\n",
    "    'foodstore', \n",
    "    'newspaper', \n",
    "    'newspaper', \n",
    "    'newspaper', \n",
    "    'foodstore',\n",
    "]"
   ]
  },
  {
   "cell_type": "code",
   "execution_count": 36,
   "metadata": {},
   "outputs": [
    {
     "data": {
      "text/html": [
       "<div>\n",
       "<style scoped>\n",
       "    .dataframe tbody tr th:only-of-type {\n",
       "        vertical-align: middle;\n",
       "    }\n",
       "\n",
       "    .dataframe tbody tr th {\n",
       "        vertical-align: top;\n",
       "    }\n",
       "\n",
       "    .dataframe thead th {\n",
       "        text-align: right;\n",
       "    }\n",
       "</style>\n",
       "<table border=\"1\" class=\"dataframe\">\n",
       "  <thead>\n",
       "    <tr style=\"text-align: right;\">\n",
       "      <th></th>\n",
       "      <th>El Pais</th>\n",
       "      <th>New York Times</th>\n",
       "      <th>The Economist</th>\n",
       "      <th>bananas</th>\n",
       "      <th>milk</th>\n",
       "      <th>tea</th>\n",
       "    </tr>\n",
       "  </thead>\n",
       "  <tbody>\n",
       "    <tr>\n",
       "      <th>0</th>\n",
       "      <td>0</td>\n",
       "      <td>0</td>\n",
       "      <td>0</td>\n",
       "      <td>1</td>\n",
       "      <td>1</td>\n",
       "      <td>0</td>\n",
       "    </tr>\n",
       "    <tr>\n",
       "      <th>1</th>\n",
       "      <td>1</td>\n",
       "      <td>1</td>\n",
       "      <td>0</td>\n",
       "      <td>0</td>\n",
       "      <td>0</td>\n",
       "      <td>1</td>\n",
       "    </tr>\n",
       "    <tr>\n",
       "      <th>2</th>\n",
       "      <td>0</td>\n",
       "      <td>1</td>\n",
       "      <td>0</td>\n",
       "      <td>0</td>\n",
       "      <td>0</td>\n",
       "      <td>0</td>\n",
       "    </tr>\n",
       "    <tr>\n",
       "      <th>3</th>\n",
       "      <td>1</td>\n",
       "      <td>0</td>\n",
       "      <td>1</td>\n",
       "      <td>0</td>\n",
       "      <td>0</td>\n",
       "      <td>0</td>\n",
       "    </tr>\n",
       "    <tr>\n",
       "      <th>4</th>\n",
       "      <td>0</td>\n",
       "      <td>0</td>\n",
       "      <td>0</td>\n",
       "      <td>0</td>\n",
       "      <td>1</td>\n",
       "      <td>1</td>\n",
       "    </tr>\n",
       "  </tbody>\n",
       "</table>\n",
       "</div>"
      ],
      "text/plain": [
       "   El Pais  New York Times  The Economist  bananas  milk  tea\n",
       "0        0               0              0        1     1    0\n",
       "1        1               1              0        0     0    1\n",
       "2        0               1              0        0     0    0\n",
       "3        1               0              1        0     0    0\n",
       "4        0               0              0        0     1    1"
      ]
     },
     "execution_count": 36,
     "metadata": {},
     "output_type": "execute_result"
    }
   ],
   "source": [
    "te = TransactionEncoder()\n",
    "D = te.fit(transactions).transform(transactions)\n",
    "D"
   ]
  },
  {
   "cell_type": "code",
   "execution_count": 37,
   "metadata": {},
   "outputs": [],
   "source": [
    "ovr = OneVsRestClassifier(SLIM())"
   ]
  },
  {
   "cell_type": "code",
   "execution_count": 38,
   "metadata": {},
   "outputs": [
    {
     "data": {
      "text/plain": [
       "[SLIM()]"
      ]
     },
     "execution_count": 38,
     "metadata": {},
     "output_type": "execute_result"
    }
   ],
   "source": [
    "ovr.fit(D, y=target)\n",
    "ovr.estimators_"
   ]
  },
  {
   "cell_type": "code",
   "execution_count": 39,
   "metadata": {},
   "outputs": [
    {
     "data": {
      "text/plain": [
       "0    0.238357\n",
       "1    0.267940\n",
       "2    0.670320\n",
       "3    0.399719\n",
       "4    0.291130\n",
       "dtype: float32"
      ]
     },
     "execution_count": 39,
     "metadata": {},
     "output_type": "execute_result"
    }
   ],
   "source": [
    "ovr.decision_function(D)"
   ]
  },
  {
   "cell_type": "markdown",
   "metadata": {},
   "source": [
    "**=> Which thresold can we take to decide if the prediction is 'foodstore', or 'newspaper' ?**"
   ]
  },
  {
   "cell_type": "code",
   "execution_count": null,
   "metadata": {},
   "outputs": [],
   "source": []
  },
  {
   "cell_type": "markdown",
   "metadata": {},
   "source": [
    "#### OneVsOne"
   ]
  },
  {
   "cell_type": "code",
   "execution_count": 40,
   "metadata": {},
   "outputs": [],
   "source": [
    "from sklearn.multiclass import OneVsOneClassifier\n",
    "from sklearn.pipeline import Pipeline"
   ]
  },
  {
   "cell_type": "code",
   "execution_count": 41,
   "metadata": {},
   "outputs": [],
   "source": [
    "pipe = Pipeline([\n",
    "    ('transaction_encoder', TransactionEncoder(sparse_output=False)),\n",
    "    ('slim', SLIM()),\n",
    "])"
   ]
  },
  {
   "cell_type": "code",
   "execution_count": 42,
   "metadata": {},
   "outputs": [],
   "source": [
    "transactions = [\n",
    "    ['milk', 'bananas'],\n",
    "    ['tea', 'New York Times', 'El Pais'],\n",
    "    ['New York Times'],\n",
    "    ['El Pais', 'The Economist'],\n",
    "    ['milk', 'tea'],\n",
    "    ['croissant', 'tea'],\n",
    "    ['croissant', 'chocolatine', 'milk'],\n",
    "    ['Monde diplo', 'Game of Thrones', 'Harry Potter'],\n",
    "    ['New York Times', 'Harry Potter'],\n",
    "]\n",
    "target = [\n",
    "    'foodstore', \n",
    "    'newspaper', \n",
    "    'newspaper', \n",
    "    'newspaper', \n",
    "    'foodstore',\n",
    "    'bakery',\n",
    "    'bakery',\n",
    "    'library',\n",
    "    'library',\n",
    "]"
   ]
  },
  {
   "cell_type": "code",
   "execution_count": 43,
   "metadata": {},
   "outputs": [
    {
     "data": {
      "text/html": [
       "<div>\n",
       "<style scoped>\n",
       "    .dataframe tbody tr th:only-of-type {\n",
       "        vertical-align: middle;\n",
       "    }\n",
       "\n",
       "    .dataframe tbody tr th {\n",
       "        vertical-align: top;\n",
       "    }\n",
       "\n",
       "    .dataframe thead th {\n",
       "        text-align: right;\n",
       "    }\n",
       "</style>\n",
       "<table border=\"1\" class=\"dataframe\">\n",
       "  <thead>\n",
       "    <tr style=\"text-align: right;\">\n",
       "      <th></th>\n",
       "      <th>El Pais</th>\n",
       "      <th>Game of Thrones</th>\n",
       "      <th>Harry Potter</th>\n",
       "      <th>Monde diplo</th>\n",
       "      <th>New York Times</th>\n",
       "      <th>The Economist</th>\n",
       "      <th>bananas</th>\n",
       "      <th>chocolatine</th>\n",
       "      <th>croissant</th>\n",
       "      <th>milk</th>\n",
       "      <th>tea</th>\n",
       "    </tr>\n",
       "  </thead>\n",
       "  <tbody>\n",
       "    <tr>\n",
       "      <th>0</th>\n",
       "      <td>0</td>\n",
       "      <td>0</td>\n",
       "      <td>0</td>\n",
       "      <td>0</td>\n",
       "      <td>0</td>\n",
       "      <td>0</td>\n",
       "      <td>1</td>\n",
       "      <td>0</td>\n",
       "      <td>0</td>\n",
       "      <td>1</td>\n",
       "      <td>0</td>\n",
       "    </tr>\n",
       "    <tr>\n",
       "      <th>1</th>\n",
       "      <td>1</td>\n",
       "      <td>0</td>\n",
       "      <td>0</td>\n",
       "      <td>0</td>\n",
       "      <td>1</td>\n",
       "      <td>0</td>\n",
       "      <td>0</td>\n",
       "      <td>0</td>\n",
       "      <td>0</td>\n",
       "      <td>0</td>\n",
       "      <td>1</td>\n",
       "    </tr>\n",
       "    <tr>\n",
       "      <th>2</th>\n",
       "      <td>0</td>\n",
       "      <td>0</td>\n",
       "      <td>0</td>\n",
       "      <td>0</td>\n",
       "      <td>1</td>\n",
       "      <td>0</td>\n",
       "      <td>0</td>\n",
       "      <td>0</td>\n",
       "      <td>0</td>\n",
       "      <td>0</td>\n",
       "      <td>0</td>\n",
       "    </tr>\n",
       "    <tr>\n",
       "      <th>3</th>\n",
       "      <td>1</td>\n",
       "      <td>0</td>\n",
       "      <td>0</td>\n",
       "      <td>0</td>\n",
       "      <td>0</td>\n",
       "      <td>1</td>\n",
       "      <td>0</td>\n",
       "      <td>0</td>\n",
       "      <td>0</td>\n",
       "      <td>0</td>\n",
       "      <td>0</td>\n",
       "    </tr>\n",
       "    <tr>\n",
       "      <th>4</th>\n",
       "      <td>0</td>\n",
       "      <td>0</td>\n",
       "      <td>0</td>\n",
       "      <td>0</td>\n",
       "      <td>0</td>\n",
       "      <td>0</td>\n",
       "      <td>0</td>\n",
       "      <td>0</td>\n",
       "      <td>0</td>\n",
       "      <td>1</td>\n",
       "      <td>1</td>\n",
       "    </tr>\n",
       "    <tr>\n",
       "      <th>5</th>\n",
       "      <td>0</td>\n",
       "      <td>0</td>\n",
       "      <td>0</td>\n",
       "      <td>0</td>\n",
       "      <td>0</td>\n",
       "      <td>0</td>\n",
       "      <td>0</td>\n",
       "      <td>0</td>\n",
       "      <td>1</td>\n",
       "      <td>0</td>\n",
       "      <td>1</td>\n",
       "    </tr>\n",
       "    <tr>\n",
       "      <th>6</th>\n",
       "      <td>0</td>\n",
       "      <td>0</td>\n",
       "      <td>0</td>\n",
       "      <td>0</td>\n",
       "      <td>0</td>\n",
       "      <td>0</td>\n",
       "      <td>0</td>\n",
       "      <td>1</td>\n",
       "      <td>1</td>\n",
       "      <td>1</td>\n",
       "      <td>0</td>\n",
       "    </tr>\n",
       "    <tr>\n",
       "      <th>7</th>\n",
       "      <td>0</td>\n",
       "      <td>1</td>\n",
       "      <td>1</td>\n",
       "      <td>1</td>\n",
       "      <td>0</td>\n",
       "      <td>0</td>\n",
       "      <td>0</td>\n",
       "      <td>0</td>\n",
       "      <td>0</td>\n",
       "      <td>0</td>\n",
       "      <td>0</td>\n",
       "    </tr>\n",
       "    <tr>\n",
       "      <th>8</th>\n",
       "      <td>0</td>\n",
       "      <td>0</td>\n",
       "      <td>1</td>\n",
       "      <td>0</td>\n",
       "      <td>1</td>\n",
       "      <td>0</td>\n",
       "      <td>0</td>\n",
       "      <td>0</td>\n",
       "      <td>0</td>\n",
       "      <td>0</td>\n",
       "      <td>0</td>\n",
       "    </tr>\n",
       "  </tbody>\n",
       "</table>\n",
       "</div>"
      ],
      "text/plain": [
       "   El Pais  Game of Thrones  Harry Potter  Monde diplo  New York Times  \\\n",
       "0        0                0             0            0               0   \n",
       "1        1                0             0            0               1   \n",
       "2        0                0             0            0               1   \n",
       "3        1                0             0            0               0   \n",
       "4        0                0             0            0               0   \n",
       "5        0                0             0            0               0   \n",
       "6        0                0             0            0               0   \n",
       "7        0                1             1            1               0   \n",
       "8        0                0             1            0               1   \n",
       "\n",
       "   The Economist  bananas  chocolatine  croissant  milk  tea  \n",
       "0              0        1            0          0     1    0  \n",
       "1              0        0            0          0     0    1  \n",
       "2              0        0            0          0     0    0  \n",
       "3              1        0            0          0     0    0  \n",
       "4              0        0            0          0     1    1  \n",
       "5              0        0            0          1     0    1  \n",
       "6              0        0            1          1     1    0  \n",
       "7              0        0            0          0     0    0  \n",
       "8              0        0            0          0     0    0  "
      ]
     },
     "execution_count": 43,
     "metadata": {},
     "output_type": "execute_result"
    }
   ],
   "source": [
    "te = TransactionEncoder()\n",
    "D = te.fit(transactions).transform(transactions)\n",
    "D"
   ]
  },
  {
   "cell_type": "code",
   "execution_count": 44,
   "metadata": {},
   "outputs": [],
   "source": [
    "ovr = OneVsOneClassifier(SLIM())"
   ]
  },
  {
   "cell_type": "code",
   "execution_count": 45,
   "metadata": {},
   "outputs": [
    {
     "data": {
      "text/plain": [
       "(SLIM(), SLIM(), SLIM(), SLIM(), SLIM(), SLIM())"
      ]
     },
     "execution_count": 45,
     "metadata": {},
     "output_type": "execute_result"
    }
   ],
   "source": [
    "ovr.fit(D, y=target)\n",
    "ovr.estimators_"
   ]
  },
  {
   "cell_type": "code",
   "execution_count": 46,
   "metadata": {},
   "outputs": [
    {
     "ename": "AttributeError",
     "evalue": "'SLIM' object has no attribute 'predict'",
     "output_type": "error",
     "traceback": [
      "\u001b[0;31m---------------------------------------------------------------------------\u001b[0m",
      "\u001b[0;31mAttributeError\u001b[0m                            Traceback (most recent call last)",
      "Cell \u001b[0;32mIn[46], line 1\u001b[0m\n\u001b[0;32m----> 1\u001b[0m \u001b[43movr\u001b[49m\u001b[38;5;241;43m.\u001b[39;49m\u001b[43mdecision_function\u001b[49m\u001b[43m(\u001b[49m\u001b[43mD\u001b[49m\u001b[43m)\u001b[49m\n",
      "File \u001b[0;32m~/fsl/lib/python3.10/site-packages/scikit_learn-1.2.0-py3.10-linux-x86_64.egg/sklearn/multiclass.py:834\u001b[0m, in \u001b[0;36mOneVsOneClassifier.decision_function\u001b[0;34m(self, X)\u001b[0m\n\u001b[1;32m    830\u001b[0m \u001b[38;5;28;01melse\u001b[39;00m:\n\u001b[1;32m    831\u001b[0m     Xs \u001b[38;5;241m=\u001b[39m [X[:, idx] \u001b[38;5;28;01mfor\u001b[39;00m idx \u001b[38;5;129;01min\u001b[39;00m indices]\n\u001b[1;32m    833\u001b[0m predictions \u001b[38;5;241m=\u001b[39m np\u001b[38;5;241m.\u001b[39mvstack(\n\u001b[0;32m--> 834\u001b[0m     [est\u001b[38;5;241m.\u001b[39mpredict(Xi) \u001b[38;5;28;01mfor\u001b[39;00m est, Xi \u001b[38;5;129;01min\u001b[39;00m \u001b[38;5;28mzip\u001b[39m(\u001b[38;5;28mself\u001b[39m\u001b[38;5;241m.\u001b[39mestimators_, Xs)]\n\u001b[1;32m    835\u001b[0m )\u001b[38;5;241m.\u001b[39mT\n\u001b[1;32m    836\u001b[0m confidences \u001b[38;5;241m=\u001b[39m np\u001b[38;5;241m.\u001b[39mvstack(\n\u001b[1;32m    837\u001b[0m     [_predict_binary(est, Xi) \u001b[38;5;28;01mfor\u001b[39;00m est, Xi \u001b[38;5;129;01min\u001b[39;00m \u001b[38;5;28mzip\u001b[39m(\u001b[38;5;28mself\u001b[39m\u001b[38;5;241m.\u001b[39mestimators_, Xs)]\n\u001b[1;32m    838\u001b[0m )\u001b[38;5;241m.\u001b[39mT\n\u001b[1;32m    839\u001b[0m Y \u001b[38;5;241m=\u001b[39m _ovr_decision_function(predictions, confidences, \u001b[38;5;28mlen\u001b[39m(\u001b[38;5;28mself\u001b[39m\u001b[38;5;241m.\u001b[39mclasses_))\n",
      "File \u001b[0;32m~/fsl/lib/python3.10/site-packages/scikit_learn-1.2.0-py3.10-linux-x86_64.egg/sklearn/multiclass.py:834\u001b[0m, in \u001b[0;36m<listcomp>\u001b[0;34m(.0)\u001b[0m\n\u001b[1;32m    830\u001b[0m \u001b[38;5;28;01melse\u001b[39;00m:\n\u001b[1;32m    831\u001b[0m     Xs \u001b[38;5;241m=\u001b[39m [X[:, idx] \u001b[38;5;28;01mfor\u001b[39;00m idx \u001b[38;5;129;01min\u001b[39;00m indices]\n\u001b[1;32m    833\u001b[0m predictions \u001b[38;5;241m=\u001b[39m np\u001b[38;5;241m.\u001b[39mvstack(\n\u001b[0;32m--> 834\u001b[0m     [\u001b[43mest\u001b[49m\u001b[38;5;241;43m.\u001b[39;49m\u001b[43mpredict\u001b[49m(Xi) \u001b[38;5;28;01mfor\u001b[39;00m est, Xi \u001b[38;5;129;01min\u001b[39;00m \u001b[38;5;28mzip\u001b[39m(\u001b[38;5;28mself\u001b[39m\u001b[38;5;241m.\u001b[39mestimators_, Xs)]\n\u001b[1;32m    835\u001b[0m )\u001b[38;5;241m.\u001b[39mT\n\u001b[1;32m    836\u001b[0m confidences \u001b[38;5;241m=\u001b[39m np\u001b[38;5;241m.\u001b[39mvstack(\n\u001b[1;32m    837\u001b[0m     [_predict_binary(est, Xi) \u001b[38;5;28;01mfor\u001b[39;00m est, Xi \u001b[38;5;129;01min\u001b[39;00m \u001b[38;5;28mzip\u001b[39m(\u001b[38;5;28mself\u001b[39m\u001b[38;5;241m.\u001b[39mestimators_, Xs)]\n\u001b[1;32m    838\u001b[0m )\u001b[38;5;241m.\u001b[39mT\n\u001b[1;32m    839\u001b[0m Y \u001b[38;5;241m=\u001b[39m _ovr_decision_function(predictions, confidences, \u001b[38;5;28mlen\u001b[39m(\u001b[38;5;28mself\u001b[39m\u001b[38;5;241m.\u001b[39mclasses_))\n",
      "\u001b[0;31mAttributeError\u001b[0m: 'SLIM' object has no attribute 'predict'"
     ]
    }
   ],
   "source": [
    "ovr.decision_function(D)"
   ]
  }
 ],
 "metadata": {
  "kernelspec": {
   "display_name": "Python 3 (ipykernel)",
   "language": "python",
   "name": "python3"
  },
  "language_info": {
   "codemirror_mode": {
    "name": "ipython",
    "version": 3
   },
   "file_extension": ".py",
   "mimetype": "text/x-python",
   "name": "python",
   "nbconvert_exporter": "python",
   "pygments_lexer": "ipython3",
   "version": "3.10.8"
  },
  "toc": {
   "base_numbering": 1,
   "nav_menu": {},
   "number_sections": true,
   "sideBar": true,
   "skip_h1_title": false,
   "title_cell": "Table of Contents",
   "title_sidebar": "Contents",
   "toc_cell": false,
   "toc_position": {
    "height": "calc(100% - 180px)",
    "left": "10px",
    "top": "150px",
    "width": "220.15px"
   },
   "toc_section_display": true,
   "toc_window_display": true
  }
 },
 "nbformat": 4,
 "nbformat_minor": 4
}
