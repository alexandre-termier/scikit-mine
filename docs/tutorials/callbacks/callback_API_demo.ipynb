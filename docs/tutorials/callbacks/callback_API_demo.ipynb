{
 "cells": [
  {
   "cell_type": "markdown",
   "metadata": {},
   "source": [
    "## Callback API demo\n",
    "\n",
    "In this demo we are going to use the callback API to **track some useful information while training** a SLIM miner\n",
    "\n",
    "We simply define custom python functions, and submit them to create an instance of `skmine.callbacks.CallBacks`."
   ]
  },
  {
   "cell_type": "code",
   "execution_count": 1,
   "metadata": {},
   "outputs": [
    {
     "name": "stdout",
     "output_type": "stream",
     "text": [
      "This tutorial was tested with the following version of skmine : 0.0.11\n"
     ]
    }
   ],
   "source": [
    "import skmine\n",
    "\n",
    "print(\"This tutorial was tested with the following version of skmine :\", skmine.__version__)"
   ]
  },
  {
   "cell_type": "code",
   "execution_count": 2,
   "metadata": {},
   "outputs": [],
   "source": [
    "import pandas as pd\n",
    "import numpy as np\n",
    "\n",
    "from skmine.callbacks import CallBacks\n",
    "from skmine.itemsets import SLIM\n",
    "from skmine.datasets.fimi import fetch_mushroom"
   ]
  },
  {
   "cell_type": "code",
   "execution_count": 3,
   "metadata": {},
   "outputs": [
    {
     "data": {
      "text/plain": [
       "0    [1, 3, 9, 13, 23, 25, 34, 36, 38, 40, 52, 54, ...\n",
       "1    [2, 3, 9, 14, 23, 26, 34, 36, 39, 40, 52, 55, ...\n",
       "2    [2, 4, 9, 15, 23, 27, 34, 36, 39, 41, 52, 55, ...\n",
       "3    [1, 3, 10, 15, 23, 25, 34, 36, 38, 41, 52, 54,...\n",
       "4    [2, 3, 9, 16, 24, 28, 34, 37, 39, 40, 53, 54, ...\n",
       "Name: mushroom, dtype: object"
      ]
     },
     "execution_count": 3,
     "metadata": {},
     "output_type": "execute_result"
    }
   ],
   "source": [
    "mushroom = fetch_mushroom()\n",
    "mushroom.head()"
   ]
  },
  {
   "cell_type": "code",
   "execution_count": 4,
   "metadata": {},
   "outputs": [],
   "source": [
    "# set max_time to a limit value so that the dataset compression is not too long\n",
    "slim = SLIM(max_time=30)"
   ]
  },
  {
   "cell_type": "markdown",
   "metadata": {},
   "source": [
    "-------------------\n",
    "\n",
    "### Define your own callbacks\n",
    "\n",
    "We define custom functions, that will take the result of the function they target as input. Those results will be ingested for later reuse\n",
    "\n",
    "Here we define two methods:\n",
    "\n",
    "1. `post_evaluate` is executed after `SLIM.evaluate`. It tracks sizes for both the data and the model\n",
    "2. `post_gen` is executed after `SLIM.generate_candidates`, and just records the size of the current batch of candidates"
   ]
  },
  {
   "cell_type": "code",
   "execution_count": 5,
   "metadata": {},
   "outputs": [],
   "source": [
    "sizes = list()\n",
    "candidate_sizes = list()\n",
    "\n",
    "def post_evaluate(data_size, model_size, *args):\n",
    "    sizes.append((data_size, model_size))\n",
    "\n",
    "def post_gen(candidates):\n",
    "    candidate_sizes.append(len(candidates))"
   ]
  },
  {
   "cell_type": "markdown",
   "metadata": {},
   "source": [
    "A `skmine.callbacks.CallBacks` is a collection of callbacks.\n",
    "\n",
    "It's a mapping between function names and their dedicated callbacks. When an instance of `skmine.callbacks.CallBacks` is called (`() operator`) on an object, it looks for internal methods and tries to attach the callbacks."
   ]
  },
  {
   "cell_type": "code",
   "execution_count": 6,
   "metadata": {},
   "outputs": [
    {
     "name": "stdout",
     "output_type": "stream",
     "text": [
      "warning : 'set_output' is not callable(getattr(miner, f_name)\n"
     ]
    }
   ],
   "source": [
    "callbacks = CallBacks(evaluate=post_evaluate, generate_candidates=post_gen)\n",
    "\n",
    "callbacks(slim)"
   ]
  },
  {
   "cell_type": "code",
   "execution_count": 7,
   "metadata": {},
   "outputs": [
    {
     "name": "stdout",
     "output_type": "stream",
     "text": [
      "CPU times: user 29.6 s, sys: 645 ms, total: 30.3 s\n",
      "Wall time: 30.1 s\n"
     ]
    },
    {
     "data": {
      "text/html": [
       "<div>\n",
       "<style scoped>\n",
       "    .dataframe tbody tr th:only-of-type {\n",
       "        vertical-align: middle;\n",
       "    }\n",
       "\n",
       "    .dataframe tbody tr th {\n",
       "        vertical-align: top;\n",
       "    }\n",
       "\n",
       "    .dataframe thead th {\n",
       "        text-align: right;\n",
       "    }\n",
       "</style>\n",
       "<table border=\"1\" class=\"dataframe\">\n",
       "  <thead>\n",
       "    <tr style=\"text-align: right;\">\n",
       "      <th></th>\n",
       "      <th>itemset</th>\n",
       "      <th>usage</th>\n",
       "    </tr>\n",
       "  </thead>\n",
       "  <tbody>\n",
       "    <tr>\n",
       "      <th>0</th>\n",
       "      <td>[2, 23, 28, 34, 36, 39, 53, 56, 59, 63, 85, 86...</td>\n",
       "      <td>864</td>\n",
       "    </tr>\n",
       "    <tr>\n",
       "      <th>1</th>\n",
       "      <td>[2, 23, 28, 34, 36, 39, 53, 56, 59, 63, 85, 86...</td>\n",
       "      <td>864</td>\n",
       "    </tr>\n",
       "    <tr>\n",
       "      <th>2</th>\n",
       "      <td>[1, 24, 29, 34, 36, 39, 52, 56, 61, 66, 85, 86...</td>\n",
       "      <td>648</td>\n",
       "    </tr>\n",
       "    <tr>\n",
       "      <th>3</th>\n",
       "      <td>[1, 24, 29, 34, 36, 39, 52, 56, 61, 66, 85, 86...</td>\n",
       "      <td>648</td>\n",
       "    </tr>\n",
       "    <tr>\n",
       "      <th>4</th>\n",
       "      <td>[1, 24, 34, 36, 38, 48, 53, 58, 59, 63, 85, 86...</td>\n",
       "      <td>432</td>\n",
       "    </tr>\n",
       "    <tr>\n",
       "      <th>...</th>\n",
       "      <td>...</td>\n",
       "      <td>...</td>\n",
       "    </tr>\n",
       "    <tr>\n",
       "      <th>155</th>\n",
       "      <td>[22]</td>\n",
       "      <td>16</td>\n",
       "    </tr>\n",
       "    <tr>\n",
       "      <th>156</th>\n",
       "      <td>[75]</td>\n",
       "      <td>8</td>\n",
       "    </tr>\n",
       "    <tr>\n",
       "      <th>157</th>\n",
       "      <td>[89]</td>\n",
       "      <td>8</td>\n",
       "    </tr>\n",
       "    <tr>\n",
       "      <th>158</th>\n",
       "      <td>[8]</td>\n",
       "      <td>4</td>\n",
       "    </tr>\n",
       "    <tr>\n",
       "      <th>159</th>\n",
       "      <td>[12]</td>\n",
       "      <td>4</td>\n",
       "    </tr>\n",
       "  </tbody>\n",
       "</table>\n",
       "<p>160 rows × 2 columns</p>\n",
       "</div>"
      ],
      "text/plain": [
       "                                               itemset  usage\n",
       "0    [2, 23, 28, 34, 36, 39, 53, 56, 59, 63, 85, 86...    864\n",
       "1    [2, 23, 28, 34, 36, 39, 53, 56, 59, 63, 85, 86...    864\n",
       "2    [1, 24, 29, 34, 36, 39, 52, 56, 61, 66, 85, 86...    648\n",
       "3    [1, 24, 29, 34, 36, 39, 52, 56, 61, 66, 85, 86...    648\n",
       "4    [1, 24, 34, 36, 38, 48, 53, 58, 59, 63, 85, 86...    432\n",
       "..                                                 ...    ...\n",
       "155                                               [22]     16\n",
       "156                                               [75]      8\n",
       "157                                               [89]      8\n",
       "158                                                [8]      4\n",
       "159                                               [12]      4\n",
       "\n",
       "[160 rows x 2 columns]"
      ]
     },
     "execution_count": 7,
     "metadata": {},
     "output_type": "execute_result"
    }
   ],
   "source": [
    "%time slim.fit_transform(mushroom)"
   ]
  },
  {
   "cell_type": "markdown",
   "metadata": {},
   "source": [
    "### Inner view of MDL learning \n",
    "\n",
    "The plot below clearly shows **how SLIM performs compression**.\n",
    "\n",
    "While the blue curve represents the size of the data, \n",
    "red vertical lines emphasize the end of a batch of candidates.\n",
    "\n",
    "**We can clearly dinstinguish the beginning of a batch of candidates, where the learning curve is quite abrupt, from the end of a batch, where it reaches a plateau**."
   ]
  },
  {
   "cell_type": "code",
   "execution_count": 8,
   "metadata": {},
   "outputs": [
    {
     "data": {
      "text/plain": [
       "[(1064327.8204536438, 2049.1517753601074),\n",
       " (1019045.3720026016, 2051.0723099708557),\n",
       " (980036.730214119, 2075.213014602661),\n",
       " (948613.6116323471, 2102.6085658073425),\n",
       " (927717.8376092911, 2118.527575492859),\n",
       " (907849.3784189224, 2138.470380783081),\n",
       " (889519.3478527069, 2157.9796571731567),\n",
       " (871974.2353172302, 2192.7303881645203),\n",
       " (854607.3957920074, 2208.895321369171),\n",
       " (838443.3827610016, 2225.1477360725403),\n",
       " (823428.2101373672, 2264.49365234375),\n",
       " (808966.1101493835, 2287.104096889496),\n",
       " (792759.5926294327, 2293.201919078827),\n",
       " (780306.3465356827, 2344.104003429413),\n",
       " (768081.5152606964, 2392.268000602722),\n",
       " (756362.2376337051, 2409.8285970687866),\n",
       " (745031.9830083847, 2421.723343372345),\n",
       " (734200.0674972534, 2446.078966140747),\n",
       " (723434.2704172134, 2456.3236446380615),\n",
       " (712732.7913103104, 2461.307161808014),\n",
       " (702638.7939929962, 2530.0034675598145),\n",
       " (692757.5342140198, 2553.6208057403564),\n",
       " (683180.6969127655, 2565.5511989593506),\n",
       " (673874.3940858841, 2619.1964559555054),\n",
       " (664669.040602684, 2694.46364402771),\n",
       " (655349.6174497604, 2703.4007120132446),\n",
       " (645934.4946928024, 2729.645245552063),\n",
       " (636988.622294426, 2742.826548576355),\n",
       " (628349.489894867, 2745.7087755203247),\n",
       " (619778.3561525345, 2791.6579875946045),\n",
       " (612687.4520568848, 2765.7485609054565),\n",
       " (604839.8522281647, 2794.495764732361),\n",
       " (597740.2815599442, 2801.642425060272),\n",
       " (591211.9014139175, 2805.2541251182556),\n",
       " (585517.1406850815, 2851.7055792808533),\n",
       " (579929.8582677841, 2877.48024892807),\n",
       " (574430.0130376816, 2916.439881801605),\n",
       " (569052.748840332, 2923.763541698456),\n",
       " (563976.3026885986, 2941.1488165855408),\n",
       " (558968.347108841, 2923.6829719543457),\n",
       " (554284.5226974487, 3014.9049005508423),\n",
       " (549905.7714662552, 3019.4470205307007),\n",
       " (544997.0604438782, 3024.4853563308716),\n",
       " (540950.6344032288, 3050.9515557289124),\n",
       " (537252.2906827927, 3066.4759969711304),\n",
       " (532131.9468197823, 3083.5683188438416),\n",
       " (527885.6507277489, 3100.84166765213),\n",
       " (522150.7439804077, 3105.057946205139),\n",
       " (516739.6784582138, 3125.0889949798584),\n",
       " (511636.4079031944, 3152.4172925949097),\n",
       " (508022.9669327736, 3199.241506099701),\n",
       " (504501.93383073807, 3269.2803320884705),\n",
       " (500812.76487112045, 3274.8100786209106),\n",
       " (497417.9516406059, 3365.587016582489),\n",
       " (492801.83930683136, 3369.3371634483337),\n",
       " (489391.1609711647, 3467.619252681732),\n",
       " (485460.7992911339, 3472.116714000702),\n",
       " (482427.1781849861, 3477.5840849876404),\n",
       " (479693.1807589531, 3497.0940837860107),\n",
       " (476574.6060566902, 3516.7616815567017),\n",
       " (473364.8910665512, 3536.486557483673),\n",
       " (470712.14954042435, 3547.9589014053345),\n",
       " (468034.41232585907, 3630.8001165390015),\n",
       " (465488.4886255264, 3650.3392448425293),\n",
       " (462855.69601774216, 3748.0396962165833),\n",
       " (460318.39687108994, 3846.327386379242),\n",
       " (457533.85771226883, 3850.8916816711426),\n",
       " (455091.3696861267, 3860.352683544159),\n",
       " (451439.63231420517, 3890.251036167145),\n",
       " (449009.84144067764, 3881.3497910499573),\n",
       " (446528.81369543076, 3898.210277557373),\n",
       " (444225.6063990593, 3904.679087638855),\n",
       " (441868.0961327553, 3924.2356181144714),\n",
       " (439658.52277326584, 3959.026750564575),\n",
       " (437459.57193517685, 3981.3535590171814),\n",
       " (435022.1490917206, 4005.7886300086975),\n",
       " (432903.7034549713, 4031.1638164520264),\n",
       " (430781.06565475464, 4047.012207508087),\n",
       " (428734.2130870819, 4052.7625794410706),\n",
       " (426716.5517811775, 4061.1834139823914),\n",
       " (424729.18721199036, 4069.7247982025146),\n",
       " (422736.1689748764, 4099.728016376495),\n",
       " (420768.4673900604, 4107.899528026581)]"
      ]
     },
     "execution_count": 8,
     "metadata": {},
     "output_type": "execute_result"
    }
   ],
   "source": [
    "sizes"
   ]
  },
  {
   "cell_type": "code",
   "execution_count": 9,
   "metadata": {},
   "outputs": [
    {
     "data": {
      "image/png": "[encoded data removed]",
      "text/plain": [
       "<Figure size 640x480 with 1 Axes>"
      ]
     },
     "metadata": {},
     "output_type": "display_data"
    }
   ],
   "source": [
    "df = pd.DataFrame(sizes, columns=['data_size', 'model_size'])\n",
    "ax = df.data_size.plot()"
   ]
  },
  {
   "cell_type": "markdown",
   "metadata": {},
   "source": [
    "------------------\n",
    "Here is how the model size goes up"
   ]
  },
  {
   "cell_type": "code",
   "execution_count": 10,
   "metadata": {},
   "outputs": [
    {
     "data": {
      "text/plain": [
       "<Axes: >"
      ]
     },
     "execution_count": 10,
     "metadata": {},
     "output_type": "execute_result"
    },
    {
     "data": {
      "image/png": "[encoded data removed]",
      "text/plain": [
       "<Figure size 640x480 with 1 Axes>"
      ]
     },
     "metadata": {},
     "output_type": "display_data"
    }
   ],
   "source": [
    "df.model_size.plot()"
   ]
  },
  {
   "cell_type": "markdown",
   "metadata": {},
   "source": [
    "And finally the evolution of the total size of our dataset after compression via SLIM following MDL"
   ]
  },
  {
   "cell_type": "code",
   "execution_count": 11,
   "metadata": {},
   "outputs": [
    {
     "data": {
      "text/plain": [
       "<Axes: >"
      ]
     },
     "execution_count": 11,
     "metadata": {},
     "output_type": "execute_result"
    },
    {
     "data": {
      "image/png": "[encoded data removed]",
      "text/plain": [
       "<Figure size 640x480 with 1 Axes>"
      ]
     },
     "metadata": {},
     "output_type": "display_data"
    }
   ],
   "source": [
    "df['total_size'] = df['model_size']+df['data_size']\n",
    "df.total_size.plot()"
   ]
  },
  {
   "cell_type": "markdown",
   "metadata": {},
   "source": [
    "From the sizes saved in df, we can determine the compression ratio of our dataset after applying SLIM"
   ]
  },
  {
   "cell_type": "code",
   "execution_count": 12,
   "metadata": {},
   "outputs": [
    {
     "data": {
      "text/plain": [
       "39.84298029523138"
      ]
     },
     "execution_count": 12,
     "metadata": {},
     "output_type": "execute_result"
    }
   ],
   "source": [
    "compression_percentage = df['total_size'].iloc[-1]/df['total_size'].iloc[0]*100\n",
    "compression_percentage"
   ]
  },
  {
   "cell_type": "code",
   "execution_count": null,
   "metadata": {},
   "outputs": [],
   "source": []
  },
  {
   "cell_type": "code",
   "execution_count": null,
   "metadata": {},
   "outputs": [],
   "source": []
  },
  {
   "cell_type": "code",
   "execution_count": null,
   "metadata": {},
   "outputs": [],
   "source": []
  }
 ],
 "metadata": {
  "kernelspec": {
   "display_name": "Python 3 (ipykernel)",
   "language": "python",
   "name": "python3"
  },
  "language_info": {
   "codemirror_mode": {
    "name": "ipython",
    "version": 3
   },
   "file_extension": ".py",
   "mimetype": "text/x-python",
   "name": "python",
   "nbconvert_exporter": "python",
   "pygments_lexer": "ipython3",
   "version": "3.8.16"
  },
  "toc": {
   "base_numbering": 1,
   "nav_menu": {},
   "number_sections": true,
   "sideBar": true,
   "skip_h1_title": false,
   "title_cell": "Table of Contents",
   "title_sidebar": "Contents",
   "toc_cell": false,
   "toc_position": {},
   "toc_section_display": true,
   "toc_window_display": false
  }
 },
 "nbformat": 4,
 "nbformat_minor": 4
}
