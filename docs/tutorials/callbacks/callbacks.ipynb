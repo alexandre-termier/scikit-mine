{
 "cells": [
  {
   "cell_type": "markdown",
   "metadata": {},
   "source": [
    "## Callback API demo\n",
    "\n",
    "In this demo we are going to use the callback API to **track some useful information while training** a SLIM miner\n",
    "\n",
    "We simply define custom python functions, and submit them to create an instance of `skmine.callbacks.CallBacks`."
   ]
  },
  {
   "cell_type": "code",
   "execution_count": 6,
   "metadata": {},
   "outputs": [
    {
     "name": "stdout",
     "output_type": "stream",
     "text": [
      "This tutorial was tested with the following version of skmine : 0.0.9\n"
     ]
    }
   ],
   "source": [
    "import skmine\n",
    "\n",
    "print(\"This tutorial was tested with the following version of skmine :\", skmine.__version__)"
   ]
  },
  {
   "cell_type": "code",
   "execution_count": 3,
   "metadata": {},
   "outputs": [],
   "source": [
    "import pandas as pd\n",
    "import numpy as np\n",
    "\n",
    "from skmine.callbacks import CallBacks\n",
    "from skmine.itemsets import SLIM\n",
    "from skmine.datasets.fimi import fetch_mushroom"
   ]
  },
  {
   "cell_type": "code",
   "execution_count": 2,
   "metadata": {},
   "outputs": [
    {
     "data": {
      "text/plain": [
       "0    [1, 3, 9, 13, 23, 25, 34, 36, 38, 40, 52, 54, ...\n",
       "1    [2, 3, 9, 14, 23, 26, 34, 36, 39, 40, 52, 55, ...\n",
       "2    [2, 4, 9, 15, 23, 27, 34, 36, 39, 41, 52, 55, ...\n",
       "3    [1, 3, 10, 15, 23, 25, 34, 36, 38, 41, 52, 54,...\n",
       "4    [2, 3, 9, 16, 24, 28, 34, 37, 39, 40, 53, 54, ...\n",
       "Name: mushroom, dtype: object"
      ]
     },
     "execution_count": 2,
     "metadata": {},
     "output_type": "execute_result"
    }
   ],
   "source": [
    "mushroom = fetch_mushroom()\n",
    "mushroom.head()"
   ]
  },
  {
   "cell_type": "code",
   "execution_count": 3,
   "metadata": {},
   "outputs": [],
   "source": [
    "# set max_time to a limit value so that the dataset compression is not too long\n",
    "slim = SLIM(max_time=30)"
   ]
  },
  {
   "cell_type": "markdown",
   "metadata": {},
   "source": [
    "-------------------\n",
    "\n",
    "### Define your own callbacks\n",
    "\n",
    "We define custom functions, that will take the result of the function they target as input. Those results will be ingested for later reuse\n",
    "\n",
    "Here we define two methods:\n",
    "\n",
    "1. `post_evaluate` is executed after `SLIM.evaluate`. It tracks sizes for both the data and the model\n",
    "2. `post_gen` is executed after `SLIM.generate_candidates`, and just records the size of the current batch of candidates"
   ]
  },
  {
   "cell_type": "code",
   "execution_count": 4,
   "metadata": {},
   "outputs": [],
   "source": [
    "sizes = list()\n",
    "candidate_sizes = list()\n",
    "\n",
    "def post_evaluate(data_size, model_size, *args):\n",
    "    sizes.append((data_size, model_size))\n",
    "\n",
    "def post_gen(candidates):\n",
    "    candidate_sizes.append(len(candidates))"
   ]
  },
  {
   "cell_type": "markdown",
   "metadata": {},
   "source": [
    "A `skmine.callbacks.CallBacks` is a collection of callbacks.\n",
    "\n",
    "It's a mapping between function names and their dedicated callbacks. When an instance of `skmine.callbacks.CallBacks` is called (`() operator`) on an object, it looks for internal methods and tries to attach the callbacks."
   ]
  },
  {
   "cell_type": "code",
   "execution_count": 5,
   "metadata": {},
   "outputs": [],
   "source": [
    "callbacks = CallBacks(evaluate=post_evaluate, generate_candidates=post_gen)\n",
    "\n",
    "callbacks(slim)"
   ]
  },
  {
   "cell_type": "code",
   "execution_count": 6,
   "metadata": {},
   "outputs": [
    {
     "name": "stdout",
     "output_type": "stream",
     "text": [
      "CPU times: user 30.1 s, sys: 112 ms, total: 30.2 s\n",
      "Wall time: 30.1 s\n"
     ]
    },
    {
     "data": {
      "text/html": [
       "<div>\n",
       "<style scoped>\n",
       "    .dataframe tbody tr th:only-of-type {\n",
       "        vertical-align: middle;\n",
       "    }\n",
       "\n",
       "    .dataframe tbody tr th {\n",
       "        vertical-align: top;\n",
       "    }\n",
       "\n",
       "    .dataframe thead th {\n",
       "        text-align: right;\n",
       "    }\n",
       "</style>\n",
       "<table border=\"1\" class=\"dataframe\">\n",
       "  <thead>\n",
       "    <tr style=\"text-align: right;\">\n",
       "      <th></th>\n",
       "      <th>itemset</th>\n",
       "      <th>usage</th>\n",
       "    </tr>\n",
       "  </thead>\n",
       "  <tbody>\n",
       "    <tr>\n",
       "      <th>0</th>\n",
       "      <td>[2, 23, 28, 34, 36, 39, 53, 56, 59, 63, 85, 86...</td>\n",
       "      <td>864</td>\n",
       "    </tr>\n",
       "    <tr>\n",
       "      <th>1</th>\n",
       "      <td>[2, 23, 28, 34, 36, 39, 53, 56, 59, 63, 85, 86...</td>\n",
       "      <td>864</td>\n",
       "    </tr>\n",
       "    <tr>\n",
       "      <th>2</th>\n",
       "      <td>[1, 24, 29, 34, 36, 39, 52, 56, 61, 66, 85, 86...</td>\n",
       "      <td>648</td>\n",
       "    </tr>\n",
       "    <tr>\n",
       "      <th>3</th>\n",
       "      <td>[1, 24, 29, 34, 36, 39, 52, 56, 61, 66, 85, 86...</td>\n",
       "      <td>648</td>\n",
       "    </tr>\n",
       "    <tr>\n",
       "      <th>4</th>\n",
       "      <td>[1, 24, 34, 36, 38, 48, 53, 58, 59, 63, 85, 86...</td>\n",
       "      <td>432</td>\n",
       "    </tr>\n",
       "    <tr>\n",
       "      <th>...</th>\n",
       "      <td>...</td>\n",
       "      <td>...</td>\n",
       "    </tr>\n",
       "    <tr>\n",
       "      <th>157</th>\n",
       "      <td>[22]</td>\n",
       "      <td>16</td>\n",
       "    </tr>\n",
       "    <tr>\n",
       "      <th>158</th>\n",
       "      <td>[75]</td>\n",
       "      <td>8</td>\n",
       "    </tr>\n",
       "    <tr>\n",
       "      <th>159</th>\n",
       "      <td>[89]</td>\n",
       "      <td>8</td>\n",
       "    </tr>\n",
       "    <tr>\n",
       "      <th>160</th>\n",
       "      <td>[8]</td>\n",
       "      <td>4</td>\n",
       "    </tr>\n",
       "    <tr>\n",
       "      <th>161</th>\n",
       "      <td>[12]</td>\n",
       "      <td>4</td>\n",
       "    </tr>\n",
       "  </tbody>\n",
       "</table>\n",
       "<p>162 rows × 2 columns</p>\n",
       "</div>"
      ],
      "text/plain": [
       "                                               itemset  usage\n",
       "0    [2, 23, 28, 34, 36, 39, 53, 56, 59, 63, 85, 86...    864\n",
       "1    [2, 23, 28, 34, 36, 39, 53, 56, 59, 63, 85, 86...    864\n",
       "2    [1, 24, 29, 34, 36, 39, 52, 56, 61, 66, 85, 86...    648\n",
       "3    [1, 24, 29, 34, 36, 39, 52, 56, 61, 66, 85, 86...    648\n",
       "4    [1, 24, 34, 36, 38, 48, 53, 58, 59, 63, 85, 86...    432\n",
       "..                                                 ...    ...\n",
       "157                                               [22]     16\n",
       "158                                               [75]      8\n",
       "159                                               [89]      8\n",
       "160                                                [8]      4\n",
       "161                                               [12]      4\n",
       "\n",
       "[162 rows x 2 columns]"
      ]
     },
     "execution_count": 6,
     "metadata": {},
     "output_type": "execute_result"
    }
   ],
   "source": [
    "%time slim.fit(mushroom).discover()"
   ]
  },
  {
   "cell_type": "markdown",
   "metadata": {},
   "source": [
    "### Inner view of MDL learning \n",
    "\n",
    "The plot below clearly shows **how SLIM performs compression**.\n",
    "\n",
    "While the blue curve represents the size of the data, \n",
    "red vertical lines emphasize the end of a batch of candidates.\n",
    "\n",
    "**We can clearly dinstinguish the beginning of a batch of candidates, where the learning curve is quite abrupt, from the end of a batch, where it reaches a plateau**."
   ]
  },
  {
   "cell_type": "code",
   "execution_count": 7,
   "metadata": {},
   "outputs": [
    {
     "data": {
      "image/png": "[encoded data removed]",
      "text/plain": [
       "<Figure size 640x480 with 1 Axes>"
      ]
     },
     "metadata": {},
     "output_type": "display_data"
    }
   ],
   "source": [
    "df = pd.DataFrame(sizes, columns=['data_size', 'model_size'])\n",
    "ax = df.data_size.plot()"
   ]
  },
  {
   "cell_type": "markdown",
   "metadata": {},
   "source": [
    "------------------\n",
    "Here is how the model size goes up"
   ]
  },
  {
   "cell_type": "code",
   "execution_count": 8,
   "metadata": {},
   "outputs": [
    {
     "data": {
      "text/plain": [
       "<AxesSubplot: >"
      ]
     },
     "execution_count": 8,
     "metadata": {},
     "output_type": "execute_result"
    },
    {
     "data": {
      "image/png": "[encoded data removed]",
      "text/plain": [
       "<Figure size 640x480 with 1 Axes>"
      ]
     },
     "metadata": {},
     "output_type": "display_data"
    }
   ],
   "source": [
    "df.model_size.plot()"
   ]
  },
  {
   "cell_type": "markdown",
   "metadata": {},
   "source": [
    "And finally the evolution of the total size of our dataset after compression via SLIM following MDL"
   ]
  },
  {
   "cell_type": "code",
   "execution_count": 9,
   "metadata": {},
   "outputs": [
    {
     "data": {
      "text/plain": [
       "<AxesSubplot: >"
      ]
     },
     "execution_count": 9,
     "metadata": {},
     "output_type": "execute_result"
    },
    {
     "data": {
      "image/png": "[encoded data removed]",
      "text/plain": [
       "<Figure size 640x480 with 1 Axes>"
      ]
     },
     "metadata": {},
     "output_type": "display_data"
    }
   ],
   "source": [
    "df['total_size'] = df['model_size']+df['data_size']\n",
    "df.total_size.plot()"
   ]
  },
  {
   "cell_type": "markdown",
   "metadata": {},
   "source": [
    "From the sizes saved in df, we can determine the compression ratio of our dataset after applying SLIM"
   ]
  },
  {
   "cell_type": "code",
   "execution_count": 10,
   "metadata": {},
   "outputs": [
    {
     "data": {
      "text/plain": [
       "35.97993591669107"
      ]
     },
     "execution_count": 10,
     "metadata": {},
     "output_type": "execute_result"
    }
   ],
   "source": [
    "compression_percentage = df['total_size'].iloc[-1]/df['total_size'].iloc[0]*100\n",
    "compression_percentage"
   ]
  }
 ],
 "metadata": {
  "kernelspec": {
   "display_name": "Python 3 (ipykernel)",
   "language": "python",
   "name": "python3"
  },
  "language_info": {
   "codemirror_mode": {
    "name": "ipython",
    "version": 3
   },
   "file_extension": ".py",
   "mimetype": "text/x-python",
   "name": "python",
   "nbconvert_exporter": "python",
   "pygments_lexer": "ipython3",
   "version": "3.11.0"
  }
 },
 "nbformat": 4,
 "nbformat_minor": 4
}
